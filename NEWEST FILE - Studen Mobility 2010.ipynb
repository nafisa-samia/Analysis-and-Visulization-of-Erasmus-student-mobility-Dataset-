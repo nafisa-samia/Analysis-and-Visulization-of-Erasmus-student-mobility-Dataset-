{
 "cells": [
  {
   "cell_type": "markdown",
   "id": "b8300c9a",
   "metadata": {},
   "source": [
    "# Erasmus student mobility (study exchanges and work placements in 2010-11) \n"
   ]
  },
  {
   "cell_type": "markdown",
   "id": "6b743d79",
   "metadata": {},
   "source": [
    "## 1. Dataset information\n",
    "\n",
    "This dataset contains the statistical overview of Erasmus mobility for students (study exchanges and work placements) in 2010-11. Statistics are presented at country and European level for various criteria, e.g.: age, gender, grant, duration, special needs, subject area, level of study, sending and receiving country, etc.\n",
    "\n",
    "The [Dataset Source](https://data.europa.eu/data/datasets/erasmus-facts-figures-trends-2010-2011?locale=en) is [The official portal for European data](https://data.europa.eu/en)."
   ]
  },
  {
   "cell_type": "code",
   "execution_count": 185,
   "id": "1220f8cf",
   "metadata": {},
   "outputs": [],
   "source": [
    "#importing the necessary libraries\n",
    "\n",
    "#for data loading and preprocessing\n",
    "import pandas as pd\n",
    "import numpy as np\n",
    "import seaborn as sns\n",
    "import matplotlib.pyplot as plt\n",
    "%matplotlib inline"
   ]
  },
  {
   "cell_type": "code",
   "execution_count": 175,
   "id": "9aa921e4",
   "metadata": {},
   "outputs": [
    {
     "name": "stderr",
     "output_type": "stream",
     "text": [
      "/home/sluftsluft/miniconda3/lib/python3.9/site-packages/IPython/core/interactiveshell.py:3441: FutureWarning: The error_bad_lines argument has been deprecated and will be removed in a future version.\n",
      "\n",
      "\n",
      "  exec(code_obj, self.user_global_ns, self.user_ns)\n",
      "/home/sluftsluft/miniconda3/lib/python3.9/site-packages/IPython/core/interactiveshell.py:3441: DtypeWarning: Columns (6,20) have mixed types.Specify dtype option on import or set low_memory=False.\n",
      "  exec(code_obj, self.user_global_ns, self.user_ns)\n"
     ]
    }
   ],
   "source": [
    "data=pd.read_csv(\"student_data_2010.csv\",error_bad_lines=False,sep=\";\")"
   ]
  },
  {
   "cell_type": "code",
   "execution_count": 176,
   "id": "8a923f3b",
   "metadata": {},
   "outputs": [
    {
     "data": {
      "text/html": [
       "<div>\n",
       "<style scoped>\n",
       "    .dataframe tbody tr th:only-of-type {\n",
       "        vertical-align: middle;\n",
       "    }\n",
       "\n",
       "    .dataframe tbody tr th {\n",
       "        vertical-align: top;\n",
       "    }\n",
       "\n",
       "    .dataframe thead th {\n",
       "        text-align: right;\n",
       "    }\n",
       "</style>\n",
       "<table border=\"1\" class=\"dataframe\">\n",
       "  <thead>\n",
       "    <tr style=\"text-align: right;\">\n",
       "      <th></th>\n",
       "      <th>HOMEINSTITUTION</th>\n",
       "      <th>COUNTRYCODEOFHOMEINSTITUTION</th>\n",
       "      <th>AGE</th>\n",
       "      <th>GENDER</th>\n",
       "      <th>NATIONALITY</th>\n",
       "      <th>SUBJECTAREA</th>\n",
       "      <th>LEVELSTUDY</th>\n",
       "      <th>YEARSPRIOR</th>\n",
       "      <th>MOBILITYTYPE</th>\n",
       "      <th>HOSTINSTITUTION</th>\n",
       "      <th>...</th>\n",
       "      <th>ECTSCREDITSWORK</th>\n",
       "      <th>TOTALECTSCREDITS</th>\n",
       "      <th>SEVSUPPLEMENT</th>\n",
       "      <th>TAUGHTHOSTLANG</th>\n",
       "      <th>LANGUAGETAUGHT</th>\n",
       "      <th>LINGPREPARATION</th>\n",
       "      <th>STUDYGRANT</th>\n",
       "      <th>PLACEMENTGRANT</th>\n",
       "      <th>PREVIOUSPARTICIPATION</th>\n",
       "      <th>QUALIFICATIONATHOST</th>\n",
       "    </tr>\n",
       "  </thead>\n",
       "  <tbody>\n",
       "    <tr>\n",
       "      <th>0</th>\n",
       "      <td>HU BUDAPES02</td>\n",
       "      <td>HU</td>\n",
       "      <td>25</td>\n",
       "      <td>M</td>\n",
       "      <td>HU</td>\n",
       "      <td>521</td>\n",
       "      <td>3</td>\n",
       "      <td>1</td>\n",
       "      <td>P</td>\n",
       "      <td>NaN</td>\n",
       "      <td>...</td>\n",
       "      <td>0</td>\n",
       "      <td>0</td>\n",
       "      <td>0</td>\n",
       "      <td>N</td>\n",
       "      <td>DE</td>\n",
       "      <td>NN</td>\n",
       "      <td>0.0</td>\n",
       "      <td>900.0</td>\n",
       "      <td>N</td>\n",
       "      <td>N</td>\n",
       "    </tr>\n",
       "    <tr>\n",
       "      <th>1</th>\n",
       "      <td>HU BUDAPES02</td>\n",
       "      <td>HU</td>\n",
       "      <td>28</td>\n",
       "      <td>M</td>\n",
       "      <td>HU</td>\n",
       "      <td>522</td>\n",
       "      <td>3</td>\n",
       "      <td>4</td>\n",
       "      <td>P</td>\n",
       "      <td>NaN</td>\n",
       "      <td>...</td>\n",
       "      <td>0</td>\n",
       "      <td>0</td>\n",
       "      <td>0</td>\n",
       "      <td>N</td>\n",
       "      <td>DE</td>\n",
       "      <td>NN</td>\n",
       "      <td>0.0</td>\n",
       "      <td>3600.0</td>\n",
       "      <td>N</td>\n",
       "      <td>N</td>\n",
       "    </tr>\n",
       "    <tr>\n",
       "      <th>2</th>\n",
       "      <td>HU BUDAPES02</td>\n",
       "      <td>HU</td>\n",
       "      <td>25</td>\n",
       "      <td>F</td>\n",
       "      <td>HU</td>\n",
       "      <td>581</td>\n",
       "      <td>2</td>\n",
       "      <td>5</td>\n",
       "      <td>P</td>\n",
       "      <td>NaN</td>\n",
       "      <td>...</td>\n",
       "      <td>0</td>\n",
       "      <td>0</td>\n",
       "      <td>0</td>\n",
       "      <td>N</td>\n",
       "      <td>EN</td>\n",
       "      <td>NN</td>\n",
       "      <td>0.0</td>\n",
       "      <td>1500.0</td>\n",
       "      <td>N</td>\n",
       "      <td>N</td>\n",
       "    </tr>\n",
       "    <tr>\n",
       "      <th>3</th>\n",
       "      <td>HU BUDAPES02</td>\n",
       "      <td>HU</td>\n",
       "      <td>23</td>\n",
       "      <td>M</td>\n",
       "      <td>SK</td>\n",
       "      <td>582</td>\n",
       "      <td>2</td>\n",
       "      <td>4</td>\n",
       "      <td>P</td>\n",
       "      <td>NaN</td>\n",
       "      <td>...</td>\n",
       "      <td>0</td>\n",
       "      <td>0</td>\n",
       "      <td>0</td>\n",
       "      <td>N</td>\n",
       "      <td>DE</td>\n",
       "      <td>NN</td>\n",
       "      <td>0.0</td>\n",
       "      <td>900.0</td>\n",
       "      <td>N</td>\n",
       "      <td>N</td>\n",
       "    </tr>\n",
       "    <tr>\n",
       "      <th>4</th>\n",
       "      <td>HU BUDAPES02</td>\n",
       "      <td>HU</td>\n",
       "      <td>24</td>\n",
       "      <td>F</td>\n",
       "      <td>HU</td>\n",
       "      <td>581</td>\n",
       "      <td>2</td>\n",
       "      <td>5</td>\n",
       "      <td>P</td>\n",
       "      <td>NaN</td>\n",
       "      <td>...</td>\n",
       "      <td>0</td>\n",
       "      <td>0</td>\n",
       "      <td>0</td>\n",
       "      <td>N</td>\n",
       "      <td>DE</td>\n",
       "      <td>NN</td>\n",
       "      <td>0.0</td>\n",
       "      <td>1800.0</td>\n",
       "      <td>N</td>\n",
       "      <td>N</td>\n",
       "    </tr>\n",
       "  </tbody>\n",
       "</table>\n",
       "<p>5 rows × 32 columns</p>\n",
       "</div>"
      ],
      "text/plain": [
       "  HOMEINSTITUTION COUNTRYCODEOFHOMEINSTITUTION  AGE GENDER NATIONALITY  \\\n",
       "0    HU BUDAPES02                           HU   25      M          HU   \n",
       "1    HU BUDAPES02                           HU   28      M          HU   \n",
       "2    HU BUDAPES02                           HU   25      F          HU   \n",
       "3    HU BUDAPES02                           HU   23      M          SK   \n",
       "4    HU BUDAPES02                           HU   24      F          HU   \n",
       "\n",
       "   SUBJECTAREA LEVELSTUDY  YEARSPRIOR MOBILITYTYPE HOSTINSTITUTION  ...  \\\n",
       "0          521          3           1            P             NaN  ...   \n",
       "1          522          3           4            P             NaN  ...   \n",
       "2          581          2           5            P             NaN  ...   \n",
       "3          582          2           4            P             NaN  ...   \n",
       "4          581          2           5            P             NaN  ...   \n",
       "\n",
       "  ECTSCREDITSWORK TOTALECTSCREDITS SEVSUPPLEMENT TAUGHTHOSTLANG  \\\n",
       "0               0                0             0              N   \n",
       "1               0                0             0              N   \n",
       "2               0                0             0              N   \n",
       "3               0                0             0              N   \n",
       "4               0                0             0              N   \n",
       "\n",
       "  LANGUAGETAUGHT  LINGPREPARATION  STUDYGRANT PLACEMENTGRANT  \\\n",
       "0             DE               NN         0.0          900.0   \n",
       "1             DE               NN         0.0         3600.0   \n",
       "2             EN               NN         0.0         1500.0   \n",
       "3             DE               NN         0.0          900.0   \n",
       "4             DE               NN         0.0         1800.0   \n",
       "\n",
       "  PREVIOUSPARTICIPATION QUALIFICATIONATHOST  \n",
       "0                     N                   N  \n",
       "1                     N                   N  \n",
       "2                     N                   N  \n",
       "3                     N                   N  \n",
       "4                     N                   N  \n",
       "\n",
       "[5 rows x 32 columns]"
      ]
     },
     "execution_count": 176,
     "metadata": {},
     "output_type": "execute_result"
    }
   ],
   "source": [
    "data.head()"
   ]
  },
  {
   "cell_type": "code",
   "execution_count": 177,
   "id": "cfb12f03",
   "metadata": {},
   "outputs": [
    {
     "data": {
      "text/html": [
       "<div>\n",
       "<style scoped>\n",
       "    .dataframe tbody tr th:only-of-type {\n",
       "        vertical-align: middle;\n",
       "    }\n",
       "\n",
       "    .dataframe tbody tr th {\n",
       "        vertical-align: top;\n",
       "    }\n",
       "\n",
       "    .dataframe thead th {\n",
       "        text-align: right;\n",
       "    }\n",
       "</style>\n",
       "<table border=\"1\" class=\"dataframe\">\n",
       "  <thead>\n",
       "    <tr style=\"text-align: right;\">\n",
       "      <th></th>\n",
       "      <th>AGE</th>\n",
       "      <th>SUBJECTAREA</th>\n",
       "      <th>YEARSPRIOR</th>\n",
       "      <th>LENGTHSTUDYPERIOD</th>\n",
       "      <th>LENGTHPLACEMENT</th>\n",
       "      <th>ECTSCREDITSSTUDY</th>\n",
       "      <th>ECTSCREDITSWORK</th>\n",
       "      <th>TOTALECTSCREDITS</th>\n",
       "      <th>SEVSUPPLEMENT</th>\n",
       "      <th>STUDYGRANT</th>\n",
       "      <th>PLACEMENTGRANT</th>\n",
       "    </tr>\n",
       "  </thead>\n",
       "  <tbody>\n",
       "    <tr>\n",
       "      <th>AGE</th>\n",
       "      <td>1.000000</td>\n",
       "      <td>0.078493</td>\n",
       "      <td>0.306658</td>\n",
       "      <td>-0.038877</td>\n",
       "      <td>0.040585</td>\n",
       "      <td>-0.074194</td>\n",
       "      <td>-0.011143</td>\n",
       "      <td>-0.086476</td>\n",
       "      <td>0.017427</td>\n",
       "      <td>-0.054869</td>\n",
       "      <td>0.042399</td>\n",
       "    </tr>\n",
       "    <tr>\n",
       "      <th>SUBJECTAREA</th>\n",
       "      <td>0.078493</td>\n",
       "      <td>1.000000</td>\n",
       "      <td>0.080222</td>\n",
       "      <td>-0.038184</td>\n",
       "      <td>0.047152</td>\n",
       "      <td>-0.043729</td>\n",
       "      <td>0.047112</td>\n",
       "      <td>-0.026345</td>\n",
       "      <td>-0.004119</td>\n",
       "      <td>-0.016517</td>\n",
       "      <td>0.042171</td>\n",
       "    </tr>\n",
       "    <tr>\n",
       "      <th>YEARSPRIOR</th>\n",
       "      <td>0.306658</td>\n",
       "      <td>0.080222</td>\n",
       "      <td>1.000000</td>\n",
       "      <td>0.065155</td>\n",
       "      <td>-0.000453</td>\n",
       "      <td>0.029501</td>\n",
       "      <td>-0.041541</td>\n",
       "      <td>0.013298</td>\n",
       "      <td>0.000712</td>\n",
       "      <td>-0.044569</td>\n",
       "      <td>-0.000487</td>\n",
       "    </tr>\n",
       "    <tr>\n",
       "      <th>LENGTHSTUDYPERIOD</th>\n",
       "      <td>-0.038877</td>\n",
       "      <td>-0.038184</td>\n",
       "      <td>0.065155</td>\n",
       "      <td>1.000000</td>\n",
       "      <td>-0.654320</td>\n",
       "      <td>0.796303</td>\n",
       "      <td>-0.474041</td>\n",
       "      <td>0.655828</td>\n",
       "      <td>0.007256</td>\n",
       "      <td>0.666006</td>\n",
       "      <td>-0.635888</td>\n",
       "    </tr>\n",
       "    <tr>\n",
       "      <th>LENGTHPLACEMENT</th>\n",
       "      <td>0.040585</td>\n",
       "      <td>0.047152</td>\n",
       "      <td>-0.000453</td>\n",
       "      <td>-0.654320</td>\n",
       "      <td>1.000000</td>\n",
       "      <td>-0.566718</td>\n",
       "      <td>0.720017</td>\n",
       "      <td>-0.291220</td>\n",
       "      <td>-0.004302</td>\n",
       "      <td>-0.509985</td>\n",
       "      <td>0.952559</td>\n",
       "    </tr>\n",
       "    <tr>\n",
       "      <th>ECTSCREDITSSTUDY</th>\n",
       "      <td>-0.074194</td>\n",
       "      <td>-0.043729</td>\n",
       "      <td>0.029501</td>\n",
       "      <td>0.796303</td>\n",
       "      <td>-0.566718</td>\n",
       "      <td>1.000000</td>\n",
       "      <td>-0.410575</td>\n",
       "      <td>0.908326</td>\n",
       "      <td>0.001270</td>\n",
       "      <td>0.547417</td>\n",
       "      <td>-0.550754</td>\n",
       "    </tr>\n",
       "    <tr>\n",
       "      <th>ECTSCREDITSWORK</th>\n",
       "      <td>-0.011143</td>\n",
       "      <td>0.047112</td>\n",
       "      <td>-0.041541</td>\n",
       "      <td>-0.474041</td>\n",
       "      <td>0.720017</td>\n",
       "      <td>-0.410575</td>\n",
       "      <td>1.000000</td>\n",
       "      <td>0.008446</td>\n",
       "      <td>-0.002981</td>\n",
       "      <td>-0.369473</td>\n",
       "      <td>0.656549</td>\n",
       "    </tr>\n",
       "    <tr>\n",
       "      <th>TOTALECTSCREDITS</th>\n",
       "      <td>-0.086476</td>\n",
       "      <td>-0.026345</td>\n",
       "      <td>0.013298</td>\n",
       "      <td>0.655828</td>\n",
       "      <td>-0.291220</td>\n",
       "      <td>0.908326</td>\n",
       "      <td>0.008446</td>\n",
       "      <td>1.000000</td>\n",
       "      <td>0.000026</td>\n",
       "      <td>0.430850</td>\n",
       "      <td>-0.302826</td>\n",
       "    </tr>\n",
       "    <tr>\n",
       "      <th>SEVSUPPLEMENT</th>\n",
       "      <td>0.017427</td>\n",
       "      <td>-0.004119</td>\n",
       "      <td>0.000712</td>\n",
       "      <td>0.007256</td>\n",
       "      <td>-0.004302</td>\n",
       "      <td>0.001270</td>\n",
       "      <td>-0.002981</td>\n",
       "      <td>0.000026</td>\n",
       "      <td>1.000000</td>\n",
       "      <td>0.010404</td>\n",
       "      <td>-0.003672</td>\n",
       "    </tr>\n",
       "    <tr>\n",
       "      <th>STUDYGRANT</th>\n",
       "      <td>-0.054869</td>\n",
       "      <td>-0.016517</td>\n",
       "      <td>-0.044569</td>\n",
       "      <td>0.666006</td>\n",
       "      <td>-0.509985</td>\n",
       "      <td>0.547417</td>\n",
       "      <td>-0.369473</td>\n",
       "      <td>0.430850</td>\n",
       "      <td>0.010404</td>\n",
       "      <td>1.000000</td>\n",
       "      <td>-0.495620</td>\n",
       "    </tr>\n",
       "    <tr>\n",
       "      <th>PLACEMENTGRANT</th>\n",
       "      <td>0.042399</td>\n",
       "      <td>0.042171</td>\n",
       "      <td>-0.000487</td>\n",
       "      <td>-0.635888</td>\n",
       "      <td>0.952559</td>\n",
       "      <td>-0.550754</td>\n",
       "      <td>0.656549</td>\n",
       "      <td>-0.302826</td>\n",
       "      <td>-0.003672</td>\n",
       "      <td>-0.495620</td>\n",
       "      <td>1.000000</td>\n",
       "    </tr>\n",
       "  </tbody>\n",
       "</table>\n",
       "</div>"
      ],
      "text/plain": [
       "                        AGE  SUBJECTAREA  YEARSPRIOR  LENGTHSTUDYPERIOD  \\\n",
       "AGE                1.000000     0.078493    0.306658          -0.038877   \n",
       "SUBJECTAREA        0.078493     1.000000    0.080222          -0.038184   \n",
       "YEARSPRIOR         0.306658     0.080222    1.000000           0.065155   \n",
       "LENGTHSTUDYPERIOD -0.038877    -0.038184    0.065155           1.000000   \n",
       "LENGTHPLACEMENT    0.040585     0.047152   -0.000453          -0.654320   \n",
       "ECTSCREDITSSTUDY  -0.074194    -0.043729    0.029501           0.796303   \n",
       "ECTSCREDITSWORK   -0.011143     0.047112   -0.041541          -0.474041   \n",
       "TOTALECTSCREDITS  -0.086476    -0.026345    0.013298           0.655828   \n",
       "SEVSUPPLEMENT      0.017427    -0.004119    0.000712           0.007256   \n",
       "STUDYGRANT        -0.054869    -0.016517   -0.044569           0.666006   \n",
       "PLACEMENTGRANT     0.042399     0.042171   -0.000487          -0.635888   \n",
       "\n",
       "                   LENGTHPLACEMENT  ECTSCREDITSSTUDY  ECTSCREDITSWORK  \\\n",
       "AGE                       0.040585         -0.074194        -0.011143   \n",
       "SUBJECTAREA               0.047152         -0.043729         0.047112   \n",
       "YEARSPRIOR               -0.000453          0.029501        -0.041541   \n",
       "LENGTHSTUDYPERIOD        -0.654320          0.796303        -0.474041   \n",
       "LENGTHPLACEMENT           1.000000         -0.566718         0.720017   \n",
       "ECTSCREDITSSTUDY         -0.566718          1.000000        -0.410575   \n",
       "ECTSCREDITSWORK           0.720017         -0.410575         1.000000   \n",
       "TOTALECTSCREDITS         -0.291220          0.908326         0.008446   \n",
       "SEVSUPPLEMENT            -0.004302          0.001270        -0.002981   \n",
       "STUDYGRANT               -0.509985          0.547417        -0.369473   \n",
       "PLACEMENTGRANT            0.952559         -0.550754         0.656549   \n",
       "\n",
       "                   TOTALECTSCREDITS  SEVSUPPLEMENT  STUDYGRANT  PLACEMENTGRANT  \n",
       "AGE                       -0.086476       0.017427   -0.054869        0.042399  \n",
       "SUBJECTAREA               -0.026345      -0.004119   -0.016517        0.042171  \n",
       "YEARSPRIOR                 0.013298       0.000712   -0.044569       -0.000487  \n",
       "LENGTHSTUDYPERIOD          0.655828       0.007256    0.666006       -0.635888  \n",
       "LENGTHPLACEMENT           -0.291220      -0.004302   -0.509985        0.952559  \n",
       "ECTSCREDITSSTUDY           0.908326       0.001270    0.547417       -0.550754  \n",
       "ECTSCREDITSWORK            0.008446      -0.002981   -0.369473        0.656549  \n",
       "TOTALECTSCREDITS           1.000000       0.000026    0.430850       -0.302826  \n",
       "SEVSUPPLEMENT              0.000026       1.000000    0.010404       -0.003672  \n",
       "STUDYGRANT                 0.430850       0.010404    1.000000       -0.495620  \n",
       "PLACEMENTGRANT            -0.302826      -0.003672   -0.495620        1.000000  "
      ]
     },
     "execution_count": 177,
     "metadata": {},
     "output_type": "execute_result"
    }
   ],
   "source": [
    "# Raw data correlation:\n",
    "data.corr()"
   ]
  },
  {
   "cell_type": "code",
   "execution_count": 4,
   "id": "ba15134a",
   "metadata": {},
   "outputs": [
    {
     "name": "stdout",
     "output_type": "stream",
     "text": [
      "<class 'pandas.core.frame.DataFrame'>\n",
      "RangeIndex: 231408 entries, 0 to 231407\n",
      "Data columns (total 32 columns):\n",
      " #   Column                        Non-Null Count   Dtype  \n",
      "---  ------                        --------------   -----  \n",
      " 0   HOMEINSTITUTION               231408 non-null  object \n",
      " 1   COUNTRYCODEOFHOMEINSTITUTION  231408 non-null  object \n",
      " 2   AGE                           231408 non-null  int64  \n",
      " 3   GENDER                        231408 non-null  object \n",
      " 4   NATIONALITY                   231408 non-null  object \n",
      " 5   SUBJECTAREA                   231408 non-null  int64  \n",
      " 6   LEVELSTUDY                    231408 non-null  object \n",
      " 7   YEARSPRIOR                    231408 non-null  int64  \n",
      " 8   MOBILITYTYPE                  231408 non-null  object \n",
      " 9   HOSTINSTITUTION               190499 non-null  object \n",
      " 10  COUNTRYCODEOFHOSTINSTITUTION  190499 non-null  object \n",
      " 11  WORKPLACEMENT                 40964 non-null   object \n",
      " 12  COUNTRYOFWORKPLACEMENT        40964 non-null   object \n",
      " 13  ENTERPRISESIZE                40964 non-null   object \n",
      " 14  TYPEWORKSECTOR                40964 non-null   object \n",
      " 15  LENGTHSTUDYPERIOD             231408 non-null  float64\n",
      " 16  LENGTHPLACEMENT               231408 non-null  float64\n",
      " 17  SHORTDURATION                 1373 non-null    object \n",
      " 18  STUDYSTARTDATE                190501 non-null  object \n",
      " 19  PLACEMENTSTARTDATE            40983 non-null   object \n",
      " 20  CONSORTIUMAGREEMENTNUMBER     5909 non-null    object \n",
      " 21  ECTSCREDITSSTUDY              231408 non-null  int64  \n",
      " 22  ECTSCREDITSWORK               231408 non-null  int64  \n",
      " 23  TOTALECTSCREDITS              231408 non-null  int64  \n",
      " 24  SEVSUPPLEMENT                 231408 non-null  int64  \n",
      " 25  TAUGHTHOSTLANG                231408 non-null  object \n",
      " 26  LANGUAGETAUGHT                231408 non-null  object \n",
      " 27  LINGPREPARATION               231408 non-null  object \n",
      " 28  STUDYGRANT                    231408 non-null  float64\n",
      " 29  PLACEMENTGRANT                231408 non-null  float64\n",
      " 30  PREVIOUSPARTICIPATION         231408 non-null  object \n",
      " 31  QUALIFICATIONATHOST           231408 non-null  object \n",
      "dtypes: float64(4), int64(7), object(21)\n",
      "memory usage: 56.5+ MB\n"
     ]
    }
   ],
   "source": [
    "# Information of the dataset\n",
    "data.info()"
   ]
  },
  {
   "cell_type": "code",
   "execution_count": 5,
   "id": "87405cc0",
   "metadata": {
    "scrolled": true
   },
   "outputs": [
    {
     "data": {
      "text/html": [
       "<div>\n",
       "<style scoped>\n",
       "    .dataframe tbody tr th:only-of-type {\n",
       "        vertical-align: middle;\n",
       "    }\n",
       "\n",
       "    .dataframe tbody tr th {\n",
       "        vertical-align: top;\n",
       "    }\n",
       "\n",
       "    .dataframe thead th {\n",
       "        text-align: right;\n",
       "    }\n",
       "</style>\n",
       "<table border=\"1\" class=\"dataframe\">\n",
       "  <thead>\n",
       "    <tr style=\"text-align: right;\">\n",
       "      <th></th>\n",
       "      <th>AGE</th>\n",
       "      <th>SUBJECTAREA</th>\n",
       "      <th>YEARSPRIOR</th>\n",
       "      <th>LENGTHSTUDYPERIOD</th>\n",
       "      <th>LENGTHPLACEMENT</th>\n",
       "      <th>ECTSCREDITSSTUDY</th>\n",
       "      <th>ECTSCREDITSWORK</th>\n",
       "      <th>TOTALECTSCREDITS</th>\n",
       "      <th>SEVSUPPLEMENT</th>\n",
       "      <th>STUDYGRANT</th>\n",
       "      <th>PLACEMENTGRANT</th>\n",
       "    </tr>\n",
       "  </thead>\n",
       "  <tbody>\n",
       "    <tr>\n",
       "      <th>count</th>\n",
       "      <td>231408.000000</td>\n",
       "      <td>231408.000000</td>\n",
       "      <td>231408.000000</td>\n",
       "      <td>231408.000000</td>\n",
       "      <td>231408.000000</td>\n",
       "      <td>231408.000000</td>\n",
       "      <td>231408.000000</td>\n",
       "      <td>231408.000000</td>\n",
       "      <td>231408.000000</td>\n",
       "      <td>231408.000000</td>\n",
       "      <td>231408.000000</td>\n",
       "    </tr>\n",
       "    <tr>\n",
       "      <th>mean</th>\n",
       "      <td>22.513971</td>\n",
       "      <td>293.449233</td>\n",
       "      <td>2.730960</td>\n",
       "      <td>5.238561</td>\n",
       "      <td>0.767268</td>\n",
       "      <td>28.491802</td>\n",
       "      <td>2.587936</td>\n",
       "      <td>31.079738</td>\n",
       "      <td>2.139913</td>\n",
       "      <td>1217.708050</td>\n",
       "      <td>280.837386</td>\n",
       "    </tr>\n",
       "    <tr>\n",
       "      <th>std</th>\n",
       "      <td>2.703065</td>\n",
       "      <td>209.686161</td>\n",
       "      <td>1.307554</td>\n",
       "      <td>3.299730</td>\n",
       "      <td>1.861627</td>\n",
       "      <td>20.720936</td>\n",
       "      <td>8.667091</td>\n",
       "      <td>18.894579</td>\n",
       "      <td>103.269691</td>\n",
       "      <td>984.106146</td>\n",
       "      <td>701.147746</td>\n",
       "    </tr>\n",
       "    <tr>\n",
       "      <th>min</th>\n",
       "      <td>17.000000</td>\n",
       "      <td>0.000000</td>\n",
       "      <td>0.000000</td>\n",
       "      <td>0.000000</td>\n",
       "      <td>0.000000</td>\n",
       "      <td>0.000000</td>\n",
       "      <td>0.000000</td>\n",
       "      <td>0.000000</td>\n",
       "      <td>0.000000</td>\n",
       "      <td>0.000000</td>\n",
       "      <td>0.000000</td>\n",
       "    </tr>\n",
       "    <tr>\n",
       "      <th>25%</th>\n",
       "      <td>21.000000</td>\n",
       "      <td>144.000000</td>\n",
       "      <td>2.000000</td>\n",
       "      <td>4.000000</td>\n",
       "      <td>0.000000</td>\n",
       "      <td>14.000000</td>\n",
       "      <td>0.000000</td>\n",
       "      <td>20.000000</td>\n",
       "      <td>0.000000</td>\n",
       "      <td>600.000000</td>\n",
       "      <td>0.000000</td>\n",
       "    </tr>\n",
       "    <tr>\n",
       "      <th>50%</th>\n",
       "      <td>22.000000</td>\n",
       "      <td>223.000000</td>\n",
       "      <td>2.000000</td>\n",
       "      <td>5.000000</td>\n",
       "      <td>0.000000</td>\n",
       "      <td>30.000000</td>\n",
       "      <td>0.000000</td>\n",
       "      <td>30.000000</td>\n",
       "      <td>0.000000</td>\n",
       "      <td>1095.840000</td>\n",
       "      <td>0.000000</td>\n",
       "    </tr>\n",
       "    <tr>\n",
       "      <th>75%</th>\n",
       "      <td>23.000000</td>\n",
       "      <td>380.000000</td>\n",
       "      <td>4.000000</td>\n",
       "      <td>9.000000</td>\n",
       "      <td>0.000000</td>\n",
       "      <td>39.000000</td>\n",
       "      <td>0.000000</td>\n",
       "      <td>40.000000</td>\n",
       "      <td>0.000000</td>\n",
       "      <td>1713.000000</td>\n",
       "      <td>0.000000</td>\n",
       "    </tr>\n",
       "    <tr>\n",
       "      <th>max</th>\n",
       "      <td>99.000000</td>\n",
       "      <td>869.000000</td>\n",
       "      <td>20.000000</td>\n",
       "      <td>12.000000</td>\n",
       "      <td>12.000000</td>\n",
       "      <td>90.000000</td>\n",
       "      <td>90.000000</td>\n",
       "      <td>90.000000</td>\n",
       "      <td>20559.000000</td>\n",
       "      <td>10970.000000</td>\n",
       "      <td>9600.000000</td>\n",
       "    </tr>\n",
       "  </tbody>\n",
       "</table>\n",
       "</div>"
      ],
      "text/plain": [
       "                 AGE    SUBJECTAREA     YEARSPRIOR  LENGTHSTUDYPERIOD  \\\n",
       "count  231408.000000  231408.000000  231408.000000      231408.000000   \n",
       "mean       22.513971     293.449233       2.730960           5.238561   \n",
       "std         2.703065     209.686161       1.307554           3.299730   \n",
       "min        17.000000       0.000000       0.000000           0.000000   \n",
       "25%        21.000000     144.000000       2.000000           4.000000   \n",
       "50%        22.000000     223.000000       2.000000           5.000000   \n",
       "75%        23.000000     380.000000       4.000000           9.000000   \n",
       "max        99.000000     869.000000      20.000000          12.000000   \n",
       "\n",
       "       LENGTHPLACEMENT  ECTSCREDITSSTUDY  ECTSCREDITSWORK  TOTALECTSCREDITS  \\\n",
       "count    231408.000000     231408.000000    231408.000000     231408.000000   \n",
       "mean          0.767268         28.491802         2.587936         31.079738   \n",
       "std           1.861627         20.720936         8.667091         18.894579   \n",
       "min           0.000000          0.000000         0.000000          0.000000   \n",
       "25%           0.000000         14.000000         0.000000         20.000000   \n",
       "50%           0.000000         30.000000         0.000000         30.000000   \n",
       "75%           0.000000         39.000000         0.000000         40.000000   \n",
       "max          12.000000         90.000000        90.000000         90.000000   \n",
       "\n",
       "       SEVSUPPLEMENT     STUDYGRANT  PLACEMENTGRANT  \n",
       "count  231408.000000  231408.000000   231408.000000  \n",
       "mean        2.139913    1217.708050      280.837386  \n",
       "std       103.269691     984.106146      701.147746  \n",
       "min         0.000000       0.000000        0.000000  \n",
       "25%         0.000000     600.000000        0.000000  \n",
       "50%         0.000000    1095.840000        0.000000  \n",
       "75%         0.000000    1713.000000        0.000000  \n",
       "max     20559.000000   10970.000000     9600.000000  "
      ]
     },
     "execution_count": 5,
     "metadata": {},
     "output_type": "execute_result"
    }
   ],
   "source": [
    "# Description of the dataset:\n",
    "data.describe()"
   ]
  },
  {
   "cell_type": "markdown",
   "id": "030a4906",
   "metadata": {},
   "source": [
    "## 2. Data cleaning and wrangling\n",
    "\n",
    "From the dataset we can sort 3 different types of Erasmus exchange programs: work placement, study and combination. As combination accounted for a small proportion of the total, the author decided to ignore them and consider them as a part of workplacement.\n",
    "\n",
    "In this analysis we will refer to them as **student_with_placement** and **study_without_placement**."
   ]
  },
  {
   "cell_type": "code",
   "execution_count": 178,
   "id": "220139b0",
   "metadata": {},
   "outputs": [
    {
     "name": "stdout",
     "output_type": "stream",
     "text": [
      "<class 'pandas.core.frame.DataFrame'>\n",
      "Int64Index: 231408 entries, 0 to 231407\n",
      "Data columns (total 32 columns):\n",
      " #   Column                        Non-Null Count   Dtype  \n",
      "---  ------                        --------------   -----  \n",
      " 0   HOMEINSTITUTION               231408 non-null  object \n",
      " 1   COUNTRYCODEOFHOMEINSTITUTION  231408 non-null  object \n",
      " 2   AGE                           231408 non-null  int64  \n",
      " 3   GENDER                        231408 non-null  object \n",
      " 4   NATIONALITY                   231408 non-null  object \n",
      " 5   SUBJECTAREA                   231408 non-null  int64  \n",
      " 6   LEVELSTUDY                    231408 non-null  object \n",
      " 7   YEARSPRIOR                    231408 non-null  int64  \n",
      " 8   MOBILITYTYPE                  231408 non-null  object \n",
      " 9   HOSTINSTITUTION               190499 non-null  object \n",
      " 10  COUNTRYCODEOFHOSTINSTITUTION  190499 non-null  object \n",
      " 11  WORKPLACEMENT                 40964 non-null   object \n",
      " 12  COUNTRYOFWORKPLACEMENT        40964 non-null   object \n",
      " 13  ENTERPRISESIZE                40964 non-null   object \n",
      " 14  TYPEWORKSECTOR                40964 non-null   object \n",
      " 15  LENGTHSTUDYPERIOD             231408 non-null  float64\n",
      " 16  LENGTHPLACEMENT               231408 non-null  float64\n",
      " 17  SHORTDURATION                 1373 non-null    object \n",
      " 18  STUDYSTARTDATE                190501 non-null  object \n",
      " 19  PLACEMENTSTARTDATE            40983 non-null   object \n",
      " 20  CONSORTIUMAGREEMENTNUMBER     5909 non-null    object \n",
      " 21  ECTSCREDITSSTUDY              231408 non-null  int64  \n",
      " 22  ECTSCREDITSWORK               231408 non-null  int64  \n",
      " 23  TOTALECTSCREDITS              231408 non-null  int64  \n",
      " 24  SEVSUPPLEMENT                 231408 non-null  int64  \n",
      " 25  TAUGHTHOSTLANG                231408 non-null  object \n",
      " 26  LANGUAGETAUGHT                231408 non-null  object \n",
      " 27  LINGPREPARATION               231408 non-null  object \n",
      " 28  STUDYGRANT                    231408 non-null  float64\n",
      " 29  PLACEMENTGRANT                231408 non-null  float64\n",
      " 30  PREVIOUSPARTICIPATION         231408 non-null  object \n",
      " 31  QUALIFICATIONATHOST           231408 non-null  object \n",
      "dtypes: float64(4), int64(7), object(21)\n",
      "memory usage: 58.3+ MB\n"
     ]
    }
   ],
   "source": [
    "# Drop Nan values:\n",
    "data.dropna(how=\"all\",inplace=True)\n",
    "data.info()"
   ]
  },
  {
   "cell_type": "code",
   "execution_count": 182,
   "id": "23d706da",
   "metadata": {
    "scrolled": true
   },
   "outputs": [],
   "source": [
    "student_with_workplacement=data[data.WORKPLACEMENT.notnull()]\n",
    "# this dataset has 40964 rows "
   ]
  },
  {
   "cell_type": "code",
   "execution_count": 181,
   "id": "fd74c60e",
   "metadata": {},
   "outputs": [],
   "source": [
    "student_without_workplacement=data[~data.WORKPLACEMENT.notnull()]\n",
    "# this dataset has 190444 rows"
   ]
  },
  {
   "cell_type": "markdown",
   "id": "a9668235",
   "metadata": {},
   "source": [
    "### 2.1. Datset for students with work placement\n",
    "Placement Enterprise\n",
    "Db: WorkPlacement\n",
    "- The name of the company/organisation at which the student undertook a  placement\n",
    "(in latin characters).\n",
    "\n",
    "    + C19.1 If \" Type of mobility \" = 'P', then \"Placement Enterprise\" cannot be empty\n",
    "    + C19.2 If \" Type of mobility \" is not P, then \"Placement Enterprise\" must be empty\n",
    "    + C19.2 Length ≤ 255\n"
   ]
  },
  {
   "cell_type": "code",
   "execution_count": 12,
   "id": "0a6bf0bd",
   "metadata": {
    "scrolled": true
   },
   "outputs": [
    {
     "name": "stdout",
     "output_type": "stream",
     "text": [
      "<class 'pandas.core.frame.DataFrame'>\n",
      "Int64Index: 40964 entries, 0 to 231407\n",
      "Data columns (total 32 columns):\n",
      " #   Column                        Non-Null Count  Dtype  \n",
      "---  ------                        --------------  -----  \n",
      " 0   HOMEINSTITUTION               40964 non-null  object \n",
      " 1   COUNTRYCODEOFHOMEINSTITUTION  40964 non-null  object \n",
      " 2   AGE                           40964 non-null  int64  \n",
      " 3   GENDER                        40964 non-null  object \n",
      " 4   NATIONALITY                   40964 non-null  object \n",
      " 5   SUBJECTAREA                   40964 non-null  int64  \n",
      " 6   LEVELSTUDY                    40964 non-null  object \n",
      " 7   YEARSPRIOR                    40964 non-null  int64  \n",
      " 8   MOBILITYTYPE                  40964 non-null  object \n",
      " 9   HOSTINSTITUTION               55 non-null     object \n",
      " 10  COUNTRYCODEOFHOSTINSTITUTION  55 non-null     object \n",
      " 11  WORKPLACEMENT                 40964 non-null  object \n",
      " 12  COUNTRYOFWORKPLACEMENT        40964 non-null  object \n",
      " 13  ENTERPRISESIZE                40964 non-null  object \n",
      " 14  TYPEWORKSECTOR                40964 non-null  object \n",
      " 15  LENGTHSTUDYPERIOD             40964 non-null  float64\n",
      " 16  LENGTHPLACEMENT               40964 non-null  float64\n",
      " 17  SHORTDURATION                 327 non-null    object \n",
      " 18  STUDYSTARTDATE                57 non-null     object \n",
      " 19  PLACEMENTSTARTDATE            40964 non-null  object \n",
      " 20  CONSORTIUMAGREEMENTNUMBER     5736 non-null   object \n",
      " 21  ECTSCREDITSSTUDY              40964 non-null  int64  \n",
      " 22  ECTSCREDITSWORK               40964 non-null  int64  \n",
      " 23  TOTALECTSCREDITS              40964 non-null  int64  \n",
      " 24  SEVSUPPLEMENT                 40964 non-null  int64  \n",
      " 25  TAUGHTHOSTLANG                40964 non-null  object \n",
      " 26  LANGUAGETAUGHT                40964 non-null  object \n",
      " 27  LINGPREPARATION               40964 non-null  object \n",
      " 28  STUDYGRANT                    40964 non-null  float64\n",
      " 29  PLACEMENTGRANT                40964 non-null  float64\n",
      " 30  PREVIOUSPARTICIPATION         40964 non-null  object \n",
      " 31  QUALIFICATIONATHOST           40964 non-null  object \n",
      "dtypes: float64(4), int64(7), object(21)\n",
      "memory usage: 10.3+ MB\n"
     ]
    }
   ],
   "source": [
    "student_with_workplacement.info()"
   ]
  },
  {
   "cell_type": "markdown",
   "id": "b9590bce",
   "metadata": {},
   "source": [
    "### 2.1.1 Drop of irrelevant columns "
   ]
  },
  {
   "cell_type": "code",
   "execution_count": 183,
   "id": "1ad6ceba",
   "metadata": {
    "scrolled": true
   },
   "outputs": [
    {
     "name": "stderr",
     "output_type": "stream",
     "text": [
      "/home/sluftsluft/miniconda3/lib/python3.9/site-packages/pandas/core/frame.py:4906: SettingWithCopyWarning: \n",
      "A value is trying to be set on a copy of a slice from a DataFrame\n",
      "\n",
      "See the caveats in the documentation: https://pandas.pydata.org/pandas-docs/stable/user_guide/indexing.html#returning-a-view-versus-a-copy\n",
      "  return super().drop(\n"
     ]
    },
    {
     "data": {
      "text/html": [
       "<div>\n",
       "<style scoped>\n",
       "    .dataframe tbody tr th:only-of-type {\n",
       "        vertical-align: middle;\n",
       "    }\n",
       "\n",
       "    .dataframe tbody tr th {\n",
       "        vertical-align: top;\n",
       "    }\n",
       "\n",
       "    .dataframe thead th {\n",
       "        text-align: right;\n",
       "    }\n",
       "</style>\n",
       "<table border=\"1\" class=\"dataframe\">\n",
       "  <thead>\n",
       "    <tr style=\"text-align: right;\">\n",
       "      <th></th>\n",
       "      <th>HOMEINSTITUTION</th>\n",
       "      <th>COUNTRYCODEOFHOMEINSTITUTION</th>\n",
       "      <th>AGE</th>\n",
       "      <th>GENDER</th>\n",
       "      <th>NATIONALITY</th>\n",
       "      <th>SUBJECTAREA</th>\n",
       "      <th>LEVELSTUDY</th>\n",
       "      <th>YEARSPRIOR</th>\n",
       "      <th>MOBILITYTYPE</th>\n",
       "      <th>WORKPLACEMENT</th>\n",
       "      <th>...</th>\n",
       "      <th>CONSORTIUMAGREEMENTNUMBER</th>\n",
       "      <th>ECTSCREDITSWORK</th>\n",
       "      <th>TOTALECTSCREDITS</th>\n",
       "      <th>SEVSUPPLEMENT</th>\n",
       "      <th>TAUGHTHOSTLANG</th>\n",
       "      <th>LANGUAGETAUGHT</th>\n",
       "      <th>LINGPREPARATION</th>\n",
       "      <th>PLACEMENTGRANT</th>\n",
       "      <th>PREVIOUSPARTICIPATION</th>\n",
       "      <th>QUALIFICATIONATHOST</th>\n",
       "    </tr>\n",
       "  </thead>\n",
       "  <tbody>\n",
       "    <tr>\n",
       "      <th>0</th>\n",
       "      <td>HU BUDAPES02</td>\n",
       "      <td>HU</td>\n",
       "      <td>25</td>\n",
       "      <td>M</td>\n",
       "      <td>HU</td>\n",
       "      <td>521</td>\n",
       "      <td>3</td>\n",
       "      <td>1</td>\n",
       "      <td>P</td>\n",
       "      <td>HOCHSCHULE WISMAR</td>\n",
       "      <td>...</td>\n",
       "      <td>NaN</td>\n",
       "      <td>0</td>\n",
       "      <td>0</td>\n",
       "      <td>0</td>\n",
       "      <td>N</td>\n",
       "      <td>DE</td>\n",
       "      <td>NN</td>\n",
       "      <td>900.0</td>\n",
       "      <td>N</td>\n",
       "      <td>N</td>\n",
       "    </tr>\n",
       "    <tr>\n",
       "      <th>1</th>\n",
       "      <td>HU BUDAPES02</td>\n",
       "      <td>HU</td>\n",
       "      <td>28</td>\n",
       "      <td>M</td>\n",
       "      <td>HU</td>\n",
       "      <td>522</td>\n",
       "      <td>3</td>\n",
       "      <td>4</td>\n",
       "      <td>P</td>\n",
       "      <td>ACMIT</td>\n",
       "      <td>...</td>\n",
       "      <td>NaN</td>\n",
       "      <td>0</td>\n",
       "      <td>0</td>\n",
       "      <td>0</td>\n",
       "      <td>N</td>\n",
       "      <td>DE</td>\n",
       "      <td>NN</td>\n",
       "      <td>3600.0</td>\n",
       "      <td>N</td>\n",
       "      <td>N</td>\n",
       "    </tr>\n",
       "    <tr>\n",
       "      <th>2</th>\n",
       "      <td>HU BUDAPES02</td>\n",
       "      <td>HU</td>\n",
       "      <td>25</td>\n",
       "      <td>F</td>\n",
       "      <td>HU</td>\n",
       "      <td>581</td>\n",
       "      <td>2</td>\n",
       "      <td>5</td>\n",
       "      <td>P</td>\n",
       "      <td>S.C.ESZTÃ¡NY STUDIO S.R.L.</td>\n",
       "      <td>...</td>\n",
       "      <td>NaN</td>\n",
       "      <td>0</td>\n",
       "      <td>0</td>\n",
       "      <td>0</td>\n",
       "      <td>N</td>\n",
       "      <td>EN</td>\n",
       "      <td>NN</td>\n",
       "      <td>1500.0</td>\n",
       "      <td>N</td>\n",
       "      <td>N</td>\n",
       "    </tr>\n",
       "    <tr>\n",
       "      <th>3</th>\n",
       "      <td>HU BUDAPES02</td>\n",
       "      <td>HU</td>\n",
       "      <td>23</td>\n",
       "      <td>M</td>\n",
       "      <td>SK</td>\n",
       "      <td>582</td>\n",
       "      <td>2</td>\n",
       "      <td>4</td>\n",
       "      <td>P</td>\n",
       "      <td>TECHNISCHE UNIVERSITAT DARMSTADT</td>\n",
       "      <td>...</td>\n",
       "      <td>NaN</td>\n",
       "      <td>0</td>\n",
       "      <td>0</td>\n",
       "      <td>0</td>\n",
       "      <td>N</td>\n",
       "      <td>DE</td>\n",
       "      <td>NN</td>\n",
       "      <td>900.0</td>\n",
       "      <td>N</td>\n",
       "      <td>N</td>\n",
       "    </tr>\n",
       "    <tr>\n",
       "      <th>4</th>\n",
       "      <td>HU BUDAPES02</td>\n",
       "      <td>HU</td>\n",
       "      <td>24</td>\n",
       "      <td>F</td>\n",
       "      <td>HU</td>\n",
       "      <td>581</td>\n",
       "      <td>2</td>\n",
       "      <td>5</td>\n",
       "      <td>P</td>\n",
       "      <td>H.E.I.Z. HAUS ARCHITEKTUR STADTPLANUNG</td>\n",
       "      <td>...</td>\n",
       "      <td>NaN</td>\n",
       "      <td>0</td>\n",
       "      <td>0</td>\n",
       "      <td>0</td>\n",
       "      <td>N</td>\n",
       "      <td>DE</td>\n",
       "      <td>NN</td>\n",
       "      <td>1800.0</td>\n",
       "      <td>N</td>\n",
       "      <td>N</td>\n",
       "    </tr>\n",
       "  </tbody>\n",
       "</table>\n",
       "<p>5 rows × 27 columns</p>\n",
       "</div>"
      ],
      "text/plain": [
       "  HOMEINSTITUTION COUNTRYCODEOFHOMEINSTITUTION  AGE GENDER NATIONALITY  \\\n",
       "0    HU BUDAPES02                           HU   25      M          HU   \n",
       "1    HU BUDAPES02                           HU   28      M          HU   \n",
       "2    HU BUDAPES02                           HU   25      F          HU   \n",
       "3    HU BUDAPES02                           HU   23      M          SK   \n",
       "4    HU BUDAPES02                           HU   24      F          HU   \n",
       "\n",
       "   SUBJECTAREA LEVELSTUDY  YEARSPRIOR MOBILITYTYPE  \\\n",
       "0          521          3           1            P   \n",
       "1          522          3           4            P   \n",
       "2          581          2           5            P   \n",
       "3          582          2           4            P   \n",
       "4          581          2           5            P   \n",
       "\n",
       "                            WORKPLACEMENT  ... CONSORTIUMAGREEMENTNUMBER  \\\n",
       "0                       HOCHSCHULE WISMAR  ...                       NaN   \n",
       "1                                   ACMIT  ...                       NaN   \n",
       "2              S.C.ESZTÃ¡NY STUDIO S.R.L.  ...                       NaN   \n",
       "3        TECHNISCHE UNIVERSITAT DARMSTADT  ...                       NaN   \n",
       "4  H.E.I.Z. HAUS ARCHITEKTUR STADTPLANUNG  ...                       NaN   \n",
       "\n",
       "  ECTSCREDITSWORK TOTALECTSCREDITS  SEVSUPPLEMENT  TAUGHTHOSTLANG  \\\n",
       "0               0                0              0               N   \n",
       "1               0                0              0               N   \n",
       "2               0                0              0               N   \n",
       "3               0                0              0               N   \n",
       "4               0                0              0               N   \n",
       "\n",
       "  LANGUAGETAUGHT LINGPREPARATION PLACEMENTGRANT  PREVIOUSPARTICIPATION  \\\n",
       "0             DE              NN          900.0                      N   \n",
       "1             DE              NN         3600.0                      N   \n",
       "2             EN              NN         1500.0                      N   \n",
       "3             DE              NN          900.0                      N   \n",
       "4             DE              NN         1800.0                      N   \n",
       "\n",
       "   QUALIFICATIONATHOST  \n",
       "0                    N  \n",
       "1                    N  \n",
       "2                    N  \n",
       "3                    N  \n",
       "4                    N  \n",
       "\n",
       "[5 rows x 27 columns]"
      ]
     },
     "execution_count": 183,
     "metadata": {},
     "output_type": "execute_result"
    }
   ],
   "source": [
    "student_with_workplacement.drop(columns=[\"HOSTINSTITUTION\",\"COUNTRYCODEOFHOSTINSTITUTION\",\"STUDYSTARTDATE\",\"ECTSCREDITSSTUDY\",\"STUDYGRANT\"], axis=1,inplace=True)\n",
    "student_with_workplacement.head()"
   ]
  },
  {
   "cell_type": "markdown",
   "id": "2fac4f8c",
   "metadata": {},
   "source": [
    "### 2.1.2 Drop of duplicated columns and map heat\n",
    "\n",
    "Analysis of the correlation of the student with work placement data"
   ]
  },
  {
   "cell_type": "code",
   "execution_count": 184,
   "id": "df1792c4",
   "metadata": {},
   "outputs": [
    {
     "data": {
      "text/plain": [
       "39692"
      ]
     },
     "execution_count": 184,
     "metadata": {},
     "output_type": "execute_result"
    }
   ],
   "source": [
    "student_with_workplacement.duplicated().sum()\n",
    "new_data=student_with_workplacement[~student_with_workplacement.duplicated()]\n",
    "len(new_data)"
   ]
  },
  {
   "cell_type": "code",
   "execution_count": 19,
   "id": "bd53ff19",
   "metadata": {
    "scrolled": true
   },
   "outputs": [
    {
     "data": {
      "text/html": [
       "<div>\n",
       "<style scoped>\n",
       "    .dataframe tbody tr th:only-of-type {\n",
       "        vertical-align: middle;\n",
       "    }\n",
       "\n",
       "    .dataframe tbody tr th {\n",
       "        vertical-align: top;\n",
       "    }\n",
       "\n",
       "    .dataframe thead th {\n",
       "        text-align: right;\n",
       "    }\n",
       "</style>\n",
       "<table border=\"1\" class=\"dataframe\">\n",
       "  <thead>\n",
       "    <tr style=\"text-align: right;\">\n",
       "      <th></th>\n",
       "      <th>AGE</th>\n",
       "      <th>SUBJECTAREA</th>\n",
       "      <th>YEARSPRIOR</th>\n",
       "      <th>LENGTHSTUDYPERIOD</th>\n",
       "      <th>LENGTHPLACEMENT</th>\n",
       "      <th>ECTSCREDITSWORK</th>\n",
       "      <th>TOTALECTSCREDITS</th>\n",
       "      <th>SEVSUPPLEMENT</th>\n",
       "      <th>PLACEMENTGRANT</th>\n",
       "    </tr>\n",
       "  </thead>\n",
       "  <tbody>\n",
       "    <tr>\n",
       "      <th>AGE</th>\n",
       "      <td>1.000000</td>\n",
       "      <td>0.097224</td>\n",
       "      <td>0.306283</td>\n",
       "      <td>-0.012202</td>\n",
       "      <td>0.007623</td>\n",
       "      <td>-0.101139</td>\n",
       "      <td>-0.102050</td>\n",
       "      <td>0.003963</td>\n",
       "      <td>0.019071</td>\n",
       "    </tr>\n",
       "    <tr>\n",
       "      <th>SUBJECTAREA</th>\n",
       "      <td>0.097224</td>\n",
       "      <td>1.000000</td>\n",
       "      <td>0.046106</td>\n",
       "      <td>-0.011980</td>\n",
       "      <td>-0.028010</td>\n",
       "      <td>0.022705</td>\n",
       "      <td>0.020834</td>\n",
       "      <td>-0.003557</td>\n",
       "      <td>-0.039471</td>\n",
       "    </tr>\n",
       "    <tr>\n",
       "      <th>YEARSPRIOR</th>\n",
       "      <td>0.306283</td>\n",
       "      <td>0.046106</td>\n",
       "      <td>1.000000</td>\n",
       "      <td>-0.017352</td>\n",
       "      <td>0.092399</td>\n",
       "      <td>-0.080503</td>\n",
       "      <td>-0.082086</td>\n",
       "      <td>0.000611</td>\n",
       "      <td>0.080890</td>\n",
       "    </tr>\n",
       "    <tr>\n",
       "      <th>LENGTHSTUDYPERIOD</th>\n",
       "      <td>-0.012202</td>\n",
       "      <td>-0.011980</td>\n",
       "      <td>-0.017352</td>\n",
       "      <td>1.000000</td>\n",
       "      <td>-0.075454</td>\n",
       "      <td>-0.032733</td>\n",
       "      <td>0.076866</td>\n",
       "      <td>-0.000567</td>\n",
       "      <td>-0.066610</td>\n",
       "    </tr>\n",
       "    <tr>\n",
       "      <th>LENGTHPLACEMENT</th>\n",
       "      <td>0.007623</td>\n",
       "      <td>-0.028010</td>\n",
       "      <td>0.092399</td>\n",
       "      <td>-0.075454</td>\n",
       "      <td>1.000000</td>\n",
       "      <td>0.417290</td>\n",
       "      <td>0.407597</td>\n",
       "      <td>0.004753</td>\n",
       "      <td>0.800821</td>\n",
       "    </tr>\n",
       "    <tr>\n",
       "      <th>ECTSCREDITSWORK</th>\n",
       "      <td>-0.101139</td>\n",
       "      <td>0.022705</td>\n",
       "      <td>-0.080503</td>\n",
       "      <td>-0.032733</td>\n",
       "      <td>0.417290</td>\n",
       "      <td>1.000000</td>\n",
       "      <td>0.992791</td>\n",
       "      <td>0.003001</td>\n",
       "      <td>0.257351</td>\n",
       "    </tr>\n",
       "    <tr>\n",
       "      <th>TOTALECTSCREDITS</th>\n",
       "      <td>-0.102050</td>\n",
       "      <td>0.020834</td>\n",
       "      <td>-0.082086</td>\n",
       "      <td>0.076866</td>\n",
       "      <td>0.407597</td>\n",
       "      <td>0.992791</td>\n",
       "      <td>1.000000</td>\n",
       "      <td>0.002928</td>\n",
       "      <td>0.249201</td>\n",
       "    </tr>\n",
       "    <tr>\n",
       "      <th>SEVSUPPLEMENT</th>\n",
       "      <td>0.003963</td>\n",
       "      <td>-0.003557</td>\n",
       "      <td>0.000611</td>\n",
       "      <td>-0.000567</td>\n",
       "      <td>0.004753</td>\n",
       "      <td>0.003001</td>\n",
       "      <td>0.002928</td>\n",
       "      <td>1.000000</td>\n",
       "      <td>0.008594</td>\n",
       "    </tr>\n",
       "    <tr>\n",
       "      <th>PLACEMENTGRANT</th>\n",
       "      <td>0.019071</td>\n",
       "      <td>-0.039471</td>\n",
       "      <td>0.080890</td>\n",
       "      <td>-0.066610</td>\n",
       "      <td>0.800821</td>\n",
       "      <td>0.257351</td>\n",
       "      <td>0.249201</td>\n",
       "      <td>0.008594</td>\n",
       "      <td>1.000000</td>\n",
       "    </tr>\n",
       "  </tbody>\n",
       "</table>\n",
       "</div>"
      ],
      "text/plain": [
       "                        AGE  SUBJECTAREA  YEARSPRIOR  LENGTHSTUDYPERIOD  \\\n",
       "AGE                1.000000     0.097224    0.306283          -0.012202   \n",
       "SUBJECTAREA        0.097224     1.000000    0.046106          -0.011980   \n",
       "YEARSPRIOR         0.306283     0.046106    1.000000          -0.017352   \n",
       "LENGTHSTUDYPERIOD -0.012202    -0.011980   -0.017352           1.000000   \n",
       "LENGTHPLACEMENT    0.007623    -0.028010    0.092399          -0.075454   \n",
       "ECTSCREDITSWORK   -0.101139     0.022705   -0.080503          -0.032733   \n",
       "TOTALECTSCREDITS  -0.102050     0.020834   -0.082086           0.076866   \n",
       "SEVSUPPLEMENT      0.003963    -0.003557    0.000611          -0.000567   \n",
       "PLACEMENTGRANT     0.019071    -0.039471    0.080890          -0.066610   \n",
       "\n",
       "                   LENGTHPLACEMENT  ECTSCREDITSWORK  TOTALECTSCREDITS  \\\n",
       "AGE                       0.007623        -0.101139         -0.102050   \n",
       "SUBJECTAREA              -0.028010         0.022705          0.020834   \n",
       "YEARSPRIOR                0.092399        -0.080503         -0.082086   \n",
       "LENGTHSTUDYPERIOD        -0.075454        -0.032733          0.076866   \n",
       "LENGTHPLACEMENT           1.000000         0.417290          0.407597   \n",
       "ECTSCREDITSWORK           0.417290         1.000000          0.992791   \n",
       "TOTALECTSCREDITS          0.407597         0.992791          1.000000   \n",
       "SEVSUPPLEMENT             0.004753         0.003001          0.002928   \n",
       "PLACEMENTGRANT            0.800821         0.257351          0.249201   \n",
       "\n",
       "                   SEVSUPPLEMENT  PLACEMENTGRANT  \n",
       "AGE                     0.003963        0.019071  \n",
       "SUBJECTAREA            -0.003557       -0.039471  \n",
       "YEARSPRIOR              0.000611        0.080890  \n",
       "LENGTHSTUDYPERIOD      -0.000567       -0.066610  \n",
       "LENGTHPLACEMENT         0.004753        0.800821  \n",
       "ECTSCREDITSWORK         0.003001        0.257351  \n",
       "TOTALECTSCREDITS        0.002928        0.249201  \n",
       "SEVSUPPLEMENT           1.000000        0.008594  \n",
       "PLACEMENTGRANT          0.008594        1.000000  "
      ]
     },
     "execution_count": 19,
     "metadata": {},
     "output_type": "execute_result"
    }
   ],
   "source": [
    "new_data.corr()"
   ]
  },
  {
   "cell_type": "code",
   "execution_count": 21,
   "id": "421eaba7",
   "metadata": {},
   "outputs": [
    {
     "data": {
      "text/plain": [
       "<AxesSubplot:>"
      ]
     },
     "execution_count": 21,
     "metadata": {},
     "output_type": "execute_result"
    },
    {
     "data": {
      "image/png": "[encoded data removed]",
      "text/plain": [
       "<Figure size 720x720 with 2 Axes>"
      ]
     },
     "metadata": {
      "needs_background": "light"
     },
     "output_type": "display_data"
    }
   ],
   "source": [
    "plt.figure(figsize=(10,10))\n",
    "sns.heatmap(new_data.corr(),annot=True)"
   ]
  },
  {
   "cell_type": "markdown",
   "id": "9a8527dd",
   "metadata": {},
   "source": [
    "Placement grant has a positive correlation with the length of work placement, ECTS credit earned from work placement, but negative correlation with subject area. ECTS Credits earned from work placement also has a positive correlation with length of placement, but a negative correlation with age, years prior this exchange."
   ]
  },
  {
   "cell_type": "markdown",
   "id": "e14baef2",
   "metadata": {},
   "source": [
    "### 2.2. Dataset for students without work placement"
   ]
  },
  {
   "cell_type": "markdown",
   "id": "8a331a4e",
   "metadata": {},
   "source": [
    "### 2.2.1 Drop of irrelevant columns "
   ]
  },
  {
   "cell_type": "code",
   "execution_count": 196,
   "id": "82f16aa8",
   "metadata": {},
   "outputs": [
    {
     "data": {
      "text/html": [
       "<div>\n",
       "<style scoped>\n",
       "    .dataframe tbody tr th:only-of-type {\n",
       "        vertical-align: middle;\n",
       "    }\n",
       "\n",
       "    .dataframe tbody tr th {\n",
       "        vertical-align: top;\n",
       "    }\n",
       "\n",
       "    .dataframe thead th {\n",
       "        text-align: right;\n",
       "    }\n",
       "</style>\n",
       "<table border=\"1\" class=\"dataframe\">\n",
       "  <thead>\n",
       "    <tr style=\"text-align: right;\">\n",
       "      <th></th>\n",
       "      <th>HOMEINSTITUTION</th>\n",
       "      <th>COUNTRYCODEOFHOMEINSTITUTION</th>\n",
       "      <th>AGE</th>\n",
       "      <th>GENDER</th>\n",
       "      <th>NATIONALITY</th>\n",
       "      <th>SUBJECTAREA</th>\n",
       "      <th>LEVELSTUDY</th>\n",
       "      <th>YEARSPRIOR</th>\n",
       "      <th>MOBILITYTYPE</th>\n",
       "      <th>HOSTINSTITUTION</th>\n",
       "      <th>...</th>\n",
       "      <th>ECTSCREDITSWORK</th>\n",
       "      <th>TOTALECTSCREDITS</th>\n",
       "      <th>SEVSUPPLEMENT</th>\n",
       "      <th>TAUGHTHOSTLANG</th>\n",
       "      <th>LANGUAGETAUGHT</th>\n",
       "      <th>LINGPREPARATION</th>\n",
       "      <th>STUDYGRANT</th>\n",
       "      <th>PLACEMENTGRANT</th>\n",
       "      <th>PREVIOUSPARTICIPATION</th>\n",
       "      <th>QUALIFICATIONATHOST</th>\n",
       "    </tr>\n",
       "  </thead>\n",
       "  <tbody>\n",
       "    <tr>\n",
       "      <th>36</th>\n",
       "      <td>HU BUDAPES02</td>\n",
       "      <td>HU</td>\n",
       "      <td>23</td>\n",
       "      <td>F</td>\n",
       "      <td>HU</td>\n",
       "      <td>524</td>\n",
       "      <td>2</td>\n",
       "      <td>4</td>\n",
       "      <td>S</td>\n",
       "      <td>D  BREMEN04</td>\n",
       "      <td>...</td>\n",
       "      <td>0</td>\n",
       "      <td>30</td>\n",
       "      <td>0</td>\n",
       "      <td>Y</td>\n",
       "      <td>DE</td>\n",
       "      <td>NN</td>\n",
       "      <td>1400.0</td>\n",
       "      <td>0.0</td>\n",
       "      <td>N</td>\n",
       "      <td>N</td>\n",
       "    </tr>\n",
       "    <tr>\n",
       "      <th>37</th>\n",
       "      <td>HU BUDAPES02</td>\n",
       "      <td>HU</td>\n",
       "      <td>21</td>\n",
       "      <td>M</td>\n",
       "      <td>HU</td>\n",
       "      <td>443</td>\n",
       "      <td>1</td>\n",
       "      <td>3</td>\n",
       "      <td>S</td>\n",
       "      <td>D  COTTBUS01</td>\n",
       "      <td>...</td>\n",
       "      <td>0</td>\n",
       "      <td>28</td>\n",
       "      <td>0</td>\n",
       "      <td>Y</td>\n",
       "      <td>DE</td>\n",
       "      <td>HS</td>\n",
       "      <td>0.0</td>\n",
       "      <td>0.0</td>\n",
       "      <td>N</td>\n",
       "      <td>N</td>\n",
       "    </tr>\n",
       "    <tr>\n",
       "      <th>38</th>\n",
       "      <td>HU BUDAPES02</td>\n",
       "      <td>HU</td>\n",
       "      <td>23</td>\n",
       "      <td>F</td>\n",
       "      <td>HU</td>\n",
       "      <td>443</td>\n",
       "      <td>1</td>\n",
       "      <td>2</td>\n",
       "      <td>S</td>\n",
       "      <td>D  COTTBUS01</td>\n",
       "      <td>...</td>\n",
       "      <td>0</td>\n",
       "      <td>28</td>\n",
       "      <td>0</td>\n",
       "      <td>Y</td>\n",
       "      <td>DE</td>\n",
       "      <td>HS</td>\n",
       "      <td>0.0</td>\n",
       "      <td>0.0</td>\n",
       "      <td>N</td>\n",
       "      <td>N</td>\n",
       "    </tr>\n",
       "    <tr>\n",
       "      <th>39</th>\n",
       "      <td>HU BUDAPES02</td>\n",
       "      <td>HU</td>\n",
       "      <td>22</td>\n",
       "      <td>F</td>\n",
       "      <td>HU</td>\n",
       "      <td>344</td>\n",
       "      <td>1</td>\n",
       "      <td>3</td>\n",
       "      <td>S</td>\n",
       "      <td>D  DEGGEND01</td>\n",
       "      <td>...</td>\n",
       "      <td>0</td>\n",
       "      <td>28</td>\n",
       "      <td>0</td>\n",
       "      <td>N</td>\n",
       "      <td>EN</td>\n",
       "      <td>NN</td>\n",
       "      <td>1400.0</td>\n",
       "      <td>0.0</td>\n",
       "      <td>N</td>\n",
       "      <td>N</td>\n",
       "    </tr>\n",
       "    <tr>\n",
       "      <th>40</th>\n",
       "      <td>HU BUDAPES02</td>\n",
       "      <td>HU</td>\n",
       "      <td>22</td>\n",
       "      <td>F</td>\n",
       "      <td>HU</td>\n",
       "      <td>344</td>\n",
       "      <td>1</td>\n",
       "      <td>3</td>\n",
       "      <td>S</td>\n",
       "      <td>D  DEGGEND01</td>\n",
       "      <td>...</td>\n",
       "      <td>0</td>\n",
       "      <td>25</td>\n",
       "      <td>0</td>\n",
       "      <td>N</td>\n",
       "      <td>EN</td>\n",
       "      <td>HS</td>\n",
       "      <td>1400.0</td>\n",
       "      <td>0.0</td>\n",
       "      <td>N</td>\n",
       "      <td>N</td>\n",
       "    </tr>\n",
       "  </tbody>\n",
       "</table>\n",
       "<p>5 rows × 32 columns</p>\n",
       "</div>"
      ],
      "text/plain": [
       "   HOMEINSTITUTION COUNTRYCODEOFHOMEINSTITUTION  AGE GENDER NATIONALITY  \\\n",
       "36    HU BUDAPES02                           HU   23      F          HU   \n",
       "37    HU BUDAPES02                           HU   21      M          HU   \n",
       "38    HU BUDAPES02                           HU   23      F          HU   \n",
       "39    HU BUDAPES02                           HU   22      F          HU   \n",
       "40    HU BUDAPES02                           HU   22      F          HU   \n",
       "\n",
       "    SUBJECTAREA LEVELSTUDY  YEARSPRIOR MOBILITYTYPE HOSTINSTITUTION  ...  \\\n",
       "36          524          2           4            S     D  BREMEN04  ...   \n",
       "37          443          1           3            S    D  COTTBUS01  ...   \n",
       "38          443          1           2            S    D  COTTBUS01  ...   \n",
       "39          344          1           3            S    D  DEGGEND01  ...   \n",
       "40          344          1           3            S    D  DEGGEND01  ...   \n",
       "\n",
       "   ECTSCREDITSWORK TOTALECTSCREDITS SEVSUPPLEMENT TAUGHTHOSTLANG  \\\n",
       "36               0               30             0              Y   \n",
       "37               0               28             0              Y   \n",
       "38               0               28             0              Y   \n",
       "39               0               28             0              N   \n",
       "40               0               25             0              N   \n",
       "\n",
       "   LANGUAGETAUGHT  LINGPREPARATION  STUDYGRANT PLACEMENTGRANT  \\\n",
       "36             DE               NN      1400.0            0.0   \n",
       "37             DE               HS         0.0            0.0   \n",
       "38             DE               HS         0.0            0.0   \n",
       "39             EN               NN      1400.0            0.0   \n",
       "40             EN               HS      1400.0            0.0   \n",
       "\n",
       "   PREVIOUSPARTICIPATION QUALIFICATIONATHOST  \n",
       "36                     N                   N  \n",
       "37                     N                   N  \n",
       "38                     N                   N  \n",
       "39                     N                   N  \n",
       "40                     N                   N  \n",
       "\n",
       "[5 rows x 32 columns]"
      ]
     },
     "execution_count": 196,
     "metadata": {},
     "output_type": "execute_result"
    }
   ],
   "source": [
    "student_without_workplacement=data[~data.WORKPLACEMENT.notnull()]\n",
    "student_without_workplacement.head()"
   ]
  },
  {
   "cell_type": "code",
   "execution_count": 197,
   "id": "842e0be8",
   "metadata": {},
   "outputs": [
    {
     "name": "stderr",
     "output_type": "stream",
     "text": [
      "/home/sluftsluft/miniconda3/lib/python3.9/site-packages/pandas/core/frame.py:4906: SettingWithCopyWarning: \n",
      "A value is trying to be set on a copy of a slice from a DataFrame\n",
      "\n",
      "See the caveats in the documentation: https://pandas.pydata.org/pandas-docs/stable/user_guide/indexing.html#returning-a-view-versus-a-copy\n",
      "  return super().drop(\n"
     ]
    },
    {
     "data": {
      "text/html": [
       "<div>\n",
       "<style scoped>\n",
       "    .dataframe tbody tr th:only-of-type {\n",
       "        vertical-align: middle;\n",
       "    }\n",
       "\n",
       "    .dataframe tbody tr th {\n",
       "        vertical-align: top;\n",
       "    }\n",
       "\n",
       "    .dataframe thead th {\n",
       "        text-align: right;\n",
       "    }\n",
       "</style>\n",
       "<table border=\"1\" class=\"dataframe\">\n",
       "  <thead>\n",
       "    <tr style=\"text-align: right;\">\n",
       "      <th></th>\n",
       "      <th>HOMEINSTITUTION</th>\n",
       "      <th>COUNTRYCODEOFHOMEINSTITUTION</th>\n",
       "      <th>AGE</th>\n",
       "      <th>GENDER</th>\n",
       "      <th>NATIONALITY</th>\n",
       "      <th>SUBJECTAREA</th>\n",
       "      <th>LEVELSTUDY</th>\n",
       "      <th>YEARSPRIOR</th>\n",
       "      <th>MOBILITYTYPE</th>\n",
       "      <th>WORKPLACEMENT</th>\n",
       "      <th>...</th>\n",
       "      <th>CONSORTIUMAGREEMENTNUMBER</th>\n",
       "      <th>ECTSCREDITSSTUDY</th>\n",
       "      <th>TOTALECTSCREDITS</th>\n",
       "      <th>SEVSUPPLEMENT</th>\n",
       "      <th>TAUGHTHOSTLANG</th>\n",
       "      <th>LANGUAGETAUGHT</th>\n",
       "      <th>LINGPREPARATION</th>\n",
       "      <th>STUDYGRANT</th>\n",
       "      <th>PREVIOUSPARTICIPATION</th>\n",
       "      <th>QUALIFICATIONATHOST</th>\n",
       "    </tr>\n",
       "  </thead>\n",
       "  <tbody>\n",
       "    <tr>\n",
       "      <th>36</th>\n",
       "      <td>HU BUDAPES02</td>\n",
       "      <td>HU</td>\n",
       "      <td>23</td>\n",
       "      <td>F</td>\n",
       "      <td>HU</td>\n",
       "      <td>524</td>\n",
       "      <td>2</td>\n",
       "      <td>4</td>\n",
       "      <td>S</td>\n",
       "      <td>NaN</td>\n",
       "      <td>...</td>\n",
       "      <td>NaN</td>\n",
       "      <td>30</td>\n",
       "      <td>30</td>\n",
       "      <td>0</td>\n",
       "      <td>Y</td>\n",
       "      <td>DE</td>\n",
       "      <td>NN</td>\n",
       "      <td>1400.0</td>\n",
       "      <td>N</td>\n",
       "      <td>N</td>\n",
       "    </tr>\n",
       "    <tr>\n",
       "      <th>37</th>\n",
       "      <td>HU BUDAPES02</td>\n",
       "      <td>HU</td>\n",
       "      <td>21</td>\n",
       "      <td>M</td>\n",
       "      <td>HU</td>\n",
       "      <td>443</td>\n",
       "      <td>1</td>\n",
       "      <td>3</td>\n",
       "      <td>S</td>\n",
       "      <td>NaN</td>\n",
       "      <td>...</td>\n",
       "      <td>NaN</td>\n",
       "      <td>28</td>\n",
       "      <td>28</td>\n",
       "      <td>0</td>\n",
       "      <td>Y</td>\n",
       "      <td>DE</td>\n",
       "      <td>HS</td>\n",
       "      <td>0.0</td>\n",
       "      <td>N</td>\n",
       "      <td>N</td>\n",
       "    </tr>\n",
       "    <tr>\n",
       "      <th>38</th>\n",
       "      <td>HU BUDAPES02</td>\n",
       "      <td>HU</td>\n",
       "      <td>23</td>\n",
       "      <td>F</td>\n",
       "      <td>HU</td>\n",
       "      <td>443</td>\n",
       "      <td>1</td>\n",
       "      <td>2</td>\n",
       "      <td>S</td>\n",
       "      <td>NaN</td>\n",
       "      <td>...</td>\n",
       "      <td>NaN</td>\n",
       "      <td>28</td>\n",
       "      <td>28</td>\n",
       "      <td>0</td>\n",
       "      <td>Y</td>\n",
       "      <td>DE</td>\n",
       "      <td>HS</td>\n",
       "      <td>0.0</td>\n",
       "      <td>N</td>\n",
       "      <td>N</td>\n",
       "    </tr>\n",
       "    <tr>\n",
       "      <th>39</th>\n",
       "      <td>HU BUDAPES02</td>\n",
       "      <td>HU</td>\n",
       "      <td>22</td>\n",
       "      <td>F</td>\n",
       "      <td>HU</td>\n",
       "      <td>344</td>\n",
       "      <td>1</td>\n",
       "      <td>3</td>\n",
       "      <td>S</td>\n",
       "      <td>NaN</td>\n",
       "      <td>...</td>\n",
       "      <td>NaN</td>\n",
       "      <td>28</td>\n",
       "      <td>28</td>\n",
       "      <td>0</td>\n",
       "      <td>N</td>\n",
       "      <td>EN</td>\n",
       "      <td>NN</td>\n",
       "      <td>1400.0</td>\n",
       "      <td>N</td>\n",
       "      <td>N</td>\n",
       "    </tr>\n",
       "    <tr>\n",
       "      <th>40</th>\n",
       "      <td>HU BUDAPES02</td>\n",
       "      <td>HU</td>\n",
       "      <td>22</td>\n",
       "      <td>F</td>\n",
       "      <td>HU</td>\n",
       "      <td>344</td>\n",
       "      <td>1</td>\n",
       "      <td>3</td>\n",
       "      <td>S</td>\n",
       "      <td>NaN</td>\n",
       "      <td>...</td>\n",
       "      <td>NaN</td>\n",
       "      <td>25</td>\n",
       "      <td>25</td>\n",
       "      <td>0</td>\n",
       "      <td>N</td>\n",
       "      <td>EN</td>\n",
       "      <td>HS</td>\n",
       "      <td>1400.0</td>\n",
       "      <td>N</td>\n",
       "      <td>N</td>\n",
       "    </tr>\n",
       "  </tbody>\n",
       "</table>\n",
       "<p>5 rows × 26 columns</p>\n",
       "</div>"
      ],
      "text/plain": [
       "   HOMEINSTITUTION COUNTRYCODEOFHOMEINSTITUTION  AGE GENDER NATIONALITY  \\\n",
       "36    HU BUDAPES02                           HU   23      F          HU   \n",
       "37    HU BUDAPES02                           HU   21      M          HU   \n",
       "38    HU BUDAPES02                           HU   23      F          HU   \n",
       "39    HU BUDAPES02                           HU   22      F          HU   \n",
       "40    HU BUDAPES02                           HU   22      F          HU   \n",
       "\n",
       "    SUBJECTAREA LEVELSTUDY  YEARSPRIOR MOBILITYTYPE WORKPLACEMENT  ...  \\\n",
       "36          524          2           4            S           NaN  ...   \n",
       "37          443          1           3            S           NaN  ...   \n",
       "38          443          1           2            S           NaN  ...   \n",
       "39          344          1           3            S           NaN  ...   \n",
       "40          344          1           3            S           NaN  ...   \n",
       "\n",
       "   CONSORTIUMAGREEMENTNUMBER ECTSCREDITSSTUDY TOTALECTSCREDITS  SEVSUPPLEMENT  \\\n",
       "36                       NaN               30               30              0   \n",
       "37                       NaN               28               28              0   \n",
       "38                       NaN               28               28              0   \n",
       "39                       NaN               28               28              0   \n",
       "40                       NaN               25               25              0   \n",
       "\n",
       "   TAUGHTHOSTLANG LANGUAGETAUGHT LINGPREPARATION  STUDYGRANT  \\\n",
       "36              Y             DE              NN      1400.0   \n",
       "37              Y             DE              HS         0.0   \n",
       "38              Y             DE              HS         0.0   \n",
       "39              N             EN              NN      1400.0   \n",
       "40              N             EN              HS      1400.0   \n",
       "\n",
       "    PREVIOUSPARTICIPATION  QUALIFICATIONATHOST  \n",
       "36                      N                    N  \n",
       "37                      N                    N  \n",
       "38                      N                    N  \n",
       "39                      N                    N  \n",
       "40                      N                    N  \n",
       "\n",
       "[5 rows x 26 columns]"
      ]
     },
     "execution_count": 197,
     "metadata": {},
     "output_type": "execute_result"
    }
   ],
   "source": [
    "student_without_workplacement.drop(columns=[\"HOSTINSTITUTION\",\"COUNTRYCODEOFHOSTINSTITUTION\",\"STUDYSTARTDATE\",\"LENGTHPLACEMENT\",\"PLACEMENTGRANT\", \"ECTSCREDITSWORK\"], axis=1,inplace=True)\n",
    "student_without_workplacement.head()"
   ]
  },
  {
   "cell_type": "markdown",
   "id": "71b6e37c",
   "metadata": {},
   "source": [
    "### 2.2.2 Drop of duplicated columns and map heat"
   ]
  },
  {
   "cell_type": "code",
   "execution_count": 198,
   "id": "7cba986d",
   "metadata": {},
   "outputs": [
    {
     "data": {
      "text/plain": [
       "17252"
      ]
     },
     "execution_count": 198,
     "metadata": {},
     "output_type": "execute_result"
    }
   ],
   "source": [
    "student_without_workplacement.duplicated().sum()"
   ]
  },
  {
   "cell_type": "code",
   "execution_count": 199,
   "id": "49cbfd3d",
   "metadata": {},
   "outputs": [
    {
     "data": {
      "text/plain": [
       "173192"
      ]
     },
     "execution_count": 199,
     "metadata": {},
     "output_type": "execute_result"
    }
   ],
   "source": [
    "new_data_2=student_without_workplacement[~student_without_workplacement.duplicated()]\n",
    "len(new_data_2)"
   ]
  },
  {
   "cell_type": "code",
   "execution_count": 194,
   "id": "636c1f98",
   "metadata": {},
   "outputs": [
    {
     "data": {
      "text/html": [
       "<div>\n",
       "<style scoped>\n",
       "    .dataframe tbody tr th:only-of-type {\n",
       "        vertical-align: middle;\n",
       "    }\n",
       "\n",
       "    .dataframe tbody tr th {\n",
       "        vertical-align: top;\n",
       "    }\n",
       "\n",
       "    .dataframe thead th {\n",
       "        text-align: right;\n",
       "    }\n",
       "</style>\n",
       "<table border=\"1\" class=\"dataframe\">\n",
       "  <thead>\n",
       "    <tr style=\"text-align: right;\">\n",
       "      <th></th>\n",
       "      <th>AGE</th>\n",
       "      <th>SUBJECTAREA</th>\n",
       "      <th>YEARSPRIOR</th>\n",
       "      <th>LENGTHSTUDYPERIOD</th>\n",
       "      <th>LENGTHPLACEMENT</th>\n",
       "      <th>ECTSCREDITSWORK</th>\n",
       "      <th>TOTALECTSCREDITS</th>\n",
       "      <th>SEVSUPPLEMENT</th>\n",
       "      <th>PLACEMENTGRANT</th>\n",
       "    </tr>\n",
       "  </thead>\n",
       "  <tbody>\n",
       "    <tr>\n",
       "      <th>AGE</th>\n",
       "      <td>1.000000</td>\n",
       "      <td>0.061882</td>\n",
       "      <td>0.294268</td>\n",
       "      <td>-0.009042</td>\n",
       "      <td>NaN</td>\n",
       "      <td>NaN</td>\n",
       "      <td>-0.067258</td>\n",
       "      <td>0.020106</td>\n",
       "      <td>NaN</td>\n",
       "    </tr>\n",
       "    <tr>\n",
       "      <th>SUBJECTAREA</th>\n",
       "      <td>0.061882</td>\n",
       "      <td>1.000000</td>\n",
       "      <td>0.089921</td>\n",
       "      <td>0.017687</td>\n",
       "      <td>NaN</td>\n",
       "      <td>NaN</td>\n",
       "      <td>-0.001144</td>\n",
       "      <td>-0.004539</td>\n",
       "      <td>NaN</td>\n",
       "    </tr>\n",
       "    <tr>\n",
       "      <th>YEARSPRIOR</th>\n",
       "      <td>0.294268</td>\n",
       "      <td>0.089921</td>\n",
       "      <td>1.000000</td>\n",
       "      <td>0.080010</td>\n",
       "      <td>NaN</td>\n",
       "      <td>NaN</td>\n",
       "      <td>0.020031</td>\n",
       "      <td>0.000198</td>\n",
       "      <td>NaN</td>\n",
       "    </tr>\n",
       "    <tr>\n",
       "      <th>LENGTHSTUDYPERIOD</th>\n",
       "      <td>-0.009042</td>\n",
       "      <td>0.017687</td>\n",
       "      <td>0.080010</td>\n",
       "      <td>1.000000</td>\n",
       "      <td>NaN</td>\n",
       "      <td>NaN</td>\n",
       "      <td>0.618518</td>\n",
       "      <td>0.005301</td>\n",
       "      <td>NaN</td>\n",
       "    </tr>\n",
       "    <tr>\n",
       "      <th>LENGTHPLACEMENT</th>\n",
       "      <td>NaN</td>\n",
       "      <td>NaN</td>\n",
       "      <td>NaN</td>\n",
       "      <td>NaN</td>\n",
       "      <td>NaN</td>\n",
       "      <td>NaN</td>\n",
       "      <td>NaN</td>\n",
       "      <td>NaN</td>\n",
       "      <td>NaN</td>\n",
       "    </tr>\n",
       "    <tr>\n",
       "      <th>ECTSCREDITSWORK</th>\n",
       "      <td>NaN</td>\n",
       "      <td>NaN</td>\n",
       "      <td>NaN</td>\n",
       "      <td>NaN</td>\n",
       "      <td>NaN</td>\n",
       "      <td>NaN</td>\n",
       "      <td>NaN</td>\n",
       "      <td>NaN</td>\n",
       "      <td>NaN</td>\n",
       "    </tr>\n",
       "    <tr>\n",
       "      <th>TOTALECTSCREDITS</th>\n",
       "      <td>-0.067258</td>\n",
       "      <td>-0.001144</td>\n",
       "      <td>0.020031</td>\n",
       "      <td>0.618518</td>\n",
       "      <td>NaN</td>\n",
       "      <td>NaN</td>\n",
       "      <td>1.000000</td>\n",
       "      <td>-0.002748</td>\n",
       "      <td>NaN</td>\n",
       "    </tr>\n",
       "    <tr>\n",
       "      <th>SEVSUPPLEMENT</th>\n",
       "      <td>0.020106</td>\n",
       "      <td>-0.004539</td>\n",
       "      <td>0.000198</td>\n",
       "      <td>0.005301</td>\n",
       "      <td>NaN</td>\n",
       "      <td>NaN</td>\n",
       "      <td>-0.002748</td>\n",
       "      <td>1.000000</td>\n",
       "      <td>NaN</td>\n",
       "    </tr>\n",
       "    <tr>\n",
       "      <th>PLACEMENTGRANT</th>\n",
       "      <td>NaN</td>\n",
       "      <td>NaN</td>\n",
       "      <td>NaN</td>\n",
       "      <td>NaN</td>\n",
       "      <td>NaN</td>\n",
       "      <td>NaN</td>\n",
       "      <td>NaN</td>\n",
       "      <td>NaN</td>\n",
       "      <td>NaN</td>\n",
       "    </tr>\n",
       "  </tbody>\n",
       "</table>\n",
       "</div>"
      ],
      "text/plain": [
       "                        AGE  SUBJECTAREA  YEARSPRIOR  LENGTHSTUDYPERIOD  \\\n",
       "AGE                1.000000     0.061882    0.294268          -0.009042   \n",
       "SUBJECTAREA        0.061882     1.000000    0.089921           0.017687   \n",
       "YEARSPRIOR         0.294268     0.089921    1.000000           0.080010   \n",
       "LENGTHSTUDYPERIOD -0.009042     0.017687    0.080010           1.000000   \n",
       "LENGTHPLACEMENT         NaN          NaN         NaN                NaN   \n",
       "ECTSCREDITSWORK         NaN          NaN         NaN                NaN   \n",
       "TOTALECTSCREDITS  -0.067258    -0.001144    0.020031           0.618518   \n",
       "SEVSUPPLEMENT      0.020106    -0.004539    0.000198           0.005301   \n",
       "PLACEMENTGRANT          NaN          NaN         NaN                NaN   \n",
       "\n",
       "                   LENGTHPLACEMENT  ECTSCREDITSWORK  TOTALECTSCREDITS  \\\n",
       "AGE                            NaN              NaN         -0.067258   \n",
       "SUBJECTAREA                    NaN              NaN         -0.001144   \n",
       "YEARSPRIOR                     NaN              NaN          0.020031   \n",
       "LENGTHSTUDYPERIOD              NaN              NaN          0.618518   \n",
       "LENGTHPLACEMENT                NaN              NaN               NaN   \n",
       "ECTSCREDITSWORK                NaN              NaN               NaN   \n",
       "TOTALECTSCREDITS               NaN              NaN          1.000000   \n",
       "SEVSUPPLEMENT                  NaN              NaN         -0.002748   \n",
       "PLACEMENTGRANT                 NaN              NaN               NaN   \n",
       "\n",
       "                   SEVSUPPLEMENT  PLACEMENTGRANT  \n",
       "AGE                     0.020106             NaN  \n",
       "SUBJECTAREA            -0.004539             NaN  \n",
       "YEARSPRIOR              0.000198             NaN  \n",
       "LENGTHSTUDYPERIOD       0.005301             NaN  \n",
       "LENGTHPLACEMENT              NaN             NaN  \n",
       "ECTSCREDITSWORK              NaN             NaN  \n",
       "TOTALECTSCREDITS       -0.002748             NaN  \n",
       "SEVSUPPLEMENT           1.000000             NaN  \n",
       "PLACEMENTGRANT               NaN             NaN  "
      ]
     },
     "execution_count": 194,
     "metadata": {},
     "output_type": "execute_result"
    }
   ],
   "source": [
    "new_data_2.corr()"
   ]
  },
  {
   "cell_type": "code",
   "execution_count": 200,
   "id": "0f4f403e",
   "metadata": {},
   "outputs": [
    {
     "data": {
      "text/plain": [
       "<AxesSubplot:>"
      ]
     },
     "execution_count": 200,
     "metadata": {},
     "output_type": "execute_result"
    },
    {
     "data": {
      "image/png": "[encoded data removed]",
      "text/plain": [
       "<Figure size 720x720 with 2 Axes>"
      ]
     },
     "metadata": {
      "needs_background": "light"
     },
     "output_type": "display_data"
    }
   ],
   "source": [
    "plt.figure(figsize=(10,10))\n",
    "sns.heatmap(new_data_2.corr(),annot=True)"
   ]
  },
  {
   "cell_type": "markdown",
   "id": "bbf05a3e",
   "metadata": {},
   "source": [
    "## 3. Data analysis: Dataset of students with work placement\n"
   ]
  },
  {
   "cell_type": "markdown",
   "id": "f28edb90",
   "metadata": {},
   "source": [
    "### 3.1 Analysing the connection between Gender and Placement grant"
   ]
  },
  {
   "cell_type": "code",
   "execution_count": 201,
   "id": "57bfc21b",
   "metadata": {
    "scrolled": true
   },
   "outputs": [],
   "source": [
    "gender=pd.DataFrame(new_data.GENDER.value_counts())\n",
    "gender.reset_index()\n",
    "gender.rename(columns={\"index\": \"Female/Male\", \"GENDER\": \"Number of student\"},inplace=True)"
   ]
  },
  {
   "cell_type": "code",
   "execution_count": 202,
   "id": "a39b0159",
   "metadata": {},
   "outputs": [
    {
     "data": {
      "image/png": "[encoded data removed]",
      "text/plain": [
       "<Figure size 360x360 with 1 Axes>"
      ]
     },
     "metadata": {},
     "output_type": "display_data"
    }
   ],
   "source": [
    "plot = gender.plot.pie(y =\"Number of student\", autopct = \"%.2f\", figsize=(5, 5)).legend([\"Female\",\"Male\"])"
   ]
  },
  {
   "cell_type": "code",
   "execution_count": 33,
   "id": "90f71b2f",
   "metadata": {},
   "outputs": [
    {
     "data": {
      "text/html": [
       "<div>\n",
       "<style scoped>\n",
       "    .dataframe tbody tr th:only-of-type {\n",
       "        vertical-align: middle;\n",
       "    }\n",
       "\n",
       "    .dataframe tbody tr th {\n",
       "        vertical-align: top;\n",
       "    }\n",
       "\n",
       "    .dataframe thead th {\n",
       "        text-align: right;\n",
       "    }\n",
       "</style>\n",
       "<table border=\"1\" class=\"dataframe\">\n",
       "  <thead>\n",
       "    <tr style=\"text-align: right;\">\n",
       "      <th></th>\n",
       "      <th>GENDER</th>\n",
       "      <th>PLACEMENTGRANT</th>\n",
       "    </tr>\n",
       "  </thead>\n",
       "  <tbody>\n",
       "    <tr>\n",
       "      <th>0</th>\n",
       "      <td>M</td>\n",
       "      <td>900.00</td>\n",
       "    </tr>\n",
       "    <tr>\n",
       "      <th>1</th>\n",
       "      <td>M</td>\n",
       "      <td>3600.00</td>\n",
       "    </tr>\n",
       "    <tr>\n",
       "      <th>2</th>\n",
       "      <td>F</td>\n",
       "      <td>1500.00</td>\n",
       "    </tr>\n",
       "    <tr>\n",
       "      <th>3</th>\n",
       "      <td>M</td>\n",
       "      <td>900.00</td>\n",
       "    </tr>\n",
       "    <tr>\n",
       "      <th>4</th>\n",
       "      <td>F</td>\n",
       "      <td>1800.00</td>\n",
       "    </tr>\n",
       "    <tr>\n",
       "      <th>...</th>\n",
       "      <td>...</td>\n",
       "      <td>...</td>\n",
       "    </tr>\n",
       "    <tr>\n",
       "      <th>231401</th>\n",
       "      <td>F</td>\n",
       "      <td>0.00</td>\n",
       "    </tr>\n",
       "    <tr>\n",
       "      <th>231403</th>\n",
       "      <td>M</td>\n",
       "      <td>0.00</td>\n",
       "    </tr>\n",
       "    <tr>\n",
       "      <th>231404</th>\n",
       "      <td>M</td>\n",
       "      <td>0.00</td>\n",
       "    </tr>\n",
       "    <tr>\n",
       "      <th>231405</th>\n",
       "      <td>M</td>\n",
       "      <td>1101.48</td>\n",
       "    </tr>\n",
       "    <tr>\n",
       "      <th>231406</th>\n",
       "      <td>M</td>\n",
       "      <td>2100.00</td>\n",
       "    </tr>\n",
       "  </tbody>\n",
       "</table>\n",
       "<p>39692 rows × 2 columns</p>\n",
       "</div>"
      ],
      "text/plain": [
       "       GENDER  PLACEMENTGRANT\n",
       "0           M          900.00\n",
       "1           M         3600.00\n",
       "2           F         1500.00\n",
       "3           M          900.00\n",
       "4           F         1800.00\n",
       "...       ...             ...\n",
       "231401      F            0.00\n",
       "231403      M            0.00\n",
       "231404      M            0.00\n",
       "231405      M         1101.48\n",
       "231406      M         2100.00\n",
       "\n",
       "[39692 rows x 2 columns]"
      ]
     },
     "execution_count": 33,
     "metadata": {},
     "output_type": "execute_result"
    }
   ],
   "source": [
    "gender_grant=new_data[[\"GENDER\",\"PLACEMENTGRANT\"]]\n",
    "gender_grant"
   ]
  },
  {
   "cell_type": "code",
   "execution_count": 35,
   "id": "c8064ac9",
   "metadata": {},
   "outputs": [
    {
     "data": {
      "text/html": [
       "<div>\n",
       "<style scoped>\n",
       "    .dataframe tbody tr th:only-of-type {\n",
       "        vertical-align: middle;\n",
       "    }\n",
       "\n",
       "    .dataframe tbody tr th {\n",
       "        vertical-align: top;\n",
       "    }\n",
       "\n",
       "    .dataframe thead th {\n",
       "        text-align: right;\n",
       "    }\n",
       "</style>\n",
       "<table border=\"1\" class=\"dataframe\">\n",
       "  <thead>\n",
       "    <tr style=\"text-align: right;\">\n",
       "      <th></th>\n",
       "      <th>GENDER</th>\n",
       "      <th>PLACEMENTGRANT</th>\n",
       "    </tr>\n",
       "  </thead>\n",
       "  <tbody>\n",
       "    <tr>\n",
       "      <th>0</th>\n",
       "      <td>F</td>\n",
       "      <td>1582.060245</td>\n",
       "    </tr>\n",
       "    <tr>\n",
       "      <th>1</th>\n",
       "      <td>M</td>\n",
       "      <td>1600.370493</td>\n",
       "    </tr>\n",
       "  </tbody>\n",
       "</table>\n",
       "</div>"
      ],
      "text/plain": [
       "  GENDER  PLACEMENTGRANT\n",
       "0      F     1582.060245\n",
       "1      M     1600.370493"
      ]
     },
     "execution_count": 35,
     "metadata": {},
     "output_type": "execute_result"
    }
   ],
   "source": [
    "gender_grant_df=pd.pivot_table(gender_grant, values='PLACEMENTGRANT', index=['GENDER'],  aggfunc=np.average)\n",
    "gender_grant_df.reset_index()"
   ]
  },
  {
   "cell_type": "code",
   "execution_count": 36,
   "id": "012f29b8",
   "metadata": {},
   "outputs": [],
   "source": [
    "gender_grant_df.rename(columns={\"GENDER\": \"Gender\", \"PLACEMENTGRANT\": \"Amount of placement grant\"},inplace=True)"
   ]
  },
  {
   "cell_type": "code",
   "execution_count": 37,
   "id": "dc186464",
   "metadata": {},
   "outputs": [
    {
     "data": {
      "image/png": "[encoded data removed]",
      "text/plain": [
       "<Figure size 360x360 with 1 Axes>"
      ]
     },
     "metadata": {},
     "output_type": "display_data"
    }
   ],
   "source": [
    "plot = gender_grant_df.plot.pie(y='Amount of placement grant', autopct = \"%.2f\", figsize=(5, 5)).legend([\"Female\",\"Male\"])"
   ]
  },
  {
   "cell_type": "markdown",
   "id": "95c1f271",
   "metadata": {},
   "source": [
    "Conclusion: Although female students accounted for the greater percentage of participants, they received a bit lower placement grant compared with that of the couterpart."
   ]
  },
  {
   "cell_type": "markdown",
   "id": "74b75caf",
   "metadata": {},
   "source": [
    "### 3.2 Analysing the connection between Nationality and Placement grant\n",
    "\n",
    "#### Db: Nationality\n",
    "- Nationality of student\n",
    "- String of 2 characters in the set “ISO Country Codes” "
   ]
  },
  {
   "cell_type": "code",
   "execution_count": 38,
   "id": "ffe0a21f",
   "metadata": {
    "scrolled": true
   },
   "outputs": [
    {
     "data": {
      "text/plain": [
       "FR    5793\n",
       "DE    5396\n",
       "ES    4456\n",
       "UK    3664\n",
       "PL    2541\n",
       "IT    2267\n",
       "NL    2165\n",
       "TR    1130\n",
       "BE    1101\n",
       "RO    1080\n",
       "FI    1030\n",
       "XX     881\n",
       "PT     871\n",
       "HU     849\n",
       "LT     818\n",
       "CZ     805\n",
       "AT     799\n",
       "IE     584\n",
       "LV     550\n",
       "GR     549\n",
       "SK     475\n",
       "BG     461\n",
       "DK     434\n",
       "SE     283\n",
       "SI     267\n",
       "EE     207\n",
       "NO     129\n",
       "CY      55\n",
       "IS      29\n",
       "LU      18\n",
       "LI       5\n",
       "Name: NATIONALITY, dtype: int64"
      ]
     },
     "execution_count": 38,
     "metadata": {},
     "output_type": "execute_result"
    }
   ],
   "source": [
    "new_data.NATIONALITY.value_counts()"
   ]
  },
  {
   "cell_type": "code",
   "execution_count": 39,
   "id": "2148318d",
   "metadata": {},
   "outputs": [
    {
     "data": {
      "text/html": [
       "<div>\n",
       "<style scoped>\n",
       "    .dataframe tbody tr th:only-of-type {\n",
       "        vertical-align: middle;\n",
       "    }\n",
       "\n",
       "    .dataframe tbody tr th {\n",
       "        vertical-align: top;\n",
       "    }\n",
       "\n",
       "    .dataframe thead th {\n",
       "        text-align: right;\n",
       "    }\n",
       "</style>\n",
       "<table border=\"1\" class=\"dataframe\">\n",
       "  <thead>\n",
       "    <tr style=\"text-align: right;\">\n",
       "      <th></th>\n",
       "      <th>NATIONALITY</th>\n",
       "      <th>PLACEMENTGRANT</th>\n",
       "    </tr>\n",
       "  </thead>\n",
       "  <tbody>\n",
       "    <tr>\n",
       "      <th>0</th>\n",
       "      <td>HU</td>\n",
       "      <td>900.00</td>\n",
       "    </tr>\n",
       "    <tr>\n",
       "      <th>1</th>\n",
       "      <td>HU</td>\n",
       "      <td>3600.00</td>\n",
       "    </tr>\n",
       "    <tr>\n",
       "      <th>2</th>\n",
       "      <td>HU</td>\n",
       "      <td>1500.00</td>\n",
       "    </tr>\n",
       "    <tr>\n",
       "      <th>3</th>\n",
       "      <td>SK</td>\n",
       "      <td>900.00</td>\n",
       "    </tr>\n",
       "    <tr>\n",
       "      <th>4</th>\n",
       "      <td>HU</td>\n",
       "      <td>1800.00</td>\n",
       "    </tr>\n",
       "    <tr>\n",
       "      <th>...</th>\n",
       "      <td>...</td>\n",
       "      <td>...</td>\n",
       "    </tr>\n",
       "    <tr>\n",
       "      <th>231401</th>\n",
       "      <td>LT</td>\n",
       "      <td>0.00</td>\n",
       "    </tr>\n",
       "    <tr>\n",
       "      <th>231403</th>\n",
       "      <td>LT</td>\n",
       "      <td>0.00</td>\n",
       "    </tr>\n",
       "    <tr>\n",
       "      <th>231404</th>\n",
       "      <td>LT</td>\n",
       "      <td>0.00</td>\n",
       "    </tr>\n",
       "    <tr>\n",
       "      <th>231405</th>\n",
       "      <td>LT</td>\n",
       "      <td>1101.48</td>\n",
       "    </tr>\n",
       "    <tr>\n",
       "      <th>231406</th>\n",
       "      <td>LT</td>\n",
       "      <td>2100.00</td>\n",
       "    </tr>\n",
       "  </tbody>\n",
       "</table>\n",
       "<p>39692 rows × 2 columns</p>\n",
       "</div>"
      ],
      "text/plain": [
       "       NATIONALITY  PLACEMENTGRANT\n",
       "0               HU          900.00\n",
       "1               HU         3600.00\n",
       "2               HU         1500.00\n",
       "3               SK          900.00\n",
       "4               HU         1800.00\n",
       "...            ...             ...\n",
       "231401          LT            0.00\n",
       "231403          LT            0.00\n",
       "231404          LT            0.00\n",
       "231405          LT         1101.48\n",
       "231406          LT         2100.00\n",
       "\n",
       "[39692 rows x 2 columns]"
      ]
     },
     "execution_count": 39,
     "metadata": {},
     "output_type": "execute_result"
    }
   ],
   "source": [
    "nationality_grant=new_data[[\"NATIONALITY\",\"PLACEMENTGRANT\"]]\n",
    "nationality_grant"
   ]
  },
  {
   "cell_type": "code",
   "execution_count": 40,
   "id": "c698f721",
   "metadata": {},
   "outputs": [
    {
     "data": {
      "text/html": [
       "<div>\n",
       "<style scoped>\n",
       "    .dataframe tbody tr th:only-of-type {\n",
       "        vertical-align: middle;\n",
       "    }\n",
       "\n",
       "    .dataframe tbody tr th {\n",
       "        vertical-align: top;\n",
       "    }\n",
       "\n",
       "    .dataframe thead th {\n",
       "        text-align: right;\n",
       "    }\n",
       "</style>\n",
       "<table border=\"1\" class=\"dataframe\">\n",
       "  <thead>\n",
       "    <tr style=\"text-align: right;\">\n",
       "      <th></th>\n",
       "      <th>PLACEMENTGRANT</th>\n",
       "    </tr>\n",
       "    <tr>\n",
       "      <th>NATIONALITY</th>\n",
       "      <th></th>\n",
       "    </tr>\n",
       "  </thead>\n",
       "  <tbody>\n",
       "    <tr>\n",
       "      <th>CY</th>\n",
       "      <td>2709.344909</td>\n",
       "    </tr>\n",
       "    <tr>\n",
       "      <th>UK</th>\n",
       "      <td>2699.632522</td>\n",
       "    </tr>\n",
       "    <tr>\n",
       "      <th>GR</th>\n",
       "      <td>2586.552732</td>\n",
       "    </tr>\n",
       "    <tr>\n",
       "      <th>IE</th>\n",
       "      <td>2183.634949</td>\n",
       "    </tr>\n",
       "    <tr>\n",
       "      <th>IS</th>\n",
       "      <td>1976.034483</td>\n",
       "    </tr>\n",
       "    <tr>\n",
       "      <th>RO</th>\n",
       "      <td>1972.615315</td>\n",
       "    </tr>\n",
       "    <tr>\n",
       "      <th>TR</th>\n",
       "      <td>1960.536274</td>\n",
       "    </tr>\n",
       "    <tr>\n",
       "      <th>BG</th>\n",
       "      <td>1941.630477</td>\n",
       "    </tr>\n",
       "    <tr>\n",
       "      <th>SE</th>\n",
       "      <td>1900.758304</td>\n",
       "    </tr>\n",
       "    <tr>\n",
       "      <th>IT</th>\n",
       "      <td>1892.834760</td>\n",
       "    </tr>\n",
       "  </tbody>\n",
       "</table>\n",
       "</div>"
      ],
      "text/plain": [
       "             PLACEMENTGRANT\n",
       "NATIONALITY                \n",
       "CY              2709.344909\n",
       "UK              2699.632522\n",
       "GR              2586.552732\n",
       "IE              2183.634949\n",
       "IS              1976.034483\n",
       "RO              1972.615315\n",
       "TR              1960.536274\n",
       "BG              1941.630477\n",
       "SE              1900.758304\n",
       "IT              1892.834760"
      ]
     },
     "execution_count": 40,
     "metadata": {},
     "output_type": "execute_result"
    }
   ],
   "source": [
    "av_place = pd.pivot_table(nationality_grant, values='PLACEMENTGRANT', index=['NATIONALITY'],  \n",
    "               aggfunc=np.average).sort_values(by=\"PLACEMENTGRANT\",ascending=False)[:10]\n",
    "av_place"
   ]
  },
  {
   "cell_type": "code",
   "execution_count": 41,
   "id": "e9292beb",
   "metadata": {},
   "outputs": [
    {
     "data": {
      "text/plain": [
       "<AxesSubplot:title={'center':'Average placement grant - Top 10 countries'}, xlabel='Nationality', ylabel='Euros'>"
      ]
     },
     "execution_count": 41,
     "metadata": {},
     "output_type": "execute_result"
    },
    {
     "data": {
      "image/png": "[encoded data removed]",
      "text/plain": [
       "<Figure size 432x288 with 1 Axes>"
      ]
     },
     "metadata": {
      "needs_background": "light"
     },
     "output_type": "display_data"
    }
   ],
   "source": [
    "av_place.plot.bar(xlabel='Nationality', ylabel = 'Euros', rot = 0, title = 'Average placement grant - Top 10 countries', legend = False)"
   ]
  },
  {
   "cell_type": "markdown",
   "id": "9a4277c7",
   "metadata": {},
   "source": [
    "Conclusion: A glance from the table of top 10 placement grants shows that there is a difference between grants of diffirent nationalities. People from Cyprus the biggest grant of 2709 on average while the minimum grant belongs to Italians. The difference in grant between those two nationalities is 1.5 times"
   ]
  },
  {
   "cell_type": "markdown",
   "id": "8467eb88",
   "metadata": {},
   "source": [
    "### 3.3 Analysing the connection between Subject area and Placement grant\n",
    " "
   ]
  },
  {
   "cell_type": "code",
   "execution_count": 42,
   "id": "fae01465",
   "metadata": {},
   "outputs": [
    {
     "data": {
      "text/plain": [
       "array([521, 522, 581, 582, 481, 524,  34, 223, 344, 525,  99, 342, 541,\n",
       "       313, 629, 622, 314,  38, 443, 345,  21, 225, 312, 144, 311, 489,\n",
       "        52, 529, 721, 813, 727, 724, 214, 340, 212,  72, 421, 723,  32,\n",
       "        62,  14, 213, 720, 319,  58, 221, 762, 211,  22, 589, 640, 621,\n",
       "       543, 840, 349, 222,  46, 620, 623,  31, 726, 729, 725,  54, 523,\n",
       "       149, 142, 441, 442, 429, 812, 322, 219, 140, 145,  48,  76, 346,\n",
       "       461, 440, 310,   6, 769, 811, 329,   5, 229, 321, 850, 520, 422,\n",
       "       343,  84, 624, 449, 226, 462, 347, 380, 220,   3,   4, 143, 851,\n",
       "         2, 761, 540,   0, 341, 210, 815,   7,  64,   1, 862, 852, 859,\n",
       "        44, 549, 542, 146,  85, 482,   8,  42, 215, 860, 141, 819, 861,\n",
       "       469, 814,  10,  81, 853, 544, 869,   9,  90])"
      ]
     },
     "execution_count": 42,
     "metadata": {},
     "output_type": "execute_result"
    }
   ],
   "source": [
    "new_data.SUBJECTAREA.unique()"
   ]
  },
  {
   "cell_type": "code",
   "execution_count": 43,
   "id": "218da223",
   "metadata": {},
   "outputs": [],
   "source": [
    "subject_area=pd.DataFrame(new_data.SUBJECTAREA.value_counts())\n"
   ]
  },
  {
   "cell_type": "markdown",
   "id": "be2ab1ff",
   "metadata": {
    "scrolled": true
   },
   "source": [
    "##### Top 10 subject area\n"
   ]
  },
  {
   "cell_type": "code",
   "execution_count": 44,
   "id": "8efde59e",
   "metadata": {},
   "outputs": [
    {
     "data": {
      "text/html": [
       "<div>\n",
       "<style scoped>\n",
       "    .dataframe tbody tr th:only-of-type {\n",
       "        vertical-align: middle;\n",
       "    }\n",
       "\n",
       "    .dataframe tbody tr th {\n",
       "        vertical-align: top;\n",
       "    }\n",
       "\n",
       "    .dataframe thead th {\n",
       "        text-align: right;\n",
       "    }\n",
       "</style>\n",
       "<table border=\"1\" class=\"dataframe\">\n",
       "  <thead>\n",
       "    <tr style=\"text-align: right;\">\n",
       "      <th></th>\n",
       "      <th>SUBJECTAREA</th>\n",
       "    </tr>\n",
       "  </thead>\n",
       "  <tbody>\n",
       "    <tr>\n",
       "      <th>64</th>\n",
       "      <td>5355</td>\n",
       "    </tr>\n",
       "    <tr>\n",
       "      <th>222</th>\n",
       "      <td>3851</td>\n",
       "    </tr>\n",
       "    <tr>\n",
       "      <th>340</th>\n",
       "      <td>1904</td>\n",
       "    </tr>\n",
       "    <tr>\n",
       "      <th>34</th>\n",
       "      <td>1773</td>\n",
       "    </tr>\n",
       "    <tr>\n",
       "      <th>345</th>\n",
       "      <td>1254</td>\n",
       "    </tr>\n",
       "    <tr>\n",
       "      <th>314</th>\n",
       "      <td>1216</td>\n",
       "    </tr>\n",
       "    <tr>\n",
       "      <th>421</th>\n",
       "      <td>1040</td>\n",
       "    </tr>\n",
       "    <tr>\n",
       "      <th>721</th>\n",
       "      <td>941</td>\n",
       "    </tr>\n",
       "    <tr>\n",
       "      <th>214</th>\n",
       "      <td>863</td>\n",
       "    </tr>\n",
       "    <tr>\n",
       "      <th>52</th>\n",
       "      <td>857</td>\n",
       "    </tr>\n",
       "  </tbody>\n",
       "</table>\n",
       "</div>"
      ],
      "text/plain": [
       "     SUBJECTAREA\n",
       "64          5355\n",
       "222         3851\n",
       "340         1904\n",
       "34          1773\n",
       "345         1254\n",
       "314         1216\n",
       "421         1040\n",
       "721          941\n",
       "214          863\n",
       "52           857"
      ]
     },
     "execution_count": 44,
     "metadata": {},
     "output_type": "execute_result"
    }
   ],
   "source": [
    "top_10=subject_area[:10]\n",
    "top_10"
   ]
  },
  {
   "cell_type": "code",
   "execution_count": 45,
   "id": "d189a602",
   "metadata": {},
   "outputs": [],
   "source": [
    "s = top_10.index.to_series()"
   ]
  },
  {
   "cell_type": "code",
   "execution_count": 46,
   "id": "3b846b3a",
   "metadata": {},
   "outputs": [],
   "source": [
    "dict_={64:\"Veterinary\",222:\"Foreign languages\",340:\"Business and administration (broad)\",\n",
    "                34:\"Business and administration\",345:\"Management and administration\",\n",
    "                314:\"Economics\",421:\"Biology and biochemistry\",721:\"Medicine\",\n",
    "                214:\"Design\",52:\"Engineering and engineering trades\"}\n"
   ]
  },
  {
   "cell_type": "code",
   "execution_count": 55,
   "id": "d73512ae",
   "metadata": {},
   "outputs": [
    {
     "data": {
      "text/plain": [
       "<AxesSubplot:title={'center':'Number of students'}, ylabel='Subjects'>"
      ]
     },
     "execution_count": 55,
     "metadata": {},
     "output_type": "execute_result"
    },
    {
     "data": {
      "image/png": "[encoded data removed]",
      "text/plain": [
       "<Figure size 432x288 with 1 Axes>"
      ]
     },
     "metadata": {
      "needs_background": "light"
     },
     "output_type": "display_data"
    }
   ],
   "source": [
    "top_10.index = np.array(s.map(dict_).fillna(s),ndmin =1)\n",
    "top_10\n",
    "top_10.plot.barh(xlabel='Subjects', rot = 0, title = 'Number of students', legend = False)"
   ]
  },
  {
   "cell_type": "code",
   "execution_count": 56,
   "id": "6e372d71",
   "metadata": {},
   "outputs": [],
   "source": [
    "import numpy as np\n",
    "top_10.index = np.array(s.map(dict_).fillna(s),ndmin =1)\n",
    "top_10.reset_index(inplace=True)\n"
   ]
  },
  {
   "cell_type": "code",
   "execution_count": 57,
   "id": "7cfa4774",
   "metadata": {
    "scrolled": true
   },
   "outputs": [
    {
     "data": {
      "text/html": [
       "<div>\n",
       "<style scoped>\n",
       "    .dataframe tbody tr th:only-of-type {\n",
       "        vertical-align: middle;\n",
       "    }\n",
       "\n",
       "    .dataframe tbody tr th {\n",
       "        vertical-align: top;\n",
       "    }\n",
       "\n",
       "    .dataframe thead th {\n",
       "        text-align: right;\n",
       "    }\n",
       "</style>\n",
       "<table border=\"1\" class=\"dataframe\">\n",
       "  <thead>\n",
       "    <tr style=\"text-align: right;\">\n",
       "      <th></th>\n",
       "      <th>index</th>\n",
       "      <th>Subject area</th>\n",
       "      <th>Number of student</th>\n",
       "    </tr>\n",
       "  </thead>\n",
       "  <tbody>\n",
       "    <tr>\n",
       "      <th>0</th>\n",
       "      <td>Veterinary</td>\n",
       "      <td>Veterinary</td>\n",
       "      <td>5355</td>\n",
       "    </tr>\n",
       "    <tr>\n",
       "      <th>1</th>\n",
       "      <td>Foreign languages</td>\n",
       "      <td>Foreign languages</td>\n",
       "      <td>3851</td>\n",
       "    </tr>\n",
       "    <tr>\n",
       "      <th>2</th>\n",
       "      <td>Business and administration (broad)</td>\n",
       "      <td>Business and administration (broad)</td>\n",
       "      <td>1904</td>\n",
       "    </tr>\n",
       "    <tr>\n",
       "      <th>3</th>\n",
       "      <td>Business and administration</td>\n",
       "      <td>Business and administration</td>\n",
       "      <td>1773</td>\n",
       "    </tr>\n",
       "    <tr>\n",
       "      <th>4</th>\n",
       "      <td>Management and administration</td>\n",
       "      <td>Management and administration</td>\n",
       "      <td>1254</td>\n",
       "    </tr>\n",
       "    <tr>\n",
       "      <th>5</th>\n",
       "      <td>Economics</td>\n",
       "      <td>Economics</td>\n",
       "      <td>1216</td>\n",
       "    </tr>\n",
       "    <tr>\n",
       "      <th>6</th>\n",
       "      <td>Biology and biochemistry</td>\n",
       "      <td>Biology and biochemistry</td>\n",
       "      <td>1040</td>\n",
       "    </tr>\n",
       "    <tr>\n",
       "      <th>7</th>\n",
       "      <td>Medicine</td>\n",
       "      <td>Medicine</td>\n",
       "      <td>941</td>\n",
       "    </tr>\n",
       "    <tr>\n",
       "      <th>8</th>\n",
       "      <td>Design</td>\n",
       "      <td>Design</td>\n",
       "      <td>863</td>\n",
       "    </tr>\n",
       "    <tr>\n",
       "      <th>9</th>\n",
       "      <td>Engineering and engineering trades</td>\n",
       "      <td>Engineering and engineering trades</td>\n",
       "      <td>857</td>\n",
       "    </tr>\n",
       "  </tbody>\n",
       "</table>\n",
       "</div>"
      ],
      "text/plain": [
       "                                 index                         Subject area  \\\n",
       "0                           Veterinary                           Veterinary   \n",
       "1                    Foreign languages                    Foreign languages   \n",
       "2  Business and administration (broad)  Business and administration (broad)   \n",
       "3          Business and administration          Business and administration   \n",
       "4        Management and administration        Management and administration   \n",
       "5                            Economics                            Economics   \n",
       "6             Biology and biochemistry             Biology and biochemistry   \n",
       "7                             Medicine                             Medicine   \n",
       "8                               Design                               Design   \n",
       "9   Engineering and engineering trades   Engineering and engineering trades   \n",
       "\n",
       "   Number of student  \n",
       "0               5355  \n",
       "1               3851  \n",
       "2               1904  \n",
       "3               1773  \n",
       "4               1254  \n",
       "5               1216  \n",
       "6               1040  \n",
       "7                941  \n",
       "8                863  \n",
       "9                857  "
      ]
     },
     "execution_count": 57,
     "metadata": {},
     "output_type": "execute_result"
    }
   ],
   "source": [
    "top_10"
   ]
  },
  {
   "cell_type": "code",
   "execution_count": 58,
   "id": "fd2de475",
   "metadata": {},
   "outputs": [
    {
     "name": "stderr",
     "output_type": "stream",
     "text": [
      "/home/sluftsluft/miniconda3/lib/python3.9/site-packages/pandas/core/frame.py:5039: SettingWithCopyWarning: \n",
      "A value is trying to be set on a copy of a slice from a DataFrame\n",
      "\n",
      "See the caveats in the documentation: https://pandas.pydata.org/pandas-docs/stable/user_guide/indexing.html#returning-a-view-versus-a-copy\n",
      "  return super().rename(\n"
     ]
    }
   ],
   "source": [
    "top_10.rename(columns={\"index\": \"Subject area\", \"SUBJECTAREA\": \"Number of student\"},inplace=True)"
   ]
  },
  {
   "cell_type": "code",
   "execution_count": 59,
   "id": "fd428934",
   "metadata": {},
   "outputs": [
    {
     "data": {
      "text/html": [
       "<div>\n",
       "<style scoped>\n",
       "    .dataframe tbody tr th:only-of-type {\n",
       "        vertical-align: middle;\n",
       "    }\n",
       "\n",
       "    .dataframe tbody tr th {\n",
       "        vertical-align: top;\n",
       "    }\n",
       "\n",
       "    .dataframe thead th {\n",
       "        text-align: right;\n",
       "    }\n",
       "</style>\n",
       "<table border=\"1\" class=\"dataframe\">\n",
       "  <thead>\n",
       "    <tr style=\"text-align: right;\">\n",
       "      <th></th>\n",
       "      <th>Subject area</th>\n",
       "      <th>Subject area</th>\n",
       "      <th>Number of student</th>\n",
       "    </tr>\n",
       "  </thead>\n",
       "  <tbody>\n",
       "    <tr>\n",
       "      <th>0</th>\n",
       "      <td>Veterinary</td>\n",
       "      <td>Veterinary</td>\n",
       "      <td>5355</td>\n",
       "    </tr>\n",
       "    <tr>\n",
       "      <th>1</th>\n",
       "      <td>Foreign languages</td>\n",
       "      <td>Foreign languages</td>\n",
       "      <td>3851</td>\n",
       "    </tr>\n",
       "    <tr>\n",
       "      <th>2</th>\n",
       "      <td>Business and administration (broad)</td>\n",
       "      <td>Business and administration (broad)</td>\n",
       "      <td>1904</td>\n",
       "    </tr>\n",
       "    <tr>\n",
       "      <th>3</th>\n",
       "      <td>Business and administration</td>\n",
       "      <td>Business and administration</td>\n",
       "      <td>1773</td>\n",
       "    </tr>\n",
       "    <tr>\n",
       "      <th>4</th>\n",
       "      <td>Management and administration</td>\n",
       "      <td>Management and administration</td>\n",
       "      <td>1254</td>\n",
       "    </tr>\n",
       "    <tr>\n",
       "      <th>5</th>\n",
       "      <td>Economics</td>\n",
       "      <td>Economics</td>\n",
       "      <td>1216</td>\n",
       "    </tr>\n",
       "    <tr>\n",
       "      <th>6</th>\n",
       "      <td>Biology and biochemistry</td>\n",
       "      <td>Biology and biochemistry</td>\n",
       "      <td>1040</td>\n",
       "    </tr>\n",
       "    <tr>\n",
       "      <th>7</th>\n",
       "      <td>Medicine</td>\n",
       "      <td>Medicine</td>\n",
       "      <td>941</td>\n",
       "    </tr>\n",
       "    <tr>\n",
       "      <th>8</th>\n",
       "      <td>Design</td>\n",
       "      <td>Design</td>\n",
       "      <td>863</td>\n",
       "    </tr>\n",
       "    <tr>\n",
       "      <th>9</th>\n",
       "      <td>Engineering and engineering trades</td>\n",
       "      <td>Engineering and engineering trades</td>\n",
       "      <td>857</td>\n",
       "    </tr>\n",
       "  </tbody>\n",
       "</table>\n",
       "</div>"
      ],
      "text/plain": [
       "                          Subject area                         Subject area  \\\n",
       "0                           Veterinary                           Veterinary   \n",
       "1                    Foreign languages                    Foreign languages   \n",
       "2  Business and administration (broad)  Business and administration (broad)   \n",
       "3          Business and administration          Business and administration   \n",
       "4        Management and administration        Management and administration   \n",
       "5                            Economics                            Economics   \n",
       "6             Biology and biochemistry             Biology and biochemistry   \n",
       "7                             Medicine                             Medicine   \n",
       "8                               Design                               Design   \n",
       "9   Engineering and engineering trades   Engineering and engineering trades   \n",
       "\n",
       "   Number of student  \n",
       "0               5355  \n",
       "1               3851  \n",
       "2               1904  \n",
       "3               1773  \n",
       "4               1254  \n",
       "5               1216  \n",
       "6               1040  \n",
       "7                941  \n",
       "8                863  \n",
       "9                857  "
      ]
     },
     "execution_count": 59,
     "metadata": {},
     "output_type": "execute_result"
    }
   ],
   "source": [
    "import seaborn as sns\n",
    "top_10\n"
   ]
  },
  {
   "cell_type": "code",
   "execution_count": 52,
   "id": "7a9a4313",
   "metadata": {},
   "outputs": [
    {
     "data": {
      "text/plain": [
       "<AxesSubplot:xlabel='Number of student', ylabel='Subject area'>"
      ]
     },
     "execution_count": 52,
     "metadata": {},
     "output_type": "execute_result"
    },
    {
     "data": {
      "image/png": "[encoded data removed]",
      "text/plain": [
       "<Figure size 432x288 with 1 Axes>"
      ]
     },
     "metadata": {
      "needs_background": "light"
     },
     "output_type": "display_data"
    }
   ],
   "source": [
    "sns.barplot(y=top_10['Subject area'],x=top_10['Number of student'])\n",
    "#sns.boxplot(y=subset.index,x=subset.values)"
   ]
  },
  {
   "cell_type": "markdown",
   "id": "23421ec2",
   "metadata": {},
   "source": [
    "Conclusion: A large percentage of students joined the program with veterinary background, followed by those from foreign languges and business. Those with social and business backgrounds are more engaging in Eramus exchange than those from science and technology background."
   ]
  },
  {
   "cell_type": "markdown",
   "id": "5a163a5a",
   "metadata": {},
   "source": [
    "### 3.4 Analysing the connection between Enterprise size and Placement grant\n",
    " "
   ]
  },
  {
   "cell_type": "markdown",
   "id": "bf29f6df",
   "metadata": {},
   "source": [
    "#### Enterprise size\n",
    "\n",
    "- 'M':'Medium (51-250 staff)'\n",
    "- 'S':'Small (<=50 staff)'\n",
    "- 'L':'Large  (>250 staff)"
   ]
  },
  {
   "cell_type": "code",
   "execution_count": 60,
   "id": "ff5d9038",
   "metadata": {},
   "outputs": [
    {
     "data": {
      "text/plain": [
       "0         M\n",
       "1         M\n",
       "2         S\n",
       "3         L\n",
       "4         M\n",
       "         ..\n",
       "231401    L\n",
       "231403    L\n",
       "231404    L\n",
       "231405    M\n",
       "231406    M\n",
       "Name: ENTERPRISESIZE, Length: 39692, dtype: object"
      ]
     },
     "execution_count": 60,
     "metadata": {},
     "output_type": "execute_result"
    }
   ],
   "source": [
    "new_data.ENTERPRISESIZE"
   ]
  },
  {
   "cell_type": "code",
   "execution_count": 61,
   "id": "d0ea9770",
   "metadata": {},
   "outputs": [
    {
     "data": {
      "text/plain": [
       "array(['M', 'S', 'L'], dtype=object)"
      ]
     },
     "execution_count": 61,
     "metadata": {},
     "output_type": "execute_result"
    }
   ],
   "source": [
    "new_data.ENTERPRISESIZE.unique()"
   ]
  },
  {
   "cell_type": "code",
   "execution_count": 62,
   "id": "f581e1fd",
   "metadata": {},
   "outputs": [
    {
     "name": "stderr",
     "output_type": "stream",
     "text": [
      "/tmp/ipykernel_5379/3477721016.py:1: SettingWithCopyWarning: \n",
      "A value is trying to be set on a copy of a slice from a DataFrame.\n",
      "Try using .loc[row_indexer,col_indexer] = value instead\n",
      "\n",
      "See the caveats in the documentation: https://pandas.pydata.org/pandas-docs/stable/user_guide/indexing.html#returning-a-view-versus-a-copy\n",
      "  new_data['enterprise_size']=new_data.ENTERPRISESIZE.replace({'M':'Medium', 'S':'Small', 'L':'Large'})\n"
     ]
    }
   ],
   "source": [
    "new_data['enterprise_size']=new_data.ENTERPRISESIZE.replace({'M':'Medium', 'S':'Small', 'L':'Large'})"
   ]
  },
  {
   "cell_type": "code",
   "execution_count": 66,
   "id": "1a97f4a9",
   "metadata": {},
   "outputs": [],
   "source": [
    "#data1.drop(columns=[\"ENTERPRISESIZE\"],inplace=True)\n",
    "\n",
    "ent_size = new_data.enterprise_size.value_counts()"
   ]
  },
  {
   "cell_type": "code",
   "execution_count": 67,
   "id": "2ca423fc",
   "metadata": {},
   "outputs": [
    {
     "data": {
      "text/plain": [
       "Small     41.877456\n",
       "Medium    33.394639\n",
       "Large     24.727905\n",
       "Name: enterprise_size, dtype: float64"
      ]
     },
     "execution_count": 67,
     "metadata": {},
     "output_type": "execute_result"
    }
   ],
   "source": [
    "perc_1 = (ent_size/ent_size.sum())*100\n",
    "perc_1"
   ]
  },
  {
   "cell_type": "code",
   "execution_count": 68,
   "id": "35e724d9",
   "metadata": {},
   "outputs": [
    {
     "data": {
      "text/plain": [
       "<AxesSubplot:title={'center':'Company size'}, ylabel=' '>"
      ]
     },
     "execution_count": 68,
     "metadata": {},
     "output_type": "execute_result"
    },
    {
     "data": {
      "image/png": "[encoded data removed]",
      "text/plain": [
       "<Figure size 504x504 with 1 Axes>"
      ]
     },
     "metadata": {},
     "output_type": "display_data"
    }
   ],
   "source": [
    "perc_1.plot.pie(figsize = (7,7), ylabel = \" \", title = \"Company size\", autopct = \"%.2f\")"
   ]
  },
  {
   "cell_type": "code",
   "execution_count": 69,
   "id": "5af65188",
   "metadata": {
    "scrolled": true
   },
   "outputs": [
    {
     "data": {
      "text/html": [
       "<div>\n",
       "<style scoped>\n",
       "    .dataframe tbody tr th:only-of-type {\n",
       "        vertical-align: middle;\n",
       "    }\n",
       "\n",
       "    .dataframe tbody tr th {\n",
       "        vertical-align: top;\n",
       "    }\n",
       "\n",
       "    .dataframe thead th {\n",
       "        text-align: right;\n",
       "    }\n",
       "</style>\n",
       "<table border=\"1\" class=\"dataframe\">\n",
       "  <thead>\n",
       "    <tr style=\"text-align: right;\">\n",
       "      <th></th>\n",
       "      <th>PLACEMENTGRANT</th>\n",
       "    </tr>\n",
       "    <tr>\n",
       "      <th>enterprise_size</th>\n",
       "      <th></th>\n",
       "    </tr>\n",
       "  </thead>\n",
       "  <tbody>\n",
       "    <tr>\n",
       "      <th>Large</th>\n",
       "      <td>1712.560646</td>\n",
       "    </tr>\n",
       "    <tr>\n",
       "      <th>Medium</th>\n",
       "      <td>1637.480773</td>\n",
       "    </tr>\n",
       "    <tr>\n",
       "      <th>Small</th>\n",
       "      <td>1477.657225</td>\n",
       "    </tr>\n",
       "  </tbody>\n",
       "</table>\n",
       "</div>"
      ],
      "text/plain": [
       "                 PLACEMENTGRANT\n",
       "enterprise_size                \n",
       "Large               1712.560646\n",
       "Medium              1637.480773\n",
       "Small               1477.657225"
      ]
     },
     "execution_count": 69,
     "metadata": {},
     "output_type": "execute_result"
    }
   ],
   "source": [
    "new_data[['enterprise_size','PLACEMENTGRANT']].groupby('enterprise_size').mean()"
   ]
  },
  {
   "cell_type": "code",
   "execution_count": 70,
   "id": "34477563",
   "metadata": {},
   "outputs": [
    {
     "data": {
      "text/html": [
       "<div>\n",
       "<style scoped>\n",
       "    .dataframe tbody tr th:only-of-type {\n",
       "        vertical-align: middle;\n",
       "    }\n",
       "\n",
       "    .dataframe tbody tr th {\n",
       "        vertical-align: top;\n",
       "    }\n",
       "\n",
       "    .dataframe thead th {\n",
       "        text-align: right;\n",
       "    }\n",
       "</style>\n",
       "<table border=\"1\" class=\"dataframe\">\n",
       "  <thead>\n",
       "    <tr style=\"text-align: right;\">\n",
       "      <th></th>\n",
       "      <th>LENGTHPLACEMENT</th>\n",
       "    </tr>\n",
       "    <tr>\n",
       "      <th>enterprise_size</th>\n",
       "      <th></th>\n",
       "    </tr>\n",
       "  </thead>\n",
       "  <tbody>\n",
       "    <tr>\n",
       "      <th>Large</th>\n",
       "      <td>4.717753</td>\n",
       "    </tr>\n",
       "    <tr>\n",
       "      <th>Medium</th>\n",
       "      <td>4.525141</td>\n",
       "    </tr>\n",
       "    <tr>\n",
       "      <th>Small</th>\n",
       "      <td>3.990630</td>\n",
       "    </tr>\n",
       "  </tbody>\n",
       "</table>\n",
       "</div>"
      ],
      "text/plain": [
       "                 LENGTHPLACEMENT\n",
       "enterprise_size                 \n",
       "Large                   4.717753\n",
       "Medium                  4.525141\n",
       "Small                   3.990630"
      ]
     },
     "execution_count": 70,
     "metadata": {},
     "output_type": "execute_result"
    }
   ],
   "source": [
    "new_data[['enterprise_size','LENGTHPLACEMENT']].groupby('enterprise_size').mean()"
   ]
  },
  {
   "cell_type": "markdown",
   "id": "03c06414",
   "metadata": {},
   "source": [
    "Conclusion: The bigger the size of enterprise, the more money grant the students can receive"
   ]
  },
  {
   "cell_type": "markdown",
   "id": "0ed788f1",
   "metadata": {},
   "source": [
    "### 3.5 Analysing the connection between  Type of work sector and Placement grant"
   ]
  },
  {
   "cell_type": "code",
   "execution_count": 71,
   "id": "4e74546f",
   "metadata": {},
   "outputs": [
    {
     "data": {
      "text/plain": [
       "array(['P', 'M', 'F', 'C', 'S', 'N', 'H', 'J', 'O', 'A', 'K', 'G', 'I',\n",
       "       'R', 'Q', 'E', 'T', 'U', 'L', 'B', 'D'], dtype=object)"
      ]
     },
     "execution_count": 71,
     "metadata": {},
     "output_type": "execute_result"
    }
   ],
   "source": [
    "new_data.TYPEWORKSECTOR.unique()"
   ]
  },
  {
   "cell_type": "code",
   "execution_count": 72,
   "id": "19a284de",
   "metadata": {
    "scrolled": false
   },
   "outputs": [
    {
     "data": {
      "text/html": [
       "<div>\n",
       "<style scoped>\n",
       "    .dataframe tbody tr th:only-of-type {\n",
       "        vertical-align: middle;\n",
       "    }\n",
       "\n",
       "    .dataframe tbody tr th {\n",
       "        vertical-align: top;\n",
       "    }\n",
       "\n",
       "    .dataframe thead th {\n",
       "        text-align: right;\n",
       "    }\n",
       "</style>\n",
       "<table border=\"1\" class=\"dataframe\">\n",
       "  <thead>\n",
       "    <tr style=\"text-align: right;\">\n",
       "      <th></th>\n",
       "      <th>index</th>\n",
       "      <th>TYPEWORKSECTOR</th>\n",
       "    </tr>\n",
       "  </thead>\n",
       "  <tbody>\n",
       "    <tr>\n",
       "      <th>0</th>\n",
       "      <td>P</td>\n",
       "      <td>6840</td>\n",
       "    </tr>\n",
       "    <tr>\n",
       "      <th>1</th>\n",
       "      <td>M</td>\n",
       "      <td>5583</td>\n",
       "    </tr>\n",
       "    <tr>\n",
       "      <th>2</th>\n",
       "      <td>S</td>\n",
       "      <td>3744</td>\n",
       "    </tr>\n",
       "    <tr>\n",
       "      <th>3</th>\n",
       "      <td>Q</td>\n",
       "      <td>3536</td>\n",
       "    </tr>\n",
       "    <tr>\n",
       "      <th>4</th>\n",
       "      <td>I</td>\n",
       "      <td>3087</td>\n",
       "    </tr>\n",
       "    <tr>\n",
       "      <th>5</th>\n",
       "      <td>C</td>\n",
       "      <td>2947</td>\n",
       "    </tr>\n",
       "    <tr>\n",
       "      <th>6</th>\n",
       "      <td>R</td>\n",
       "      <td>2586</td>\n",
       "    </tr>\n",
       "    <tr>\n",
       "      <th>7</th>\n",
       "      <td>J</td>\n",
       "      <td>2528</td>\n",
       "    </tr>\n",
       "    <tr>\n",
       "      <th>8</th>\n",
       "      <td>N</td>\n",
       "      <td>1866</td>\n",
       "    </tr>\n",
       "    <tr>\n",
       "      <th>9</th>\n",
       "      <td>F</td>\n",
       "      <td>1270</td>\n",
       "    </tr>\n",
       "  </tbody>\n",
       "</table>\n",
       "</div>"
      ],
      "text/plain": [
       "  index  TYPEWORKSECTOR\n",
       "0     P            6840\n",
       "1     M            5583\n",
       "2     S            3744\n",
       "3     Q            3536\n",
       "4     I            3087\n",
       "5     C            2947\n",
       "6     R            2586\n",
       "7     J            2528\n",
       "8     N            1866\n",
       "9     F            1270"
      ]
     },
     "execution_count": 72,
     "metadata": {},
     "output_type": "execute_result"
    }
   ],
   "source": [
    "top_10_work_sector=pd.DataFrame(new_data.TYPEWORKSECTOR.value_counts()[:10])\n",
    "\n",
    "top_10_work_sector.reset_index()\n"
   ]
  },
  {
   "cell_type": "code",
   "execution_count": 169,
   "id": "806ba661",
   "metadata": {},
   "outputs": [],
   "source": [
    "dict1=({\"P\":\"Education\",\"M\":\"Technical activities \",\n",
    "                                             \"S\":\"Other services\",\"Q\":\"Human and social work\",\n",
    "                                             \"I\":\"Accommodation and food service\",\"C\":\"Manufacture of metal product\",\n",
    "                                             \"R\":\"Arts\",\"J\":\"Information and communication \",\n",
    "                                             \"N\":\"Administrative and support service\",\n",
    "                                             \"F\":\"Construction\"})"
   ]
  },
  {
   "cell_type": "markdown",
   "id": "3a420d52",
   "metadata": {},
   "source": [
    " #### Top 10 sectors that most students attended in their work placement"
   ]
  },
  {
   "cell_type": "code",
   "execution_count": 170,
   "id": "009c1250",
   "metadata": {},
   "outputs": [
    {
     "data": {
      "text/html": [
       "<div>\n",
       "<style scoped>\n",
       "    .dataframe tbody tr th:only-of-type {\n",
       "        vertical-align: middle;\n",
       "    }\n",
       "\n",
       "    .dataframe tbody tr th {\n",
       "        vertical-align: top;\n",
       "    }\n",
       "\n",
       "    .dataframe thead th {\n",
       "        text-align: right;\n",
       "    }\n",
       "</style>\n",
       "<table border=\"1\" class=\"dataframe\">\n",
       "  <thead>\n",
       "    <tr style=\"text-align: right;\">\n",
       "      <th></th>\n",
       "      <th>Work sector</th>\n",
       "      <th>Number of student</th>\n",
       "    </tr>\n",
       "  </thead>\n",
       "  <tbody>\n",
       "    <tr>\n",
       "      <th>0</th>\n",
       "      <td>P</td>\n",
       "      <td>6840</td>\n",
       "    </tr>\n",
       "    <tr>\n",
       "      <th>1</th>\n",
       "      <td>M</td>\n",
       "      <td>5583</td>\n",
       "    </tr>\n",
       "    <tr>\n",
       "      <th>2</th>\n",
       "      <td>S</td>\n",
       "      <td>3744</td>\n",
       "    </tr>\n",
       "    <tr>\n",
       "      <th>3</th>\n",
       "      <td>Q</td>\n",
       "      <td>3536</td>\n",
       "    </tr>\n",
       "    <tr>\n",
       "      <th>4</th>\n",
       "      <td>I</td>\n",
       "      <td>3087</td>\n",
       "    </tr>\n",
       "    <tr>\n",
       "      <th>5</th>\n",
       "      <td>C</td>\n",
       "      <td>2947</td>\n",
       "    </tr>\n",
       "    <tr>\n",
       "      <th>6</th>\n",
       "      <td>R</td>\n",
       "      <td>2586</td>\n",
       "    </tr>\n",
       "    <tr>\n",
       "      <th>7</th>\n",
       "      <td>J</td>\n",
       "      <td>2528</td>\n",
       "    </tr>\n",
       "    <tr>\n",
       "      <th>8</th>\n",
       "      <td>N</td>\n",
       "      <td>1866</td>\n",
       "    </tr>\n",
       "    <tr>\n",
       "      <th>9</th>\n",
       "      <td>F</td>\n",
       "      <td>1270</td>\n",
       "    </tr>\n",
       "  </tbody>\n",
       "</table>\n",
       "</div>"
      ],
      "text/plain": [
       "  Work sector  Number of student\n",
       "0           P               6840\n",
       "1           M               5583\n",
       "2           S               3744\n",
       "3           Q               3536\n",
       "4           I               3087\n",
       "5           C               2947\n",
       "6           R               2586\n",
       "7           J               2528\n",
       "8           N               1866\n",
       "9           F               1270"
      ]
     },
     "execution_count": 170,
     "metadata": {},
     "output_type": "execute_result"
    }
   ],
   "source": [
    "top_10_work_sector"
   ]
  },
  {
   "cell_type": "code",
   "execution_count": 76,
   "id": "b97258d7",
   "metadata": {},
   "outputs": [
    {
     "data": {
      "text/html": [
       "<div>\n",
       "<style scoped>\n",
       "    .dataframe tbody tr th:only-of-type {\n",
       "        vertical-align: middle;\n",
       "    }\n",
       "\n",
       "    .dataframe tbody tr th {\n",
       "        vertical-align: top;\n",
       "    }\n",
       "\n",
       "    .dataframe thead th {\n",
       "        text-align: right;\n",
       "    }\n",
       "</style>\n",
       "<table border=\"1\" class=\"dataframe\">\n",
       "  <thead>\n",
       "    <tr style=\"text-align: right;\">\n",
       "      <th></th>\n",
       "      <th>index</th>\n",
       "      <th>TYPEWORKSECTOR</th>\n",
       "    </tr>\n",
       "  </thead>\n",
       "  <tbody>\n",
       "    <tr>\n",
       "      <th>0</th>\n",
       "      <td>P</td>\n",
       "      <td>6840</td>\n",
       "    </tr>\n",
       "    <tr>\n",
       "      <th>1</th>\n",
       "      <td>M</td>\n",
       "      <td>5583</td>\n",
       "    </tr>\n",
       "    <tr>\n",
       "      <th>2</th>\n",
       "      <td>S</td>\n",
       "      <td>3744</td>\n",
       "    </tr>\n",
       "    <tr>\n",
       "      <th>3</th>\n",
       "      <td>Q</td>\n",
       "      <td>3536</td>\n",
       "    </tr>\n",
       "    <tr>\n",
       "      <th>4</th>\n",
       "      <td>I</td>\n",
       "      <td>3087</td>\n",
       "    </tr>\n",
       "    <tr>\n",
       "      <th>5</th>\n",
       "      <td>C</td>\n",
       "      <td>2947</td>\n",
       "    </tr>\n",
       "    <tr>\n",
       "      <th>6</th>\n",
       "      <td>R</td>\n",
       "      <td>2586</td>\n",
       "    </tr>\n",
       "    <tr>\n",
       "      <th>7</th>\n",
       "      <td>J</td>\n",
       "      <td>2528</td>\n",
       "    </tr>\n",
       "    <tr>\n",
       "      <th>8</th>\n",
       "      <td>N</td>\n",
       "      <td>1866</td>\n",
       "    </tr>\n",
       "    <tr>\n",
       "      <th>9</th>\n",
       "      <td>F</td>\n",
       "      <td>1270</td>\n",
       "    </tr>\n",
       "  </tbody>\n",
       "</table>\n",
       "</div>"
      ],
      "text/plain": [
       "  index  TYPEWORKSECTOR\n",
       "0     P            6840\n",
       "1     M            5583\n",
       "2     S            3744\n",
       "3     Q            3536\n",
       "4     I            3087\n",
       "5     C            2947\n",
       "6     R            2586\n",
       "7     J            2528\n",
       "8     N            1866\n",
       "9     F            1270"
      ]
     },
     "execution_count": 76,
     "metadata": {},
     "output_type": "execute_result"
    }
   ],
   "source": [
    "top_10_work_sector=top_10_work_sector.reset_index()\n",
    "top_10_work_sector"
   ]
  },
  {
   "cell_type": "code",
   "execution_count": 77,
   "id": "1893a854",
   "metadata": {},
   "outputs": [],
   "source": [
    "top_10_work_sector.rename(columns={\"index\": \"Work sector\", \"TYPEWORKSECTOR\": \"Number of student\"},inplace=True)"
   ]
  },
  {
   "cell_type": "code",
   "execution_count": 78,
   "id": "1525402e",
   "metadata": {},
   "outputs": [
    {
     "data": {
      "text/plain": [
       "<AxesSubplot:xlabel='Number of student', ylabel='Work sector'>"
      ]
     },
     "execution_count": 78,
     "metadata": {},
     "output_type": "execute_result"
    },
    {
     "data": {
      "image/png": "[encoded data removed]",
      "text/plain": [
       "<Figure size 432x288 with 1 Axes>"
      ]
     },
     "metadata": {
      "needs_background": "light"
     },
     "output_type": "display_data"
    }
   ],
   "source": [
    "import seaborn as sns\n",
    "\n",
    "sns.barplot(y=top_10_work_sector[\"Work sector\"],x=top_10_work_sector[\"Number of student\"])"
   ]
  },
  {
   "cell_type": "markdown",
   "id": "cb38ddba",
   "metadata": {},
   "source": [
    "Conclution: The larger proportion of students joined the work place in education work sector, followed by those working in technical activities. Social activities sectors had more participants than those from technical activities sectors."
   ]
  },
  {
   "cell_type": "markdown",
   "id": "00b241d9",
   "metadata": {},
   "source": [
    "### 3.6 Analysing the connection between Enterprise size, Work sector and Placement grant relationship"
   ]
  },
  {
   "cell_type": "code",
   "execution_count": 79,
   "id": "8d2290eb",
   "metadata": {},
   "outputs": [],
   "source": [
    "grouped=new_data[['enterprise_size','TYPEWORKSECTOR','PLACEMENTGRANT']].groupby(['enterprise_size','TYPEWORKSECTOR']).mean()"
   ]
  },
  {
   "cell_type": "code",
   "execution_count": 80,
   "id": "02c47a14",
   "metadata": {
    "scrolled": true
   },
   "outputs": [
    {
     "data": {
      "text/html": [
       "<div>\n",
       "<style scoped>\n",
       "    .dataframe tbody tr th:only-of-type {\n",
       "        vertical-align: middle;\n",
       "    }\n",
       "\n",
       "    .dataframe tbody tr th {\n",
       "        vertical-align: top;\n",
       "    }\n",
       "\n",
       "    .dataframe thead th {\n",
       "        text-align: right;\n",
       "    }\n",
       "</style>\n",
       "<table border=\"1\" class=\"dataframe\">\n",
       "  <thead>\n",
       "    <tr style=\"text-align: right;\">\n",
       "      <th></th>\n",
       "      <th></th>\n",
       "      <th>PLACEMENTGRANT</th>\n",
       "    </tr>\n",
       "    <tr>\n",
       "      <th>enterprise_size</th>\n",
       "      <th>TYPEWORKSECTOR</th>\n",
       "      <th></th>\n",
       "    </tr>\n",
       "  </thead>\n",
       "  <tbody>\n",
       "    <tr>\n",
       "      <th rowspan=\"5\" valign=\"top\">Large</th>\n",
       "      <th>A</th>\n",
       "      <td>1534.451197</td>\n",
       "    </tr>\n",
       "    <tr>\n",
       "      <th>B</th>\n",
       "      <td>1753.158696</td>\n",
       "    </tr>\n",
       "    <tr>\n",
       "      <th>C</th>\n",
       "      <td>1818.062289</td>\n",
       "    </tr>\n",
       "    <tr>\n",
       "      <th>D</th>\n",
       "      <td>1903.158958</td>\n",
       "    </tr>\n",
       "    <tr>\n",
       "      <th>E</th>\n",
       "      <td>1377.842800</td>\n",
       "    </tr>\n",
       "    <tr>\n",
       "      <th>...</th>\n",
       "      <th>...</th>\n",
       "      <td>...</td>\n",
       "    </tr>\n",
       "    <tr>\n",
       "      <th rowspan=\"5\" valign=\"top\">Small</th>\n",
       "      <th>Q</th>\n",
       "      <td>1416.419359</td>\n",
       "    </tr>\n",
       "    <tr>\n",
       "      <th>R</th>\n",
       "      <td>1446.948076</td>\n",
       "    </tr>\n",
       "    <tr>\n",
       "      <th>S</th>\n",
       "      <td>1429.112970</td>\n",
       "    </tr>\n",
       "    <tr>\n",
       "      <th>T</th>\n",
       "      <td>1148.362632</td>\n",
       "    </tr>\n",
       "    <tr>\n",
       "      <th>U</th>\n",
       "      <td>1562.208327</td>\n",
       "    </tr>\n",
       "  </tbody>\n",
       "</table>\n",
       "<p>63 rows × 1 columns</p>\n",
       "</div>"
      ],
      "text/plain": [
       "                                PLACEMENTGRANT\n",
       "enterprise_size TYPEWORKSECTOR                \n",
       "Large           A                  1534.451197\n",
       "                B                  1753.158696\n",
       "                C                  1818.062289\n",
       "                D                  1903.158958\n",
       "                E                  1377.842800\n",
       "...                                        ...\n",
       "Small           Q                  1416.419359\n",
       "                R                  1446.948076\n",
       "                S                  1429.112970\n",
       "                T                  1148.362632\n",
       "                U                  1562.208327\n",
       "\n",
       "[63 rows x 1 columns]"
      ]
     },
     "execution_count": 80,
     "metadata": {},
     "output_type": "execute_result"
    }
   ],
   "source": [
    "grouped"
   ]
  },
  {
   "cell_type": "code",
   "execution_count": 81,
   "id": "2ac8da97",
   "metadata": {},
   "outputs": [
    {
     "data": {
      "text/html": [
       "<div>\n",
       "<style scoped>\n",
       "    .dataframe tbody tr th:only-of-type {\n",
       "        vertical-align: middle;\n",
       "    }\n",
       "\n",
       "    .dataframe tbody tr th {\n",
       "        vertical-align: top;\n",
       "    }\n",
       "\n",
       "    .dataframe thead tr th {\n",
       "        text-align: left;\n",
       "    }\n",
       "\n",
       "    .dataframe thead tr:last-of-type th {\n",
       "        text-align: right;\n",
       "    }\n",
       "</style>\n",
       "<table border=\"1\" class=\"dataframe\">\n",
       "  <thead>\n",
       "    <tr>\n",
       "      <th></th>\n",
       "      <th colspan=\"3\" halign=\"left\">PLACEMENTGRANT</th>\n",
       "    </tr>\n",
       "    <tr>\n",
       "      <th>enterprise_size</th>\n",
       "      <th>Large</th>\n",
       "      <th>Medium</th>\n",
       "      <th>Small</th>\n",
       "    </tr>\n",
       "    <tr>\n",
       "      <th>TYPEWORKSECTOR</th>\n",
       "      <th></th>\n",
       "      <th></th>\n",
       "      <th></th>\n",
       "    </tr>\n",
       "  </thead>\n",
       "  <tbody>\n",
       "    <tr>\n",
       "      <th>A</th>\n",
       "      <td>1534.451197</td>\n",
       "      <td>1403.312798</td>\n",
       "      <td>1300.524709</td>\n",
       "    </tr>\n",
       "    <tr>\n",
       "      <th>B</th>\n",
       "      <td>1753.158696</td>\n",
       "      <td>1331.852941</td>\n",
       "      <td>1386.477273</td>\n",
       "    </tr>\n",
       "    <tr>\n",
       "      <th>C</th>\n",
       "      <td>1818.062289</td>\n",
       "      <td>1425.936452</td>\n",
       "      <td>1322.546159</td>\n",
       "    </tr>\n",
       "    <tr>\n",
       "      <th>D</th>\n",
       "      <td>1903.158958</td>\n",
       "      <td>1505.919404</td>\n",
       "      <td>1335.659051</td>\n",
       "    </tr>\n",
       "    <tr>\n",
       "      <th>E</th>\n",
       "      <td>1377.842800</td>\n",
       "      <td>1797.110816</td>\n",
       "      <td>1483.733265</td>\n",
       "    </tr>\n",
       "    <tr>\n",
       "      <th>F</th>\n",
       "      <td>1738.044331</td>\n",
       "      <td>1478.165660</td>\n",
       "      <td>1538.656340</td>\n",
       "    </tr>\n",
       "    <tr>\n",
       "      <th>G</th>\n",
       "      <td>1963.210389</td>\n",
       "      <td>1428.304850</td>\n",
       "      <td>1235.850970</td>\n",
       "    </tr>\n",
       "    <tr>\n",
       "      <th>H</th>\n",
       "      <td>1855.487758</td>\n",
       "      <td>1788.245625</td>\n",
       "      <td>1338.686080</td>\n",
       "    </tr>\n",
       "    <tr>\n",
       "      <th>I</th>\n",
       "      <td>1510.197446</td>\n",
       "      <td>1439.762300</td>\n",
       "      <td>1270.707854</td>\n",
       "    </tr>\n",
       "    <tr>\n",
       "      <th>J</th>\n",
       "      <td>2118.051338</td>\n",
       "      <td>1535.878561</td>\n",
       "      <td>1432.904399</td>\n",
       "    </tr>\n",
       "    <tr>\n",
       "      <th>K</th>\n",
       "      <td>2024.015405</td>\n",
       "      <td>1672.047712</td>\n",
       "      <td>1572.003833</td>\n",
       "    </tr>\n",
       "    <tr>\n",
       "      <th>L</th>\n",
       "      <td>1685.232143</td>\n",
       "      <td>1693.033750</td>\n",
       "      <td>1338.674833</td>\n",
       "    </tr>\n",
       "    <tr>\n",
       "      <th>M</th>\n",
       "      <td>1845.069530</td>\n",
       "      <td>1640.383445</td>\n",
       "      <td>1575.081071</td>\n",
       "    </tr>\n",
       "    <tr>\n",
       "      <th>N</th>\n",
       "      <td>1700.388145</td>\n",
       "      <td>1552.055275</td>\n",
       "      <td>1492.714240</td>\n",
       "    </tr>\n",
       "    <tr>\n",
       "      <th>O</th>\n",
       "      <td>1588.818487</td>\n",
       "      <td>1433.535405</td>\n",
       "      <td>1532.984395</td>\n",
       "    </tr>\n",
       "    <tr>\n",
       "      <th>P</th>\n",
       "      <td>1687.596509</td>\n",
       "      <td>2102.091550</td>\n",
       "      <td>1808.520607</td>\n",
       "    </tr>\n",
       "    <tr>\n",
       "      <th>Q</th>\n",
       "      <td>1379.826399</td>\n",
       "      <td>1345.454448</td>\n",
       "      <td>1416.419359</td>\n",
       "    </tr>\n",
       "    <tr>\n",
       "      <th>R</th>\n",
       "      <td>1693.280000</td>\n",
       "      <td>1532.277126</td>\n",
       "      <td>1446.948076</td>\n",
       "    </tr>\n",
       "    <tr>\n",
       "      <th>S</th>\n",
       "      <td>1692.059201</td>\n",
       "      <td>1570.693549</td>\n",
       "      <td>1429.112970</td>\n",
       "    </tr>\n",
       "    <tr>\n",
       "      <th>T</th>\n",
       "      <td>1180.000000</td>\n",
       "      <td>635.966875</td>\n",
       "      <td>1148.362632</td>\n",
       "    </tr>\n",
       "    <tr>\n",
       "      <th>U</th>\n",
       "      <td>1737.556136</td>\n",
       "      <td>1554.948679</td>\n",
       "      <td>1562.208327</td>\n",
       "    </tr>\n",
       "  </tbody>\n",
       "</table>\n",
       "</div>"
      ],
      "text/plain": [
       "                PLACEMENTGRANT                          \n",
       "enterprise_size          Large       Medium        Small\n",
       "TYPEWORKSECTOR                                          \n",
       "A                  1534.451197  1403.312798  1300.524709\n",
       "B                  1753.158696  1331.852941  1386.477273\n",
       "C                  1818.062289  1425.936452  1322.546159\n",
       "D                  1903.158958  1505.919404  1335.659051\n",
       "E                  1377.842800  1797.110816  1483.733265\n",
       "F                  1738.044331  1478.165660  1538.656340\n",
       "G                  1963.210389  1428.304850  1235.850970\n",
       "H                  1855.487758  1788.245625  1338.686080\n",
       "I                  1510.197446  1439.762300  1270.707854\n",
       "J                  2118.051338  1535.878561  1432.904399\n",
       "K                  2024.015405  1672.047712  1572.003833\n",
       "L                  1685.232143  1693.033750  1338.674833\n",
       "M                  1845.069530  1640.383445  1575.081071\n",
       "N                  1700.388145  1552.055275  1492.714240\n",
       "O                  1588.818487  1433.535405  1532.984395\n",
       "P                  1687.596509  2102.091550  1808.520607\n",
       "Q                  1379.826399  1345.454448  1416.419359\n",
       "R                  1693.280000  1532.277126  1446.948076\n",
       "S                  1692.059201  1570.693549  1429.112970\n",
       "T                  1180.000000   635.966875  1148.362632\n",
       "U                  1737.556136  1554.948679  1562.208327"
      ]
     },
     "execution_count": 81,
     "metadata": {},
     "output_type": "execute_result"
    }
   ],
   "source": [
    "grant_by_sector_and_size=grouped.unstack(0).fillna(0)\n",
    "grant_by_sector_and_size"
   ]
  },
  {
   "cell_type": "markdown",
   "id": "f935005d",
   "metadata": {},
   "source": [
    "In most casess large companies tend to pay more than in smaller-size companies"
   ]
  },
  {
   "cell_type": "markdown",
   "id": "732c5b14",
   "metadata": {},
   "source": [
    "#### Analyzing this relationship in large enterprise sector"
   ]
  },
  {
   "cell_type": "code",
   "execution_count": 82,
   "id": "a785926e",
   "metadata": {},
   "outputs": [],
   "source": [
    "large=pd.DataFrame(grouped.loc['Large'])\n",
    "\n",
    "top_5_large_entreprise=large.sort_values(by='PLACEMENTGRANT',ascending=False)[:5]"
   ]
  },
  {
   "cell_type": "code",
   "execution_count": 167,
   "id": "80f74efc",
   "metadata": {},
   "outputs": [],
   "source": [
    "dict_={\"J\":\"Information and communication\",\"K\":\"Financial and insurance activities\",\n",
    "                              \"G\":\"Wholesale and retail trade\",\n",
    "                               \"D\":\"Electricity supply\",\"H\":\"Transporting and storage\"}"
   ]
  },
  {
   "cell_type": "code",
   "execution_count": 168,
   "id": "2bdd2f55",
   "metadata": {
    "scrolled": true
   },
   "outputs": [
    {
     "data": {
      "text/html": [
       "<div>\n",
       "<style scoped>\n",
       "    .dataframe tbody tr th:only-of-type {\n",
       "        vertical-align: middle;\n",
       "    }\n",
       "\n",
       "    .dataframe tbody tr th {\n",
       "        vertical-align: top;\n",
       "    }\n",
       "\n",
       "    .dataframe thead th {\n",
       "        text-align: right;\n",
       "    }\n",
       "</style>\n",
       "<table border=\"1\" class=\"dataframe\">\n",
       "  <thead>\n",
       "    <tr style=\"text-align: right;\">\n",
       "      <th></th>\n",
       "      <th>Work sector</th>\n",
       "      <th>Amount of placement grant</th>\n",
       "    </tr>\n",
       "  </thead>\n",
       "  <tbody>\n",
       "    <tr>\n",
       "      <th>0</th>\n",
       "      <td>Information and communication</td>\n",
       "      <td>2118.051338</td>\n",
       "    </tr>\n",
       "    <tr>\n",
       "      <th>1</th>\n",
       "      <td>Financial and insurance activities</td>\n",
       "      <td>2024.015405</td>\n",
       "    </tr>\n",
       "    <tr>\n",
       "      <th>2</th>\n",
       "      <td>Wholesale and retail trade</td>\n",
       "      <td>1963.210389</td>\n",
       "    </tr>\n",
       "    <tr>\n",
       "      <th>3</th>\n",
       "      <td>Electricity supply</td>\n",
       "      <td>1903.158958</td>\n",
       "    </tr>\n",
       "    <tr>\n",
       "      <th>4</th>\n",
       "      <td>Transporting and storage</td>\n",
       "      <td>1855.487758</td>\n",
       "    </tr>\n",
       "  </tbody>\n",
       "</table>\n",
       "</div>"
      ],
      "text/plain": [
       "                          Work sector  Amount of placement grant\n",
       "0       Information and communication                2118.051338\n",
       "1  Financial and insurance activities                2024.015405\n",
       "2          Wholesale and retail trade                1963.210389\n",
       "3                  Electricity supply                1903.158958\n",
       "4            Transporting and storage                1855.487758"
      ]
     },
     "execution_count": 168,
     "metadata": {},
     "output_type": "execute_result"
    }
   ],
   "source": [
    "top_5_large_entreprise"
   ]
  },
  {
   "cell_type": "code",
   "execution_count": 85,
   "id": "26cc06ed",
   "metadata": {},
   "outputs": [],
   "source": [
    "s = top_5_large_entreprise.index.to_series()\n",
    "top_5_large_entreprise.index = np.array(s.map(dict_).fillna(s))\n"
   ]
  },
  {
   "cell_type": "code",
   "execution_count": 86,
   "id": "b47aa6e5",
   "metadata": {},
   "outputs": [],
   "source": [
    "import numpy as np\n",
    "top_5_large_entreprise.reset_index(inplace=True)"
   ]
  },
  {
   "cell_type": "code",
   "execution_count": 87,
   "id": "8253dad1",
   "metadata": {
    "scrolled": true
   },
   "outputs": [
    {
     "data": {
      "text/html": [
       "<div>\n",
       "<style scoped>\n",
       "    .dataframe tbody tr th:only-of-type {\n",
       "        vertical-align: middle;\n",
       "    }\n",
       "\n",
       "    .dataframe tbody tr th {\n",
       "        vertical-align: top;\n",
       "    }\n",
       "\n",
       "    .dataframe thead th {\n",
       "        text-align: right;\n",
       "    }\n",
       "</style>\n",
       "<table border=\"1\" class=\"dataframe\">\n",
       "  <thead>\n",
       "    <tr style=\"text-align: right;\">\n",
       "      <th></th>\n",
       "      <th>index</th>\n",
       "      <th>PLACEMENTGRANT</th>\n",
       "    </tr>\n",
       "  </thead>\n",
       "  <tbody>\n",
       "    <tr>\n",
       "      <th>0</th>\n",
       "      <td>Information and communication</td>\n",
       "      <td>2118.051338</td>\n",
       "    </tr>\n",
       "    <tr>\n",
       "      <th>1</th>\n",
       "      <td>Financial and insurance activities</td>\n",
       "      <td>2024.015405</td>\n",
       "    </tr>\n",
       "    <tr>\n",
       "      <th>2</th>\n",
       "      <td>Wholesale and retail trade</td>\n",
       "      <td>1963.210389</td>\n",
       "    </tr>\n",
       "    <tr>\n",
       "      <th>3</th>\n",
       "      <td>Electricity supply</td>\n",
       "      <td>1903.158958</td>\n",
       "    </tr>\n",
       "    <tr>\n",
       "      <th>4</th>\n",
       "      <td>Transporting and storage</td>\n",
       "      <td>1855.487758</td>\n",
       "    </tr>\n",
       "  </tbody>\n",
       "</table>\n",
       "</div>"
      ],
      "text/plain": [
       "                                index  PLACEMENTGRANT\n",
       "0       Information and communication     2118.051338\n",
       "1  Financial and insurance activities     2024.015405\n",
       "2          Wholesale and retail trade     1963.210389\n",
       "3                  Electricity supply     1903.158958\n",
       "4            Transporting and storage     1855.487758"
      ]
     },
     "execution_count": 87,
     "metadata": {},
     "output_type": "execute_result"
    }
   ],
   "source": [
    "top_5_large_entreprise"
   ]
  },
  {
   "cell_type": "code",
   "execution_count": 88,
   "id": "638b0529",
   "metadata": {},
   "outputs": [],
   "source": [
    "top_5_large_entreprise.rename(columns={\"index\": \"Work sector\", \"PLACEMENTGRANT\": \"Amount of placement grant\"},inplace=True)\n"
   ]
  },
  {
   "cell_type": "code",
   "execution_count": 89,
   "id": "5dfd6278",
   "metadata": {
    "scrolled": true
   },
   "outputs": [
    {
     "data": {
      "text/html": [
       "<div>\n",
       "<style scoped>\n",
       "    .dataframe tbody tr th:only-of-type {\n",
       "        vertical-align: middle;\n",
       "    }\n",
       "\n",
       "    .dataframe tbody tr th {\n",
       "        vertical-align: top;\n",
       "    }\n",
       "\n",
       "    .dataframe thead th {\n",
       "        text-align: right;\n",
       "    }\n",
       "</style>\n",
       "<table border=\"1\" class=\"dataframe\">\n",
       "  <thead>\n",
       "    <tr style=\"text-align: right;\">\n",
       "      <th></th>\n",
       "      <th>Work sector</th>\n",
       "      <th>Amount of placement grant</th>\n",
       "    </tr>\n",
       "  </thead>\n",
       "  <tbody>\n",
       "    <tr>\n",
       "      <th>0</th>\n",
       "      <td>Information and communication</td>\n",
       "      <td>2118.051338</td>\n",
       "    </tr>\n",
       "    <tr>\n",
       "      <th>1</th>\n",
       "      <td>Financial and insurance activities</td>\n",
       "      <td>2024.015405</td>\n",
       "    </tr>\n",
       "    <tr>\n",
       "      <th>2</th>\n",
       "      <td>Wholesale and retail trade</td>\n",
       "      <td>1963.210389</td>\n",
       "    </tr>\n",
       "    <tr>\n",
       "      <th>3</th>\n",
       "      <td>Electricity supply</td>\n",
       "      <td>1903.158958</td>\n",
       "    </tr>\n",
       "    <tr>\n",
       "      <th>4</th>\n",
       "      <td>Transporting and storage</td>\n",
       "      <td>1855.487758</td>\n",
       "    </tr>\n",
       "  </tbody>\n",
       "</table>\n",
       "</div>"
      ],
      "text/plain": [
       "                          Work sector  Amount of placement grant\n",
       "0       Information and communication                2118.051338\n",
       "1  Financial and insurance activities                2024.015405\n",
       "2          Wholesale and retail trade                1963.210389\n",
       "3                  Electricity supply                1903.158958\n",
       "4            Transporting and storage                1855.487758"
      ]
     },
     "execution_count": 89,
     "metadata": {},
     "output_type": "execute_result"
    }
   ],
   "source": [
    "top_5_large_entreprise"
   ]
  },
  {
   "cell_type": "markdown",
   "id": "b0e10103",
   "metadata": {},
   "source": [
    "Conclusion: Large-sized companies who worked in information and communication sector and financial sector offered higher placement grant to students, compared to other sectors."
   ]
  },
  {
   "cell_type": "markdown",
   "id": "48f8e993",
   "metadata": {},
   "source": [
    "### 3.7 Analysing Number of ECTS credits for Placement "
   ]
  },
  {
   "cell_type": "markdown",
   "id": "250ae138",
   "metadata": {},
   "source": [
    "#### Number of ECTS credits for Placement anticipated \n",
    "\n",
    "- C29.1 Must be positive number\n",
    "- C29.2 Between 0 and 90\n",
    "- C29.3 Warning if >60\n",
    "- C29.4 if \" MobilityType \" is not P, “Number of ECTS Credits Placement” = 0\n"
   ]
  },
  {
   "cell_type": "code",
   "execution_count": 110,
   "id": "94fa257d",
   "metadata": {},
   "outputs": [],
   "source": [
    "credit_work=new_data.ECTSCREDITSWORK.value_counts().sort_values(ascending=False).nlargest(10)\n",
    "credit_work_df=pd.DataFrame({\"Number of credits\":credit_work.index,\n",
    "                            \"Number of student\":credit_work.values})\n"
   ]
  },
  {
   "cell_type": "code",
   "execution_count": 111,
   "id": "d21d5c37",
   "metadata": {},
   "outputs": [
    {
     "data": {
      "text/html": [
       "<div>\n",
       "<style scoped>\n",
       "    .dataframe tbody tr th:only-of-type {\n",
       "        vertical-align: middle;\n",
       "    }\n",
       "\n",
       "    .dataframe tbody tr th {\n",
       "        vertical-align: top;\n",
       "    }\n",
       "\n",
       "    .dataframe thead th {\n",
       "        text-align: right;\n",
       "    }\n",
       "</style>\n",
       "<table border=\"1\" class=\"dataframe\">\n",
       "  <thead>\n",
       "    <tr style=\"text-align: right;\">\n",
       "      <th></th>\n",
       "      <th>Number of credits</th>\n",
       "      <th>Number of student</th>\n",
       "    </tr>\n",
       "  </thead>\n",
       "  <tbody>\n",
       "    <tr>\n",
       "      <th>0</th>\n",
       "      <td>0</td>\n",
       "      <td>13726</td>\n",
       "    </tr>\n",
       "    <tr>\n",
       "      <th>1</th>\n",
       "      <td>30</td>\n",
       "      <td>6633</td>\n",
       "    </tr>\n",
       "    <tr>\n",
       "      <th>2</th>\n",
       "      <td>15</td>\n",
       "      <td>2646</td>\n",
       "    </tr>\n",
       "    <tr>\n",
       "      <th>3</th>\n",
       "      <td>60</td>\n",
       "      <td>1893</td>\n",
       "    </tr>\n",
       "    <tr>\n",
       "      <th>4</th>\n",
       "      <td>20</td>\n",
       "      <td>1628</td>\n",
       "    </tr>\n",
       "    <tr>\n",
       "      <th>5</th>\n",
       "      <td>10</td>\n",
       "      <td>1372</td>\n",
       "    </tr>\n",
       "    <tr>\n",
       "      <th>6</th>\n",
       "      <td>18</td>\n",
       "      <td>1312</td>\n",
       "    </tr>\n",
       "    <tr>\n",
       "      <th>7</th>\n",
       "      <td>12</td>\n",
       "      <td>993</td>\n",
       "    </tr>\n",
       "    <tr>\n",
       "      <th>8</th>\n",
       "      <td>6</td>\n",
       "      <td>971</td>\n",
       "    </tr>\n",
       "    <tr>\n",
       "      <th>9</th>\n",
       "      <td>5</td>\n",
       "      <td>876</td>\n",
       "    </tr>\n",
       "  </tbody>\n",
       "</table>\n",
       "</div>"
      ],
      "text/plain": [
       "   Number of credits  Number of student\n",
       "0                  0              13726\n",
       "1                 30               6633\n",
       "2                 15               2646\n",
       "3                 60               1893\n",
       "4                 20               1628\n",
       "5                 10               1372\n",
       "6                 18               1312\n",
       "7                 12                993\n",
       "8                  6                971\n",
       "9                  5                876"
      ]
     },
     "execution_count": 111,
     "metadata": {},
     "output_type": "execute_result"
    }
   ],
   "source": [
    "credit_work_df"
   ]
  },
  {
   "cell_type": "code",
   "execution_count": 112,
   "id": "b469c3ed",
   "metadata": {},
   "outputs": [
    {
     "data": {
      "text/plain": [
       "<AxesSubplot:xlabel='Number of credits', ylabel='Number of student'>"
      ]
     },
     "execution_count": 112,
     "metadata": {},
     "output_type": "execute_result"
    },
    {
     "data": {
      "image/png": "[encoded data removed]",
      "text/plain": [
       "<Figure size 432x288 with 1 Axes>"
      ]
     },
     "metadata": {
      "needs_background": "light"
     },
     "output_type": "display_data"
    }
   ],
   "source": [
    "import seaborn as sns\n",
    "\n",
    "sns.barplot(x=credit_work_df[\"Number of credits\"],y=credit_work_df[\"Number of student\"])"
   ]
  },
  {
   "cell_type": "markdown",
   "id": "ed52d49e",
   "metadata": {},
   "source": [
    "Conclusion: Because of the nature of work placement exchange, most of the students attended received no credits for their internship."
   ]
  },
  {
   "cell_type": "markdown",
   "id": "71cbaa63",
   "metadata": {},
   "source": [
    "### 3.8 Analysis of workplacement language"
   ]
  },
  {
   "cell_type": "markdown",
   "id": "84b9cf33",
   "metadata": {},
   "source": [
    "#### Learning carried out in the national language of Host country\n",
    "##### Db: TaughtHostLang\n",
    "- Whether the student has carried out the training in the language of the Host Country"
   ]
  },
  {
   "cell_type": "code",
   "execution_count": 116,
   "id": "ae5350b5",
   "metadata": {
    "scrolled": true
   },
   "outputs": [
    {
     "data": {
      "text/html": [
       "<div>\n",
       "<style scoped>\n",
       "    .dataframe tbody tr th:only-of-type {\n",
       "        vertical-align: middle;\n",
       "    }\n",
       "\n",
       "    .dataframe tbody tr th {\n",
       "        vertical-align: top;\n",
       "    }\n",
       "\n",
       "    .dataframe thead th {\n",
       "        text-align: right;\n",
       "    }\n",
       "</style>\n",
       "<table border=\"1\" class=\"dataframe\">\n",
       "  <thead>\n",
       "    <tr style=\"text-align: right;\">\n",
       "      <th></th>\n",
       "      <th>TAUGHTHOSTLANG</th>\n",
       "    </tr>\n",
       "  </thead>\n",
       "  <tbody>\n",
       "    <tr>\n",
       "      <th>Y</th>\n",
       "      <td>21793</td>\n",
       "    </tr>\n",
       "    <tr>\n",
       "      <th>N</th>\n",
       "      <td>17899</td>\n",
       "    </tr>\n",
       "  </tbody>\n",
       "</table>\n",
       "</div>"
      ],
      "text/plain": [
       "   TAUGHTHOSTLANG\n",
       "Y           21793\n",
       "N           17899"
      ]
     },
     "execution_count": 116,
     "metadata": {},
     "output_type": "execute_result"
    }
   ],
   "source": [
    "\n",
    "taught_host_lang=pd.DataFrame(new_data.TAUGHTHOSTLANG.value_counts())\n",
    "taught_host_lang"
   ]
  },
  {
   "cell_type": "code",
   "execution_count": 117,
   "id": "577a6afa",
   "metadata": {},
   "outputs": [],
   "source": [
    "taught_host_lang.rename(columns={\"index\": \"Yes/No\", \"TAUGHTHOSTLANG\": \"Number of student\"},inplace=True)"
   ]
  },
  {
   "cell_type": "code",
   "execution_count": 120,
   "id": "5166e169",
   "metadata": {},
   "outputs": [
    {
     "data": {
      "image/png": "[encoded data removed]",
      "text/plain": [
       "<Figure size 360x360 with 1 Axes>"
      ]
     },
     "metadata": {},
     "output_type": "display_data"
    }
   ],
   "source": [
    "plot = taught_host_lang.plot.pie(y='Number of student',autopct = \"%.2f\", figsize=(5, 5)).legend([\"Yes\",\"No\"])"
   ]
  },
  {
   "cell_type": "markdown",
   "id": "005604dd",
   "metadata": {},
   "source": [
    "### 3.9 Analysing of Training Language"
   ]
  },
  {
   "cell_type": "markdown",
   "id": "31bbbeb9",
   "metadata": {},
   "source": [
    "#### Db: LanguageTaught\n",
    "- The language in which the student has  undergone the training"
   ]
  },
  {
   "cell_type": "code",
   "execution_count": 121,
   "id": "8c5fe719",
   "metadata": {},
   "outputs": [
    {
     "data": {
      "text/plain": [
       "EN    20918\n",
       "ES     4887\n",
       "FR     4724\n",
       "DE     4556\n",
       "IT     1693\n",
       "NL      565\n",
       "PT      397\n",
       "TR      274\n",
       "PL      215\n",
       "SV      193\n",
       "Name: LANGUAGETAUGHT, dtype: int64"
      ]
     },
     "execution_count": 121,
     "metadata": {},
     "output_type": "execute_result"
    }
   ],
   "source": [
    "language_taught=new_data.LANGUAGETAUGHT.value_counts().nlargest(10)\n",
    "language_taught"
   ]
  },
  {
   "cell_type": "markdown",
   "id": "730affdc",
   "metadata": {},
   "source": [
    "#### Top 10 languages that student has carried out in the same language of the Host Country"
   ]
  },
  {
   "cell_type": "code",
   "execution_count": 122,
   "id": "73a24a8a",
   "metadata": {},
   "outputs": [
    {
     "data": {
      "text/plain": [
       "EN    8253\n",
       "ES    3366\n",
       "DE    3312\n",
       "FR    3207\n",
       "IT    1234\n",
       "NL     474\n",
       "PT     320\n",
       "TR     236\n",
       "SV     177\n",
       "CS     175\n",
       "Name: LANGUAGETAUGHT, dtype: int64"
      ]
     },
     "execution_count": 122,
     "metadata": {},
     "output_type": "execute_result"
    }
   ],
   "source": [
    "undergone_host_lang=new_data[new_data.TAUGHTHOSTLANG=='Y']\n",
    "top_10_lang_training=undergone_host_lang['LANGUAGETAUGHT'].value_counts()[:10]\n",
    "top_10_lang_training"
   ]
  },
  {
   "cell_type": "code",
   "execution_count": 123,
   "id": "e614edd7",
   "metadata": {},
   "outputs": [],
   "source": [
    "top_10_lang_training_df=pd.DataFrame({\"Language\":top_10_lang_training.index,\n",
    "                            \"Number of students\":top_10_lang_training.values})\n"
   ]
  },
  {
   "cell_type": "code",
   "execution_count": 124,
   "id": "1eeec655",
   "metadata": {},
   "outputs": [
    {
     "data": {
      "text/plain": [
       "<AxesSubplot:xlabel='Number of students', ylabel='Language'>"
      ]
     },
     "execution_count": 124,
     "metadata": {},
     "output_type": "execute_result"
    },
    {
     "data": {
      "image/png": "[encoded data removed]",
      "text/plain": [
       "<Figure size 432x288 with 1 Axes>"
      ]
     },
     "metadata": {
      "needs_background": "light"
     },
     "output_type": "display_data"
    }
   ],
   "source": [
    "import seaborn as sns\n",
    "\n",
    "sns.barplot(y=top_10_lang_training_df[\"Language\"],x=top_10_lang_training_df[\"Number of students\"])"
   ]
  },
  {
   "cell_type": "markdown",
   "id": "6b38d2e6",
   "metadata": {},
   "source": [
    "## 3.10 Analysing of  Language Preparation\n",
    "#### Db: LingPreparation\n",
    "- Reports whether a student has attended a language course including EILC \n",
    "course in the Host country or other courses in the Home or Host country\n",
    "- String of 2 characters in the set (EC, HS, HM, NN)\n",
    " + EC = EILC \n",
    " + HS = Host\n",
    " + HM = Home\n",
    " + NN = None\n"
   ]
  },
  {
   "cell_type": "code",
   "execution_count": 125,
   "id": "cec1d7ec",
   "metadata": {},
   "outputs": [
    {
     "data": {
      "text/plain": [
       "NN    29171\n",
       "HM     8664\n",
       "HS     1776\n",
       "EC       81\n",
       "Name: LINGPREPARATION, dtype: int64"
      ]
     },
     "execution_count": 125,
     "metadata": {},
     "output_type": "execute_result"
    }
   ],
   "source": [
    "ling_preparation=new_data.LINGPREPARATION\n",
    "ling_preparation.value_counts()"
   ]
  },
  {
   "cell_type": "code",
   "execution_count": 126,
   "id": "a7a15862",
   "metadata": {},
   "outputs": [],
   "source": [
    "ling_preparation=new_data[new_data.LANGUAGETAUGHT!='NN']\n"
   ]
  },
  {
   "cell_type": "code",
   "execution_count": 127,
   "id": "bbf522df",
   "metadata": {},
   "outputs": [],
   "source": [
    "top_10_ling_preparation=ling_preparation['LANGUAGETAUGHT'].value_counts()[:10]"
   ]
  },
  {
   "cell_type": "code",
   "execution_count": 128,
   "id": "debf9507",
   "metadata": {},
   "outputs": [
    {
     "data": {
      "text/plain": [
       "EN    20918\n",
       "ES     4887\n",
       "FR     4724\n",
       "DE     4556\n",
       "IT     1693\n",
       "NL      565\n",
       "PT      397\n",
       "TR      274\n",
       "PL      215\n",
       "SV      193\n",
       "Name: LANGUAGETAUGHT, dtype: int64"
      ]
     },
     "execution_count": 128,
     "metadata": {},
     "output_type": "execute_result"
    }
   ],
   "source": [
    "top_10_ling_preparation"
   ]
  },
  {
   "cell_type": "code",
   "execution_count": 129,
   "id": "d3e5ba9e",
   "metadata": {},
   "outputs": [],
   "source": [
    "top_10_ling_preparation_df=pd.DataFrame({\"Language\":top_10_ling_preparation.index,\n",
    "                            \"Number of students attending\":top_10_ling_preparation.values})\n"
   ]
  },
  {
   "cell_type": "code",
   "execution_count": 130,
   "id": "ae14a34b",
   "metadata": {},
   "outputs": [
    {
     "data": {
      "text/plain": [
       "<AxesSubplot:xlabel='Number of students attending', ylabel='Language'>"
      ]
     },
     "execution_count": 130,
     "metadata": {},
     "output_type": "execute_result"
    },
    {
     "data": {
      "image/png": "[encoded data removed]",
      "text/plain": [
       "<Figure size 432x288 with 1 Axes>"
      ]
     },
     "metadata": {
      "needs_background": "light"
     },
     "output_type": "display_data"
    }
   ],
   "source": [
    "import seaborn as sns\n",
    "\n",
    "sns.barplot(y=top_10_ling_preparation_df[\"Language\"],x=top_10_ling_preparation_df[\"Number of students attending\"])"
   ]
  },
  {
   "cell_type": "markdown",
   "id": "ac516ef1",
   "metadata": {},
   "source": [
    "Conclusion:Students who attended the workplacement with the language of English, Spanish, French and German usually have to attend language training courses before the workplacement."
   ]
  },
  {
   "cell_type": "markdown",
   "id": "13dbf1c1",
   "metadata": {},
   "source": [
    "## 3.11 Analysing of  Previous participation in the ERASMUS programme\n",
    "#### Db: PreviousParticipation\n",
    "- The field indicates whether the student has received an ERASMUS grant prior to this one and for which type of mobility. \n",
    "    + N = No\n",
    "    + S = Study\n",
    "    + P = Placement\n",
    "    + M = Erasmus Mundus\n"
   ]
  },
  {
   "cell_type": "code",
   "execution_count": 131,
   "id": "b18e05c2",
   "metadata": {},
   "outputs": [
    {
     "data": {
      "text/plain": [
       "N    34062\n",
       "S     5596\n",
       "P       17\n",
       "M       17\n",
       "Name: PREVIOUSPARTICIPATION, dtype: int64"
      ]
     },
     "execution_count": 131,
     "metadata": {},
     "output_type": "execute_result"
    }
   ],
   "source": [
    "new_data.PREVIOUSPARTICIPATION.value_counts()"
   ]
  },
  {
   "cell_type": "code",
   "execution_count": 132,
   "id": "de23d41c",
   "metadata": {},
   "outputs": [
    {
     "data": {
      "text/html": [
       "<div>\n",
       "<style scoped>\n",
       "    .dataframe tbody tr th:only-of-type {\n",
       "        vertical-align: middle;\n",
       "    }\n",
       "\n",
       "    .dataframe tbody tr th {\n",
       "        vertical-align: top;\n",
       "    }\n",
       "\n",
       "    .dataframe thead th {\n",
       "        text-align: right;\n",
       "    }\n",
       "</style>\n",
       "<table border=\"1\" class=\"dataframe\">\n",
       "  <thead>\n",
       "    <tr style=\"text-align: right;\">\n",
       "      <th></th>\n",
       "      <th>PLACEMENTGRANT</th>\n",
       "    </tr>\n",
       "    <tr>\n",
       "      <th>PREVIOUSPARTICIPATION</th>\n",
       "      <th></th>\n",
       "    </tr>\n",
       "  </thead>\n",
       "  <tbody>\n",
       "    <tr>\n",
       "      <th>M</th>\n",
       "      <td>1893.955882</td>\n",
       "    </tr>\n",
       "    <tr>\n",
       "      <th>N</th>\n",
       "      <td>1585.701253</td>\n",
       "    </tr>\n",
       "    <tr>\n",
       "      <th>P</th>\n",
       "      <td>1679.039412</td>\n",
       "    </tr>\n",
       "    <tr>\n",
       "      <th>S</th>\n",
       "      <td>1608.704752</td>\n",
       "    </tr>\n",
       "  </tbody>\n",
       "</table>\n",
       "</div>"
      ],
      "text/plain": [
       "                       PLACEMENTGRANT\n",
       "PREVIOUSPARTICIPATION                \n",
       "M                         1893.955882\n",
       "N                         1585.701253\n",
       "P                         1679.039412\n",
       "S                         1608.704752"
      ]
     },
     "execution_count": 132,
     "metadata": {},
     "output_type": "execute_result"
    }
   ],
   "source": [
    "new_data[[\"PREVIOUSPARTICIPATION\",\"PLACEMENTGRANT\"]].groupby(\"PREVIOUSPARTICIPATION\").mean()"
   ]
  },
  {
   "cell_type": "markdown",
   "id": "811dc2e0",
   "metadata": {},
   "source": [
    "Conclusion: Erasmus Mundus students received higher grant thatn other students. If the students did not join Erasmus exchange before, they are less likely to receive high placement grant."
   ]
  },
  {
   "cell_type": "markdown",
   "id": "6e697af8",
   "metadata": {},
   "source": [
    "### 3.12 Analysing of Qualification received at the Host Country"
   ]
  },
  {
   "cell_type": "markdown",
   "id": "5c68cc4f",
   "metadata": {},
   "source": [
    "#### Qualification received at the Host Country\n",
    "\n",
    "##### Db: QualificationAtHost\n",
    "\n",
    "- The field will hold information on whether the student will get a double, joint degree or any other qualification at the Host Institution/ Placement or no.\n",
    "    + D = Double\n",
    "    + J  = Joint\n",
    "    + O = Other\n",
    "    + N = None (Europass etc.)\n"
   ]
  },
  {
   "cell_type": "code",
   "execution_count": 133,
   "id": "836958c1",
   "metadata": {
    "scrolled": true
   },
   "outputs": [],
   "source": [
    "qualification_at_host=pd.DataFrame(new_data.QUALIFICATIONATHOST.value_counts())\n",
    "qualification_at_host.reset_index(inplace=True)\n"
   ]
  },
  {
   "cell_type": "code",
   "execution_count": 134,
   "id": "17b9a09c",
   "metadata": {
    "scrolled": true
   },
   "outputs": [
    {
     "data": {
      "text/html": [
       "<div>\n",
       "<style scoped>\n",
       "    .dataframe tbody tr th:only-of-type {\n",
       "        vertical-align: middle;\n",
       "    }\n",
       "\n",
       "    .dataframe tbody tr th {\n",
       "        vertical-align: top;\n",
       "    }\n",
       "\n",
       "    .dataframe thead th {\n",
       "        text-align: right;\n",
       "    }\n",
       "</style>\n",
       "<table border=\"1\" class=\"dataframe\">\n",
       "  <thead>\n",
       "    <tr style=\"text-align: right;\">\n",
       "      <th></th>\n",
       "      <th>index</th>\n",
       "      <th>QUALIFICATIONATHOST</th>\n",
       "    </tr>\n",
       "  </thead>\n",
       "  <tbody>\n",
       "    <tr>\n",
       "      <th>0</th>\n",
       "      <td>N</td>\n",
       "      <td>38566</td>\n",
       "    </tr>\n",
       "    <tr>\n",
       "      <th>1</th>\n",
       "      <td>O</td>\n",
       "      <td>868</td>\n",
       "    </tr>\n",
       "    <tr>\n",
       "      <th>2</th>\n",
       "      <td>J</td>\n",
       "      <td>202</td>\n",
       "    </tr>\n",
       "    <tr>\n",
       "      <th>3</th>\n",
       "      <td>D</td>\n",
       "      <td>56</td>\n",
       "    </tr>\n",
       "  </tbody>\n",
       "</table>\n",
       "</div>"
      ],
      "text/plain": [
       "  index  QUALIFICATIONATHOST\n",
       "0     N                38566\n",
       "1     O                  868\n",
       "2     J                  202\n",
       "3     D                   56"
      ]
     },
     "execution_count": 134,
     "metadata": {},
     "output_type": "execute_result"
    }
   ],
   "source": [
    "qualification_at_host\n"
   ]
  },
  {
   "cell_type": "code",
   "execution_count": 155,
   "id": "95802ebb",
   "metadata": {
    "scrolled": true
   },
   "outputs": [
    {
     "data": {
      "image/png": "[encoded data removed]",
      "text/plain": [
       "<Figure size 360x360 with 1 Axes>"
      ]
     },
     "metadata": {},
     "output_type": "display_data"
    }
   ],
   "source": [
    "qualification_at_host.reset_index()\n",
    "qualification_at_host.rename(columns={\"index\": \"Qualification\", \"QUALIFICATIONATHOST\": \"Number of student\"},inplace=True)\n",
    "plot = qualification_at_host.plot.pie(y=\"Number of student\", figsize=(5, 5)).legend([\"None\",\"Other\",\"Joint\",\"Double\"])"
   ]
  },
  {
   "cell_type": "markdown",
   "id": "113fdbd2",
   "metadata": {},
   "source": [
    "Conclusion: 
    - Quantitative data:
    Placement grant has a positive correlation with the length of work placement, ECTS credit earned from work placement, but negative correlation with subject area. ECTS Credits earned from work placement also has a positive correlation with length of placement, but a negative correlation with age, years prior this exchange.
    - Qualitative data:
     + Gender: Female students were more likely to engage in work placement exchange, but they received a bit less than male counterparts.
     + Nationality: people from the west of European were more likely to join work placement exchange (e.g: France, Germany, Spain, UK, Italy). However, they were not the ones that received higher workplacement grants. People from Mediterranean sea and North sea area like Cyprus, Greece UK, Ireland, Island were among those who received the higher grands.
     + Subject: Those with social and business backgrounds are more engaging in work placement exchange than those from science and technology background.
     + Work placement grants: Large-sized businesses tend to pay more in work placement than medium- and small-sized businesses. And those in sectors of information, communication, and financial sectors offered higher placement grant to students, compared to other sectors.
     + Credit received and qualifications: The majority of students received no credits from their work placement and this is compatible with the fact that most of the exchange students received no qualification from this exchange.
     + Language usage and language preparation: even though the majority of students did not have to undergo language preparation course prior the exchange, they used the same language with that of the host countries.
    "
   ]
  },
    {
   "cell_type": "markdown",
   "id": "113fdbd2",
   "metadata": {},
   "source": [
    "Conclusion: The majority of students received no qualifications. Only a small proportion of them got Double, Joint or Other qualifications"
   ]
  },
  {
   "cell_type": "markdown",
   "id": "858a111f",
   "metadata": {},
   "source": [
    "# 4. Data analysis: Dataset of students with workout placement"
   ]
  },
  {
   "cell_type": "markdown",
   "id": "254e473d",
   "metadata": {},
   "source": [
    "### 4.1 Analysing the connection between gender and placement grant"
   ]
  },
  {
   "cell_type": "code",
   "execution_count": 207,
   "id": "5a73bd97",
   "metadata": {},
   "outputs": [],
   "source": [
    "gender_2=pd.DataFrame(new_data_2.GENDER.value_counts())\n",
    "gender_2.reset_index()\n",
    "gender_2.rename(columns={\"index\": \"Female/Male\", \"GENDER\": \"Number of student\"},inplace=True)"
   ]
  },
  {
   "cell_type": "code",
   "execution_count": 208,
   "id": "155920ce",
   "metadata": {},
   "outputs": [
    {
     "data": {
      "image/png": "[encoded data removed]",
      "text/plain": [
       "<Figure size 360x360 with 1 Axes>"
      ]
     },
     "metadata": {},
     "output_type": "display_data"
    }
   ],
   "source": [
    "plot_2 = gender_2.plot.pie(y =\"Number of student\", autopct = \"%.2f\", figsize=(5, 5)).legend([\"Female\",\"Male\"])"
   ]
  },
  {
   "cell_type": "code",
   "execution_count": 209,
   "id": "03a7fef3",
   "metadata": {},
   "outputs": [
    {
     "data": {
      "text/html": [
       "<div>\n",
       "<style scoped>\n",
       "    .dataframe tbody tr th:only-of-type {\n",
       "        vertical-align: middle;\n",
       "    }\n",
       "\n",
       "    .dataframe tbody tr th {\n",
       "        vertical-align: top;\n",
       "    }\n",
       "\n",
       "    .dataframe thead th {\n",
       "        text-align: right;\n",
       "    }\n",
       "</style>\n",
       "<table border=\"1\" class=\"dataframe\">\n",
       "  <thead>\n",
       "    <tr style=\"text-align: right;\">\n",
       "      <th></th>\n",
       "      <th>GENDER</th>\n",
       "      <th>STUDYGRANT</th>\n",
       "    </tr>\n",
       "  </thead>\n",
       "  <tbody>\n",
       "    <tr>\n",
       "      <th>36</th>\n",
       "      <td>F</td>\n",
       "      <td>1400.00</td>\n",
       "    </tr>\n",
       "    <tr>\n",
       "      <th>37</th>\n",
       "      <td>M</td>\n",
       "      <td>0.00</td>\n",
       "    </tr>\n",
       "    <tr>\n",
       "      <th>38</th>\n",
       "      <td>F</td>\n",
       "      <td>0.00</td>\n",
       "    </tr>\n",
       "    <tr>\n",
       "      <th>39</th>\n",
       "      <td>F</td>\n",
       "      <td>1400.00</td>\n",
       "    </tr>\n",
       "    <tr>\n",
       "      <th>40</th>\n",
       "      <td>F</td>\n",
       "      <td>1400.00</td>\n",
       "    </tr>\n",
       "    <tr>\n",
       "      <th>...</th>\n",
       "      <td>...</td>\n",
       "      <td>...</td>\n",
       "    </tr>\n",
       "    <tr>\n",
       "      <th>231374</th>\n",
       "      <td>F</td>\n",
       "      <td>2000.00</td>\n",
       "    </tr>\n",
       "    <tr>\n",
       "      <th>231375</th>\n",
       "      <td>F</td>\n",
       "      <td>2000.00</td>\n",
       "    </tr>\n",
       "    <tr>\n",
       "      <th>231377</th>\n",
       "      <td>F</td>\n",
       "      <td>250.00</td>\n",
       "    </tr>\n",
       "    <tr>\n",
       "      <th>231378</th>\n",
       "      <td>F</td>\n",
       "      <td>1600.00</td>\n",
       "    </tr>\n",
       "    <tr>\n",
       "      <th>231379</th>\n",
       "      <td>F</td>\n",
       "      <td>2713.12</td>\n",
       "    </tr>\n",
       "  </tbody>\n",
       "</table>\n",
       "<p>173192 rows × 2 columns</p>\n",
       "</div>"
      ],
      "text/plain": [
       "       GENDER  STUDYGRANT\n",
       "36          F     1400.00\n",
       "37          M        0.00\n",
       "38          F        0.00\n",
       "39          F     1400.00\n",
       "40          F     1400.00\n",
       "...       ...         ...\n",
       "231374      F     2000.00\n",
       "231375      F     2000.00\n",
       "231377      F      250.00\n",
       "231378      F     1600.00\n",
       "231379      F     2713.12\n",
       "\n",
       "[173192 rows x 2 columns]"
      ]
     },
     "execution_count": 209,
     "metadata": {},
     "output_type": "execute_result"
    }
   ],
   "source": [
    "gender_grant_2=new_data_2[[\"GENDER\",\"STUDYGRANT\"]]\n",
    "gender_grant_2 "
   ]
  },
  {
   "cell_type": "code",
   "execution_count": 210,
   "id": "5814c448",
   "metadata": {},
   "outputs": [
    {
     "data": {
      "text/html": [
       "<div>\n",
       "<style scoped>\n",
       "    .dataframe tbody tr th:only-of-type {\n",
       "        vertical-align: middle;\n",
       "    }\n",
       "\n",
       "    .dataframe tbody tr th {\n",
       "        vertical-align: top;\n",
       "    }\n",
       "\n",
       "    .dataframe thead th {\n",
       "        text-align: right;\n",
       "    }\n",
       "</style>\n",
       "<table border=\"1\" class=\"dataframe\">\n",
       "  <thead>\n",
       "    <tr style=\"text-align: right;\">\n",
       "      <th></th>\n",
       "      <th>GENDER</th>\n",
       "      <th>STUDYGRANT</th>\n",
       "    </tr>\n",
       "  </thead>\n",
       "  <tbody>\n",
       "    <tr>\n",
       "      <th>0</th>\n",
       "      <td>F</td>\n",
       "      <td>1504.820876</td>\n",
       "    </tr>\n",
       "    <tr>\n",
       "      <th>1</th>\n",
       "      <td>M</td>\n",
       "      <td>1461.071951</td>\n",
       "    </tr>\n",
       "  </tbody>\n",
       "</table>\n",
       "</div>"
      ],
      "text/plain": [
       "  GENDER   STUDYGRANT\n",
       "0      F  1504.820876\n",
       "1      M  1461.071951"
      ]
     },
     "execution_count": 210,
     "metadata": {},
     "output_type": "execute_result"
    }
   ],
   "source": [
    "gender_grant_df_2=pd.pivot_table(gender_grant_2, values='STUDYGRANT', index=['GENDER'],  aggfunc=np.average)\n",
    "gender_grant_df_2.reset_index()"
   ]
  },
  {
   "cell_type": "code",
   "execution_count": 149,
   "id": "e28b1ac9",
   "metadata": {},
   "outputs": [],
   "source": [
    "gender_grant_df_2.rename(columns={\"GENDER\": \"Gender\", \"STUDYGRANT\": \"Amount of study grant\"},inplace=True)"
   ]
  },
  {
   "cell_type": "code",
   "execution_count": 151,
   "id": "b55a3f3a",
   "metadata": {},
   "outputs": [
    {
     "data": {
      "image/png": "[encoded data removed]",
      "text/plain": [
       "<Figure size 360x360 with 1 Axes>"
      ]
     },
     "metadata": {},
     "output_type": "display_data"
    }
   ],
   "source": [
    "plot_2_2 = gender_grant_df_2.plot.pie(y='Amount of study grant', autopct = \"%.2f\", figsize=(5, 5)).legend([\"Female\",\"Male\"])"
   ]
  },
  {
   "cell_type": "markdown",
   "id": "523be5be",
   "metadata": {},
   "source": [
    "Surprisingly for this case, women become a higher study grant in comparison to men. The opposite case was spotted when comparing the placement grant."
   ]
  },
  {
   "cell_type": "markdown",
   "id": "4f2bf290",
   "metadata": {},
   "source": [
    "### 4.2 Analysing the connection between subject area and placement grant"
   ]
  },
  {
   "cell_type": "code",
   "execution_count": 152,
   "id": "6544162d",
   "metadata": {},
   "outputs": [
    {
     "data": {
      "text/plain": [
       "array([524, 443, 344, 581, 342, 541, 314,  34, 313,  31, 345, 582, 525,\n",
       "        99, 311, 522, 521, 481, 461, 421, 222, 144,  38, 723, 221,  72,\n",
       "        58, 312, 214, 340, 622, 721, 813, 225,  14, 489, 223,  52, 229,\n",
       "       346, 724, 727, 529, 321, 762, 329, 349,  32, 212,  21,  22, 523,\n",
       "       442,  62, 226, 142,  46, 629, 213, 441, 140, 840, 319, 640, 449,\n",
       "       543, 621, 211, 726, 623, 720, 322, 812, 620, 380, 725, 219,  54,\n",
       "       429, 589, 310, 146, 462, 520, 729, 850, 149, 215, 624, 145,  48,\n",
       "        76, 141, 422, 440, 343, 347, 210, 769, 811, 143,   5, 220, 852,\n",
       "         4,   6,   1,  44,   0,   3,   2, 863,  42, 341,  64,   7, 761,\n",
       "       851,   8,  10, 540, 482, 544, 542, 814,  81, 860, 549, 469,  90,\n",
       "        85, 859,  84,   9, 861, 869,  86, 862, 810, 815])"
      ]
     },
     "execution_count": 152,
     "metadata": {},
     "output_type": "execute_result"
    }
   ],
   "source": [
    "new_data_2.SUBJECTAREA.unique()"
   ]
  },
  {
   "cell_type": "code",
   "execution_count": 153,
   "id": "e8c7e8d3",
   "metadata": {},
   "outputs": [],
   "source": [
    "subject_area_2=pd.DataFrame(new_data_2.SUBJECTAREA.value_counts())"
   ]
  },
  {
   "cell_type": "code",
   "execution_count": 154,
   "id": "9502a685",
   "metadata": {},
   "outputs": [
    {
     "data": {
      "text/html": [
       "<div>\n",
       "<style scoped>\n",
       "    .dataframe tbody tr th:only-of-type {\n",
       "        vertical-align: middle;\n",
       "    }\n",
       "\n",
       "    .dataframe tbody tr th {\n",
       "        vertical-align: top;\n",
       "    }\n",
       "\n",
       "    .dataframe thead th {\n",
       "        text-align: right;\n",
       "    }\n",
       "</style>\n",
       "<table border=\"1\" class=\"dataframe\">\n",
       "  <thead>\n",
       "    <tr style=\"text-align: right;\">\n",
       "      <th></th>\n",
       "      <th>SUBJECTAREA</th>\n",
       "    </tr>\n",
       "  </thead>\n",
       "  <tbody>\n",
       "    <tr>\n",
       "      <th>222</th>\n",
       "      <td>37749</td>\n",
       "    </tr>\n",
       "    <tr>\n",
       "      <th>34</th>\n",
       "      <td>11792</td>\n",
       "    </tr>\n",
       "    <tr>\n",
       "      <th>340</th>\n",
       "      <td>10813</td>\n",
       "    </tr>\n",
       "    <tr>\n",
       "      <th>314</th>\n",
       "      <td>6816</td>\n",
       "    </tr>\n",
       "    <tr>\n",
       "      <th>38</th>\n",
       "      <td>6192</td>\n",
       "    </tr>\n",
       "    <tr>\n",
       "      <th>313</th>\n",
       "      <td>5679</td>\n",
       "    </tr>\n",
       "    <tr>\n",
       "      <th>721</th>\n",
       "      <td>4398</td>\n",
       "    </tr>\n",
       "    <tr>\n",
       "      <th>52</th>\n",
       "      <td>4029</td>\n",
       "    </tr>\n",
       "    <tr>\n",
       "      <th>581</th>\n",
       "      <td>3848</td>\n",
       "    </tr>\n",
       "    <tr>\n",
       "      <th>223</th>\n",
       "      <td>3644</td>\n",
       "    </tr>\n",
       "  </tbody>\n",
       "</table>\n",
       "</div>"
      ],
      "text/plain": [
       "     SUBJECTAREA\n",
       "222        37749\n",
       "34         11792\n",
       "340        10813\n",
       "314         6816\n",
       "38          6192\n",
       "313         5679\n",
       "721         4398\n",
       "52          4029\n",
       "581         3848\n",
       "223         3644"
      ]
     },
     "execution_count": 154,
     "metadata": {},
     "output_type": "execute_result"
    }
   ],
   "source": [
    "top_10_2=subject_area_2[:10]\n",
    "top_10_2"
   ]
  },
  {
   "cell_type": "code",
   "execution_count": 155,
   "id": "077f3b34",
   "metadata": {},
   "outputs": [],
   "source": [
    "s_2 = top_10_2.index.to_series()"
   ]
  },
  {
   "cell_type": "markdown",
   "id": "56191965",
   "metadata": {},
   "source": [
    "dict_2={64:\"Veterinary\",222:\"Foreign languages\",340:\"Business and administration (broad)\",\n",
    "                34:\"Business and administration\",345:\"Management and administration\",\n",
    "                314:\"Economics\",421:\"Biology and biochemistry\",721:\"Medicine\",\n",
    "                214:\"Design\",52:\"Engineering and engineering trades\"}\n"
   ]
  },
  {
   "cell_type": "code",
   "execution_count": 221,
   "id": "7be8260d",
   "metadata": {},
   "outputs": [],
   "source": [
    "dict2_={222:\"Foreign languages\", 34:\"Business and administration\",340:\"Business and administration (broad)\", 314:\"Economics\"\n",
    "                ,345:\"Management and administration\", 38:\"_\"\n",
    "                ,313:\"_\",721:\"Medicine\", 52:\"Engineering and engineering trades\",\n",
    "                514:\"_\", 223:\"_\" }"
   ]
  },
  {
   "cell_type": "code",
   "execution_count": 224,
   "id": "8dd1564d",
   "metadata": {},
   "outputs": [
    {
     "ename": "ValueError",
     "evalue": "Length mismatch: Expected axis has 10 elements, new values have 5 elements",
     "output_type": "error",
     "traceback": [
      "\u001b[0;31m---------------------------------------------------------------------------\u001b[0m",
      "\u001b[0;31mValueError\u001b[0m                                Traceback (most recent call last)",
      "\u001b[0;32m/tmp/ipykernel_5379/3409907784.py\u001b[0m in \u001b[0;36m<module>\u001b[0;34m\u001b[0m\n\u001b[0;32m----> 1\u001b[0;31m \u001b[0mtop_10_2\u001b[0m\u001b[0;34m.\u001b[0m\u001b[0mindex\u001b[0m \u001b[0;34m=\u001b[0m \u001b[0mnp\u001b[0m\u001b[0;34m.\u001b[0m\u001b[0marray\u001b[0m\u001b[0;34m(\u001b[0m\u001b[0ms\u001b[0m\u001b[0;34m.\u001b[0m\u001b[0mmap\u001b[0m\u001b[0;34m(\u001b[0m\u001b[0mdict2_\u001b[0m\u001b[0;34m)\u001b[0m\u001b[0;34m.\u001b[0m\u001b[0mfillna\u001b[0m\u001b[0;34m(\u001b[0m\u001b[0ms\u001b[0m\u001b[0;34m)\u001b[0m\u001b[0;34m,\u001b[0m\u001b[0mndmin\u001b[0m \u001b[0;34m=\u001b[0m\u001b[0;36m1\u001b[0m\u001b[0;34m)\u001b[0m\u001b[0;34m\u001b[0m\u001b[0;34m\u001b[0m\u001b[0m\n\u001b[0m\u001b[1;32m      2\u001b[0m \u001b[0mtop_10_2\u001b[0m\u001b[0;34m.\u001b[0m\u001b[0mreset_index\u001b[0m\u001b[0;34m(\u001b[0m\u001b[0minplace\u001b[0m\u001b[0;34m=\u001b[0m\u001b[0;32mTrue\u001b[0m\u001b[0;34m)\u001b[0m\u001b[0;34m\u001b[0m\u001b[0;34m\u001b[0m\u001b[0m\n",
      "\u001b[0;32m~/miniconda3/lib/python3.9/site-packages/pandas/core/generic.py\u001b[0m in \u001b[0;36m__setattr__\u001b[0;34m(self, name, value)\u001b[0m\n\u001b[1;32m   5498\u001b[0m         \u001b[0;32mtry\u001b[0m\u001b[0;34m:\u001b[0m\u001b[0;34m\u001b[0m\u001b[0;34m\u001b[0m\u001b[0m\n\u001b[1;32m   5499\u001b[0m             \u001b[0mobject\u001b[0m\u001b[0;34m.\u001b[0m\u001b[0m__getattribute__\u001b[0m\u001b[0;34m(\u001b[0m\u001b[0mself\u001b[0m\u001b[0;34m,\u001b[0m \u001b[0mname\u001b[0m\u001b[0;34m)\u001b[0m\u001b[0;34m\u001b[0m\u001b[0;34m\u001b[0m\u001b[0m\n\u001b[0;32m-> 5500\u001b[0;31m             \u001b[0;32mreturn\u001b[0m \u001b[0mobject\u001b[0m\u001b[0;34m.\u001b[0m\u001b[0m__setattr__\u001b[0m\u001b[0;34m(\u001b[0m\u001b[0mself\u001b[0m\u001b[0;34m,\u001b[0m \u001b[0mname\u001b[0m\u001b[0;34m,\u001b[0m \u001b[0mvalue\u001b[0m\u001b[0;34m)\u001b[0m\u001b[0;34m\u001b[0m\u001b[0;34m\u001b[0m\u001b[0m\n\u001b[0m\u001b[1;32m   5501\u001b[0m         \u001b[0;32mexcept\u001b[0m \u001b[0mAttributeError\u001b[0m\u001b[0;34m:\u001b[0m\u001b[0;34m\u001b[0m\u001b[0;34m\u001b[0m\u001b[0m\n\u001b[1;32m   5502\u001b[0m             \u001b[0;32mpass\u001b[0m\u001b[0;34m\u001b[0m\u001b[0;34m\u001b[0m\u001b[0m\n",
      "\u001b[0;32m~/miniconda3/lib/python3.9/site-packages/pandas/_libs/properties.pyx\u001b[0m in \u001b[0;36mpandas._libs.properties.AxisProperty.__set__\u001b[0;34m()\u001b[0m\n",
      "\u001b[0;32m~/miniconda3/lib/python3.9/site-packages/pandas/core/generic.py\u001b[0m in \u001b[0;36m_set_axis\u001b[0;34m(self, axis, labels)\u001b[0m\n\u001b[1;32m    764\u001b[0m     \u001b[0;32mdef\u001b[0m \u001b[0m_set_axis\u001b[0m\u001b[0;34m(\u001b[0m\u001b[0mself\u001b[0m\u001b[0;34m,\u001b[0m \u001b[0maxis\u001b[0m\u001b[0;34m:\u001b[0m \u001b[0mint\u001b[0m\u001b[0;34m,\u001b[0m \u001b[0mlabels\u001b[0m\u001b[0;34m:\u001b[0m \u001b[0mIndex\u001b[0m\u001b[0;34m)\u001b[0m \u001b[0;34m->\u001b[0m \u001b[0;32mNone\u001b[0m\u001b[0;34m:\u001b[0m\u001b[0;34m\u001b[0m\u001b[0;34m\u001b[0m\u001b[0m\n\u001b[1;32m    765\u001b[0m         \u001b[0mlabels\u001b[0m \u001b[0;34m=\u001b[0m \u001b[0mensure_index\u001b[0m\u001b[0;34m(\u001b[0m\u001b[0mlabels\u001b[0m\u001b[0;34m)\u001b[0m\u001b[0;34m\u001b[0m\u001b[0;34m\u001b[0m\u001b[0m\n\u001b[0;32m--> 766\u001b[0;31m         \u001b[0mself\u001b[0m\u001b[0;34m.\u001b[0m\u001b[0m_mgr\u001b[0m\u001b[0;34m.\u001b[0m\u001b[0mset_axis\u001b[0m\u001b[0;34m(\u001b[0m\u001b[0maxis\u001b[0m\u001b[0;34m,\u001b[0m \u001b[0mlabels\u001b[0m\u001b[0;34m)\u001b[0m\u001b[0;34m\u001b[0m\u001b[0;34m\u001b[0m\u001b[0m\n\u001b[0m\u001b[1;32m    767\u001b[0m         \u001b[0mself\u001b[0m\u001b[0;34m.\u001b[0m\u001b[0m_clear_item_cache\u001b[0m\u001b[0;34m(\u001b[0m\u001b[0;34m)\u001b[0m\u001b[0;34m\u001b[0m\u001b[0;34m\u001b[0m\u001b[0m\n\u001b[1;32m    768\u001b[0m \u001b[0;34m\u001b[0m\u001b[0m\n",
      "\u001b[0;32m~/miniconda3/lib/python3.9/site-packages/pandas/core/internals/managers.py\u001b[0m in \u001b[0;36mset_axis\u001b[0;34m(self, axis, new_labels)\u001b[0m\n\u001b[1;32m    214\u001b[0m     \u001b[0;32mdef\u001b[0m \u001b[0mset_axis\u001b[0m\u001b[0;34m(\u001b[0m\u001b[0mself\u001b[0m\u001b[0;34m,\u001b[0m \u001b[0maxis\u001b[0m\u001b[0;34m:\u001b[0m \u001b[0mint\u001b[0m\u001b[0;34m,\u001b[0m \u001b[0mnew_labels\u001b[0m\u001b[0;34m:\u001b[0m \u001b[0mIndex\u001b[0m\u001b[0;34m)\u001b[0m \u001b[0;34m->\u001b[0m \u001b[0;32mNone\u001b[0m\u001b[0;34m:\u001b[0m\u001b[0;34m\u001b[0m\u001b[0;34m\u001b[0m\u001b[0m\n\u001b[1;32m    215\u001b[0m         \u001b[0;31m# Caller is responsible for ensuring we have an Index object.\u001b[0m\u001b[0;34m\u001b[0m\u001b[0;34m\u001b[0m\u001b[0;34m\u001b[0m\u001b[0m\n\u001b[0;32m--> 216\u001b[0;31m         \u001b[0mself\u001b[0m\u001b[0;34m.\u001b[0m\u001b[0m_validate_set_axis\u001b[0m\u001b[0;34m(\u001b[0m\u001b[0maxis\u001b[0m\u001b[0;34m,\u001b[0m \u001b[0mnew_labels\u001b[0m\u001b[0;34m)\u001b[0m\u001b[0;34m\u001b[0m\u001b[0;34m\u001b[0m\u001b[0m\n\u001b[0m\u001b[1;32m    217\u001b[0m         \u001b[0mself\u001b[0m\u001b[0;34m.\u001b[0m\u001b[0maxes\u001b[0m\u001b[0;34m[\u001b[0m\u001b[0maxis\u001b[0m\u001b[0;34m]\u001b[0m \u001b[0;34m=\u001b[0m \u001b[0mnew_labels\u001b[0m\u001b[0;34m\u001b[0m\u001b[0;34m\u001b[0m\u001b[0m\n\u001b[1;32m    218\u001b[0m \u001b[0;34m\u001b[0m\u001b[0m\n",
      "\u001b[0;32m~/miniconda3/lib/python3.9/site-packages/pandas/core/internals/base.py\u001b[0m in \u001b[0;36m_validate_set_axis\u001b[0;34m(self, axis, new_labels)\u001b[0m\n\u001b[1;32m     55\u001b[0m \u001b[0;34m\u001b[0m\u001b[0m\n\u001b[1;32m     56\u001b[0m         \u001b[0;32melif\u001b[0m \u001b[0mnew_len\u001b[0m \u001b[0;34m!=\u001b[0m \u001b[0mold_len\u001b[0m\u001b[0;34m:\u001b[0m\u001b[0;34m\u001b[0m\u001b[0;34m\u001b[0m\u001b[0m\n\u001b[0;32m---> 57\u001b[0;31m             raise ValueError(\n\u001b[0m\u001b[1;32m     58\u001b[0m                 \u001b[0;34mf\"Length mismatch: Expected axis has {old_len} elements, new \"\u001b[0m\u001b[0;34m\u001b[0m\u001b[0;34m\u001b[0m\u001b[0m\n\u001b[1;32m     59\u001b[0m                 \u001b[0;34mf\"values have {new_len} elements\"\u001b[0m\u001b[0;34m\u001b[0m\u001b[0;34m\u001b[0m\u001b[0m\n",
      "\u001b[0;31mValueError\u001b[0m: Length mismatch: Expected axis has 10 elements, new values have 5 elements"
     ]
    }
   ],
   "source": [
    "top_10_2.index = np.array(s.map(dict2_).fillna(s),ndmin =1)\n",
    "top_10_2.reset_index(inplace=True)\n"
   ]
  },
  {
   "cell_type": "code",
   "execution_count": 222,
   "id": "9c8e0294",
   "metadata": {},
   "outputs": [
    {
     "name": "stderr",
     "output_type": "stream",
     "text": [
      "/home/sluftsluft/miniconda3/lib/python3.9/site-packages/pandas/core/frame.py:5039: SettingWithCopyWarning: \n",
      "A value is trying to be set on a copy of a slice from a DataFrame\n",
      "\n",
      "See the caveats in the documentation: https://pandas.pydata.org/pandas-docs/stable/user_guide/indexing.html#returning-a-view-versus-a-copy\n",
      "  return super().rename(\n"
     ]
    }
   ],
   "source": [
    "top_10_2.rename(columns={\"index\": \"Subject area\", \"SUBJECTAREA\": \"Number of student\"},inplace=True)"
   ]
  },
  {
   "cell_type": "code",
   "execution_count": 223,
   "id": "074de043",
   "metadata": {},
   "outputs": [
    {
     "data": {
      "text/html": [
       "<div>\n",
       "<style scoped>\n",
       "    .dataframe tbody tr th:only-of-type {\n",
       "        vertical-align: middle;\n",
       "    }\n",
       "\n",
       "    .dataframe tbody tr th {\n",
       "        vertical-align: top;\n",
       "    }\n",
       "\n",
       "    .dataframe thead th {\n",
       "        text-align: right;\n",
       "    }\n",
       "</style>\n",
       "<table border=\"1\" class=\"dataframe\">\n",
       "  <thead>\n",
       "    <tr style=\"text-align: right;\">\n",
       "      <th></th>\n",
       "      <th>Number of student</th>\n",
       "    </tr>\n",
       "  </thead>\n",
       "  <tbody>\n",
       "    <tr>\n",
       "      <th>222</th>\n",
       "      <td>37749</td>\n",
       "    </tr>\n",
       "    <tr>\n",
       "      <th>34</th>\n",
       "      <td>11792</td>\n",
       "    </tr>\n",
       "    <tr>\n",
       "      <th>340</th>\n",
       "      <td>10813</td>\n",
       "    </tr>\n",
       "    <tr>\n",
       "      <th>314</th>\n",
       "      <td>6816</td>\n",
       "    </tr>\n",
       "    <tr>\n",
       "      <th>38</th>\n",
       "      <td>6192</td>\n",
       "    </tr>\n",
       "    <tr>\n",
       "      <th>313</th>\n",
       "      <td>5679</td>\n",
       "    </tr>\n",
       "    <tr>\n",
       "      <th>721</th>\n",
       "      <td>4398</td>\n",
       "    </tr>\n",
       "    <tr>\n",
       "      <th>52</th>\n",
       "      <td>4029</td>\n",
       "    </tr>\n",
       "    <tr>\n",
       "      <th>581</th>\n",
       "      <td>3848</td>\n",
       "    </tr>\n",
       "    <tr>\n",
       "      <th>223</th>\n",
       "      <td>3644</td>\n",
       "    </tr>\n",
       "  </tbody>\n",
       "</table>\n",
       "</div>"
      ],
      "text/plain": [
       "     Number of student\n",
       "222              37749\n",
       "34               11792\n",
       "340              10813\n",
       "314               6816\n",
       "38                6192\n",
       "313               5679\n",
       "721               4398\n",
       "52                4029\n",
       "581               3848\n",
       "223               3644"
      ]
     },
     "execution_count": 223,
     "metadata": {},
     "output_type": "execute_result"
    }
   ],
   "source": [
    "top_10_2"
   ]
  },
  {
   "cell_type": "code",
   "execution_count": 216,
   "id": "003bc0ff",
   "metadata": {},
   "outputs": [
    {
     "ename": "ValueError",
     "evalue": "Length mismatch: Expected axis has 10 elements, new values have 5 elements",
     "output_type": "error",
     "traceback": [
      "\u001b[0;31m---------------------------------------------------------------------------\u001b[0m",
      "\u001b[0;31mValueError\u001b[0m                                Traceback (most recent call last)",
      "\u001b[0;32m/tmp/ipykernel_5379/1736999571.py\u001b[0m in \u001b[0;36m<module>\u001b[0;34m\u001b[0m\n\u001b[0;32m----> 1\u001b[0;31m \u001b[0mtop_10_2\u001b[0m\u001b[0;34m.\u001b[0m\u001b[0mindex\u001b[0m \u001b[0;34m=\u001b[0m \u001b[0mnp\u001b[0m\u001b[0;34m.\u001b[0m\u001b[0marray\u001b[0m\u001b[0;34m(\u001b[0m\u001b[0ms\u001b[0m\u001b[0;34m.\u001b[0m\u001b[0mmap\u001b[0m\u001b[0;34m(\u001b[0m\u001b[0mdict_2\u001b[0m\u001b[0;34m)\u001b[0m\u001b[0;34m.\u001b[0m\u001b[0mfillna\u001b[0m\u001b[0;34m(\u001b[0m\u001b[0ms\u001b[0m\u001b[0;34m)\u001b[0m\u001b[0;34m,\u001b[0m\u001b[0mndmin\u001b[0m \u001b[0;34m=\u001b[0m\u001b[0;36m1\u001b[0m\u001b[0;34m)\u001b[0m\u001b[0;34m\u001b[0m\u001b[0;34m\u001b[0m\u001b[0m\n\u001b[0m\u001b[1;32m      2\u001b[0m \u001b[0mtop_10_2\u001b[0m\u001b[0;34m\u001b[0m\u001b[0;34m\u001b[0m\u001b[0m\n\u001b[1;32m      3\u001b[0m \u001b[0mtop_10_2\u001b[0m\u001b[0;34m.\u001b[0m\u001b[0mplot\u001b[0m\u001b[0;34m.\u001b[0m\u001b[0mbarh\u001b[0m\u001b[0;34m(\u001b[0m\u001b[0mxlabel\u001b[0m\u001b[0;34m=\u001b[0m\u001b[0;34m'Subjects'\u001b[0m\u001b[0;34m,\u001b[0m \u001b[0mrot\u001b[0m \u001b[0;34m=\u001b[0m \u001b[0;36m0\u001b[0m\u001b[0;34m,\u001b[0m \u001b[0mtitle\u001b[0m \u001b[0;34m=\u001b[0m \u001b[0;34m'Number of students'\u001b[0m\u001b[0;34m,\u001b[0m \u001b[0mlegend\u001b[0m \u001b[0;34m=\u001b[0m \u001b[0;32mFalse\u001b[0m\u001b[0;34m)\u001b[0m\u001b[0;34m\u001b[0m\u001b[0;34m\u001b[0m\u001b[0m\n",
      "\u001b[0;32m~/miniconda3/lib/python3.9/site-packages/pandas/core/generic.py\u001b[0m in \u001b[0;36m__setattr__\u001b[0;34m(self, name, value)\u001b[0m\n\u001b[1;32m   5498\u001b[0m         \u001b[0;32mtry\u001b[0m\u001b[0;34m:\u001b[0m\u001b[0;34m\u001b[0m\u001b[0;34m\u001b[0m\u001b[0m\n\u001b[1;32m   5499\u001b[0m             \u001b[0mobject\u001b[0m\u001b[0;34m.\u001b[0m\u001b[0m__getattribute__\u001b[0m\u001b[0;34m(\u001b[0m\u001b[0mself\u001b[0m\u001b[0;34m,\u001b[0m \u001b[0mname\u001b[0m\u001b[0;34m)\u001b[0m\u001b[0;34m\u001b[0m\u001b[0;34m\u001b[0m\u001b[0m\n\u001b[0;32m-> 5500\u001b[0;31m             \u001b[0;32mreturn\u001b[0m \u001b[0mobject\u001b[0m\u001b[0;34m.\u001b[0m\u001b[0m__setattr__\u001b[0m\u001b[0;34m(\u001b[0m\u001b[0mself\u001b[0m\u001b[0;34m,\u001b[0m \u001b[0mname\u001b[0m\u001b[0;34m,\u001b[0m \u001b[0mvalue\u001b[0m\u001b[0;34m)\u001b[0m\u001b[0;34m\u001b[0m\u001b[0;34m\u001b[0m\u001b[0m\n\u001b[0m\u001b[1;32m   5501\u001b[0m         \u001b[0;32mexcept\u001b[0m \u001b[0mAttributeError\u001b[0m\u001b[0;34m:\u001b[0m\u001b[0;34m\u001b[0m\u001b[0;34m\u001b[0m\u001b[0m\n\u001b[1;32m   5502\u001b[0m             \u001b[0;32mpass\u001b[0m\u001b[0;34m\u001b[0m\u001b[0;34m\u001b[0m\u001b[0m\n",
      "\u001b[0;32m~/miniconda3/lib/python3.9/site-packages/pandas/_libs/properties.pyx\u001b[0m in \u001b[0;36mpandas._libs.properties.AxisProperty.__set__\u001b[0;34m()\u001b[0m\n",
      "\u001b[0;32m~/miniconda3/lib/python3.9/site-packages/pandas/core/generic.py\u001b[0m in \u001b[0;36m_set_axis\u001b[0;34m(self, axis, labels)\u001b[0m\n\u001b[1;32m    764\u001b[0m     \u001b[0;32mdef\u001b[0m \u001b[0m_set_axis\u001b[0m\u001b[0;34m(\u001b[0m\u001b[0mself\u001b[0m\u001b[0;34m,\u001b[0m \u001b[0maxis\u001b[0m\u001b[0;34m:\u001b[0m \u001b[0mint\u001b[0m\u001b[0;34m,\u001b[0m \u001b[0mlabels\u001b[0m\u001b[0;34m:\u001b[0m \u001b[0mIndex\u001b[0m\u001b[0;34m)\u001b[0m \u001b[0;34m->\u001b[0m \u001b[0;32mNone\u001b[0m\u001b[0;34m:\u001b[0m\u001b[0;34m\u001b[0m\u001b[0;34m\u001b[0m\u001b[0m\n\u001b[1;32m    765\u001b[0m         \u001b[0mlabels\u001b[0m \u001b[0;34m=\u001b[0m \u001b[0mensure_index\u001b[0m\u001b[0;34m(\u001b[0m\u001b[0mlabels\u001b[0m\u001b[0;34m)\u001b[0m\u001b[0;34m\u001b[0m\u001b[0;34m\u001b[0m\u001b[0m\n\u001b[0;32m--> 766\u001b[0;31m         \u001b[0mself\u001b[0m\u001b[0;34m.\u001b[0m\u001b[0m_mgr\u001b[0m\u001b[0;34m.\u001b[0m\u001b[0mset_axis\u001b[0m\u001b[0;34m(\u001b[0m\u001b[0maxis\u001b[0m\u001b[0;34m,\u001b[0m \u001b[0mlabels\u001b[0m\u001b[0;34m)\u001b[0m\u001b[0;34m\u001b[0m\u001b[0;34m\u001b[0m\u001b[0m\n\u001b[0m\u001b[1;32m    767\u001b[0m         \u001b[0mself\u001b[0m\u001b[0;34m.\u001b[0m\u001b[0m_clear_item_cache\u001b[0m\u001b[0;34m(\u001b[0m\u001b[0;34m)\u001b[0m\u001b[0;34m\u001b[0m\u001b[0;34m\u001b[0m\u001b[0m\n\u001b[1;32m    768\u001b[0m \u001b[0;34m\u001b[0m\u001b[0m\n",
      "\u001b[0;32m~/miniconda3/lib/python3.9/site-packages/pandas/core/internals/managers.py\u001b[0m in \u001b[0;36mset_axis\u001b[0;34m(self, axis, new_labels)\u001b[0m\n\u001b[1;32m    214\u001b[0m     \u001b[0;32mdef\u001b[0m \u001b[0mset_axis\u001b[0m\u001b[0;34m(\u001b[0m\u001b[0mself\u001b[0m\u001b[0;34m,\u001b[0m \u001b[0maxis\u001b[0m\u001b[0;34m:\u001b[0m \u001b[0mint\u001b[0m\u001b[0;34m,\u001b[0m \u001b[0mnew_labels\u001b[0m\u001b[0;34m:\u001b[0m \u001b[0mIndex\u001b[0m\u001b[0;34m)\u001b[0m \u001b[0;34m->\u001b[0m \u001b[0;32mNone\u001b[0m\u001b[0;34m:\u001b[0m\u001b[0;34m\u001b[0m\u001b[0;34m\u001b[0m\u001b[0m\n\u001b[1;32m    215\u001b[0m         \u001b[0;31m# Caller is responsible for ensuring we have an Index object.\u001b[0m\u001b[0;34m\u001b[0m\u001b[0;34m\u001b[0m\u001b[0;34m\u001b[0m\u001b[0m\n\u001b[0;32m--> 216\u001b[0;31m         \u001b[0mself\u001b[0m\u001b[0;34m.\u001b[0m\u001b[0m_validate_set_axis\u001b[0m\u001b[0;34m(\u001b[0m\u001b[0maxis\u001b[0m\u001b[0;34m,\u001b[0m \u001b[0mnew_labels\u001b[0m\u001b[0;34m)\u001b[0m\u001b[0;34m\u001b[0m\u001b[0;34m\u001b[0m\u001b[0m\n\u001b[0m\u001b[1;32m    217\u001b[0m         \u001b[0mself\u001b[0m\u001b[0;34m.\u001b[0m\u001b[0maxes\u001b[0m\u001b[0;34m[\u001b[0m\u001b[0maxis\u001b[0m\u001b[0;34m]\u001b[0m \u001b[0;34m=\u001b[0m \u001b[0mnew_labels\u001b[0m\u001b[0;34m\u001b[0m\u001b[0;34m\u001b[0m\u001b[0m\n\u001b[1;32m    218\u001b[0m \u001b[0;34m\u001b[0m\u001b[0m\n",
      "\u001b[0;32m~/miniconda3/lib/python3.9/site-packages/pandas/core/internals/base.py\u001b[0m in \u001b[0;36m_validate_set_axis\u001b[0;34m(self, axis, new_labels)\u001b[0m\n\u001b[1;32m     55\u001b[0m \u001b[0;34m\u001b[0m\u001b[0m\n\u001b[1;32m     56\u001b[0m         \u001b[0;32melif\u001b[0m \u001b[0mnew_len\u001b[0m \u001b[0;34m!=\u001b[0m \u001b[0mold_len\u001b[0m\u001b[0;34m:\u001b[0m\u001b[0;34m\u001b[0m\u001b[0;34m\u001b[0m\u001b[0m\n\u001b[0;32m---> 57\u001b[0;31m             raise ValueError(\n\u001b[0m\u001b[1;32m     58\u001b[0m                 \u001b[0;34mf\"Length mismatch: Expected axis has {old_len} elements, new \"\u001b[0m\u001b[0;34m\u001b[0m\u001b[0;34m\u001b[0m\u001b[0m\n\u001b[1;32m     59\u001b[0m                 \u001b[0;34mf\"values have {new_len} elements\"\u001b[0m\u001b[0;34m\u001b[0m\u001b[0;34m\u001b[0m\u001b[0m\n",
      "\u001b[0;31mValueError\u001b[0m: Length mismatch: Expected axis has 10 elements, new values have 5 elements"
     ]
    }
   ],
   "source": [
    "top_10_2.index = np.array(s.map(dict_2).fillna(s),ndmin =1)\n",
    "top_10_2  \n",
    "top_10_2.plot.barh(xlabel='Subjects', rot = 0, title = 'Number of students', legend = False)"
   ]
  },
  {
   "cell_type": "markdown",
   "id": "0e6b6e98",
   "metadata": {},
   "source": [
    "In this case, veterinary is not the main exchange field in comparison to placement exchange. It is relevant to see that foreign languages is the top exchange program followed by business and administration"
   ]
  },
  {
   "cell_type": "markdown",
   "id": "00946923",
   "metadata": {},
   "source": [
    "### 4.3 Analysis of study language"
   ]
  },
  {
   "cell_type": "code",
   "execution_count": 164,
   "id": "9d3ddee8",
   "metadata": {},
   "outputs": [
    {
     "data": {
      "text/html": [
       "<div>\n",
       "<style scoped>\n",
       "    .dataframe tbody tr th:only-of-type {\n",
       "        vertical-align: middle;\n",
       "    }\n",
       "\n",
       "    .dataframe tbody tr th {\n",
       "        vertical-align: top;\n",
       "    }\n",
       "\n",
       "    .dataframe thead th {\n",
       "        text-align: right;\n",
       "    }\n",
       "</style>\n",
       "<table border=\"1\" class=\"dataframe\">\n",
       "  <thead>\n",
       "    <tr style=\"text-align: right;\">\n",
       "      <th></th>\n",
       "      <th>TAUGHTHOSTLANG</th>\n",
       "    </tr>\n",
       "  </thead>\n",
       "  <tbody>\n",
       "    <tr>\n",
       "      <th>Y</th>\n",
       "      <td>109872</td>\n",
       "    </tr>\n",
       "    <tr>\n",
       "      <th>N</th>\n",
       "      <td>71437</td>\n",
       "    </tr>\n",
       "  </tbody>\n",
       "</table>\n",
       "</div>"
      ],
      "text/plain": [
       "   TAUGHTHOSTLANG\n",
       "Y          109872\n",
       "N           71437"
      ]
     },
     "execution_count": 164,
     "metadata": {},
     "output_type": "execute_result"
    }
   ],
   "source": [
    "taught_host_lang_2=pd.DataFrame(new_data_2.TAUGHTHOSTLANG.value_counts())\n",
    "taught_host_lang_2"
   ]
  },
  {
   "cell_type": "code",
   "execution_count": 165,
   "id": "f7349d4c",
   "metadata": {},
   "outputs": [],
   "source": [
    "taught_host_lang_2.rename(columns={\"index\": \"Yes/No\", \"TAUGHTHOSTLANG\": \"Number of student\"},inplace=True)"
   ]
  },
  {
   "cell_type": "code",
   "execution_count": 166,
   "id": "bc6c832e",
   "metadata": {},
   "outputs": [
    {
     "data": {
      "image/png": "[encoded data removed]",
      "text/plain": [
       "<Figure size 360x360 with 1 Axes>"
      ]
     },
     "metadata": {},
     "output_type": "display_data"
    }
   ],
   "source": [
    "plot_2_3 = taught_host_lang_2.plot.pie(y='Number of student',autopct = \"%.2f\", figsize=(5, 5)).legend([\"Yes\",\"No\"])"
   ]
  },
  {
   "cell_type": "markdown",
   "id": "6b4a4c1c",
   "metadata": {},
   "source": [
    "In this case similar values were obtained in comparison to the work placement language, but being slightly superior the numbers in this case"
   ]
  },
  {
   "cell_type": "markdown",
   "id": "cf428acd",
   "metadata": {},
   "source": [
    "### 4.4 Conclusion\n",
    "\n",
    "When comparing the two datasets (with placement and without placement) it is possible to see that there are small differences. It can be concluded that most of the exchange program is for study purposes. Furthermore, a higher percentage of students tend to learn the local language when they are on an academic field. They majority of exchange programs use english as main language."
   ]
  },
  {
   "cell_type": "code",
   "execution_count": null,
   "id": "6165fc51",
   "metadata": {},
   "outputs": [],
   "source": []
  }
 ],
 "metadata": {
  "kernelspec": {
   "display_name": "Python 3",
   "language": "python",
   "name": "python3"
  },
  "language_info": {
   "codemirror_mode": {
    "name": "ipython",
    "version": 3
   },
   "file_extension": ".py",
   "mimetype": "text/x-python",
   "name": "python",
   "nbconvert_exporter": "python",
   "pygments_lexer": "ipython3",
   "version": "3.9.5"
  }
 },
 "nbformat": 4,
 "nbformat_minor": 5
}
