{
 "cells": [
  {
   "cell_type": "code",
   "execution_count": 255,
   "id": "7a87202f",
   "metadata": {},
   "outputs": [],
   "source": [
    "import pandas as pd"
   ]
  },
  {
   "cell_type": "code",
   "execution_count": 256,
   "id": "fbe0dc51",
   "metadata": {},
   "outputs": [],
   "source": [
    "import numpy as np"
   ]
  },
  {
   "cell_type": "code",
   "execution_count": 257,
   "id": "9aa921e4",
   "metadata": {},
   "outputs": [
    {
     "name": "stderr",
     "output_type": "stream",
     "text": [
      "C:\\Users\\khoip\\anaconda3\\lib\\site-packages\\IPython\\core\\interactiveshell.py:3165: DtypeWarning: Columns (6,20) have mixed types.Specify dtype option on import or set low_memory=False.\n",
      "  has_raised = await self.run_ast_nodes(code_ast.body, cell_name,\n"
     ]
    }
   ],
   "source": [
    "data=pd.read_csv(\"student_data_2010.csv\",error_bad_lines=False,sep=\";\")"
   ]
  },
  {
   "cell_type": "code",
   "execution_count": 258,
   "id": "727e645f",
   "metadata": {
    "scrolled": true
   },
   "outputs": [
    {
     "data": {
      "text/html": [
       "<div>\n",
       "<style scoped>\n",
       "    .dataframe tbody tr th:only-of-type {\n",
       "        vertical-align: middle;\n",
       "    }\n",
       "\n",
       "    .dataframe tbody tr th {\n",
       "        vertical-align: top;\n",
       "    }\n",
       "\n",
       "    .dataframe thead th {\n",
       "        text-align: right;\n",
       "    }\n",
       "</style>\n",
       "<table border=\"1\" class=\"dataframe\">\n",
       "  <thead>\n",
       "    <tr style=\"text-align: right;\">\n",
       "      <th></th>\n",
       "      <th>HOMEINSTITUTION</th>\n",
       "      <th>COUNTRYCODEOFHOMEINSTITUTION</th>\n",
       "      <th>AGE</th>\n",
       "      <th>GENDER</th>\n",
       "      <th>NATIONALITY</th>\n",
       "      <th>SUBJECTAREA</th>\n",
       "      <th>LEVELSTUDY</th>\n",
       "      <th>YEARSPRIOR</th>\n",
       "      <th>MOBILITYTYPE</th>\n",
       "      <th>HOSTINSTITUTION</th>\n",
       "      <th>...</th>\n",
       "      <th>ECTSCREDITSWORK</th>\n",
       "      <th>TOTALECTSCREDITS</th>\n",
       "      <th>SEVSUPPLEMENT</th>\n",
       "      <th>TAUGHTHOSTLANG</th>\n",
       "      <th>LANGUAGETAUGHT</th>\n",
       "      <th>LINGPREPARATION</th>\n",
       "      <th>STUDYGRANT</th>\n",
       "      <th>PLACEMENTGRANT</th>\n",
       "      <th>PREVIOUSPARTICIPATION</th>\n",
       "      <th>QUALIFICATIONATHOST</th>\n",
       "    </tr>\n",
       "  </thead>\n",
       "  <tbody>\n",
       "    <tr>\n",
       "      <th>0</th>\n",
       "      <td>HU BUDAPES02</td>\n",
       "      <td>HU</td>\n",
       "      <td>25</td>\n",
       "      <td>M</td>\n",
       "      <td>HU</td>\n",
       "      <td>521</td>\n",
       "      <td>3</td>\n",
       "      <td>1</td>\n",
       "      <td>P</td>\n",
       "      <td>NaN</td>\n",
       "      <td>...</td>\n",
       "      <td>0</td>\n",
       "      <td>0</td>\n",
       "      <td>0</td>\n",
       "      <td>N</td>\n",
       "      <td>DE</td>\n",
       "      <td>NN</td>\n",
       "      <td>0.0</td>\n",
       "      <td>900.0</td>\n",
       "      <td>N</td>\n",
       "      <td>N</td>\n",
       "    </tr>\n",
       "    <tr>\n",
       "      <th>1</th>\n",
       "      <td>HU BUDAPES02</td>\n",
       "      <td>HU</td>\n",
       "      <td>28</td>\n",
       "      <td>M</td>\n",
       "      <td>HU</td>\n",
       "      <td>522</td>\n",
       "      <td>3</td>\n",
       "      <td>4</td>\n",
       "      <td>P</td>\n",
       "      <td>NaN</td>\n",
       "      <td>...</td>\n",
       "      <td>0</td>\n",
       "      <td>0</td>\n",
       "      <td>0</td>\n",
       "      <td>N</td>\n",
       "      <td>DE</td>\n",
       "      <td>NN</td>\n",
       "      <td>0.0</td>\n",
       "      <td>3600.0</td>\n",
       "      <td>N</td>\n",
       "      <td>N</td>\n",
       "    </tr>\n",
       "    <tr>\n",
       "      <th>2</th>\n",
       "      <td>HU BUDAPES02</td>\n",
       "      <td>HU</td>\n",
       "      <td>25</td>\n",
       "      <td>F</td>\n",
       "      <td>HU</td>\n",
       "      <td>581</td>\n",
       "      <td>2</td>\n",
       "      <td>5</td>\n",
       "      <td>P</td>\n",
       "      <td>NaN</td>\n",
       "      <td>...</td>\n",
       "      <td>0</td>\n",
       "      <td>0</td>\n",
       "      <td>0</td>\n",
       "      <td>N</td>\n",
       "      <td>EN</td>\n",
       "      <td>NN</td>\n",
       "      <td>0.0</td>\n",
       "      <td>1500.0</td>\n",
       "      <td>N</td>\n",
       "      <td>N</td>\n",
       "    </tr>\n",
       "    <tr>\n",
       "      <th>3</th>\n",
       "      <td>HU BUDAPES02</td>\n",
       "      <td>HU</td>\n",
       "      <td>23</td>\n",
       "      <td>M</td>\n",
       "      <td>SK</td>\n",
       "      <td>582</td>\n",
       "      <td>2</td>\n",
       "      <td>4</td>\n",
       "      <td>P</td>\n",
       "      <td>NaN</td>\n",
       "      <td>...</td>\n",
       "      <td>0</td>\n",
       "      <td>0</td>\n",
       "      <td>0</td>\n",
       "      <td>N</td>\n",
       "      <td>DE</td>\n",
       "      <td>NN</td>\n",
       "      <td>0.0</td>\n",
       "      <td>900.0</td>\n",
       "      <td>N</td>\n",
       "      <td>N</td>\n",
       "    </tr>\n",
       "    <tr>\n",
       "      <th>4</th>\n",
       "      <td>HU BUDAPES02</td>\n",
       "      <td>HU</td>\n",
       "      <td>24</td>\n",
       "      <td>F</td>\n",
       "      <td>HU</td>\n",
       "      <td>581</td>\n",
       "      <td>2</td>\n",
       "      <td>5</td>\n",
       "      <td>P</td>\n",
       "      <td>NaN</td>\n",
       "      <td>...</td>\n",
       "      <td>0</td>\n",
       "      <td>0</td>\n",
       "      <td>0</td>\n",
       "      <td>N</td>\n",
       "      <td>DE</td>\n",
       "      <td>NN</td>\n",
       "      <td>0.0</td>\n",
       "      <td>1800.0</td>\n",
       "      <td>N</td>\n",
       "      <td>N</td>\n",
       "    </tr>\n",
       "  </tbody>\n",
       "</table>\n",
       "<p>5 rows × 32 columns</p>\n",
       "</div>"
      ],
      "text/plain": [
       "  HOMEINSTITUTION COUNTRYCODEOFHOMEINSTITUTION  AGE GENDER NATIONALITY  \\\n",
       "0    HU BUDAPES02                           HU   25      M          HU   \n",
       "1    HU BUDAPES02                           HU   28      M          HU   \n",
       "2    HU BUDAPES02                           HU   25      F          HU   \n",
       "3    HU BUDAPES02                           HU   23      M          SK   \n",
       "4    HU BUDAPES02                           HU   24      F          HU   \n",
       "\n",
       "   SUBJECTAREA LEVELSTUDY  YEARSPRIOR MOBILITYTYPE HOSTINSTITUTION  ...  \\\n",
       "0          521          3           1            P             NaN  ...   \n",
       "1          522          3           4            P             NaN  ...   \n",
       "2          581          2           5            P             NaN  ...   \n",
       "3          582          2           4            P             NaN  ...   \n",
       "4          581          2           5            P             NaN  ...   \n",
       "\n",
       "  ECTSCREDITSWORK TOTALECTSCREDITS SEVSUPPLEMENT TAUGHTHOSTLANG  \\\n",
       "0               0                0             0              N   \n",
       "1               0                0             0              N   \n",
       "2               0                0             0              N   \n",
       "3               0                0             0              N   \n",
       "4               0                0             0              N   \n",
       "\n",
       "  LANGUAGETAUGHT  LINGPREPARATION  STUDYGRANT PLACEMENTGRANT  \\\n",
       "0             DE               NN         0.0          900.0   \n",
       "1             DE               NN         0.0         3600.0   \n",
       "2             EN               NN         0.0         1500.0   \n",
       "3             DE               NN         0.0          900.0   \n",
       "4             DE               NN         0.0         1800.0   \n",
       "\n",
       "  PREVIOUSPARTICIPATION QUALIFICATIONATHOST  \n",
       "0                     N                   N  \n",
       "1                     N                   N  \n",
       "2                     N                   N  \n",
       "3                     N                   N  \n",
       "4                     N                   N  \n",
       "\n",
       "[5 rows x 32 columns]"
      ]
     },
     "execution_count": 258,
     "metadata": {},
     "output_type": "execute_result"
    }
   ],
   "source": [
    "data.head()"
   ]
  },
  {
   "cell_type": "code",
   "execution_count": 259,
   "id": "cfb12f03",
   "metadata": {
    "collapsed": true
   },
   "outputs": [
    {
     "data": {
      "text/html": [
       "<div>\n",
       "<style scoped>\n",
       "    .dataframe tbody tr th:only-of-type {\n",
       "        vertical-align: middle;\n",
       "    }\n",
       "\n",
       "    .dataframe tbody tr th {\n",
       "        vertical-align: top;\n",
       "    }\n",
       "\n",
       "    .dataframe thead th {\n",
       "        text-align: right;\n",
       "    }\n",
       "</style>\n",
       "<table border=\"1\" class=\"dataframe\">\n",
       "  <thead>\n",
       "    <tr style=\"text-align: right;\">\n",
       "      <th></th>\n",
       "      <th>AGE</th>\n",
       "      <th>SUBJECTAREA</th>\n",
       "      <th>YEARSPRIOR</th>\n",
       "      <th>LENGTHSTUDYPERIOD</th>\n",
       "      <th>LENGTHPLACEMENT</th>\n",
       "      <th>ECTSCREDITSSTUDY</th>\n",
       "      <th>ECTSCREDITSWORK</th>\n",
       "      <th>TOTALECTSCREDITS</th>\n",
       "      <th>SEVSUPPLEMENT</th>\n",
       "      <th>STUDYGRANT</th>\n",
       "      <th>PLACEMENTGRANT</th>\n",
       "    </tr>\n",
       "  </thead>\n",
       "  <tbody>\n",
       "    <tr>\n",
       "      <th>AGE</th>\n",
       "      <td>1.000000</td>\n",
       "      <td>0.078493</td>\n",
       "      <td>0.306658</td>\n",
       "      <td>-0.038877</td>\n",
       "      <td>0.040585</td>\n",
       "      <td>-0.074194</td>\n",
       "      <td>-0.011143</td>\n",
       "      <td>-0.086476</td>\n",
       "      <td>0.017427</td>\n",
       "      <td>-0.054869</td>\n",
       "      <td>0.042399</td>\n",
       "    </tr>\n",
       "    <tr>\n",
       "      <th>SUBJECTAREA</th>\n",
       "      <td>0.078493</td>\n",
       "      <td>1.000000</td>\n",
       "      <td>0.080222</td>\n",
       "      <td>-0.038184</td>\n",
       "      <td>0.047152</td>\n",
       "      <td>-0.043729</td>\n",
       "      <td>0.047112</td>\n",
       "      <td>-0.026345</td>\n",
       "      <td>-0.004119</td>\n",
       "      <td>-0.016517</td>\n",
       "      <td>0.042171</td>\n",
       "    </tr>\n",
       "    <tr>\n",
       "      <th>YEARSPRIOR</th>\n",
       "      <td>0.306658</td>\n",
       "      <td>0.080222</td>\n",
       "      <td>1.000000</td>\n",
       "      <td>0.065155</td>\n",
       "      <td>-0.000453</td>\n",
       "      <td>0.029501</td>\n",
       "      <td>-0.041541</td>\n",
       "      <td>0.013298</td>\n",
       "      <td>0.000712</td>\n",
       "      <td>-0.044569</td>\n",
       "      <td>-0.000487</td>\n",
       "    </tr>\n",
       "    <tr>\n",
       "      <th>LENGTHSTUDYPERIOD</th>\n",
       "      <td>-0.038877</td>\n",
       "      <td>-0.038184</td>\n",
       "      <td>0.065155</td>\n",
       "      <td>1.000000</td>\n",
       "      <td>-0.654320</td>\n",
       "      <td>0.796303</td>\n",
       "      <td>-0.474041</td>\n",
       "      <td>0.655828</td>\n",
       "      <td>0.007256</td>\n",
       "      <td>0.666006</td>\n",
       "      <td>-0.635888</td>\n",
       "    </tr>\n",
       "    <tr>\n",
       "      <th>LENGTHPLACEMENT</th>\n",
       "      <td>0.040585</td>\n",
       "      <td>0.047152</td>\n",
       "      <td>-0.000453</td>\n",
       "      <td>-0.654320</td>\n",
       "      <td>1.000000</td>\n",
       "      <td>-0.566718</td>\n",
       "      <td>0.720017</td>\n",
       "      <td>-0.291220</td>\n",
       "      <td>-0.004302</td>\n",
       "      <td>-0.509985</td>\n",
       "      <td>0.952559</td>\n",
       "    </tr>\n",
       "    <tr>\n",
       "      <th>ECTSCREDITSSTUDY</th>\n",
       "      <td>-0.074194</td>\n",
       "      <td>-0.043729</td>\n",
       "      <td>0.029501</td>\n",
       "      <td>0.796303</td>\n",
       "      <td>-0.566718</td>\n",
       "      <td>1.000000</td>\n",
       "      <td>-0.410575</td>\n",
       "      <td>0.908326</td>\n",
       "      <td>0.001270</td>\n",
       "      <td>0.547417</td>\n",
       "      <td>-0.550754</td>\n",
       "    </tr>\n",
       "    <tr>\n",
       "      <th>ECTSCREDITSWORK</th>\n",
       "      <td>-0.011143</td>\n",
       "      <td>0.047112</td>\n",
       "      <td>-0.041541</td>\n",
       "      <td>-0.474041</td>\n",
       "      <td>0.720017</td>\n",
       "      <td>-0.410575</td>\n",
       "      <td>1.000000</td>\n",
       "      <td>0.008446</td>\n",
       "      <td>-0.002981</td>\n",
       "      <td>-0.369473</td>\n",
       "      <td>0.656549</td>\n",
       "    </tr>\n",
       "    <tr>\n",
       "      <th>TOTALECTSCREDITS</th>\n",
       "      <td>-0.086476</td>\n",
       "      <td>-0.026345</td>\n",
       "      <td>0.013298</td>\n",
       "      <td>0.655828</td>\n",
       "      <td>-0.291220</td>\n",
       "      <td>0.908326</td>\n",
       "      <td>0.008446</td>\n",
       "      <td>1.000000</td>\n",
       "      <td>0.000026</td>\n",
       "      <td>0.430850</td>\n",
       "      <td>-0.302826</td>\n",
       "    </tr>\n",
       "    <tr>\n",
       "      <th>SEVSUPPLEMENT</th>\n",
       "      <td>0.017427</td>\n",
       "      <td>-0.004119</td>\n",
       "      <td>0.000712</td>\n",
       "      <td>0.007256</td>\n",
       "      <td>-0.004302</td>\n",
       "      <td>0.001270</td>\n",
       "      <td>-0.002981</td>\n",
       "      <td>0.000026</td>\n",
       "      <td>1.000000</td>\n",
       "      <td>0.010404</td>\n",
       "      <td>-0.003672</td>\n",
       "    </tr>\n",
       "    <tr>\n",
       "      <th>STUDYGRANT</th>\n",
       "      <td>-0.054869</td>\n",
       "      <td>-0.016517</td>\n",
       "      <td>-0.044569</td>\n",
       "      <td>0.666006</td>\n",
       "      <td>-0.509985</td>\n",
       "      <td>0.547417</td>\n",
       "      <td>-0.369473</td>\n",
       "      <td>0.430850</td>\n",
       "      <td>0.010404</td>\n",
       "      <td>1.000000</td>\n",
       "      <td>-0.495620</td>\n",
       "    </tr>\n",
       "    <tr>\n",
       "      <th>PLACEMENTGRANT</th>\n",
       "      <td>0.042399</td>\n",
       "      <td>0.042171</td>\n",
       "      <td>-0.000487</td>\n",
       "      <td>-0.635888</td>\n",
       "      <td>0.952559</td>\n",
       "      <td>-0.550754</td>\n",
       "      <td>0.656549</td>\n",
       "      <td>-0.302826</td>\n",
       "      <td>-0.003672</td>\n",
       "      <td>-0.495620</td>\n",
       "      <td>1.000000</td>\n",
       "    </tr>\n",
       "  </tbody>\n",
       "</table>\n",
       "</div>"
      ],
      "text/plain": [
       "                        AGE  SUBJECTAREA  YEARSPRIOR  LENGTHSTUDYPERIOD  \\\n",
       "AGE                1.000000     0.078493    0.306658          -0.038877   \n",
       "SUBJECTAREA        0.078493     1.000000    0.080222          -0.038184   \n",
       "YEARSPRIOR         0.306658     0.080222    1.000000           0.065155   \n",
       "LENGTHSTUDYPERIOD -0.038877    -0.038184    0.065155           1.000000   \n",
       "LENGTHPLACEMENT    0.040585     0.047152   -0.000453          -0.654320   \n",
       "ECTSCREDITSSTUDY  -0.074194    -0.043729    0.029501           0.796303   \n",
       "ECTSCREDITSWORK   -0.011143     0.047112   -0.041541          -0.474041   \n",
       "TOTALECTSCREDITS  -0.086476    -0.026345    0.013298           0.655828   \n",
       "SEVSUPPLEMENT      0.017427    -0.004119    0.000712           0.007256   \n",
       "STUDYGRANT        -0.054869    -0.016517   -0.044569           0.666006   \n",
       "PLACEMENTGRANT     0.042399     0.042171   -0.000487          -0.635888   \n",
       "\n",
       "                   LENGTHPLACEMENT  ECTSCREDITSSTUDY  ECTSCREDITSWORK  \\\n",
       "AGE                       0.040585         -0.074194        -0.011143   \n",
       "SUBJECTAREA               0.047152         -0.043729         0.047112   \n",
       "YEARSPRIOR               -0.000453          0.029501        -0.041541   \n",
       "LENGTHSTUDYPERIOD        -0.654320          0.796303        -0.474041   \n",
       "LENGTHPLACEMENT           1.000000         -0.566718         0.720017   \n",
       "ECTSCREDITSSTUDY         -0.566718          1.000000        -0.410575   \n",
       "ECTSCREDITSWORK           0.720017         -0.410575         1.000000   \n",
       "TOTALECTSCREDITS         -0.291220          0.908326         0.008446   \n",
       "SEVSUPPLEMENT            -0.004302          0.001270        -0.002981   \n",
       "STUDYGRANT               -0.509985          0.547417        -0.369473   \n",
       "PLACEMENTGRANT            0.952559         -0.550754         0.656549   \n",
       "\n",
       "                   TOTALECTSCREDITS  SEVSUPPLEMENT  STUDYGRANT  PLACEMENTGRANT  \n",
       "AGE                       -0.086476       0.017427   -0.054869        0.042399  \n",
       "SUBJECTAREA               -0.026345      -0.004119   -0.016517        0.042171  \n",
       "YEARSPRIOR                 0.013298       0.000712   -0.044569       -0.000487  \n",
       "LENGTHSTUDYPERIOD          0.655828       0.007256    0.666006       -0.635888  \n",
       "LENGTHPLACEMENT           -0.291220      -0.004302   -0.509985        0.952559  \n",
       "ECTSCREDITSSTUDY           0.908326       0.001270    0.547417       -0.550754  \n",
       "ECTSCREDITSWORK            0.008446      -0.002981   -0.369473        0.656549  \n",
       "TOTALECTSCREDITS           1.000000       0.000026    0.430850       -0.302826  \n",
       "SEVSUPPLEMENT              0.000026       1.000000    0.010404       -0.003672  \n",
       "STUDYGRANT                 0.430850       0.010404    1.000000       -0.495620  \n",
       "PLACEMENTGRANT            -0.302826      -0.003672   -0.495620        1.000000  "
      ]
     },
     "execution_count": 259,
     "metadata": {},
     "output_type": "execute_result"
    }
   ],
   "source": [
    "data.corr()"
   ]
  },
  {
   "cell_type": "code",
   "execution_count": 260,
   "id": "ba15134a",
   "metadata": {},
   "outputs": [
    {
     "name": "stdout",
     "output_type": "stream",
     "text": [
      "<class 'pandas.core.frame.DataFrame'>\n",
      "RangeIndex: 231408 entries, 0 to 231407\n",
      "Data columns (total 32 columns):\n",
      " #   Column                        Non-Null Count   Dtype  \n",
      "---  ------                        --------------   -----  \n",
      " 0   HOMEINSTITUTION               231408 non-null  object \n",
      " 1   COUNTRYCODEOFHOMEINSTITUTION  231408 non-null  object \n",
      " 2   AGE                           231408 non-null  int64  \n",
      " 3   GENDER                        231408 non-null  object \n",
      " 4   NATIONALITY                   231408 non-null  object \n",
      " 5   SUBJECTAREA                   231408 non-null  int64  \n",
      " 6   LEVELSTUDY                    231408 non-null  object \n",
      " 7   YEARSPRIOR                    231408 non-null  int64  \n",
      " 8   MOBILITYTYPE                  231408 non-null  object \n",
      " 9   HOSTINSTITUTION               190499 non-null  object \n",
      " 10  COUNTRYCODEOFHOSTINSTITUTION  190499 non-null  object \n",
      " 11  WORKPLACEMENT                 40964 non-null   object \n",
      " 12  COUNTRYOFWORKPLACEMENT        40964 non-null   object \n",
      " 13  ENTERPRISESIZE                40964 non-null   object \n",
      " 14  TYPEWORKSECTOR                40964 non-null   object \n",
      " 15  LENGTHSTUDYPERIOD             231408 non-null  float64\n",
      " 16  LENGTHPLACEMENT               231408 non-null  float64\n",
      " 17  SHORTDURATION                 1373 non-null    object \n",
      " 18  STUDYSTARTDATE                190501 non-null  object \n",
      " 19  PLACEMENTSTARTDATE            40983 non-null   object \n",
      " 20  CONSORTIUMAGREEMENTNUMBER     5909 non-null    object \n",
      " 21  ECTSCREDITSSTUDY              231408 non-null  int64  \n",
      " 22  ECTSCREDITSWORK               231408 non-null  int64  \n",
      " 23  TOTALECTSCREDITS              231408 non-null  int64  \n",
      " 24  SEVSUPPLEMENT                 231408 non-null  int64  \n",
      " 25  TAUGHTHOSTLANG                231408 non-null  object \n",
      " 26  LANGUAGETAUGHT                231408 non-null  object \n",
      " 27  LINGPREPARATION               231408 non-null  object \n",
      " 28  STUDYGRANT                    231408 non-null  float64\n",
      " 29  PLACEMENTGRANT                231408 non-null  float64\n",
      " 30  PREVIOUSPARTICIPATION         231408 non-null  object \n",
      " 31  QUALIFICATIONATHOST           231408 non-null  object \n",
      "dtypes: float64(4), int64(7), object(21)\n",
      "memory usage: 56.5+ MB\n"
     ]
    }
   ],
   "source": [
    "data.info()"
   ]
  },
  {
   "cell_type": "code",
   "execution_count": 261,
   "id": "87405cc0",
   "metadata": {},
   "outputs": [
    {
     "data": {
      "text/html": [
       "<div>\n",
       "<style scoped>\n",
       "    .dataframe tbody tr th:only-of-type {\n",
       "        vertical-align: middle;\n",
       "    }\n",
       "\n",
       "    .dataframe tbody tr th {\n",
       "        vertical-align: top;\n",
       "    }\n",
       "\n",
       "    .dataframe thead th {\n",
       "        text-align: right;\n",
       "    }\n",
       "</style>\n",
       "<table border=\"1\" class=\"dataframe\">\n",
       "  <thead>\n",
       "    <tr style=\"text-align: right;\">\n",
       "      <th></th>\n",
       "      <th>AGE</th>\n",
       "      <th>SUBJECTAREA</th>\n",
       "      <th>YEARSPRIOR</th>\n",
       "      <th>LENGTHSTUDYPERIOD</th>\n",
       "      <th>LENGTHPLACEMENT</th>\n",
       "      <th>ECTSCREDITSSTUDY</th>\n",
       "      <th>ECTSCREDITSWORK</th>\n",
       "      <th>TOTALECTSCREDITS</th>\n",
       "      <th>SEVSUPPLEMENT</th>\n",
       "      <th>STUDYGRANT</th>\n",
       "      <th>PLACEMENTGRANT</th>\n",
       "    </tr>\n",
       "  </thead>\n",
       "  <tbody>\n",
       "    <tr>\n",
       "      <th>count</th>\n",
       "      <td>231408.000000</td>\n",
       "      <td>231408.000000</td>\n",
       "      <td>231408.000000</td>\n",
       "      <td>231408.000000</td>\n",
       "      <td>231408.000000</td>\n",
       "      <td>231408.000000</td>\n",
       "      <td>231408.000000</td>\n",
       "      <td>231408.000000</td>\n",
       "      <td>231408.000000</td>\n",
       "      <td>231408.000000</td>\n",
       "      <td>231408.000000</td>\n",
       "    </tr>\n",
       "    <tr>\n",
       "      <th>mean</th>\n",
       "      <td>22.513971</td>\n",
       "      <td>293.449233</td>\n",
       "      <td>2.730960</td>\n",
       "      <td>5.238561</td>\n",
       "      <td>0.767268</td>\n",
       "      <td>28.491802</td>\n",
       "      <td>2.587936</td>\n",
       "      <td>31.079738</td>\n",
       "      <td>2.139913</td>\n",
       "      <td>1217.708050</td>\n",
       "      <td>280.837386</td>\n",
       "    </tr>\n",
       "    <tr>\n",
       "      <th>std</th>\n",
       "      <td>2.703065</td>\n",
       "      <td>209.686161</td>\n",
       "      <td>1.307554</td>\n",
       "      <td>3.299730</td>\n",
       "      <td>1.861627</td>\n",
       "      <td>20.720936</td>\n",
       "      <td>8.667091</td>\n",
       "      <td>18.894579</td>\n",
       "      <td>103.269691</td>\n",
       "      <td>984.106146</td>\n",
       "      <td>701.147746</td>\n",
       "    </tr>\n",
       "    <tr>\n",
       "      <th>min</th>\n",
       "      <td>17.000000</td>\n",
       "      <td>0.000000</td>\n",
       "      <td>0.000000</td>\n",
       "      <td>0.000000</td>\n",
       "      <td>0.000000</td>\n",
       "      <td>0.000000</td>\n",
       "      <td>0.000000</td>\n",
       "      <td>0.000000</td>\n",
       "      <td>0.000000</td>\n",
       "      <td>0.000000</td>\n",
       "      <td>0.000000</td>\n",
       "    </tr>\n",
       "    <tr>\n",
       "      <th>25%</th>\n",
       "      <td>21.000000</td>\n",
       "      <td>144.000000</td>\n",
       "      <td>2.000000</td>\n",
       "      <td>4.000000</td>\n",
       "      <td>0.000000</td>\n",
       "      <td>14.000000</td>\n",
       "      <td>0.000000</td>\n",
       "      <td>20.000000</td>\n",
       "      <td>0.000000</td>\n",
       "      <td>600.000000</td>\n",
       "      <td>0.000000</td>\n",
       "    </tr>\n",
       "    <tr>\n",
       "      <th>50%</th>\n",
       "      <td>22.000000</td>\n",
       "      <td>223.000000</td>\n",
       "      <td>2.000000</td>\n",
       "      <td>5.000000</td>\n",
       "      <td>0.000000</td>\n",
       "      <td>30.000000</td>\n",
       "      <td>0.000000</td>\n",
       "      <td>30.000000</td>\n",
       "      <td>0.000000</td>\n",
       "      <td>1095.840000</td>\n",
       "      <td>0.000000</td>\n",
       "    </tr>\n",
       "    <tr>\n",
       "      <th>75%</th>\n",
       "      <td>23.000000</td>\n",
       "      <td>380.000000</td>\n",
       "      <td>4.000000</td>\n",
       "      <td>9.000000</td>\n",
       "      <td>0.000000</td>\n",
       "      <td>39.000000</td>\n",
       "      <td>0.000000</td>\n",
       "      <td>40.000000</td>\n",
       "      <td>0.000000</td>\n",
       "      <td>1713.000000</td>\n",
       "      <td>0.000000</td>\n",
       "    </tr>\n",
       "    <tr>\n",
       "      <th>max</th>\n",
       "      <td>99.000000</td>\n",
       "      <td>869.000000</td>\n",
       "      <td>20.000000</td>\n",
       "      <td>12.000000</td>\n",
       "      <td>12.000000</td>\n",
       "      <td>90.000000</td>\n",
       "      <td>90.000000</td>\n",
       "      <td>90.000000</td>\n",
       "      <td>20559.000000</td>\n",
       "      <td>10970.000000</td>\n",
       "      <td>9600.000000</td>\n",
       "    </tr>\n",
       "  </tbody>\n",
       "</table>\n",
       "</div>"
      ],
      "text/plain": [
       "                 AGE    SUBJECTAREA     YEARSPRIOR  LENGTHSTUDYPERIOD  \\\n",
       "count  231408.000000  231408.000000  231408.000000      231408.000000   \n",
       "mean       22.513971     293.449233       2.730960           5.238561   \n",
       "std         2.703065     209.686161       1.307554           3.299730   \n",
       "min        17.000000       0.000000       0.000000           0.000000   \n",
       "25%        21.000000     144.000000       2.000000           4.000000   \n",
       "50%        22.000000     223.000000       2.000000           5.000000   \n",
       "75%        23.000000     380.000000       4.000000           9.000000   \n",
       "max        99.000000     869.000000      20.000000          12.000000   \n",
       "\n",
       "       LENGTHPLACEMENT  ECTSCREDITSSTUDY  ECTSCREDITSWORK  TOTALECTSCREDITS  \\\n",
       "count    231408.000000     231408.000000    231408.000000     231408.000000   \n",
       "mean          0.767268         28.491802         2.587936         31.079738   \n",
       "std           1.861627         20.720936         8.667091         18.894579   \n",
       "min           0.000000          0.000000         0.000000          0.000000   \n",
       "25%           0.000000         14.000000         0.000000         20.000000   \n",
       "50%           0.000000         30.000000         0.000000         30.000000   \n",
       "75%           0.000000         39.000000         0.000000         40.000000   \n",
       "max          12.000000         90.000000        90.000000         90.000000   \n",
       "\n",
       "       SEVSUPPLEMENT     STUDYGRANT  PLACEMENTGRANT  \n",
       "count  231408.000000  231408.000000   231408.000000  \n",
       "mean        2.139913    1217.708050      280.837386  \n",
       "std       103.269691     984.106146      701.147746  \n",
       "min         0.000000       0.000000        0.000000  \n",
       "25%         0.000000     600.000000        0.000000  \n",
       "50%         0.000000    1095.840000        0.000000  \n",
       "75%         0.000000    1713.000000        0.000000  \n",
       "max     20559.000000   10970.000000     9600.000000  "
      ]
     },
     "execution_count": 261,
     "metadata": {},
     "output_type": "execute_result"
    }
   ],
   "source": [
    "data.describe()"
   ]
  },
  {
   "cell_type": "code",
   "execution_count": 262,
   "id": "220139b0",
   "metadata": {},
   "outputs": [],
   "source": [
    "data.dropna(how=\"all\",inplace=True)"
   ]
  },
  {
   "cell_type": "code",
   "execution_count": 263,
   "id": "7ce0e907",
   "metadata": {},
   "outputs": [
    {
     "name": "stdout",
     "output_type": "stream",
     "text": [
      "<class 'pandas.core.frame.DataFrame'>\n",
      "Int64Index: 231408 entries, 0 to 231407\n",
      "Data columns (total 32 columns):\n",
      " #   Column                        Non-Null Count   Dtype  \n",
      "---  ------                        --------------   -----  \n",
      " 0   HOMEINSTITUTION               231408 non-null  object \n",
      " 1   COUNTRYCODEOFHOMEINSTITUTION  231408 non-null  object \n",
      " 2   AGE                           231408 non-null  int64  \n",
      " 3   GENDER                        231408 non-null  object \n",
      " 4   NATIONALITY                   231408 non-null  object \n",
      " 5   SUBJECTAREA                   231408 non-null  int64  \n",
      " 6   LEVELSTUDY                    231408 non-null  object \n",
      " 7   YEARSPRIOR                    231408 non-null  int64  \n",
      " 8   MOBILITYTYPE                  231408 non-null  object \n",
      " 9   HOSTINSTITUTION               190499 non-null  object \n",
      " 10  COUNTRYCODEOFHOSTINSTITUTION  190499 non-null  object \n",
      " 11  WORKPLACEMENT                 40964 non-null   object \n",
      " 12  COUNTRYOFWORKPLACEMENT        40964 non-null   object \n",
      " 13  ENTERPRISESIZE                40964 non-null   object \n",
      " 14  TYPEWORKSECTOR                40964 non-null   object \n",
      " 15  LENGTHSTUDYPERIOD             231408 non-null  float64\n",
      " 16  LENGTHPLACEMENT               231408 non-null  float64\n",
      " 17  SHORTDURATION                 1373 non-null    object \n",
      " 18  STUDYSTARTDATE                190501 non-null  object \n",
      " 19  PLACEMENTSTARTDATE            40983 non-null   object \n",
      " 20  CONSORTIUMAGREEMENTNUMBER     5909 non-null    object \n",
      " 21  ECTSCREDITSSTUDY              231408 non-null  int64  \n",
      " 22  ECTSCREDITSWORK               231408 non-null  int64  \n",
      " 23  TOTALECTSCREDITS              231408 non-null  int64  \n",
      " 24  SEVSUPPLEMENT                 231408 non-null  int64  \n",
      " 25  TAUGHTHOSTLANG                231408 non-null  object \n",
      " 26  LANGUAGETAUGHT                231408 non-null  object \n",
      " 27  LINGPREPARATION               231408 non-null  object \n",
      " 28  STUDYGRANT                    231408 non-null  float64\n",
      " 29  PLACEMENTGRANT                231408 non-null  float64\n",
      " 30  PREVIOUSPARTICIPATION         231408 non-null  object \n",
      " 31  QUALIFICATIONATHOST           231408 non-null  object \n",
      "dtypes: float64(4), int64(7), object(21)\n",
      "memory usage: 58.3+ MB\n"
     ]
    }
   ],
   "source": [
    "data.info()"
   ]
  },
  {
   "cell_type": "code",
   "execution_count": 264,
   "id": "8682bfbb",
   "metadata": {},
   "outputs": [
    {
     "data": {
      "text/html": [
       "<div>\n",
       "<style scoped>\n",
       "    .dataframe tbody tr th:only-of-type {\n",
       "        vertical-align: middle;\n",
       "    }\n",
       "\n",
       "    .dataframe tbody tr th {\n",
       "        vertical-align: top;\n",
       "    }\n",
       "\n",
       "    .dataframe thead th {\n",
       "        text-align: right;\n",
       "    }\n",
       "</style>\n",
       "<table border=\"1\" class=\"dataframe\">\n",
       "  <thead>\n",
       "    <tr style=\"text-align: right;\">\n",
       "      <th></th>\n",
       "      <th>HOMEINSTITUTION</th>\n",
       "      <th>COUNTRYCODEOFHOMEINSTITUTION</th>\n",
       "      <th>AGE</th>\n",
       "      <th>GENDER</th>\n",
       "      <th>NATIONALITY</th>\n",
       "      <th>SUBJECTAREA</th>\n",
       "      <th>LEVELSTUDY</th>\n",
       "      <th>YEARSPRIOR</th>\n",
       "      <th>MOBILITYTYPE</th>\n",
       "      <th>HOSTINSTITUTION</th>\n",
       "      <th>...</th>\n",
       "      <th>ECTSCREDITSWORK</th>\n",
       "      <th>TOTALECTSCREDITS</th>\n",
       "      <th>SEVSUPPLEMENT</th>\n",
       "      <th>TAUGHTHOSTLANG</th>\n",
       "      <th>LANGUAGETAUGHT</th>\n",
       "      <th>LINGPREPARATION</th>\n",
       "      <th>STUDYGRANT</th>\n",
       "      <th>PLACEMENTGRANT</th>\n",
       "      <th>PREVIOUSPARTICIPATION</th>\n",
       "      <th>QUALIFICATIONATHOST</th>\n",
       "    </tr>\n",
       "  </thead>\n",
       "  <tbody>\n",
       "    <tr>\n",
       "      <th>0</th>\n",
       "      <td>HU BUDAPES02</td>\n",
       "      <td>HU</td>\n",
       "      <td>25</td>\n",
       "      <td>M</td>\n",
       "      <td>HU</td>\n",
       "      <td>521</td>\n",
       "      <td>3</td>\n",
       "      <td>1</td>\n",
       "      <td>P</td>\n",
       "      <td>NaN</td>\n",
       "      <td>...</td>\n",
       "      <td>0</td>\n",
       "      <td>0</td>\n",
       "      <td>0</td>\n",
       "      <td>N</td>\n",
       "      <td>DE</td>\n",
       "      <td>NN</td>\n",
       "      <td>0.0</td>\n",
       "      <td>900.00</td>\n",
       "      <td>N</td>\n",
       "      <td>N</td>\n",
       "    </tr>\n",
       "    <tr>\n",
       "      <th>1</th>\n",
       "      <td>HU BUDAPES02</td>\n",
       "      <td>HU</td>\n",
       "      <td>28</td>\n",
       "      <td>M</td>\n",
       "      <td>HU</td>\n",
       "      <td>522</td>\n",
       "      <td>3</td>\n",
       "      <td>4</td>\n",
       "      <td>P</td>\n",
       "      <td>NaN</td>\n",
       "      <td>...</td>\n",
       "      <td>0</td>\n",
       "      <td>0</td>\n",
       "      <td>0</td>\n",
       "      <td>N</td>\n",
       "      <td>DE</td>\n",
       "      <td>NN</td>\n",
       "      <td>0.0</td>\n",
       "      <td>3600.00</td>\n",
       "      <td>N</td>\n",
       "      <td>N</td>\n",
       "    </tr>\n",
       "    <tr>\n",
       "      <th>2</th>\n",
       "      <td>HU BUDAPES02</td>\n",
       "      <td>HU</td>\n",
       "      <td>25</td>\n",
       "      <td>F</td>\n",
       "      <td>HU</td>\n",
       "      <td>581</td>\n",
       "      <td>2</td>\n",
       "      <td>5</td>\n",
       "      <td>P</td>\n",
       "      <td>NaN</td>\n",
       "      <td>...</td>\n",
       "      <td>0</td>\n",
       "      <td>0</td>\n",
       "      <td>0</td>\n",
       "      <td>N</td>\n",
       "      <td>EN</td>\n",
       "      <td>NN</td>\n",
       "      <td>0.0</td>\n",
       "      <td>1500.00</td>\n",
       "      <td>N</td>\n",
       "      <td>N</td>\n",
       "    </tr>\n",
       "    <tr>\n",
       "      <th>3</th>\n",
       "      <td>HU BUDAPES02</td>\n",
       "      <td>HU</td>\n",
       "      <td>23</td>\n",
       "      <td>M</td>\n",
       "      <td>SK</td>\n",
       "      <td>582</td>\n",
       "      <td>2</td>\n",
       "      <td>4</td>\n",
       "      <td>P</td>\n",
       "      <td>NaN</td>\n",
       "      <td>...</td>\n",
       "      <td>0</td>\n",
       "      <td>0</td>\n",
       "      <td>0</td>\n",
       "      <td>N</td>\n",
       "      <td>DE</td>\n",
       "      <td>NN</td>\n",
       "      <td>0.0</td>\n",
       "      <td>900.00</td>\n",
       "      <td>N</td>\n",
       "      <td>N</td>\n",
       "    </tr>\n",
       "    <tr>\n",
       "      <th>4</th>\n",
       "      <td>HU BUDAPES02</td>\n",
       "      <td>HU</td>\n",
       "      <td>24</td>\n",
       "      <td>F</td>\n",
       "      <td>HU</td>\n",
       "      <td>581</td>\n",
       "      <td>2</td>\n",
       "      <td>5</td>\n",
       "      <td>P</td>\n",
       "      <td>NaN</td>\n",
       "      <td>...</td>\n",
       "      <td>0</td>\n",
       "      <td>0</td>\n",
       "      <td>0</td>\n",
       "      <td>N</td>\n",
       "      <td>DE</td>\n",
       "      <td>NN</td>\n",
       "      <td>0.0</td>\n",
       "      <td>1800.00</td>\n",
       "      <td>N</td>\n",
       "      <td>N</td>\n",
       "    </tr>\n",
       "    <tr>\n",
       "      <th>...</th>\n",
       "      <td>...</td>\n",
       "      <td>...</td>\n",
       "      <td>...</td>\n",
       "      <td>...</td>\n",
       "      <td>...</td>\n",
       "      <td>...</td>\n",
       "      <td>...</td>\n",
       "      <td>...</td>\n",
       "      <td>...</td>\n",
       "      <td>...</td>\n",
       "      <td>...</td>\n",
       "      <td>...</td>\n",
       "      <td>...</td>\n",
       "      <td>...</td>\n",
       "      <td>...</td>\n",
       "      <td>...</td>\n",
       "      <td>...</td>\n",
       "      <td>...</td>\n",
       "      <td>...</td>\n",
       "      <td>...</td>\n",
       "      <td>...</td>\n",
       "    </tr>\n",
       "    <tr>\n",
       "      <th>231403</th>\n",
       "      <td>LT KAUNAS08</td>\n",
       "      <td>LT</td>\n",
       "      <td>20</td>\n",
       "      <td>M</td>\n",
       "      <td>LT</td>\n",
       "      <td>345</td>\n",
       "      <td>1</td>\n",
       "      <td>1</td>\n",
       "      <td>P</td>\n",
       "      <td>NaN</td>\n",
       "      <td>...</td>\n",
       "      <td>24</td>\n",
       "      <td>24</td>\n",
       "      <td>0</td>\n",
       "      <td>N</td>\n",
       "      <td>EN</td>\n",
       "      <td>NN</td>\n",
       "      <td>0.0</td>\n",
       "      <td>0.00</td>\n",
       "      <td>N</td>\n",
       "      <td>N</td>\n",
       "    </tr>\n",
       "    <tr>\n",
       "      <th>231404</th>\n",
       "      <td>LT KAUNAS08</td>\n",
       "      <td>LT</td>\n",
       "      <td>21</td>\n",
       "      <td>M</td>\n",
       "      <td>LT</td>\n",
       "      <td>345</td>\n",
       "      <td>1</td>\n",
       "      <td>2</td>\n",
       "      <td>P</td>\n",
       "      <td>NaN</td>\n",
       "      <td>...</td>\n",
       "      <td>24</td>\n",
       "      <td>24</td>\n",
       "      <td>0</td>\n",
       "      <td>N</td>\n",
       "      <td>EN</td>\n",
       "      <td>NN</td>\n",
       "      <td>0.0</td>\n",
       "      <td>0.00</td>\n",
       "      <td>N</td>\n",
       "      <td>N</td>\n",
       "    </tr>\n",
       "    <tr>\n",
       "      <th>231405</th>\n",
       "      <td>LT KAUNAS08</td>\n",
       "      <td>LT</td>\n",
       "      <td>22</td>\n",
       "      <td>M</td>\n",
       "      <td>LT</td>\n",
       "      <td>541</td>\n",
       "      <td>1</td>\n",
       "      <td>2</td>\n",
       "      <td>P</td>\n",
       "      <td>NaN</td>\n",
       "      <td>...</td>\n",
       "      <td>24</td>\n",
       "      <td>24</td>\n",
       "      <td>0</td>\n",
       "      <td>N</td>\n",
       "      <td>EN</td>\n",
       "      <td>NN</td>\n",
       "      <td>0.0</td>\n",
       "      <td>1101.48</td>\n",
       "      <td>N</td>\n",
       "      <td>N</td>\n",
       "    </tr>\n",
       "    <tr>\n",
       "      <th>231406</th>\n",
       "      <td>LT KAUNAS08</td>\n",
       "      <td>LT</td>\n",
       "      <td>19</td>\n",
       "      <td>M</td>\n",
       "      <td>LT</td>\n",
       "      <td>541</td>\n",
       "      <td>1</td>\n",
       "      <td>1</td>\n",
       "      <td>P</td>\n",
       "      <td>NaN</td>\n",
       "      <td>...</td>\n",
       "      <td>21</td>\n",
       "      <td>21</td>\n",
       "      <td>0</td>\n",
       "      <td>N</td>\n",
       "      <td>EN</td>\n",
       "      <td>NN</td>\n",
       "      <td>0.0</td>\n",
       "      <td>2100.00</td>\n",
       "      <td>N</td>\n",
       "      <td>N</td>\n",
       "    </tr>\n",
       "    <tr>\n",
       "      <th>231407</th>\n",
       "      <td>LT KAUNAS08</td>\n",
       "      <td>LT</td>\n",
       "      <td>20</td>\n",
       "      <td>F</td>\n",
       "      <td>LT</td>\n",
       "      <td>727</td>\n",
       "      <td>1</td>\n",
       "      <td>2</td>\n",
       "      <td>P</td>\n",
       "      <td>NaN</td>\n",
       "      <td>...</td>\n",
       "      <td>18</td>\n",
       "      <td>18</td>\n",
       "      <td>0</td>\n",
       "      <td>N</td>\n",
       "      <td>EN</td>\n",
       "      <td>NN</td>\n",
       "      <td>0.0</td>\n",
       "      <td>0.00</td>\n",
       "      <td>N</td>\n",
       "      <td>N</td>\n",
       "    </tr>\n",
       "  </tbody>\n",
       "</table>\n",
       "<p>231408 rows × 32 columns</p>\n",
       "</div>"
      ],
      "text/plain": [
       "       HOMEINSTITUTION COUNTRYCODEOFHOMEINSTITUTION  AGE GENDER NATIONALITY  \\\n",
       "0         HU BUDAPES02                           HU   25      M          HU   \n",
       "1         HU BUDAPES02                           HU   28      M          HU   \n",
       "2         HU BUDAPES02                           HU   25      F          HU   \n",
       "3         HU BUDAPES02                           HU   23      M          SK   \n",
       "4         HU BUDAPES02                           HU   24      F          HU   \n",
       "...                ...                          ...  ...    ...         ...   \n",
       "231403     LT KAUNAS08                           LT   20      M          LT   \n",
       "231404     LT KAUNAS08                           LT   21      M          LT   \n",
       "231405     LT KAUNAS08                           LT   22      M          LT   \n",
       "231406     LT KAUNAS08                           LT   19      M          LT   \n",
       "231407     LT KAUNAS08                           LT   20      F          LT   \n",
       "\n",
       "        SUBJECTAREA LEVELSTUDY  YEARSPRIOR MOBILITYTYPE HOSTINSTITUTION  ...  \\\n",
       "0               521          3           1            P             NaN  ...   \n",
       "1               522          3           4            P             NaN  ...   \n",
       "2               581          2           5            P             NaN  ...   \n",
       "3               582          2           4            P             NaN  ...   \n",
       "4               581          2           5            P             NaN  ...   \n",
       "...             ...        ...         ...          ...             ...  ...   \n",
       "231403          345          1           1            P             NaN  ...   \n",
       "231404          345          1           2            P             NaN  ...   \n",
       "231405          541          1           2            P             NaN  ...   \n",
       "231406          541          1           1            P             NaN  ...   \n",
       "231407          727          1           2            P             NaN  ...   \n",
       "\n",
       "       ECTSCREDITSWORK TOTALECTSCREDITS SEVSUPPLEMENT TAUGHTHOSTLANG  \\\n",
       "0                    0                0             0              N   \n",
       "1                    0                0             0              N   \n",
       "2                    0                0             0              N   \n",
       "3                    0                0             0              N   \n",
       "4                    0                0             0              N   \n",
       "...                ...              ...           ...            ...   \n",
       "231403              24               24             0              N   \n",
       "231404              24               24             0              N   \n",
       "231405              24               24             0              N   \n",
       "231406              21               21             0              N   \n",
       "231407              18               18             0              N   \n",
       "\n",
       "       LANGUAGETAUGHT  LINGPREPARATION  STUDYGRANT PLACEMENTGRANT  \\\n",
       "0                  DE               NN         0.0         900.00   \n",
       "1                  DE               NN         0.0        3600.00   \n",
       "2                  EN               NN         0.0        1500.00   \n",
       "3                  DE               NN         0.0         900.00   \n",
       "4                  DE               NN         0.0        1800.00   \n",
       "...               ...              ...         ...            ...   \n",
       "231403             EN               NN         0.0           0.00   \n",
       "231404             EN               NN         0.0           0.00   \n",
       "231405             EN               NN         0.0        1101.48   \n",
       "231406             EN               NN         0.0        2100.00   \n",
       "231407             EN               NN         0.0           0.00   \n",
       "\n",
       "       PREVIOUSPARTICIPATION QUALIFICATIONATHOST  \n",
       "0                          N                   N  \n",
       "1                          N                   N  \n",
       "2                          N                   N  \n",
       "3                          N                   N  \n",
       "4                          N                   N  \n",
       "...                      ...                 ...  \n",
       "231403                     N                   N  \n",
       "231404                     N                   N  \n",
       "231405                     N                   N  \n",
       "231406                     N                   N  \n",
       "231407                     N                   N  \n",
       "\n",
       "[231408 rows x 32 columns]"
      ]
     },
     "execution_count": 264,
     "metadata": {},
     "output_type": "execute_result"
    }
   ],
   "source": [
    "data"
   ]
  },
  {
   "cell_type": "code",
   "execution_count": 265,
   "id": "23d706da",
   "metadata": {},
   "outputs": [],
   "source": [
    "student_with_workplacement=data[data.WORKPLACEMENT.notnull()]"
   ]
  },
  {
   "cell_type": "code",
   "execution_count": 266,
   "id": "06ebc33c",
   "metadata": {},
   "outputs": [
    {
     "data": {
      "text/plain": [
       "40964"
      ]
     },
     "execution_count": 266,
     "metadata": {},
     "output_type": "execute_result"
    }
   ],
   "source": [
    "len(student_with_workplacement)"
   ]
  },
  {
   "cell_type": "code",
   "execution_count": 267,
   "id": "fd74c60e",
   "metadata": {},
   "outputs": [],
   "source": [
    "student_without_workplacement=data[~data.WORKPLACEMENT.notnull()]"
   ]
  },
  {
   "cell_type": "code",
   "execution_count": 268,
   "id": "35ec765e",
   "metadata": {},
   "outputs": [
    {
     "data": {
      "text/plain": [
       "190444"
      ]
     },
     "execution_count": 268,
     "metadata": {},
     "output_type": "execute_result"
    }
   ],
   "source": [
    "len(student_without_workplacement)"
   ]
  },
  {
   "cell_type": "code",
   "execution_count": 269,
   "id": "ee6ab3e5",
   "metadata": {
    "scrolled": true
   },
   "outputs": [
    {
     "data": {
      "text/html": [
       "<div>\n",
       "<style scoped>\n",
       "    .dataframe tbody tr th:only-of-type {\n",
       "        vertical-align: middle;\n",
       "    }\n",
       "\n",
       "    .dataframe tbody tr th {\n",
       "        vertical-align: top;\n",
       "    }\n",
       "\n",
       "    .dataframe thead th {\n",
       "        text-align: right;\n",
       "    }\n",
       "</style>\n",
       "<table border=\"1\" class=\"dataframe\">\n",
       "  <thead>\n",
       "    <tr style=\"text-align: right;\">\n",
       "      <th></th>\n",
       "      <th>AGE</th>\n",
       "      <th>SUBJECTAREA</th>\n",
       "      <th>YEARSPRIOR</th>\n",
       "      <th>LENGTHSTUDYPERIOD</th>\n",
       "      <th>LENGTHPLACEMENT</th>\n",
       "      <th>ECTSCREDITSSTUDY</th>\n",
       "      <th>ECTSCREDITSWORK</th>\n",
       "      <th>TOTALECTSCREDITS</th>\n",
       "      <th>SEVSUPPLEMENT</th>\n",
       "      <th>STUDYGRANT</th>\n",
       "      <th>PLACEMENTGRANT</th>\n",
       "    </tr>\n",
       "  </thead>\n",
       "  <tbody>\n",
       "    <tr>\n",
       "      <th>AGE</th>\n",
       "      <td>1.000000</td>\n",
       "      <td>0.089406</td>\n",
       "      <td>0.311954</td>\n",
       "      <td>-0.011357</td>\n",
       "      <td>0.010369</td>\n",
       "      <td>-0.009882</td>\n",
       "      <td>-0.098727</td>\n",
       "      <td>-0.099549</td>\n",
       "      <td>0.003991</td>\n",
       "      <td>-0.011336</td>\n",
       "      <td>0.020598</td>\n",
       "    </tr>\n",
       "    <tr>\n",
       "      <th>SUBJECTAREA</th>\n",
       "      <td>0.089406</td>\n",
       "      <td>1.000000</td>\n",
       "      <td>0.041118</td>\n",
       "      <td>-0.012628</td>\n",
       "      <td>-0.034497</td>\n",
       "      <td>-0.015528</td>\n",
       "      <td>0.019791</td>\n",
       "      <td>0.017856</td>\n",
       "      <td>-0.003781</td>\n",
       "      <td>-0.012661</td>\n",
       "      <td>-0.045379</td>\n",
       "    </tr>\n",
       "    <tr>\n",
       "      <th>YEARSPRIOR</th>\n",
       "      <td>0.311954</td>\n",
       "      <td>0.041118</td>\n",
       "      <td>1.000000</td>\n",
       "      <td>-0.016481</td>\n",
       "      <td>0.093505</td>\n",
       "      <td>-0.014760</td>\n",
       "      <td>-0.076496</td>\n",
       "      <td>-0.077984</td>\n",
       "      <td>0.000618</td>\n",
       "      <td>-0.016447</td>\n",
       "      <td>0.082457</td>\n",
       "    </tr>\n",
       "    <tr>\n",
       "      <th>LENGTHSTUDYPERIOD</th>\n",
       "      <td>-0.011357</td>\n",
       "      <td>-0.012628</td>\n",
       "      <td>-0.016481</td>\n",
       "      <td>1.000000</td>\n",
       "      <td>-0.074961</td>\n",
       "      <td>0.914281</td>\n",
       "      <td>-0.032546</td>\n",
       "      <td>0.077167</td>\n",
       "      <td>-0.000566</td>\n",
       "      <td>0.999982</td>\n",
       "      <td>-0.066265</td>\n",
       "    </tr>\n",
       "    <tr>\n",
       "      <th>LENGTHPLACEMENT</th>\n",
       "      <td>0.010369</td>\n",
       "      <td>-0.034497</td>\n",
       "      <td>0.093505</td>\n",
       "      <td>-0.074961</td>\n",
       "      <td>1.000000</td>\n",
       "      <td>-0.067785</td>\n",
       "      <td>0.421451</td>\n",
       "      <td>0.411776</td>\n",
       "      <td>0.004548</td>\n",
       "      <td>-0.074968</td>\n",
       "      <td>0.800623</td>\n",
       "    </tr>\n",
       "    <tr>\n",
       "      <th>ECTSCREDITSSTUDY</th>\n",
       "      <td>-0.009882</td>\n",
       "      <td>-0.015528</td>\n",
       "      <td>-0.014760</td>\n",
       "      <td>0.914281</td>\n",
       "      <td>-0.067785</td>\n",
       "      <td>1.000000</td>\n",
       "      <td>-0.029430</td>\n",
       "      <td>0.090547</td>\n",
       "      <td>-0.000512</td>\n",
       "      <td>0.914749</td>\n",
       "      <td>-0.059922</td>\n",
       "    </tr>\n",
       "    <tr>\n",
       "      <th>ECTSCREDITSWORK</th>\n",
       "      <td>-0.098727</td>\n",
       "      <td>0.019791</td>\n",
       "      <td>-0.076496</td>\n",
       "      <td>-0.032546</td>\n",
       "      <td>0.421451</td>\n",
       "      <td>-0.029430</td>\n",
       "      <td>1.000000</td>\n",
       "      <td>0.992796</td>\n",
       "      <td>0.002725</td>\n",
       "      <td>-0.032549</td>\n",
       "      <td>0.260606</td>\n",
       "    </tr>\n",
       "    <tr>\n",
       "      <th>TOTALECTSCREDITS</th>\n",
       "      <td>-0.099549</td>\n",
       "      <td>0.017856</td>\n",
       "      <td>-0.077984</td>\n",
       "      <td>0.077167</td>\n",
       "      <td>0.411776</td>\n",
       "      <td>0.090547</td>\n",
       "      <td>0.992796</td>\n",
       "      <td>1.000000</td>\n",
       "      <td>0.002654</td>\n",
       "      <td>0.077221</td>\n",
       "      <td>0.252465</td>\n",
       "    </tr>\n",
       "    <tr>\n",
       "      <th>SEVSUPPLEMENT</th>\n",
       "      <td>0.003991</td>\n",
       "      <td>-0.003781</td>\n",
       "      <td>0.000618</td>\n",
       "      <td>-0.000566</td>\n",
       "      <td>0.004548</td>\n",
       "      <td>-0.000512</td>\n",
       "      <td>0.002725</td>\n",
       "      <td>0.002654</td>\n",
       "      <td>1.000000</td>\n",
       "      <td>-0.000566</td>\n",
       "      <td>0.008283</td>\n",
       "    </tr>\n",
       "    <tr>\n",
       "      <th>STUDYGRANT</th>\n",
       "      <td>-0.011336</td>\n",
       "      <td>-0.012661</td>\n",
       "      <td>-0.016447</td>\n",
       "      <td>0.999982</td>\n",
       "      <td>-0.074968</td>\n",
       "      <td>0.914749</td>\n",
       "      <td>-0.032549</td>\n",
       "      <td>0.077221</td>\n",
       "      <td>-0.000566</td>\n",
       "      <td>1.000000</td>\n",
       "      <td>-0.066271</td>\n",
       "    </tr>\n",
       "    <tr>\n",
       "      <th>PLACEMENTGRANT</th>\n",
       "      <td>0.020598</td>\n",
       "      <td>-0.045379</td>\n",
       "      <td>0.082457</td>\n",
       "      <td>-0.066265</td>\n",
       "      <td>0.800623</td>\n",
       "      <td>-0.059922</td>\n",
       "      <td>0.260606</td>\n",
       "      <td>0.252465</td>\n",
       "      <td>0.008283</td>\n",
       "      <td>-0.066271</td>\n",
       "      <td>1.000000</td>\n",
       "    </tr>\n",
       "  </tbody>\n",
       "</table>\n",
       "</div>"
      ],
      "text/plain": [
       "                        AGE  SUBJECTAREA  YEARSPRIOR  LENGTHSTUDYPERIOD  \\\n",
       "AGE                1.000000     0.089406    0.311954          -0.011357   \n",
       "SUBJECTAREA        0.089406     1.000000    0.041118          -0.012628   \n",
       "YEARSPRIOR         0.311954     0.041118    1.000000          -0.016481   \n",
       "LENGTHSTUDYPERIOD -0.011357    -0.012628   -0.016481           1.000000   \n",
       "LENGTHPLACEMENT    0.010369    -0.034497    0.093505          -0.074961   \n",
       "ECTSCREDITSSTUDY  -0.009882    -0.015528   -0.014760           0.914281   \n",
       "ECTSCREDITSWORK   -0.098727     0.019791   -0.076496          -0.032546   \n",
       "TOTALECTSCREDITS  -0.099549     0.017856   -0.077984           0.077167   \n",
       "SEVSUPPLEMENT      0.003991    -0.003781    0.000618          -0.000566   \n",
       "STUDYGRANT        -0.011336    -0.012661   -0.016447           0.999982   \n",
       "PLACEMENTGRANT     0.020598    -0.045379    0.082457          -0.066265   \n",
       "\n",
       "                   LENGTHPLACEMENT  ECTSCREDITSSTUDY  ECTSCREDITSWORK  \\\n",
       "AGE                       0.010369         -0.009882        -0.098727   \n",
       "SUBJECTAREA              -0.034497         -0.015528         0.019791   \n",
       "YEARSPRIOR                0.093505         -0.014760        -0.076496   \n",
       "LENGTHSTUDYPERIOD        -0.074961          0.914281        -0.032546   \n",
       "LENGTHPLACEMENT           1.000000         -0.067785         0.421451   \n",
       "ECTSCREDITSSTUDY         -0.067785          1.000000        -0.029430   \n",
       "ECTSCREDITSWORK           0.421451         -0.029430         1.000000   \n",
       "TOTALECTSCREDITS          0.411776          0.090547         0.992796   \n",
       "SEVSUPPLEMENT             0.004548         -0.000512         0.002725   \n",
       "STUDYGRANT               -0.074968          0.914749        -0.032549   \n",
       "PLACEMENTGRANT            0.800623         -0.059922         0.260606   \n",
       "\n",
       "                   TOTALECTSCREDITS  SEVSUPPLEMENT  STUDYGRANT  PLACEMENTGRANT  \n",
       "AGE                       -0.099549       0.003991   -0.011336        0.020598  \n",
       "SUBJECTAREA                0.017856      -0.003781   -0.012661       -0.045379  \n",
       "YEARSPRIOR                -0.077984       0.000618   -0.016447        0.082457  \n",
       "LENGTHSTUDYPERIOD          0.077167      -0.000566    0.999982       -0.066265  \n",
       "LENGTHPLACEMENT            0.411776       0.004548   -0.074968        0.800623  \n",
       "ECTSCREDITSSTUDY           0.090547      -0.000512    0.914749       -0.059922  \n",
       "ECTSCREDITSWORK            0.992796       0.002725   -0.032549        0.260606  \n",
       "TOTALECTSCREDITS           1.000000       0.002654    0.077221        0.252465  \n",
       "SEVSUPPLEMENT              0.002654       1.000000   -0.000566        0.008283  \n",
       "STUDYGRANT                 0.077221      -0.000566    1.000000       -0.066271  \n",
       "PLACEMENTGRANT             0.252465       0.008283   -0.066271        1.000000  "
      ]
     },
     "execution_count": 269,
     "metadata": {},
     "output_type": "execute_result"
    }
   ],
   "source": [
    "student_with_workplacement.corr()"
   ]
  },
  {
   "cell_type": "code",
   "execution_count": null,
   "id": "01c46f06",
   "metadata": {},
   "outputs": [],
   "source": []
  },
  {
   "cell_type": "markdown",
   "id": "de6f264b",
   "metadata": {},
   "source": [
    "## Student with work placement"
   ]
  },
  {
   "cell_type": "code",
   "execution_count": 270,
   "id": "0a6bf0bd",
   "metadata": {
    "scrolled": true
   },
   "outputs": [
    {
     "name": "stdout",
     "output_type": "stream",
     "text": [
      "<class 'pandas.core.frame.DataFrame'>\n",
      "Int64Index: 40964 entries, 0 to 231407\n",
      "Data columns (total 32 columns):\n",
      " #   Column                        Non-Null Count  Dtype  \n",
      "---  ------                        --------------  -----  \n",
      " 0   HOMEINSTITUTION               40964 non-null  object \n",
      " 1   COUNTRYCODEOFHOMEINSTITUTION  40964 non-null  object \n",
      " 2   AGE                           40964 non-null  int64  \n",
      " 3   GENDER                        40964 non-null  object \n",
      " 4   NATIONALITY                   40964 non-null  object \n",
      " 5   SUBJECTAREA                   40964 non-null  int64  \n",
      " 6   LEVELSTUDY                    40964 non-null  object \n",
      " 7   YEARSPRIOR                    40964 non-null  int64  \n",
      " 8   MOBILITYTYPE                  40964 non-null  object \n",
      " 9   HOSTINSTITUTION               55 non-null     object \n",
      " 10  COUNTRYCODEOFHOSTINSTITUTION  55 non-null     object \n",
      " 11  WORKPLACEMENT                 40964 non-null  object \n",
      " 12  COUNTRYOFWORKPLACEMENT        40964 non-null  object \n",
      " 13  ENTERPRISESIZE                40964 non-null  object \n",
      " 14  TYPEWORKSECTOR                40964 non-null  object \n",
      " 15  LENGTHSTUDYPERIOD             40964 non-null  float64\n",
      " 16  LENGTHPLACEMENT               40964 non-null  float64\n",
      " 17  SHORTDURATION                 327 non-null    object \n",
      " 18  STUDYSTARTDATE                57 non-null     object \n",
      " 19  PLACEMENTSTARTDATE            40964 non-null  object \n",
      " 20  CONSORTIUMAGREEMENTNUMBER     5736 non-null   object \n",
      " 21  ECTSCREDITSSTUDY              40964 non-null  int64  \n",
      " 22  ECTSCREDITSWORK               40964 non-null  int64  \n",
      " 23  TOTALECTSCREDITS              40964 non-null  int64  \n",
      " 24  SEVSUPPLEMENT                 40964 non-null  int64  \n",
      " 25  TAUGHTHOSTLANG                40964 non-null  object \n",
      " 26  LANGUAGETAUGHT                40964 non-null  object \n",
      " 27  LINGPREPARATION               40964 non-null  object \n",
      " 28  STUDYGRANT                    40964 non-null  float64\n",
      " 29  PLACEMENTGRANT                40964 non-null  float64\n",
      " 30  PREVIOUSPARTICIPATION         40964 non-null  object \n",
      " 31  QUALIFICATIONATHOST           40964 non-null  object \n",
      "dtypes: float64(4), int64(7), object(21)\n",
      "memory usage: 10.3+ MB\n"
     ]
    }
   ],
   "source": [
    "student_with_workplacement.info()"
   ]
  },
  {
   "cell_type": "code",
   "execution_count": null,
   "id": "04a52bb2",
   "metadata": {},
   "outputs": [],
   "source": []
  },
  {
   "cell_type": "markdown",
   "id": "d0f060da",
   "metadata": {},
   "source": [
    "### Drop irrelevant columns"
   ]
  },
  {
   "cell_type": "code",
   "execution_count": 271,
   "id": "1ad6ceba",
   "metadata": {
    "scrolled": true
   },
   "outputs": [
    {
     "name": "stdout",
     "output_type": "stream",
     "text": [
      "<class 'pandas.core.frame.DataFrame'>\n",
      "Int64Index: 40964 entries, 0 to 231407\n",
      "Data columns (total 27 columns):\n",
      " #   Column                        Non-Null Count  Dtype  \n",
      "---  ------                        --------------  -----  \n",
      " 0   HOMEINSTITUTION               40964 non-null  object \n",
      " 1   COUNTRYCODEOFHOMEINSTITUTION  40964 non-null  object \n",
      " 2   AGE                           40964 non-null  int64  \n",
      " 3   GENDER                        40964 non-null  object \n",
      " 4   NATIONALITY                   40964 non-null  object \n",
      " 5   SUBJECTAREA                   40964 non-null  int64  \n",
      " 6   LEVELSTUDY                    40964 non-null  object \n",
      " 7   YEARSPRIOR                    40964 non-null  int64  \n",
      " 8   MOBILITYTYPE                  40964 non-null  object \n",
      " 9   WORKPLACEMENT                 40964 non-null  object \n",
      " 10  COUNTRYOFWORKPLACEMENT        40964 non-null  object \n",
      " 11  ENTERPRISESIZE                40964 non-null  object \n",
      " 12  TYPEWORKSECTOR                40964 non-null  object \n",
      " 13  LENGTHSTUDYPERIOD             40964 non-null  float64\n",
      " 14  LENGTHPLACEMENT               40964 non-null  float64\n",
      " 15  SHORTDURATION                 327 non-null    object \n",
      " 16  PLACEMENTSTARTDATE            40964 non-null  object \n",
      " 17  CONSORTIUMAGREEMENTNUMBER     5736 non-null   object \n",
      " 18  ECTSCREDITSWORK               40964 non-null  int64  \n",
      " 19  TOTALECTSCREDITS              40964 non-null  int64  \n",
      " 20  SEVSUPPLEMENT                 40964 non-null  int64  \n",
      " 21  TAUGHTHOSTLANG                40964 non-null  object \n",
      " 22  LANGUAGETAUGHT                40964 non-null  object \n",
      " 23  LINGPREPARATION               40964 non-null  object \n",
      " 24  PLACEMENTGRANT                40964 non-null  float64\n",
      " 25  PREVIOUSPARTICIPATION         40964 non-null  object \n",
      " 26  QUALIFICATIONATHOST           40964 non-null  object \n",
      "dtypes: float64(3), int64(6), object(18)\n",
      "memory usage: 8.8+ MB\n"
     ]
    }
   ],
   "source": [
    "(student_with_workplacement.drop(columns=[\"HOSTINSTITUTION\",\"COUNTRYCODEOFHOSTINSTITUTION\",\"STUDYSTARTDATE\",\"ECTSCREDITSSTUDY\",\"STUDYGRANT\"])).info()"
   ]
  },
  {
   "cell_type": "code",
   "execution_count": null,
   "id": "8fc762c1",
   "metadata": {},
   "outputs": [],
   "source": []
  },
  {
   "cell_type": "markdown",
   "id": "cb9863c8",
   "metadata": {},
   "source": [
    "# Drop duplicated columns"
   ]
  },
  {
   "cell_type": "code",
   "execution_count": 272,
   "id": "df1792c4",
   "metadata": {},
   "outputs": [
    {
     "data": {
      "text/plain": [
       "1272"
      ]
     },
     "execution_count": 272,
     "metadata": {},
     "output_type": "execute_result"
    }
   ],
   "source": [
    "student_with_workplacement.duplicated().sum()"
   ]
  },
  {
   "cell_type": "code",
   "execution_count": 273,
   "id": "3fa077cd",
   "metadata": {},
   "outputs": [],
   "source": [
    "new_data=student_with_workplacement[~student_with_workplacement.duplicated()]"
   ]
  },
  {
   "cell_type": "code",
   "execution_count": 274,
   "id": "9529fc95",
   "metadata": {},
   "outputs": [
    {
     "data": {
      "text/plain": [
       "39692"
      ]
     },
     "execution_count": 274,
     "metadata": {},
     "output_type": "execute_result"
    }
   ],
   "source": [
    "len(new_data)"
   ]
  },
  {
   "cell_type": "code",
   "execution_count": 275,
   "id": "e848f457",
   "metadata": {},
   "outputs": [
    {
     "data": {
      "text/plain": [
       "0         HU\n",
       "1         HU\n",
       "2         HU\n",
       "3         HU\n",
       "4         HU\n",
       "          ..\n",
       "231401    LT\n",
       "231403    LT\n",
       "231404    LT\n",
       "231405    LT\n",
       "231406    LT\n",
       "Name: COUNTRYCODEOFHOMEINSTITUTION, Length: 39692, dtype: object"
      ]
     },
     "execution_count": 275,
     "metadata": {},
     "output_type": "execute_result"
    }
   ],
   "source": [
    "new_data.COUNTRYCODEOFHOMEINSTITUTION"
   ]
  },
  {
   "cell_type": "code",
   "execution_count": 276,
   "id": "c38648c3",
   "metadata": {},
   "outputs": [],
   "source": [
    "country=pd.DataFrame(new_data.COUNTRYCODEOFHOMEINSTITUTION.value_counts(), )"
   ]
  },
  {
   "cell_type": "code",
   "execution_count": 277,
   "id": "b01ca4cd",
   "metadata": {
    "scrolled": true
   },
   "outputs": [
    {
     "data": {
      "text/html": [
       "<div>\n",
       "<style scoped>\n",
       "    .dataframe tbody tr th:only-of-type {\n",
       "        vertical-align: middle;\n",
       "    }\n",
       "\n",
       "    .dataframe tbody tr th {\n",
       "        vertical-align: top;\n",
       "    }\n",
       "\n",
       "    .dataframe thead th {\n",
       "        text-align: right;\n",
       "    }\n",
       "</style>\n",
       "<table border=\"1\" class=\"dataframe\">\n",
       "  <thead>\n",
       "    <tr style=\"text-align: right;\">\n",
       "      <th></th>\n",
       "      <th>COUNTRYCODEOFHOMEINSTITUTION</th>\n",
       "    </tr>\n",
       "  </thead>\n",
       "  <tbody>\n",
       "    <tr>\n",
       "      <th>FR</th>\n",
       "      <td>5876</td>\n",
       "    </tr>\n",
       "    <tr>\n",
       "      <th>DE</th>\n",
       "      <td>5087</td>\n",
       "    </tr>\n",
       "    <tr>\n",
       "      <th>ES</th>\n",
       "      <td>4627</td>\n",
       "    </tr>\n",
       "    <tr>\n",
       "      <th>UK</th>\n",
       "      <td>4154</td>\n",
       "    </tr>\n",
       "    <tr>\n",
       "      <th>NL</th>\n",
       "      <td>2602</td>\n",
       "    </tr>\n",
       "    <tr>\n",
       "      <th>PL</th>\n",
       "      <td>2440</td>\n",
       "    </tr>\n",
       "    <tr>\n",
       "      <th>IT</th>\n",
       "      <td>2232</td>\n",
       "    </tr>\n",
       "    <tr>\n",
       "      <th>FI</th>\n",
       "      <td>1133</td>\n",
       "    </tr>\n",
       "    <tr>\n",
       "      <th>TR</th>\n",
       "      <td>1072</td>\n",
       "    </tr>\n",
       "    <tr>\n",
       "      <th>RO</th>\n",
       "      <td>978</td>\n",
       "    </tr>\n",
       "  </tbody>\n",
       "</table>\n",
       "</div>"
      ],
      "text/plain": [
       "    COUNTRYCODEOFHOMEINSTITUTION\n",
       "FR                          5876\n",
       "DE                          5087\n",
       "ES                          4627\n",
       "UK                          4154\n",
       "NL                          2602\n",
       "PL                          2440\n",
       "IT                          2232\n",
       "FI                          1133\n",
       "TR                          1072\n",
       "RO                           978"
      ]
     },
     "execution_count": 277,
     "metadata": {},
     "output_type": "execute_result"
    }
   ],
   "source": [
    "country[:10]"
   ]
  },
  {
   "cell_type": "code",
   "execution_count": 278,
   "id": "85d76fde",
   "metadata": {},
   "outputs": [],
   "source": [
    "import seaborn as sns\n",
    "subset=new_data.COUNTRYCODEOFHOMEINSTITUTION.value_counts()[:10]"
   ]
  },
  {
   "cell_type": "code",
   "execution_count": 279,
   "id": "33e6830b",
   "metadata": {
    "scrolled": true
   },
   "outputs": [
    {
     "data": {
      "text/plain": [
       "<AxesSubplot:>"
      ]
     },
     "execution_count": 279,
     "metadata": {},
     "output_type": "execute_result"
    },
    {
     "data": {
      "image/png": "[encoded data removed]",
      "text/plain": [
       "<Figure size 432x288 with 1 Axes>"
      ]
     },
     "metadata": {
      "needs_background": "light"
     },
     "output_type": "display_data"
    }
   ],
   "source": [
    "sns.barplot(y=subset.index,x=subset.values)"
   ]
  },
  {
   "cell_type": "code",
   "execution_count": null,
   "id": "2f6d9eae",
   "metadata": {},
   "outputs": [],
   "source": []
  },
  {
   "cell_type": "markdown",
   "id": "9fb9d3d7",
   "metadata": {},
   "source": [
    "### Gender and Mobility"
   ]
  },
  {
   "cell_type": "code",
   "execution_count": 280,
   "id": "57bfc21b",
   "metadata": {},
   "outputs": [
    {
     "data": {
      "text/plain": [
       "F    24396\n",
       "M    15296\n",
       "Name: GENDER, dtype: int64"
      ]
     },
     "execution_count": 280,
     "metadata": {},
     "output_type": "execute_result"
    }
   ],
   "source": [
    "new_data.GENDER.value_counts()"
   ]
  },
  {
   "cell_type": "code",
   "execution_count": 281,
   "id": "2c781ee0",
   "metadata": {},
   "outputs": [
    {
     "data": {
      "text/plain": [
       "1500.0    2670\n",
       "960.0     2292\n",
       "1050.0    1652\n",
       "1200.0    1480\n",
       "2000.0    1053\n",
       "1250.0     818\n",
       "1400.0     793\n",
       "1800.0     726\n",
       "2646.0     696\n",
       "2100.0     677\n",
       "Name: PLACEMENTGRANT, dtype: int64"
      ]
     },
     "execution_count": 281,
     "metadata": {},
     "output_type": "execute_result"
    }
   ],
   "source": [
    "new_data.PLACEMENTGRANT.value_counts().sort_values(ascending=False).nlargest(10)"
   ]
  },
  {
   "cell_type": "code",
   "execution_count": 282,
   "id": "2027909c",
   "metadata": {},
   "outputs": [
    {
     "data": {
      "text/html": [
       "<div>\n",
       "<style scoped>\n",
       "    .dataframe tbody tr th:only-of-type {\n",
       "        vertical-align: middle;\n",
       "    }\n",
       "\n",
       "    .dataframe tbody tr th {\n",
       "        vertical-align: top;\n",
       "    }\n",
       "\n",
       "    .dataframe thead th {\n",
       "        text-align: right;\n",
       "    }\n",
       "</style>\n",
       "<table border=\"1\" class=\"dataframe\">\n",
       "  <thead>\n",
       "    <tr style=\"text-align: right;\">\n",
       "      <th></th>\n",
       "      <th>GENDER</th>\n",
       "      <th>PLACEMENTGRANT</th>\n",
       "    </tr>\n",
       "  </thead>\n",
       "  <tbody>\n",
       "    <tr>\n",
       "      <th>0</th>\n",
       "      <td>M</td>\n",
       "      <td>900.00</td>\n",
       "    </tr>\n",
       "    <tr>\n",
       "      <th>1</th>\n",
       "      <td>M</td>\n",
       "      <td>3600.00</td>\n",
       "    </tr>\n",
       "    <tr>\n",
       "      <th>2</th>\n",
       "      <td>F</td>\n",
       "      <td>1500.00</td>\n",
       "    </tr>\n",
       "    <tr>\n",
       "      <th>3</th>\n",
       "      <td>M</td>\n",
       "      <td>900.00</td>\n",
       "    </tr>\n",
       "    <tr>\n",
       "      <th>4</th>\n",
       "      <td>F</td>\n",
       "      <td>1800.00</td>\n",
       "    </tr>\n",
       "    <tr>\n",
       "      <th>...</th>\n",
       "      <td>...</td>\n",
       "      <td>...</td>\n",
       "    </tr>\n",
       "    <tr>\n",
       "      <th>231401</th>\n",
       "      <td>F</td>\n",
       "      <td>0.00</td>\n",
       "    </tr>\n",
       "    <tr>\n",
       "      <th>231403</th>\n",
       "      <td>M</td>\n",
       "      <td>0.00</td>\n",
       "    </tr>\n",
       "    <tr>\n",
       "      <th>231404</th>\n",
       "      <td>M</td>\n",
       "      <td>0.00</td>\n",
       "    </tr>\n",
       "    <tr>\n",
       "      <th>231405</th>\n",
       "      <td>M</td>\n",
       "      <td>1101.48</td>\n",
       "    </tr>\n",
       "    <tr>\n",
       "      <th>231406</th>\n",
       "      <td>M</td>\n",
       "      <td>2100.00</td>\n",
       "    </tr>\n",
       "  </tbody>\n",
       "</table>\n",
       "<p>39692 rows × 2 columns</p>\n",
       "</div>"
      ],
      "text/plain": [
       "       GENDER  PLACEMENTGRANT\n",
       "0           M          900.00\n",
       "1           M         3600.00\n",
       "2           F         1500.00\n",
       "3           M          900.00\n",
       "4           F         1800.00\n",
       "...       ...             ...\n",
       "231401      F            0.00\n",
       "231403      M            0.00\n",
       "231404      M            0.00\n",
       "231405      M         1101.48\n",
       "231406      M         2100.00\n",
       "\n",
       "[39692 rows x 2 columns]"
      ]
     },
     "execution_count": 282,
     "metadata": {},
     "output_type": "execute_result"
    }
   ],
   "source": [
    "gender_grant=new_data[[\"GENDER\",\"PLACEMENTGRANT\"]]\n",
    "gender_grant"
   ]
  },
  {
   "cell_type": "code",
   "execution_count": 283,
   "id": "af8b8603",
   "metadata": {},
   "outputs": [
    {
     "data": {
      "text/html": [
       "<div>\n",
       "<style scoped>\n",
       "    .dataframe tbody tr th:only-of-type {\n",
       "        vertical-align: middle;\n",
       "    }\n",
       "\n",
       "    .dataframe tbody tr th {\n",
       "        vertical-align: top;\n",
       "    }\n",
       "\n",
       "    .dataframe thead th {\n",
       "        text-align: right;\n",
       "    }\n",
       "</style>\n",
       "<table border=\"1\" class=\"dataframe\">\n",
       "  <thead>\n",
       "    <tr style=\"text-align: right;\">\n",
       "      <th></th>\n",
       "      <th>PLACEMENTGRANT</th>\n",
       "    </tr>\n",
       "    <tr>\n",
       "      <th>GENDER</th>\n",
       "      <th></th>\n",
       "    </tr>\n",
       "  </thead>\n",
       "  <tbody>\n",
       "    <tr>\n",
       "      <th>F</th>\n",
       "      <td>1582.060245</td>\n",
       "    </tr>\n",
       "    <tr>\n",
       "      <th>M</th>\n",
       "      <td>1600.370493</td>\n",
       "    </tr>\n",
       "  </tbody>\n",
       "</table>\n",
       "</div>"
      ],
      "text/plain": [
       "        PLACEMENTGRANT\n",
       "GENDER                \n",
       "F          1582.060245\n",
       "M          1600.370493"
      ]
     },
     "execution_count": 283,
     "metadata": {},
     "output_type": "execute_result"
    }
   ],
   "source": [
    "pd.pivot_table(gender_grant, values='PLACEMENTGRANT', index=['GENDER'],  aggfunc=np.average)"
   ]
  },
  {
   "cell_type": "code",
   "execution_count": null,
   "id": "5ee2128c",
   "metadata": {},
   "outputs": [],
   "source": []
  },
  {
   "cell_type": "markdown",
   "id": "d9f21244",
   "metadata": {},
   "source": [
    "### Nationality\n",
    "###### Db: Nationality\n",
    "- Nationality of student\n",
    "- String of 2 characters in the set “ISO Country Codes” "
   ]
  },
  {
   "cell_type": "code",
   "execution_count": 284,
   "id": "ceee19ea",
   "metadata": {},
   "outputs": [
    {
     "data": {
      "text/plain": [
       "FR    5793\n",
       "DE    5396\n",
       "ES    4456\n",
       "UK    3664\n",
       "PL    2541\n",
       "IT    2267\n",
       "NL    2165\n",
       "TR    1130\n",
       "BE    1101\n",
       "RO    1080\n",
       "FI    1030\n",
       "XX     881\n",
       "PT     871\n",
       "HU     849\n",
       "LT     818\n",
       "CZ     805\n",
       "AT     799\n",
       "IE     584\n",
       "LV     550\n",
       "GR     549\n",
       "SK     475\n",
       "BG     461\n",
       "DK     434\n",
       "SE     283\n",
       "SI     267\n",
       "EE     207\n",
       "NO     129\n",
       "CY      55\n",
       "IS      29\n",
       "LU      18\n",
       "LI       5\n",
       "Name: NATIONALITY, dtype: int64"
      ]
     },
     "execution_count": 284,
     "metadata": {},
     "output_type": "execute_result"
    }
   ],
   "source": [
    "new_data.NATIONALITY.value_counts()"
   ]
  },
  {
   "cell_type": "code",
   "execution_count": 285,
   "id": "4cc261e6",
   "metadata": {},
   "outputs": [
    {
     "data": {
      "text/html": [
       "<div>\n",
       "<style scoped>\n",
       "    .dataframe tbody tr th:only-of-type {\n",
       "        vertical-align: middle;\n",
       "    }\n",
       "\n",
       "    .dataframe tbody tr th {\n",
       "        vertical-align: top;\n",
       "    }\n",
       "\n",
       "    .dataframe thead th {\n",
       "        text-align: right;\n",
       "    }\n",
       "</style>\n",
       "<table border=\"1\" class=\"dataframe\">\n",
       "  <thead>\n",
       "    <tr style=\"text-align: right;\">\n",
       "      <th></th>\n",
       "      <th>NATIONALITY</th>\n",
       "      <th>PLACEMENTGRANT</th>\n",
       "    </tr>\n",
       "  </thead>\n",
       "  <tbody>\n",
       "    <tr>\n",
       "      <th>0</th>\n",
       "      <td>HU</td>\n",
       "      <td>900.00</td>\n",
       "    </tr>\n",
       "    <tr>\n",
       "      <th>1</th>\n",
       "      <td>HU</td>\n",
       "      <td>3600.00</td>\n",
       "    </tr>\n",
       "    <tr>\n",
       "      <th>2</th>\n",
       "      <td>HU</td>\n",
       "      <td>1500.00</td>\n",
       "    </tr>\n",
       "    <tr>\n",
       "      <th>3</th>\n",
       "      <td>SK</td>\n",
       "      <td>900.00</td>\n",
       "    </tr>\n",
       "    <tr>\n",
       "      <th>4</th>\n",
       "      <td>HU</td>\n",
       "      <td>1800.00</td>\n",
       "    </tr>\n",
       "    <tr>\n",
       "      <th>...</th>\n",
       "      <td>...</td>\n",
       "      <td>...</td>\n",
       "    </tr>\n",
       "    <tr>\n",
       "      <th>231401</th>\n",
       "      <td>LT</td>\n",
       "      <td>0.00</td>\n",
       "    </tr>\n",
       "    <tr>\n",
       "      <th>231403</th>\n",
       "      <td>LT</td>\n",
       "      <td>0.00</td>\n",
       "    </tr>\n",
       "    <tr>\n",
       "      <th>231404</th>\n",
       "      <td>LT</td>\n",
       "      <td>0.00</td>\n",
       "    </tr>\n",
       "    <tr>\n",
       "      <th>231405</th>\n",
       "      <td>LT</td>\n",
       "      <td>1101.48</td>\n",
       "    </tr>\n",
       "    <tr>\n",
       "      <th>231406</th>\n",
       "      <td>LT</td>\n",
       "      <td>2100.00</td>\n",
       "    </tr>\n",
       "  </tbody>\n",
       "</table>\n",
       "<p>39692 rows × 2 columns</p>\n",
       "</div>"
      ],
      "text/plain": [
       "       NATIONALITY  PLACEMENTGRANT\n",
       "0               HU          900.00\n",
       "1               HU         3600.00\n",
       "2               HU         1500.00\n",
       "3               SK          900.00\n",
       "4               HU         1800.00\n",
       "...            ...             ...\n",
       "231401          LT            0.00\n",
       "231403          LT            0.00\n",
       "231404          LT            0.00\n",
       "231405          LT         1101.48\n",
       "231406          LT         2100.00\n",
       "\n",
       "[39692 rows x 2 columns]"
      ]
     },
     "execution_count": 285,
     "metadata": {},
     "output_type": "execute_result"
    }
   ],
   "source": [
    "nationality_grant=new_data[[\"NATIONALITY\",\"PLACEMENTGRANT\"]]\n",
    "nationality_grant"
   ]
  },
  {
   "cell_type": "code",
   "execution_count": null,
   "id": "301a05df",
   "metadata": {},
   "outputs": [],
   "source": []
  },
  {
   "cell_type": "code",
   "execution_count": 286,
   "id": "e2cc2603",
   "metadata": {},
   "outputs": [
    {
     "data": {
      "text/html": [
       "<div>\n",
       "<style scoped>\n",
       "    .dataframe tbody tr th:only-of-type {\n",
       "        vertical-align: middle;\n",
       "    }\n",
       "\n",
       "    .dataframe tbody tr th {\n",
       "        vertical-align: top;\n",
       "    }\n",
       "\n",
       "    .dataframe thead th {\n",
       "        text-align: right;\n",
       "    }\n",
       "</style>\n",
       "<table border=\"1\" class=\"dataframe\">\n",
       "  <thead>\n",
       "    <tr style=\"text-align: right;\">\n",
       "      <th></th>\n",
       "      <th>PLACEMENTGRANT</th>\n",
       "    </tr>\n",
       "    <tr>\n",
       "      <th>NATIONALITY</th>\n",
       "      <th></th>\n",
       "    </tr>\n",
       "  </thead>\n",
       "  <tbody>\n",
       "    <tr>\n",
       "      <th>CY</th>\n",
       "      <td>2709.344909</td>\n",
       "    </tr>\n",
       "    <tr>\n",
       "      <th>UK</th>\n",
       "      <td>2699.632522</td>\n",
       "    </tr>\n",
       "    <tr>\n",
       "      <th>GR</th>\n",
       "      <td>2586.552732</td>\n",
       "    </tr>\n",
       "    <tr>\n",
       "      <th>IE</th>\n",
       "      <td>2183.634949</td>\n",
       "    </tr>\n",
       "    <tr>\n",
       "      <th>IS</th>\n",
       "      <td>1976.034483</td>\n",
       "    </tr>\n",
       "    <tr>\n",
       "      <th>RO</th>\n",
       "      <td>1972.615315</td>\n",
       "    </tr>\n",
       "    <tr>\n",
       "      <th>TR</th>\n",
       "      <td>1960.536274</td>\n",
       "    </tr>\n",
       "    <tr>\n",
       "      <th>BG</th>\n",
       "      <td>1941.630477</td>\n",
       "    </tr>\n",
       "    <tr>\n",
       "      <th>SE</th>\n",
       "      <td>1900.758304</td>\n",
       "    </tr>\n",
       "    <tr>\n",
       "      <th>IT</th>\n",
       "      <td>1892.834760</td>\n",
       "    </tr>\n",
       "  </tbody>\n",
       "</table>\n",
       "</div>"
      ],
      "text/plain": [
       "             PLACEMENTGRANT\n",
       "NATIONALITY                \n",
       "CY              2709.344909\n",
       "UK              2699.632522\n",
       "GR              2586.552732\n",
       "IE              2183.634949\n",
       "IS              1976.034483\n",
       "RO              1972.615315\n",
       "TR              1960.536274\n",
       "BG              1941.630477\n",
       "SE              1900.758304\n",
       "IT              1892.834760"
      ]
     },
     "execution_count": 286,
     "metadata": {},
     "output_type": "execute_result"
    }
   ],
   "source": [
    "pd.pivot_table(nationality_grant, values='PLACEMENTGRANT', index=['NATIONALITY'],  \n",
    "               aggfunc=np.average).sort_values(by=\"PLACEMENTGRANT\",ascending=False)[:10]"
   ]
  },
  {
   "cell_type": "code",
   "execution_count": null,
   "id": "42d90349",
   "metadata": {},
   "outputs": [],
   "source": []
  },
  {
   "cell_type": "code",
   "execution_count": null,
   "id": "5f94640f",
   "metadata": {},
   "outputs": [],
   "source": []
  },
  {
   "cell_type": "markdown",
   "id": "fe717f2d",
   "metadata": {},
   "source": [
    "### Subject area"
   ]
  },
  {
   "cell_type": "code",
   "execution_count": 290,
   "id": "347968ec",
   "metadata": {},
   "outputs": [
    {
     "data": {
      "text/plain": [
       "array([521, 522, 581, 582, 481, 524,  34, 223, 344, 525,  99, 342, 541,\n",
       "       313, 629, 622, 314,  38, 443, 345,  21, 225, 312, 144, 311, 489,\n",
       "        52, 529, 721, 813, 727, 724, 214, 340, 212,  72, 421, 723,  32,\n",
       "        62,  14, 213, 720, 319,  58, 221, 762, 211,  22, 589, 640, 621,\n",
       "       543, 840, 349, 222,  46, 620, 623,  31, 726, 729, 725,  54, 523,\n",
       "       149, 142, 441, 442, 429, 812, 322, 219, 140, 145,  48,  76, 346,\n",
       "       461, 440, 310,   6, 769, 811, 329,   5, 229, 321, 850, 520, 422,\n",
       "       343,  84, 624, 449, 226, 462, 347, 380, 220,   3,   4, 143, 851,\n",
       "         2, 761, 540,   0, 341, 210, 815,   7,  64,   1, 862, 852, 859,\n",
       "        44, 549, 542, 146,  85, 482,   8,  42, 215, 860, 141, 819, 861,\n",
       "       469, 814,  10,  81, 853, 544, 869,   9,  90], dtype=int64)"
      ]
     },
     "execution_count": 290,
     "metadata": {},
     "output_type": "execute_result"
    }
   ],
   "source": [
    "new_data.SUBJECTAREA.unique()"
   ]
  },
  {
   "cell_type": "code",
   "execution_count": 407,
   "id": "218da223",
   "metadata": {},
   "outputs": [],
   "source": [
    "subject_area=pd.DataFrame(new_data.SUBJECTAREA.value_counts())\n"
   ]
  },
  {
   "cell_type": "markdown",
   "id": "37eb4df2",
   "metadata": {
    "scrolled": true
   },
   "source": [
    "##### Top 10 subject area\n"
   ]
  },
  {
   "cell_type": "code",
   "execution_count": 465,
   "id": "40295e1b",
   "metadata": {},
   "outputs": [
    {
     "data": {
      "text/html": [
       "<div>\n",
       "<style scoped>\n",
       "    .dataframe tbody tr th:only-of-type {\n",
       "        vertical-align: middle;\n",
       "    }\n",
       "\n",
       "    .dataframe tbody tr th {\n",
       "        vertical-align: top;\n",
       "    }\n",
       "\n",
       "    .dataframe thead th {\n",
       "        text-align: right;\n",
       "    }\n",
       "</style>\n",
       "<table border=\"1\" class=\"dataframe\">\n",
       "  <thead>\n",
       "    <tr style=\"text-align: right;\">\n",
       "      <th></th>\n",
       "      <th>SUBJECTAREA</th>\n",
       "    </tr>\n",
       "  </thead>\n",
       "  <tbody>\n",
       "    <tr>\n",
       "      <th>64</th>\n",
       "      <td>5355</td>\n",
       "    </tr>\n",
       "    <tr>\n",
       "      <th>222</th>\n",
       "      <td>3851</td>\n",
       "    </tr>\n",
       "    <tr>\n",
       "      <th>340</th>\n",
       "      <td>1904</td>\n",
       "    </tr>\n",
       "    <tr>\n",
       "      <th>34</th>\n",
       "      <td>1773</td>\n",
       "    </tr>\n",
       "    <tr>\n",
       "      <th>345</th>\n",
       "      <td>1254</td>\n",
       "    </tr>\n",
       "    <tr>\n",
       "      <th>314</th>\n",
       "      <td>1216</td>\n",
       "    </tr>\n",
       "    <tr>\n",
       "      <th>421</th>\n",
       "      <td>1040</td>\n",
       "    </tr>\n",
       "    <tr>\n",
       "      <th>721</th>\n",
       "      <td>941</td>\n",
       "    </tr>\n",
       "    <tr>\n",
       "      <th>214</th>\n",
       "      <td>863</td>\n",
       "    </tr>\n",
       "    <tr>\n",
       "      <th>52</th>\n",
       "      <td>857</td>\n",
       "    </tr>\n",
       "  </tbody>\n",
       "</table>\n",
       "</div>"
      ],
      "text/plain": [
       "     SUBJECTAREA\n",
       "64          5355\n",
       "222         3851\n",
       "340         1904\n",
       "34          1773\n",
       "345         1254\n",
       "314         1216\n",
       "421         1040\n",
       "721          941\n",
       "214          863\n",
       "52           857"
      ]
     },
     "execution_count": 465,
     "metadata": {},
     "output_type": "execute_result"
    }
   ],
   "source": [
    "top_10=subject_area[:10]\n",
    "top_10"
   ]
  },
  {
   "cell_type": "code",
   "execution_count": 466,
   "id": "454eedb4",
   "metadata": {},
   "outputs": [
    {
     "ename": "ValueError",
     "evalue": "Data must be 1-dimensional",
     "output_type": "error",
     "traceback": [
      "\u001b[1;31m---------------------------------------------------------------------------\u001b[0m",
      "\u001b[1;31mValueError\u001b[0m                                Traceback (most recent call last)",
      "\u001b[1;32m<ipython-input-466-d4b5c0c25b27>\u001b[0m in \u001b[0;36m<module>\u001b[1;34m\u001b[0m\n\u001b[0;32m      2\u001b[0m \u001b[1;33m\u001b[0m\u001b[0m\n\u001b[0;32m      3\u001b[0m \u001b[1;33m\u001b[0m\u001b[0m\n\u001b[1;32m----> 4\u001b[1;33m \u001b[0mtop_10_df\u001b[0m \u001b[1;33m=\u001b[0m \u001b[0mpd\u001b[0m\u001b[1;33m.\u001b[0m\u001b[0mDataFrame\u001b[0m\u001b[1;33m.\u001b[0m\u001b[0mfrom_dict\u001b[0m\u001b[1;33m(\u001b[0m\u001b[0mdic_\u001b[0m\u001b[1;33m)\u001b[0m\u001b[1;33m\u001b[0m\u001b[1;33m\u001b[0m\u001b[0m\n\u001b[0m",
      "\u001b[1;32m~\\anaconda3\\lib\\site-packages\\pandas\\core\\frame.py\u001b[0m in \u001b[0;36mfrom_dict\u001b[1;34m(cls, data, orient, dtype, columns)\u001b[0m\n\u001b[0;32m   1371\u001b[0m             \u001b[1;32mraise\u001b[0m \u001b[0mValueError\u001b[0m\u001b[1;33m(\u001b[0m\u001b[1;34m\"only recognize index or columns for orient\"\u001b[0m\u001b[1;33m)\u001b[0m\u001b[1;33m\u001b[0m\u001b[1;33m\u001b[0m\u001b[0m\n\u001b[0;32m   1372\u001b[0m \u001b[1;33m\u001b[0m\u001b[0m\n\u001b[1;32m-> 1373\u001b[1;33m         \u001b[1;32mreturn\u001b[0m \u001b[0mcls\u001b[0m\u001b[1;33m(\u001b[0m\u001b[0mdata\u001b[0m\u001b[1;33m,\u001b[0m \u001b[0mindex\u001b[0m\u001b[1;33m=\u001b[0m\u001b[0mindex\u001b[0m\u001b[1;33m,\u001b[0m \u001b[0mcolumns\u001b[0m\u001b[1;33m=\u001b[0m\u001b[0mcolumns\u001b[0m\u001b[1;33m,\u001b[0m \u001b[0mdtype\u001b[0m\u001b[1;33m=\u001b[0m\u001b[0mdtype\u001b[0m\u001b[1;33m)\u001b[0m\u001b[1;33m\u001b[0m\u001b[1;33m\u001b[0m\u001b[0m\n\u001b[0m\u001b[0;32m   1374\u001b[0m \u001b[1;33m\u001b[0m\u001b[0m\n\u001b[0;32m   1375\u001b[0m     def to_numpy(\n",
      "\u001b[1;32m~\\anaconda3\\lib\\site-packages\\pandas\\core\\frame.py\u001b[0m in \u001b[0;36m__init__\u001b[1;34m(self, data, index, columns, dtype, copy)\u001b[0m\n\u001b[0;32m    527\u001b[0m \u001b[1;33m\u001b[0m\u001b[0m\n\u001b[0;32m    528\u001b[0m         \u001b[1;32melif\u001b[0m \u001b[0misinstance\u001b[0m\u001b[1;33m(\u001b[0m\u001b[0mdata\u001b[0m\u001b[1;33m,\u001b[0m \u001b[0mdict\u001b[0m\u001b[1;33m)\u001b[0m\u001b[1;33m:\u001b[0m\u001b[1;33m\u001b[0m\u001b[1;33m\u001b[0m\u001b[0m\n\u001b[1;32m--> 529\u001b[1;33m             \u001b[0mmgr\u001b[0m \u001b[1;33m=\u001b[0m \u001b[0minit_dict\u001b[0m\u001b[1;33m(\u001b[0m\u001b[0mdata\u001b[0m\u001b[1;33m,\u001b[0m \u001b[0mindex\u001b[0m\u001b[1;33m,\u001b[0m \u001b[0mcolumns\u001b[0m\u001b[1;33m,\u001b[0m \u001b[0mdtype\u001b[0m\u001b[1;33m=\u001b[0m\u001b[0mdtype\u001b[0m\u001b[1;33m)\u001b[0m\u001b[1;33m\u001b[0m\u001b[1;33m\u001b[0m\u001b[0m\n\u001b[0m\u001b[0;32m    530\u001b[0m         \u001b[1;32melif\u001b[0m \u001b[0misinstance\u001b[0m\u001b[1;33m(\u001b[0m\u001b[0mdata\u001b[0m\u001b[1;33m,\u001b[0m \u001b[0mma\u001b[0m\u001b[1;33m.\u001b[0m\u001b[0mMaskedArray\u001b[0m\u001b[1;33m)\u001b[0m\u001b[1;33m:\u001b[0m\u001b[1;33m\u001b[0m\u001b[1;33m\u001b[0m\u001b[0m\n\u001b[0;32m    531\u001b[0m             \u001b[1;32mimport\u001b[0m \u001b[0mnumpy\u001b[0m\u001b[1;33m.\u001b[0m\u001b[0mma\u001b[0m\u001b[1;33m.\u001b[0m\u001b[0mmrecords\u001b[0m \u001b[1;32mas\u001b[0m \u001b[0mmrecords\u001b[0m\u001b[1;33m\u001b[0m\u001b[1;33m\u001b[0m\u001b[0m\n",
      "\u001b[1;32m~\\anaconda3\\lib\\site-packages\\pandas\\core\\internals\\construction.py\u001b[0m in \u001b[0;36minit_dict\u001b[1;34m(data, index, columns, dtype)\u001b[0m\n\u001b[0;32m    285\u001b[0m             \u001b[0marr\u001b[0m \u001b[1;32mif\u001b[0m \u001b[1;32mnot\u001b[0m \u001b[0mis_datetime64tz_dtype\u001b[0m\u001b[1;33m(\u001b[0m\u001b[0marr\u001b[0m\u001b[1;33m)\u001b[0m \u001b[1;32melse\u001b[0m \u001b[0marr\u001b[0m\u001b[1;33m.\u001b[0m\u001b[0mcopy\u001b[0m\u001b[1;33m(\u001b[0m\u001b[1;33m)\u001b[0m \u001b[1;32mfor\u001b[0m \u001b[0marr\u001b[0m \u001b[1;32min\u001b[0m \u001b[0marrays\u001b[0m\u001b[1;33m\u001b[0m\u001b[1;33m\u001b[0m\u001b[0m\n\u001b[0;32m    286\u001b[0m         ]\n\u001b[1;32m--> 287\u001b[1;33m     \u001b[1;32mreturn\u001b[0m \u001b[0marrays_to_mgr\u001b[0m\u001b[1;33m(\u001b[0m\u001b[0marrays\u001b[0m\u001b[1;33m,\u001b[0m \u001b[0mdata_names\u001b[0m\u001b[1;33m,\u001b[0m \u001b[0mindex\u001b[0m\u001b[1;33m,\u001b[0m \u001b[0mcolumns\u001b[0m\u001b[1;33m,\u001b[0m \u001b[0mdtype\u001b[0m\u001b[1;33m=\u001b[0m\u001b[0mdtype\u001b[0m\u001b[1;33m)\u001b[0m\u001b[1;33m\u001b[0m\u001b[1;33m\u001b[0m\u001b[0m\n\u001b[0m\u001b[0;32m    288\u001b[0m \u001b[1;33m\u001b[0m\u001b[0m\n\u001b[0;32m    289\u001b[0m \u001b[1;33m\u001b[0m\u001b[0m\n",
      "\u001b[1;32m~\\anaconda3\\lib\\site-packages\\pandas\\core\\internals\\construction.py\u001b[0m in \u001b[0;36marrays_to_mgr\u001b[1;34m(arrays, arr_names, index, columns, dtype, verify_integrity)\u001b[0m\n\u001b[0;32m     83\u001b[0m \u001b[1;33m\u001b[0m\u001b[0m\n\u001b[0;32m     84\u001b[0m         \u001b[1;31m# don't force copy because getting jammed in an ndarray anyway\u001b[0m\u001b[1;33m\u001b[0m\u001b[1;33m\u001b[0m\u001b[1;33m\u001b[0m\u001b[0m\n\u001b[1;32m---> 85\u001b[1;33m         \u001b[0marrays\u001b[0m \u001b[1;33m=\u001b[0m \u001b[0m_homogenize\u001b[0m\u001b[1;33m(\u001b[0m\u001b[0marrays\u001b[0m\u001b[1;33m,\u001b[0m \u001b[0mindex\u001b[0m\u001b[1;33m,\u001b[0m \u001b[0mdtype\u001b[0m\u001b[1;33m)\u001b[0m\u001b[1;33m\u001b[0m\u001b[1;33m\u001b[0m\u001b[0m\n\u001b[0m\u001b[0;32m     86\u001b[0m \u001b[1;33m\u001b[0m\u001b[0m\n\u001b[0;32m     87\u001b[0m         \u001b[0mcolumns\u001b[0m \u001b[1;33m=\u001b[0m \u001b[0mensure_index\u001b[0m\u001b[1;33m(\u001b[0m\u001b[0mcolumns\u001b[0m\u001b[1;33m)\u001b[0m\u001b[1;33m\u001b[0m\u001b[1;33m\u001b[0m\u001b[0m\n",
      "\u001b[1;32m~\\anaconda3\\lib\\site-packages\\pandas\\core\\internals\\construction.py\u001b[0m in \u001b[0;36m_homogenize\u001b[1;34m(data, index, dtype)\u001b[0m\n\u001b[0;32m    353\u001b[0m                     \u001b[0mval\u001b[0m \u001b[1;33m=\u001b[0m \u001b[0mdict\u001b[0m\u001b[1;33m(\u001b[0m\u001b[0mval\u001b[0m\u001b[1;33m)\u001b[0m\u001b[1;33m\u001b[0m\u001b[1;33m\u001b[0m\u001b[0m\n\u001b[0;32m    354\u001b[0m                 \u001b[0mval\u001b[0m \u001b[1;33m=\u001b[0m \u001b[0mlib\u001b[0m\u001b[1;33m.\u001b[0m\u001b[0mfast_multiget\u001b[0m\u001b[1;33m(\u001b[0m\u001b[0mval\u001b[0m\u001b[1;33m,\u001b[0m \u001b[0moindex\u001b[0m\u001b[1;33m.\u001b[0m\u001b[0m_values\u001b[0m\u001b[1;33m,\u001b[0m \u001b[0mdefault\u001b[0m\u001b[1;33m=\u001b[0m\u001b[0mnp\u001b[0m\u001b[1;33m.\u001b[0m\u001b[0mnan\u001b[0m\u001b[1;33m)\u001b[0m\u001b[1;33m\u001b[0m\u001b[1;33m\u001b[0m\u001b[0m\n\u001b[1;32m--> 355\u001b[1;33m             val = sanitize_array(\n\u001b[0m\u001b[0;32m    356\u001b[0m                 \u001b[0mval\u001b[0m\u001b[1;33m,\u001b[0m \u001b[0mindex\u001b[0m\u001b[1;33m,\u001b[0m \u001b[0mdtype\u001b[0m\u001b[1;33m=\u001b[0m\u001b[0mdtype\u001b[0m\u001b[1;33m,\u001b[0m \u001b[0mcopy\u001b[0m\u001b[1;33m=\u001b[0m\u001b[1;32mFalse\u001b[0m\u001b[1;33m,\u001b[0m \u001b[0mraise_cast_failure\u001b[0m\u001b[1;33m=\u001b[0m\u001b[1;32mFalse\u001b[0m\u001b[1;33m\u001b[0m\u001b[1;33m\u001b[0m\u001b[0m\n\u001b[0;32m    357\u001b[0m             )\n",
      "\u001b[1;32m~\\anaconda3\\lib\\site-packages\\pandas\\core\\construction.py\u001b[0m in \u001b[0;36msanitize_array\u001b[1;34m(data, index, dtype, copy, raise_cast_failure)\u001b[0m\n\u001b[0;32m    527\u001b[0m     \u001b[1;32melif\u001b[0m \u001b[0msubarr\u001b[0m\u001b[1;33m.\u001b[0m\u001b[0mndim\u001b[0m \u001b[1;33m>\u001b[0m \u001b[1;36m1\u001b[0m\u001b[1;33m:\u001b[0m\u001b[1;33m\u001b[0m\u001b[1;33m\u001b[0m\u001b[0m\n\u001b[0;32m    528\u001b[0m         \u001b[1;32mif\u001b[0m \u001b[0misinstance\u001b[0m\u001b[1;33m(\u001b[0m\u001b[0mdata\u001b[0m\u001b[1;33m,\u001b[0m \u001b[0mnp\u001b[0m\u001b[1;33m.\u001b[0m\u001b[0mndarray\u001b[0m\u001b[1;33m)\u001b[0m\u001b[1;33m:\u001b[0m\u001b[1;33m\u001b[0m\u001b[1;33m\u001b[0m\u001b[0m\n\u001b[1;32m--> 529\u001b[1;33m             \u001b[1;32mraise\u001b[0m \u001b[0mValueError\u001b[0m\u001b[1;33m(\u001b[0m\u001b[1;34m\"Data must be 1-dimensional\"\u001b[0m\u001b[1;33m)\u001b[0m\u001b[1;33m\u001b[0m\u001b[1;33m\u001b[0m\u001b[0m\n\u001b[0m\u001b[0;32m    530\u001b[0m         \u001b[1;32melse\u001b[0m\u001b[1;33m:\u001b[0m\u001b[1;33m\u001b[0m\u001b[1;33m\u001b[0m\u001b[0m\n\u001b[0;32m    531\u001b[0m             \u001b[0msubarr\u001b[0m \u001b[1;33m=\u001b[0m \u001b[0mcom\u001b[0m\u001b[1;33m.\u001b[0m\u001b[0masarray_tuplesafe\u001b[0m\u001b[1;33m(\u001b[0m\u001b[0mdata\u001b[0m\u001b[1;33m,\u001b[0m \u001b[0mdtype\u001b[0m\u001b[1;33m=\u001b[0m\u001b[0mdtype\u001b[0m\u001b[1;33m)\u001b[0m\u001b[1;33m\u001b[0m\u001b[1;33m\u001b[0m\u001b[0m\n",
      "\u001b[1;31mValueError\u001b[0m: Data must be 1-dimensional"
     ]
    }
   ],
   "source": [
    "dic_={\"Subject\":top_10.index,\"Number of student\":top_10.values}\n",
    "\n",
    "\n",
    "top_10_df = pd.DataFrame.from_dict(dic_)"
   ]
  },
  {
   "cell_type": "code",
   "execution_count": 367,
   "id": "27decb29",
   "metadata": {},
   "outputs": [
    {
     "data": {
      "text/plain": [
       "64      64\n",
       "222    222\n",
       "340    340\n",
       "34      34\n",
       "345    345\n",
       "314    314\n",
       "421    421\n",
       "721    721\n",
       "214    214\n",
       "52      52\n",
       "dtype: int64"
      ]
     },
     "execution_count": 367,
     "metadata": {},
     "output_type": "execute_result"
    }
   ],
   "source": [
    "s = top_10.index.to_series()\n",
    "s"
   ]
  },
  {
   "cell_type": "code",
   "execution_count": 368,
   "id": "3b846b3a",
   "metadata": {},
   "outputs": [],
   "source": [
    "dict_={64:\"Veterinary\",222:\"Foreign languages\",340:\"Business and administration (broad)\",\n",
    "                34:\"Business and administration\",345:\"Management and administration\",\n",
    "                314:\"Economics\",421:\"Biology and biochemistry\",721:\"Medicine\",\n",
    "                214:\"Design\",52:\"Engineering and engineering trades\"}\n"
   ]
  },
  {
   "cell_type": "code",
   "execution_count": 467,
   "id": "aa305d26",
   "metadata": {},
   "outputs": [
    {
     "data": {
      "text/html": [
       "<div>\n",
       "<style scoped>\n",
       "    .dataframe tbody tr th:only-of-type {\n",
       "        vertical-align: middle;\n",
       "    }\n",
       "\n",
       "    .dataframe tbody tr th {\n",
       "        vertical-align: top;\n",
       "    }\n",
       "\n",
       "    .dataframe thead th {\n",
       "        text-align: right;\n",
       "    }\n",
       "</style>\n",
       "<table border=\"1\" class=\"dataframe\">\n",
       "  <thead>\n",
       "    <tr style=\"text-align: right;\">\n",
       "      <th></th>\n",
       "      <th>SUBJECTAREA</th>\n",
       "    </tr>\n",
       "  </thead>\n",
       "  <tbody>\n",
       "    <tr>\n",
       "      <th>Veterinary</th>\n",
       "      <td>5355</td>\n",
       "    </tr>\n",
       "    <tr>\n",
       "      <th>Foreign languages</th>\n",
       "      <td>3851</td>\n",
       "    </tr>\n",
       "    <tr>\n",
       "      <th>Business and administration (broad)</th>\n",
       "      <td>1904</td>\n",
       "    </tr>\n",
       "    <tr>\n",
       "      <th>Business and administration</th>\n",
       "      <td>1773</td>\n",
       "    </tr>\n",
       "    <tr>\n",
       "      <th>Management and administration</th>\n",
       "      <td>1254</td>\n",
       "    </tr>\n",
       "    <tr>\n",
       "      <th>Economics</th>\n",
       "      <td>1216</td>\n",
       "    </tr>\n",
       "    <tr>\n",
       "      <th>Biology and biochemistry</th>\n",
       "      <td>1040</td>\n",
       "    </tr>\n",
       "    <tr>\n",
       "      <th>Medicine</th>\n",
       "      <td>941</td>\n",
       "    </tr>\n",
       "    <tr>\n",
       "      <th>Design</th>\n",
       "      <td>863</td>\n",
       "    </tr>\n",
       "    <tr>\n",
       "      <th>Engineering and engineering trades</th>\n",
       "      <td>857</td>\n",
       "    </tr>\n",
       "  </tbody>\n",
       "</table>\n",
       "</div>"
      ],
      "text/plain": [
       "                                     SUBJECTAREA\n",
       "Veterinary                                  5355\n",
       "Foreign languages                           3851\n",
       "Business and administration (broad)         1904\n",
       "Business and administration                 1773\n",
       "Management and administration               1254\n",
       "Economics                                   1216\n",
       "Biology and biochemistry                    1040\n",
       "Medicine                                     941\n",
       "Design                                       863\n",
       "Engineering and engineering trades           857"
      ]
     },
     "execution_count": 467,
     "metadata": {},
     "output_type": "execute_result"
    }
   ],
   "source": [
    "import numpy as np\n",
    "top_10.index = np.array(s.map(dict_).fillna(s),ndmin =1)\n",
    "top_10"
   ]
  },
  {
   "cell_type": "code",
   "execution_count": 468,
   "id": "fd428934",
   "metadata": {},
   "outputs": [],
   "source": [
    "import seaborn as sns\n",
    "subset=top_10"
   ]
  },
  {
   "cell_type": "code",
   "execution_count": 469,
   "id": "7a9a4313",
   "metadata": {},
   "outputs": [
    {
     "ename": "ValueError",
     "evalue": "Data must be 1-dimensional",
     "output_type": "error",
     "traceback": [
      "\u001b[1;31m---------------------------------------------------------------------------\u001b[0m",
      "\u001b[1;31mValueError\u001b[0m                                Traceback (most recent call last)",
      "\u001b[1;32m<ipython-input-469-78b75d0ca1f1>\u001b[0m in \u001b[0;36m<module>\u001b[1;34m\u001b[0m\n\u001b[1;32m----> 1\u001b[1;33m \u001b[0msns\u001b[0m\u001b[1;33m.\u001b[0m\u001b[0mbarplot\u001b[0m\u001b[1;33m(\u001b[0m\u001b[0my\u001b[0m\u001b[1;33m=\u001b[0m\u001b[0mtop_10\u001b[0m\u001b[1;33m.\u001b[0m\u001b[0mindex\u001b[0m\u001b[1;33m,\u001b[0m\u001b[0mx\u001b[0m\u001b[1;33m=\u001b[0m\u001b[0mtop_10\u001b[0m\u001b[1;33m.\u001b[0m\u001b[0mvalues\u001b[0m\u001b[1;33m)\u001b[0m\u001b[1;33m\u001b[0m\u001b[1;33m\u001b[0m\u001b[0m\n\u001b[0m\u001b[0;32m      2\u001b[0m \u001b[1;31m#sns.boxplot(y=subset.index,x=subset.values)\u001b[0m\u001b[1;33m\u001b[0m\u001b[1;33m\u001b[0m\u001b[1;33m\u001b[0m\u001b[0m\n",
      "\u001b[1;32m~\\anaconda3\\lib\\site-packages\\seaborn\\_decorators.py\u001b[0m in \u001b[0;36minner_f\u001b[1;34m(*args, **kwargs)\u001b[0m\n\u001b[0;32m     44\u001b[0m             )\n\u001b[0;32m     45\u001b[0m         \u001b[0mkwargs\u001b[0m\u001b[1;33m.\u001b[0m\u001b[0mupdate\u001b[0m\u001b[1;33m(\u001b[0m\u001b[1;33m{\u001b[0m\u001b[0mk\u001b[0m\u001b[1;33m:\u001b[0m \u001b[0marg\u001b[0m \u001b[1;32mfor\u001b[0m \u001b[0mk\u001b[0m\u001b[1;33m,\u001b[0m \u001b[0marg\u001b[0m \u001b[1;32min\u001b[0m \u001b[0mzip\u001b[0m\u001b[1;33m(\u001b[0m\u001b[0msig\u001b[0m\u001b[1;33m.\u001b[0m\u001b[0mparameters\u001b[0m\u001b[1;33m,\u001b[0m \u001b[0margs\u001b[0m\u001b[1;33m)\u001b[0m\u001b[1;33m}\u001b[0m\u001b[1;33m)\u001b[0m\u001b[1;33m\u001b[0m\u001b[1;33m\u001b[0m\u001b[0m\n\u001b[1;32m---> 46\u001b[1;33m         \u001b[1;32mreturn\u001b[0m \u001b[0mf\u001b[0m\u001b[1;33m(\u001b[0m\u001b[1;33m**\u001b[0m\u001b[0mkwargs\u001b[0m\u001b[1;33m)\u001b[0m\u001b[1;33m\u001b[0m\u001b[1;33m\u001b[0m\u001b[0m\n\u001b[0m\u001b[0;32m     47\u001b[0m     \u001b[1;32mreturn\u001b[0m \u001b[0minner_f\u001b[0m\u001b[1;33m\u001b[0m\u001b[1;33m\u001b[0m\u001b[0m\n\u001b[0;32m     48\u001b[0m \u001b[1;33m\u001b[0m\u001b[0m\n",
      "\u001b[1;32m~\\anaconda3\\lib\\site-packages\\seaborn\\categorical.py\u001b[0m in \u001b[0;36mbarplot\u001b[1;34m(x, y, hue, data, order, hue_order, estimator, ci, n_boot, units, seed, orient, color, palette, saturation, errcolor, errwidth, capsize, dodge, ax, **kwargs)\u001b[0m\n\u001b[0;32m   3177\u001b[0m ):\n\u001b[0;32m   3178\u001b[0m \u001b[1;33m\u001b[0m\u001b[0m\n\u001b[1;32m-> 3179\u001b[1;33m     plotter = _BarPlotter(x, y, hue, data, order, hue_order,\n\u001b[0m\u001b[0;32m   3180\u001b[0m                           \u001b[0mestimator\u001b[0m\u001b[1;33m,\u001b[0m \u001b[0mci\u001b[0m\u001b[1;33m,\u001b[0m \u001b[0mn_boot\u001b[0m\u001b[1;33m,\u001b[0m \u001b[0munits\u001b[0m\u001b[1;33m,\u001b[0m \u001b[0mseed\u001b[0m\u001b[1;33m,\u001b[0m\u001b[1;33m\u001b[0m\u001b[1;33m\u001b[0m\u001b[0m\n\u001b[0;32m   3181\u001b[0m                           \u001b[0morient\u001b[0m\u001b[1;33m,\u001b[0m \u001b[0mcolor\u001b[0m\u001b[1;33m,\u001b[0m \u001b[0mpalette\u001b[0m\u001b[1;33m,\u001b[0m \u001b[0msaturation\u001b[0m\u001b[1;33m,\u001b[0m\u001b[1;33m\u001b[0m\u001b[1;33m\u001b[0m\u001b[0m\n",
      "\u001b[1;32m~\\anaconda3\\lib\\site-packages\\seaborn\\categorical.py\u001b[0m in \u001b[0;36m__init__\u001b[1;34m(self, x, y, hue, data, order, hue_order, estimator, ci, n_boot, units, seed, orient, color, palette, saturation, errcolor, errwidth, capsize, dodge)\u001b[0m\n\u001b[0;32m   1582\u001b[0m                  errwidth, capsize, dodge):\n\u001b[0;32m   1583\u001b[0m         \u001b[1;34m\"\"\"Initialize the plotter.\"\"\"\u001b[0m\u001b[1;33m\u001b[0m\u001b[1;33m\u001b[0m\u001b[0m\n\u001b[1;32m-> 1584\u001b[1;33m         self.establish_variables(x, y, hue, data, orient,\n\u001b[0m\u001b[0;32m   1585\u001b[0m                                  order, hue_order, units)\n\u001b[0;32m   1586\u001b[0m         \u001b[0mself\u001b[0m\u001b[1;33m.\u001b[0m\u001b[0mestablish_colors\u001b[0m\u001b[1;33m(\u001b[0m\u001b[0mcolor\u001b[0m\u001b[1;33m,\u001b[0m \u001b[0mpalette\u001b[0m\u001b[1;33m,\u001b[0m \u001b[0msaturation\u001b[0m\u001b[1;33m)\u001b[0m\u001b[1;33m\u001b[0m\u001b[1;33m\u001b[0m\u001b[0m\n",
      "\u001b[1;32m~\\anaconda3\\lib\\site-packages\\seaborn\\categorical.py\u001b[0m in \u001b[0;36mestablish_variables\u001b[1;34m(self, x, y, hue, data, orient, order, hue_order, units)\u001b[0m\n\u001b[0;32m    204\u001b[0m \u001b[1;33m\u001b[0m\u001b[0m\n\u001b[0;32m    205\u001b[0m                 \u001b[1;31m# Group the numeric data\u001b[0m\u001b[1;33m\u001b[0m\u001b[1;33m\u001b[0m\u001b[1;33m\u001b[0m\u001b[0m\n\u001b[1;32m--> 206\u001b[1;33m                 plot_data, value_label = self._group_longform(vals, groups,\n\u001b[0m\u001b[0;32m    207\u001b[0m                                                               group_names)\n\u001b[0;32m    208\u001b[0m \u001b[1;33m\u001b[0m\u001b[0m\n",
      "\u001b[1;32m~\\anaconda3\\lib\\site-packages\\seaborn\\categorical.py\u001b[0m in \u001b[0;36m_group_longform\u001b[1;34m(self, vals, grouper, order)\u001b[0m\n\u001b[0;32m    248\u001b[0m             \u001b[1;32melse\u001b[0m\u001b[1;33m:\u001b[0m\u001b[1;33m\u001b[0m\u001b[1;33m\u001b[0m\u001b[0m\n\u001b[0;32m    249\u001b[0m                 \u001b[0mindex\u001b[0m \u001b[1;33m=\u001b[0m \u001b[1;32mNone\u001b[0m\u001b[1;33m\u001b[0m\u001b[1;33m\u001b[0m\u001b[0m\n\u001b[1;32m--> 250\u001b[1;33m             \u001b[0mvals\u001b[0m \u001b[1;33m=\u001b[0m \u001b[0mpd\u001b[0m\u001b[1;33m.\u001b[0m\u001b[0mSeries\u001b[0m\u001b[1;33m(\u001b[0m\u001b[0mvals\u001b[0m\u001b[1;33m,\u001b[0m \u001b[0mindex\u001b[0m\u001b[1;33m=\u001b[0m\u001b[0mindex\u001b[0m\u001b[1;33m)\u001b[0m\u001b[1;33m\u001b[0m\u001b[1;33m\u001b[0m\u001b[0m\n\u001b[0m\u001b[0;32m    251\u001b[0m \u001b[1;33m\u001b[0m\u001b[0m\n\u001b[0;32m    252\u001b[0m         \u001b[1;31m# Group the val data\u001b[0m\u001b[1;33m\u001b[0m\u001b[1;33m\u001b[0m\u001b[1;33m\u001b[0m\u001b[0m\n",
      "\u001b[1;32m~\\anaconda3\\lib\\site-packages\\pandas\\core\\series.py\u001b[0m in \u001b[0;36m__init__\u001b[1;34m(self, data, index, dtype, name, copy, fastpath)\u001b[0m\n\u001b[0;32m    362\u001b[0m                     \u001b[0mdata\u001b[0m \u001b[1;33m=\u001b[0m \u001b[0mdata\u001b[0m\u001b[1;33m.\u001b[0m\u001b[0mcopy\u001b[0m\u001b[1;33m(\u001b[0m\u001b[1;33m)\u001b[0m\u001b[1;33m\u001b[0m\u001b[1;33m\u001b[0m\u001b[0m\n\u001b[0;32m    363\u001b[0m             \u001b[1;32melse\u001b[0m\u001b[1;33m:\u001b[0m\u001b[1;33m\u001b[0m\u001b[1;33m\u001b[0m\u001b[0m\n\u001b[1;32m--> 364\u001b[1;33m                 \u001b[0mdata\u001b[0m \u001b[1;33m=\u001b[0m \u001b[0msanitize_array\u001b[0m\u001b[1;33m(\u001b[0m\u001b[0mdata\u001b[0m\u001b[1;33m,\u001b[0m \u001b[0mindex\u001b[0m\u001b[1;33m,\u001b[0m \u001b[0mdtype\u001b[0m\u001b[1;33m,\u001b[0m \u001b[0mcopy\u001b[0m\u001b[1;33m,\u001b[0m \u001b[0mraise_cast_failure\u001b[0m\u001b[1;33m=\u001b[0m\u001b[1;32mTrue\u001b[0m\u001b[1;33m)\u001b[0m\u001b[1;33m\u001b[0m\u001b[1;33m\u001b[0m\u001b[0m\n\u001b[0m\u001b[0;32m    365\u001b[0m \u001b[1;33m\u001b[0m\u001b[0m\n\u001b[0;32m    366\u001b[0m                 \u001b[0mdata\u001b[0m \u001b[1;33m=\u001b[0m \u001b[0mSingleBlockManager\u001b[0m\u001b[1;33m.\u001b[0m\u001b[0mfrom_array\u001b[0m\u001b[1;33m(\u001b[0m\u001b[0mdata\u001b[0m\u001b[1;33m,\u001b[0m \u001b[0mindex\u001b[0m\u001b[1;33m)\u001b[0m\u001b[1;33m\u001b[0m\u001b[1;33m\u001b[0m\u001b[0m\n",
      "\u001b[1;32m~\\anaconda3\\lib\\site-packages\\pandas\\core\\construction.py\u001b[0m in \u001b[0;36msanitize_array\u001b[1;34m(data, index, dtype, copy, raise_cast_failure)\u001b[0m\n\u001b[0;32m    527\u001b[0m     \u001b[1;32melif\u001b[0m \u001b[0msubarr\u001b[0m\u001b[1;33m.\u001b[0m\u001b[0mndim\u001b[0m \u001b[1;33m>\u001b[0m \u001b[1;36m1\u001b[0m\u001b[1;33m:\u001b[0m\u001b[1;33m\u001b[0m\u001b[1;33m\u001b[0m\u001b[0m\n\u001b[0;32m    528\u001b[0m         \u001b[1;32mif\u001b[0m \u001b[0misinstance\u001b[0m\u001b[1;33m(\u001b[0m\u001b[0mdata\u001b[0m\u001b[1;33m,\u001b[0m \u001b[0mnp\u001b[0m\u001b[1;33m.\u001b[0m\u001b[0mndarray\u001b[0m\u001b[1;33m)\u001b[0m\u001b[1;33m:\u001b[0m\u001b[1;33m\u001b[0m\u001b[1;33m\u001b[0m\u001b[0m\n\u001b[1;32m--> 529\u001b[1;33m             \u001b[1;32mraise\u001b[0m \u001b[0mValueError\u001b[0m\u001b[1;33m(\u001b[0m\u001b[1;34m\"Data must be 1-dimensional\"\u001b[0m\u001b[1;33m)\u001b[0m\u001b[1;33m\u001b[0m\u001b[1;33m\u001b[0m\u001b[0m\n\u001b[0m\u001b[0;32m    530\u001b[0m         \u001b[1;32melse\u001b[0m\u001b[1;33m:\u001b[0m\u001b[1;33m\u001b[0m\u001b[1;33m\u001b[0m\u001b[0m\n\u001b[0;32m    531\u001b[0m             \u001b[0msubarr\u001b[0m \u001b[1;33m=\u001b[0m \u001b[0mcom\u001b[0m\u001b[1;33m.\u001b[0m\u001b[0masarray_tuplesafe\u001b[0m\u001b[1;33m(\u001b[0m\u001b[0mdata\u001b[0m\u001b[1;33m,\u001b[0m \u001b[0mdtype\u001b[0m\u001b[1;33m=\u001b[0m\u001b[0mdtype\u001b[0m\u001b[1;33m)\u001b[0m\u001b[1;33m\u001b[0m\u001b[1;33m\u001b[0m\u001b[0m\n",
      "\u001b[1;31mValueError\u001b[0m: Data must be 1-dimensional"
     ]
    }
   ],
   "source": [
    "sns.barplot(y=top_10.index,x=top_10.values)\n",
    "#sns.boxplot(y=subset.index,x=subset.values)"
   ]
  },
  {
   "cell_type": "code",
   "execution_count": null,
   "id": "9c8b54ac",
   "metadata": {},
   "outputs": [],
   "source": []
  },
  {
   "cell_type": "code",
   "execution_count": 72,
   "id": "82cdcc7b",
   "metadata": {},
   "outputs": [],
   "source": [
    "mobility_type=new_data.MOBILITYTYPE.replace({\"P\":\"Combined study and placement\",\"C\":\"Combined study and placement\"})"
   ]
  },
  {
   "cell_type": "code",
   "execution_count": 73,
   "id": "abda4b22",
   "metadata": {},
   "outputs": [
    {
     "data": {
      "text/plain": [
       "Combined study and placement    39692\n",
       "Name: MOBILITYTYPE, dtype: int64"
      ]
     },
     "execution_count": 73,
     "metadata": {},
     "output_type": "execute_result"
    }
   ],
   "source": [
    "mobility_type.value_counts()"
   ]
  },
  {
   "cell_type": "code",
   "execution_count": null,
   "id": "62169009",
   "metadata": {},
   "outputs": [],
   "source": []
  },
  {
   "cell_type": "markdown",
   "id": "bf6f318c",
   "metadata": {},
   "source": [
    "### Enterprise size\n",
    "\n",
    "- 'M':'Medium (51-250 staff)'\n",
    "- 'S':'Small (<=50 staff)'\n",
    "- 'L':'Large  (>250 staff)"
   ]
  },
  {
   "cell_type": "code",
   "execution_count": 414,
   "id": "ff5d9038",
   "metadata": {},
   "outputs": [
    {
     "data": {
      "text/plain": [
       "0         M\n",
       "1         M\n",
       "2         S\n",
       "3         L\n",
       "4         M\n",
       "         ..\n",
       "231401    L\n",
       "231403    L\n",
       "231404    L\n",
       "231405    M\n",
       "231406    M\n",
       "Name: ENTERPRISESIZE, Length: 39692, dtype: object"
      ]
     },
     "execution_count": 414,
     "metadata": {},
     "output_type": "execute_result"
    }
   ],
   "source": [
    "new_data.ENTERPRISESIZE"
   ]
  },
  {
   "cell_type": "code",
   "execution_count": 415,
   "id": "d0ea9770",
   "metadata": {},
   "outputs": [
    {
     "data": {
      "text/plain": [
       "array(['M', 'S', 'L'], dtype=object)"
      ]
     },
     "execution_count": 415,
     "metadata": {},
     "output_type": "execute_result"
    }
   ],
   "source": [
    "new_data.ENTERPRISESIZE.unique()"
   ]
  },
  {
   "cell_type": "code",
   "execution_count": 416,
   "id": "f581e1fd",
   "metadata": {},
   "outputs": [
    {
     "name": "stderr",
     "output_type": "stream",
     "text": [
      "<ipython-input-416-b18e81008d96>:1: SettingWithCopyWarning: \n",
      "A value is trying to be set on a copy of a slice from a DataFrame.\n",
      "Try using .loc[row_indexer,col_indexer] = value instead\n",
      "\n",
      "See the caveats in the documentation: https://pandas.pydata.org/pandas-docs/stable/user_guide/indexing.html#returning-a-view-versus-a-copy\n",
      "  new_data['enterprise_size']=new_data.ENTERPRISESIZE.replace({'M':'Medium', 'S':'Small', 'L':'Large'})\n"
     ]
    }
   ],
   "source": [
    "new_data['enterprise_size']=new_data.ENTERPRISESIZE.replace({'M':'Medium', 'S':'Small', 'L':'Large'})"
   ]
  },
  {
   "cell_type": "code",
   "execution_count": 417,
   "id": "1a97f4a9",
   "metadata": {},
   "outputs": [
    {
     "data": {
      "text/plain": [
       "Small     16622\n",
       "Medium    13255\n",
       "Large      9815\n",
       "Name: enterprise_size, dtype: int64"
      ]
     },
     "execution_count": 417,
     "metadata": {},
     "output_type": "execute_result"
    }
   ],
   "source": [
    "#data1.drop(columns=[\"ENTERPRISESIZE\"],inplace=True)\n",
    "\n",
    "new_data.enterprise_size.value_counts()"
   ]
  },
  {
   "cell_type": "code",
   "execution_count": 429,
   "id": "5af65188",
   "metadata": {
    "scrolled": true
   },
   "outputs": [
    {
     "data": {
      "text/html": [
       "<div>\n",
       "<style scoped>\n",
       "    .dataframe tbody tr th:only-of-type {\n",
       "        vertical-align: middle;\n",
       "    }\n",
       "\n",
       "    .dataframe tbody tr th {\n",
       "        vertical-align: top;\n",
       "    }\n",
       "\n",
       "    .dataframe thead th {\n",
       "        text-align: right;\n",
       "    }\n",
       "</style>\n",
       "<table border=\"1\" class=\"dataframe\">\n",
       "  <thead>\n",
       "    <tr style=\"text-align: right;\">\n",
       "      <th></th>\n",
       "      <th>PLACEMENTGRANT</th>\n",
       "    </tr>\n",
       "    <tr>\n",
       "      <th>enterprise_size</th>\n",
       "      <th></th>\n",
       "    </tr>\n",
       "  </thead>\n",
       "  <tbody>\n",
       "    <tr>\n",
       "      <th>Large</th>\n",
       "      <td>1712.560646</td>\n",
       "    </tr>\n",
       "    <tr>\n",
       "      <th>Medium</th>\n",
       "      <td>1637.480773</td>\n",
       "    </tr>\n",
       "    <tr>\n",
       "      <th>Small</th>\n",
       "      <td>1477.657225</td>\n",
       "    </tr>\n",
       "  </tbody>\n",
       "</table>\n",
       "</div>"
      ],
      "text/plain": [
       "                 PLACEMENTGRANT\n",
       "enterprise_size                \n",
       "Large               1712.560646\n",
       "Medium              1637.480773\n",
       "Small               1477.657225"
      ]
     },
     "execution_count": 429,
     "metadata": {},
     "output_type": "execute_result"
    }
   ],
   "source": [
    "new_data[['enterprise_size','PLACEMENTGRANT']].groupby('enterprise_size').mean()"
   ]
  },
  {
   "cell_type": "code",
   "execution_count": 431,
   "id": "34477563",
   "metadata": {},
   "outputs": [
    {
     "data": {
      "text/html": [
       "<div>\n",
       "<style scoped>\n",
       "    .dataframe tbody tr th:only-of-type {\n",
       "        vertical-align: middle;\n",
       "    }\n",
       "\n",
       "    .dataframe tbody tr th {\n",
       "        vertical-align: top;\n",
       "    }\n",
       "\n",
       "    .dataframe thead th {\n",
       "        text-align: right;\n",
       "    }\n",
       "</style>\n",
       "<table border=\"1\" class=\"dataframe\">\n",
       "  <thead>\n",
       "    <tr style=\"text-align: right;\">\n",
       "      <th></th>\n",
       "      <th>LENGTHPLACEMENT</th>\n",
       "    </tr>\n",
       "    <tr>\n",
       "      <th>enterprise_size</th>\n",
       "      <th></th>\n",
       "    </tr>\n",
       "  </thead>\n",
       "  <tbody>\n",
       "    <tr>\n",
       "      <th>Large</th>\n",
       "      <td>4.717753</td>\n",
       "    </tr>\n",
       "    <tr>\n",
       "      <th>Medium</th>\n",
       "      <td>4.525141</td>\n",
       "    </tr>\n",
       "    <tr>\n",
       "      <th>Small</th>\n",
       "      <td>3.990630</td>\n",
       "    </tr>\n",
       "  </tbody>\n",
       "</table>\n",
       "</div>"
      ],
      "text/plain": [
       "                 LENGTHPLACEMENT\n",
       "enterprise_size                 \n",
       "Large                   4.717753\n",
       "Medium                  4.525141\n",
       "Small                   3.990630"
      ]
     },
     "execution_count": 431,
     "metadata": {},
     "output_type": "execute_result"
    }
   ],
   "source": [
    "new_data[['enterprise_size','LENGTHPLACEMENT']].groupby('enterprise_size').mean()"
   ]
  },
  {
   "cell_type": "markdown",
   "id": "0ace6ef0",
   "metadata": {},
   "source": [
    "Conclusion: The bigger the size of enterprise, the more money grant the students can receive"
   ]
  },
  {
   "cell_type": "code",
   "execution_count": null,
   "id": "fd5ac89f",
   "metadata": {},
   "outputs": [],
   "source": []
  },
  {
   "cell_type": "markdown",
   "id": "7e7d55db",
   "metadata": {},
   "source": [
    "### Type of work sector"
   ]
  },
  {
   "cell_type": "code",
   "execution_count": 82,
   "id": "4e74546f",
   "metadata": {},
   "outputs": [
    {
     "data": {
      "text/plain": [
       "array(['P', 'M', 'F', 'C', 'S', 'N', 'H', 'J', 'O', 'A', 'K', 'G', 'I',\n",
       "       'R', 'Q', 'E', 'T', 'U', 'L', 'B', 'D'], dtype=object)"
      ]
     },
     "execution_count": 82,
     "metadata": {},
     "output_type": "execute_result"
    }
   ],
   "source": [
    "new_data.TYPEWORKSECTOR.unique()"
   ]
  },
  {
   "cell_type": "code",
   "execution_count": 442,
   "id": "19a284de",
   "metadata": {
    "scrolled": false
   },
   "outputs": [
    {
     "data": {
      "text/plain": [
       "64      64\n",
       "222    222\n",
       "340    340\n",
       "34      34\n",
       "345    345\n",
       "314    314\n",
       "421    421\n",
       "721    721\n",
       "214    214\n",
       "52      52\n",
       "dtype: int64"
      ]
     },
     "execution_count": 442,
     "metadata": {},
     "output_type": "execute_result"
    }
   ],
   "source": [
    "top_10_work_sector=new_data.TYPEWORKSECTOR.value_counts()[:10]\n",
    "top_10_work_sector\n",
    "r = top_10_work_sector.index.to_series()\n",
    "s"
   ]
  },
  {
   "cell_type": "code",
   "execution_count": 440,
   "id": "41c091ab",
   "metadata": {},
   "outputs": [],
   "source": [
    "dict1=({\"P\":\"Education\",\"M\":\"Technical activities \",\n",
    "                                             \"S\":\"Other services\",\"Q\":\"- Human and social work\",\n",
    "                                             \"I\":\"Accommodation and food service\",\"C\":\"Manufacture of metal product\",\n",
    "                                             \"R\":\"Arts\",\"J\":\"Information and communication \",\n",
    "                                             \"N\":\"Administrative and support service\",\n",
    "                                             \"F\":\"Construction\"})"
   ]
  },
  {
   "cell_type": "code",
   "execution_count": 454,
   "id": "65f3e818",
   "metadata": {},
   "outputs": [
    {
     "data": {
      "text/html": [
       "<div>\n",
       "<style scoped>\n",
       "    .dataframe tbody tr th:only-of-type {\n",
       "        vertical-align: middle;\n",
       "    }\n",
       "\n",
       "    .dataframe tbody tr th {\n",
       "        vertical-align: top;\n",
       "    }\n",
       "\n",
       "    .dataframe thead th {\n",
       "        text-align: right;\n",
       "    }\n",
       "</style>\n",
       "<table border=\"1\" class=\"dataframe\">\n",
       "  <thead>\n",
       "    <tr style=\"text-align: right;\">\n",
       "      <th></th>\n",
       "      <th>Work sector</th>\n",
       "      <th>Number of student</th>\n",
       "    </tr>\n",
       "  </thead>\n",
       "  <tbody>\n",
       "    <tr>\n",
       "      <th>0</th>\n",
       "      <td>Education</td>\n",
       "      <td>6840</td>\n",
       "    </tr>\n",
       "    <tr>\n",
       "      <th>1</th>\n",
       "      <td>Technical activities</td>\n",
       "      <td>5583</td>\n",
       "    </tr>\n",
       "    <tr>\n",
       "      <th>2</th>\n",
       "      <td>Other services</td>\n",
       "      <td>3744</td>\n",
       "    </tr>\n",
       "    <tr>\n",
       "      <th>3</th>\n",
       "      <td>- Human and social work</td>\n",
       "      <td>3536</td>\n",
       "    </tr>\n",
       "    <tr>\n",
       "      <th>4</th>\n",
       "      <td>Accommodation and food service</td>\n",
       "      <td>3087</td>\n",
       "    </tr>\n",
       "    <tr>\n",
       "      <th>5</th>\n",
       "      <td>Manufacture of metal product</td>\n",
       "      <td>2947</td>\n",
       "    </tr>\n",
       "    <tr>\n",
       "      <th>6</th>\n",
       "      <td>Arts</td>\n",
       "      <td>2586</td>\n",
       "    </tr>\n",
       "    <tr>\n",
       "      <th>7</th>\n",
       "      <td>Information and communication</td>\n",
       "      <td>2528</td>\n",
       "    </tr>\n",
       "    <tr>\n",
       "      <th>8</th>\n",
       "      <td>Administrative and support service</td>\n",
       "      <td>1866</td>\n",
       "    </tr>\n",
       "    <tr>\n",
       "      <th>9</th>\n",
       "      <td>Construction</td>\n",
       "      <td>1270</td>\n",
       "    </tr>\n",
       "  </tbody>\n",
       "</table>\n",
       "</div>"
      ],
      "text/plain": [
       "                          Work sector  Number of student\n",
       "0                           Education               6840\n",
       "1               Technical activities                5583\n",
       "2                      Other services               3744\n",
       "3             - Human and social work               3536\n",
       "4      Accommodation and food service               3087\n",
       "5        Manufacture of metal product               2947\n",
       "6                                Arts               2586\n",
       "7      Information and communication                2528\n",
       "8  Administrative and support service               1866\n",
       "9                        Construction               1270"
      ]
     },
     "execution_count": 454,
     "metadata": {},
     "output_type": "execute_result"
    }
   ],
   "source": [
    "import numpy as np\n",
    "top_10_work_sector.index = np.array(r.map(dict1).fillna(r),ndmin =1)\n",
    "\n",
    "\n",
    "top_10_work_sector=top_10_work_sector.reset_index(drop=True)\n",
    "top_10_work_sector"
   ]
  },
  {
   "cell_type": "code",
   "execution_count": 455,
   "id": "18b479a1",
   "metadata": {},
   "outputs": [
    {
     "data": {
      "text/plain": [
       "<AxesSubplot:xlabel='Number of student', ylabel='Work sector'>"
      ]
     },
     "execution_count": 455,
     "metadata": {},
     "output_type": "execute_result"
    },
    {
     "data": {
      "image/png": "[encoded data removed]",
      "text/plain": [
       "<Figure size 432x288 with 1 Axes>"
      ]
     },
     "metadata": {
      "needs_background": "light"
     },
     "output_type": "display_data"
    }
   ],
   "source": [
    "import seaborn as sns\n",
    "\n",
    "sns.barplot(y=top_10_work_sector[\"Work sector\"],x=top_10_work_sector[\"Number of student\"])"
   ]
  },
  {
   "cell_type": "code",
   "execution_count": null,
   "id": "fff67d26",
   "metadata": {},
   "outputs": [],
   "source": []
  },
  {
   "cell_type": "markdown",
   "id": "8379bed3",
   "metadata": {},
   "source": [
    "### Enterprise size, Work sector and Placement grant relationship"
   ]
  },
  {
   "cell_type": "code",
   "execution_count": 461,
   "id": "0751b9bc",
   "metadata": {},
   "outputs": [
    {
     "data": {
      "text/html": [
       "<div>\n",
       "<style scoped>\n",
       "    .dataframe tbody tr th:only-of-type {\n",
       "        vertical-align: middle;\n",
       "    }\n",
       "\n",
       "    .dataframe tbody tr th {\n",
       "        vertical-align: top;\n",
       "    }\n",
       "\n",
       "    .dataframe thead th {\n",
       "        text-align: right;\n",
       "    }\n",
       "</style>\n",
       "<table border=\"1\" class=\"dataframe\">\n",
       "  <thead>\n",
       "    <tr style=\"text-align: right;\">\n",
       "      <th></th>\n",
       "      <th></th>\n",
       "      <th>PLACEMENTGRANT</th>\n",
       "    </tr>\n",
       "    <tr>\n",
       "      <th>enterprise_size</th>\n",
       "      <th>TYPEWORKSECTOR</th>\n",
       "      <th></th>\n",
       "    </tr>\n",
       "  </thead>\n",
       "  <tbody>\n",
       "    <tr>\n",
       "      <th rowspan=\"5\" valign=\"top\">Large</th>\n",
       "      <th>A</th>\n",
       "      <td>1534.451197</td>\n",
       "    </tr>\n",
       "    <tr>\n",
       "      <th>B</th>\n",
       "      <td>1753.158696</td>\n",
       "    </tr>\n",
       "    <tr>\n",
       "      <th>C</th>\n",
       "      <td>1818.062289</td>\n",
       "    </tr>\n",
       "    <tr>\n",
       "      <th>D</th>\n",
       "      <td>1903.158958</td>\n",
       "    </tr>\n",
       "    <tr>\n",
       "      <th>E</th>\n",
       "      <td>1377.842800</td>\n",
       "    </tr>\n",
       "    <tr>\n",
       "      <th>...</th>\n",
       "      <th>...</th>\n",
       "      <td>...</td>\n",
       "    </tr>\n",
       "    <tr>\n",
       "      <th rowspan=\"5\" valign=\"top\">Small</th>\n",
       "      <th>Q</th>\n",
       "      <td>1416.419359</td>\n",
       "    </tr>\n",
       "    <tr>\n",
       "      <th>R</th>\n",
       "      <td>1446.948076</td>\n",
       "    </tr>\n",
       "    <tr>\n",
       "      <th>S</th>\n",
       "      <td>1429.112970</td>\n",
       "    </tr>\n",
       "    <tr>\n",
       "      <th>T</th>\n",
       "      <td>1148.362632</td>\n",
       "    </tr>\n",
       "    <tr>\n",
       "      <th>U</th>\n",
       "      <td>1562.208327</td>\n",
       "    </tr>\n",
       "  </tbody>\n",
       "</table>\n",
       "<p>63 rows × 1 columns</p>\n",
       "</div>"
      ],
      "text/plain": [
       "                                PLACEMENTGRANT\n",
       "enterprise_size TYPEWORKSECTOR                \n",
       "Large           A                  1534.451197\n",
       "                B                  1753.158696\n",
       "                C                  1818.062289\n",
       "                D                  1903.158958\n",
       "                E                  1377.842800\n",
       "...                                        ...\n",
       "Small           Q                  1416.419359\n",
       "                R                  1446.948076\n",
       "                S                  1429.112970\n",
       "                T                  1148.362632\n",
       "                U                  1562.208327\n",
       "\n",
       "[63 rows x 1 columns]"
      ]
     },
     "execution_count": 461,
     "metadata": {},
     "output_type": "execute_result"
    }
   ],
   "source": [
    "new_data[['enterprise_size','TYPEWORKSECTOR','PLACEMENTGRANT']].groupby(['enterprise_size','TYPEWORKSECTOR']).mean()"
   ]
  },
  {
   "cell_type": "code",
   "execution_count": null,
   "id": "02c47a14",
   "metadata": {},
   "outputs": [],
   "source": []
  },
  {
   "cell_type": "code",
   "execution_count": 134,
   "id": "2be461af",
   "metadata": {},
   "outputs": [
    {
     "data": {
      "text/plain": [
       "pandas.core.series.Series"
      ]
     },
     "execution_count": 134,
     "metadata": {},
     "output_type": "execute_result"
    }
   ],
   "source": [
    "credit_work=new_data.ECTSCREDITSWORK.value_counts().sort_values(ascending=False).nlargest(10)\n",
    "type(credit_work)"
   ]
  },
  {
   "cell_type": "code",
   "execution_count": null,
   "id": "bf3c0b09",
   "metadata": {},
   "outputs": [],
   "source": []
  },
  {
   "cell_type": "markdown",
   "id": "aaa0374a",
   "metadata": {},
   "source": [
    "### Number of ECTS credits for Placement anticipated \n",
    "\n",
    "- C29.1 Must be positive number\n",
    "- C29.2 Between 0 and 90\n",
    "- C29.3 Warning if >60\n",
    "- C29.4 if \" MobilityType \" is not P, “Number of ECTS Credits Placement” = 0\n"
   ]
  },
  {
   "cell_type": "code",
   "execution_count": 380,
   "id": "94fa257d",
   "metadata": {},
   "outputs": [],
   "source": [
    "credit_work_df=pd.DataFrame({\"Number of credits\":credit_work.index,\n",
    "                            \"Number of student\":credit_work.values})\n"
   ]
  },
  {
   "cell_type": "code",
   "execution_count": 343,
   "id": "8bcae593",
   "metadata": {},
   "outputs": [
    {
     "data": {
      "text/html": [
       "<div>\n",
       "<style scoped>\n",
       "    .dataframe tbody tr th:only-of-type {\n",
       "        vertical-align: middle;\n",
       "    }\n",
       "\n",
       "    .dataframe tbody tr th {\n",
       "        vertical-align: top;\n",
       "    }\n",
       "\n",
       "    .dataframe thead th {\n",
       "        text-align: right;\n",
       "    }\n",
       "</style>\n",
       "<table border=\"1\" class=\"dataframe\">\n",
       "  <thead>\n",
       "    <tr style=\"text-align: right;\">\n",
       "      <th></th>\n",
       "      <th>Number of credits</th>\n",
       "      <th>Number of student</th>\n",
       "    </tr>\n",
       "  </thead>\n",
       "  <tbody>\n",
       "    <tr>\n",
       "      <th>0</th>\n",
       "      <td>0</td>\n",
       "      <td>13726</td>\n",
       "    </tr>\n",
       "    <tr>\n",
       "      <th>1</th>\n",
       "      <td>30</td>\n",
       "      <td>6633</td>\n",
       "    </tr>\n",
       "    <tr>\n",
       "      <th>2</th>\n",
       "      <td>15</td>\n",
       "      <td>2646</td>\n",
       "    </tr>\n",
       "    <tr>\n",
       "      <th>3</th>\n",
       "      <td>60</td>\n",
       "      <td>1893</td>\n",
       "    </tr>\n",
       "    <tr>\n",
       "      <th>4</th>\n",
       "      <td>20</td>\n",
       "      <td>1628</td>\n",
       "    </tr>\n",
       "    <tr>\n",
       "      <th>5</th>\n",
       "      <td>10</td>\n",
       "      <td>1372</td>\n",
       "    </tr>\n",
       "    <tr>\n",
       "      <th>6</th>\n",
       "      <td>18</td>\n",
       "      <td>1312</td>\n",
       "    </tr>\n",
       "    <tr>\n",
       "      <th>7</th>\n",
       "      <td>12</td>\n",
       "      <td>993</td>\n",
       "    </tr>\n",
       "    <tr>\n",
       "      <th>8</th>\n",
       "      <td>6</td>\n",
       "      <td>971</td>\n",
       "    </tr>\n",
       "    <tr>\n",
       "      <th>9</th>\n",
       "      <td>5</td>\n",
       "      <td>876</td>\n",
       "    </tr>\n",
       "  </tbody>\n",
       "</table>\n",
       "</div>"
      ],
      "text/plain": [
       "   Number of credits  Number of student\n",
       "0                  0              13726\n",
       "1                 30               6633\n",
       "2                 15               2646\n",
       "3                 60               1893\n",
       "4                 20               1628\n",
       "5                 10               1372\n",
       "6                 18               1312\n",
       "7                 12                993\n",
       "8                  6                971\n",
       "9                  5                876"
      ]
     },
     "execution_count": 343,
     "metadata": {},
     "output_type": "execute_result"
    }
   ],
   "source": [
    "credit_work_df"
   ]
  },
  {
   "cell_type": "code",
   "execution_count": 470,
   "id": "a2c4b776",
   "metadata": {},
   "outputs": [
    {
     "data": {
      "text/plain": [
       "<AxesSubplot:xlabel='Number of credits', ylabel='Number of student'>"
      ]
     },
     "execution_count": 470,
     "metadata": {},
     "output_type": "execute_result"
    },
    {
     "data": {
      "image/png": "[encoded data removed]",
      "text/plain": [
       "<Figure size 432x288 with 1 Axes>"
      ]
     },
     "metadata": {
      "needs_background": "light"
     },
     "output_type": "display_data"
    }
   ],
   "source": [
    "import seaborn as sns\n",
    "\n",
    "sns.barplot(x=credit_work_df[\"Number of credits\"],y=credit_work_df[\"Number of student\"])"
   ]
  },
  {
   "cell_type": "code",
   "execution_count": null,
   "id": "1a0b2a9b",
   "metadata": {},
   "outputs": [],
   "source": []
  },
  {
   "cell_type": "markdown",
   "id": "611400f0",
   "metadata": {},
   "source": [
    "### Supplement for disability\n",
    "##### Db: SEVSupplement\n",
    "- Supplement for disability\n",
    "- The total grant awarded for disability for a study period/placement. "
   ]
  },
  {
   "cell_type": "code",
   "execution_count": 471,
   "id": "fffd2b6e",
   "metadata": {
    "scrolled": true
   },
   "outputs": [
    {
     "data": {
      "text/plain": [
       "0       39665\n",
       "100         3\n",
       "966         2\n",
       "200         2\n",
       "3520        1\n",
       "3616        1\n",
       "861         1\n",
       "1500        1\n",
       "1368        1\n",
       "756         1\n",
       "913         1\n",
       "400         1\n",
       "879         1\n",
       "1902        1\n",
       "492         1\n",
       "1960        1\n",
       "448         1\n",
       "8708        1\n",
       "550         1\n",
       "4004        1\n",
       "1188        1\n",
       "97          1\n",
       "1059        1\n",
       "702         1\n",
       "Name: SEVSUPPLEMENT, dtype: int64"
      ]
     },
     "execution_count": 471,
     "metadata": {},
     "output_type": "execute_result"
    }
   ],
   "source": [
    "new_data.SEVSUPPLEMENT.value_counts()"
   ]
  },
  {
   "cell_type": "code",
   "execution_count": null,
   "id": "3df27b34",
   "metadata": {},
   "outputs": [],
   "source": []
  },
  {
   "cell_type": "markdown",
   "id": "c70ff817",
   "metadata": {},
   "source": [
    "### Learning carried out in the national language of Host country\n",
    "##### Db: TaughtHostLang\n",
    "- Whether the student has carried out the training in the language of the Host Country"
   ]
  },
  {
   "cell_type": "code",
   "execution_count": 165,
   "id": "e4fae130",
   "metadata": {},
   "outputs": [
    {
     "data": {
      "text/plain": [
       "Y    21793\n",
       "N    17899\n",
       "Name: TAUGHTHOSTLANG, dtype: int64"
      ]
     },
     "execution_count": 165,
     "metadata": {},
     "output_type": "execute_result"
    }
   ],
   "source": [
    "\n",
    "taught_host_lang=new_data.TAUGHTHOSTLANG.value_counts()\n",
    "taught_host_lang"
   ]
  },
  {
   "cell_type": "code",
   "execution_count": null,
   "id": "d5880f68",
   "metadata": {},
   "outputs": [],
   "source": []
  },
  {
   "cell_type": "markdown",
   "id": "62a0d7b6",
   "metadata": {},
   "source": [
    "### Training Language\n",
    "##### Db: LanguageTaught\n",
    "- The language in which the student has  undergone the training"
   ]
  },
  {
   "cell_type": "code",
   "execution_count": 166,
   "id": "2b6d1b2c",
   "metadata": {},
   "outputs": [
    {
     "data": {
      "text/plain": [
       "EN    20918\n",
       "ES     4887\n",
       "FR     4724\n",
       "DE     4556\n",
       "IT     1693\n",
       "NL      565\n",
       "PT      397\n",
       "TR      274\n",
       "PL      215\n",
       "SV      193\n",
       "Name: LANGUAGETAUGHT, dtype: int64"
      ]
     },
     "execution_count": 166,
     "metadata": {},
     "output_type": "execute_result"
    }
   ],
   "source": [
    "language_taught=new_data.LANGUAGETAUGHT.value_counts().nlargest(10)\n",
    "language_taught"
   ]
  },
  {
   "cell_type": "code",
   "execution_count": null,
   "id": "1504e557",
   "metadata": {},
   "outputs": [],
   "source": []
  },
  {
   "cell_type": "markdown",
   "id": "0b43f6ee",
   "metadata": {},
   "source": [
    "### Linguistic Preparation of Student\n",
    "##### Db: LingPreparation\n",
    "- Reports whether a student has attended a language course including EILC \n",
    "course in the Host country or other courses in the Home or Host country\n",
    "- String of 2 characters in the set (EC, HS, HM, NN)\n",
    " + EC = EILC \n",
    " + HS = Host\n",
    " + HM = Home\n",
    " + NN = None\n"
   ]
  },
  {
   "cell_type": "code",
   "execution_count": 170,
   "id": "29dc9d61",
   "metadata": {},
   "outputs": [
    {
     "data": {
      "text/plain": [
       "NN    29171\n",
       "HM     8664\n",
       "HS     1776\n",
       "EC       81\n",
       "Name: LINGPREPARATION, dtype: int64"
      ]
     },
     "execution_count": 170,
     "metadata": {},
     "output_type": "execute_result"
    }
   ],
   "source": [
    "new_data.LINGPREPARATION.value_counts()"
   ]
  },
  {
   "cell_type": "code",
   "execution_count": null,
   "id": "bbf522df",
   "metadata": {},
   "outputs": [],
   "source": []
  },
  {
   "cell_type": "markdown",
   "id": "c0afe9ab",
   "metadata": {},
   "source": [
    "### Previous participation in the ERASMUS programme\n",
    "###### Db: PreviousParticipation\n",
    "- The field indicates whether the student has received an ERASMUS grant prior to this one and for which type of mobility. \n",
    "    + N = No\n",
    "    + S = Study\n",
    "    + P = Placement\n",
    "    + M = Erasmus Mundus\n"
   ]
  },
  {
   "cell_type": "code",
   "execution_count": 176,
   "id": "a35739b3",
   "metadata": {},
   "outputs": [
    {
     "data": {
      "text/plain": [
       "N    34062\n",
       "S     5596\n",
       "P       17\n",
       "M       17\n",
       "Name: PREVIOUSPARTICIPATION, dtype: int64"
      ]
     },
     "execution_count": 176,
     "metadata": {},
     "output_type": "execute_result"
    }
   ],
   "source": [
    "new_data.PREVIOUSPARTICIPATION.value_counts()"
   ]
  },
  {
   "cell_type": "code",
   "execution_count": null,
   "id": "12cf81ed",
   "metadata": {},
   "outputs": [],
   "source": []
  },
  {
   "cell_type": "markdown",
   "id": "fe85e41f",
   "metadata": {},
   "source": [
    "### Qualification received at the Host Country\n",
    "##### Db: QualificationAtHost\n",
    "- The field will hold information on whether the student will get a double, joint degree or any other qualification at the Host Institution/ Placement or no.\n",
    "    + D = Double\n",
    "    + J  = Joint\n",
    "    + O = Other\n",
    "    + N = None (Europass etc.)\n"
   ]
  },
  {
   "cell_type": "code",
   "execution_count": 179,
   "id": "ab38f134",
   "metadata": {},
   "outputs": [
    {
     "data": {
      "text/plain": [
       "N    38566\n",
       "O      868\n",
       "J      202\n",
       "D       56\n",
       "Name: QUALIFICATIONATHOST, dtype: int64"
      ]
     },
     "execution_count": 179,
     "metadata": {},
     "output_type": "execute_result"
    }
   ],
   "source": [
    "new_data.QUALIFICATIONATHOST.value_counts()"
   ]
  },
  {
   "cell_type": "code",
   "execution_count": null,
   "id": "df735597",
   "metadata": {},
   "outputs": [],
   "source": []
  },
  {
   "cell_type": "code",
   "execution_count": null,
   "id": "dd6fdd00",
   "metadata": {},
   "outputs": [],
   "source": []
  },
  {
   "cell_type": "code",
   "execution_count": null,
   "id": "8a9da52c",
   "metadata": {},
   "outputs": [],
   "source": []
  },
  {
   "cell_type": "code",
   "execution_count": 21,
   "id": "4d0c506e",
   "metadata": {},
   "outputs": [
    {
     "data": {
      "text/html": [
       "<div>\n",
       "<style scoped>\n",
       "    .dataframe tbody tr th:only-of-type {\n",
       "        vertical-align: middle;\n",
       "    }\n",
       "\n",
       "    .dataframe tbody tr th {\n",
       "        vertical-align: top;\n",
       "    }\n",
       "\n",
       "    .dataframe thead th {\n",
       "        text-align: right;\n",
       "    }\n",
       "</style>\n",
       "<table border=\"1\" class=\"dataframe\">\n",
       "  <thead>\n",
       "    <tr style=\"text-align: right;\">\n",
       "      <th></th>\n",
       "      <th>AGE</th>\n",
       "      <th>SUBJECTAREA</th>\n",
       "      <th>YEARSPRIOR</th>\n",
       "      <th>LENGTHSTUDYPERIOD</th>\n",
       "      <th>LENGTHPLACEMENT</th>\n",
       "      <th>ECTSCREDITSSTUDY</th>\n",
       "      <th>ECTSCREDITSWORK</th>\n",
       "      <th>TOTALECTSCREDITS</th>\n",
       "      <th>SEVSUPPLEMENT</th>\n",
       "      <th>STUDYGRANT</th>\n",
       "      <th>PLACEMENTGRANT</th>\n",
       "    </tr>\n",
       "  </thead>\n",
       "  <tbody>\n",
       "    <tr>\n",
       "      <th>AGE</th>\n",
       "      <td>1.000000</td>\n",
       "      <td>0.071639</td>\n",
       "      <td>0.307531</td>\n",
       "      <td>-0.012211</td>\n",
       "      <td>NaN</td>\n",
       "      <td>-0.070695</td>\n",
       "      <td>NaN</td>\n",
       "      <td>-0.070695</td>\n",
       "      <td>0.020623</td>\n",
       "      <td>-0.042762</td>\n",
       "      <td>NaN</td>\n",
       "    </tr>\n",
       "    <tr>\n",
       "      <th>SUBJECTAREA</th>\n",
       "      <td>0.071639</td>\n",
       "      <td>1.000000</td>\n",
       "      <td>0.093631</td>\n",
       "      <td>0.012599</td>\n",
       "      <td>NaN</td>\n",
       "      <td>-0.006193</td>\n",
       "      <td>NaN</td>\n",
       "      <td>-0.006193</td>\n",
       "      <td>-0.003957</td>\n",
       "      <td>0.026811</td>\n",
       "      <td>NaN</td>\n",
       "    </tr>\n",
       "    <tr>\n",
       "      <th>YEARSPRIOR</th>\n",
       "      <td>0.307531</td>\n",
       "      <td>0.093631</td>\n",
       "      <td>1.000000</td>\n",
       "      <td>0.081230</td>\n",
       "      <td>NaN</td>\n",
       "      <td>0.022395</td>\n",
       "      <td>NaN</td>\n",
       "      <td>0.022395</td>\n",
       "      <td>0.000606</td>\n",
       "      <td>-0.078617</td>\n",
       "      <td>NaN</td>\n",
       "    </tr>\n",
       "    <tr>\n",
       "      <th>LENGTHSTUDYPERIOD</th>\n",
       "      <td>-0.012211</td>\n",
       "      <td>0.012599</td>\n",
       "      <td>0.081230</td>\n",
       "      <td>1.000000</td>\n",
       "      <td>NaN</td>\n",
       "      <td>0.627411</td>\n",
       "      <td>NaN</td>\n",
       "      <td>0.627411</td>\n",
       "      <td>0.005014</td>\n",
       "      <td>0.439433</td>\n",
       "      <td>NaN</td>\n",
       "    </tr>\n",
       "    <tr>\n",
       "      <th>LENGTHPLACEMENT</th>\n",
       "      <td>NaN</td>\n",
       "      <td>NaN</td>\n",
       "      <td>NaN</td>\n",
       "      <td>NaN</td>\n",
       "      <td>NaN</td>\n",
       "      <td>NaN</td>\n",
       "      <td>NaN</td>\n",
       "      <td>NaN</td>\n",
       "      <td>NaN</td>\n",
       "      <td>NaN</td>\n",
       "      <td>NaN</td>\n",
       "    </tr>\n",
       "    <tr>\n",
       "      <th>ECTSCREDITSSTUDY</th>\n",
       "      <td>-0.070695</td>\n",
       "      <td>-0.006193</td>\n",
       "      <td>0.022395</td>\n",
       "      <td>0.627411</td>\n",
       "      <td>NaN</td>\n",
       "      <td>1.000000</td>\n",
       "      <td>NaN</td>\n",
       "      <td>1.000000</td>\n",
       "      <td>-0.002885</td>\n",
       "      <td>0.288005</td>\n",
       "      <td>NaN</td>\n",
       "    </tr>\n",
       "    <tr>\n",
       "      <th>ECTSCREDITSWORK</th>\n",
       "      <td>NaN</td>\n",
       "      <td>NaN</td>\n",
       "      <td>NaN</td>\n",
       "      <td>NaN</td>\n",
       "      <td>NaN</td>\n",
       "      <td>NaN</td>\n",
       "      <td>NaN</td>\n",
       "      <td>NaN</td>\n",
       "      <td>NaN</td>\n",
       "      <td>NaN</td>\n",
       "      <td>NaN</td>\n",
       "    </tr>\n",
       "    <tr>\n",
       "      <th>TOTALECTSCREDITS</th>\n",
       "      <td>-0.070695</td>\n",
       "      <td>-0.006193</td>\n",
       "      <td>0.022395</td>\n",
       "      <td>0.627411</td>\n",
       "      <td>NaN</td>\n",
       "      <td>1.000000</td>\n",
       "      <td>NaN</td>\n",
       "      <td>1.000000</td>\n",
       "      <td>-0.002885</td>\n",
       "      <td>0.288005</td>\n",
       "      <td>NaN</td>\n",
       "    </tr>\n",
       "    <tr>\n",
       "      <th>SEVSUPPLEMENT</th>\n",
       "      <td>0.020623</td>\n",
       "      <td>-0.003957</td>\n",
       "      <td>0.000606</td>\n",
       "      <td>0.005014</td>\n",
       "      <td>NaN</td>\n",
       "      <td>-0.002885</td>\n",
       "      <td>NaN</td>\n",
       "      <td>-0.002885</td>\n",
       "      <td>1.000000</td>\n",
       "      <td>0.009214</td>\n",
       "      <td>NaN</td>\n",
       "    </tr>\n",
       "    <tr>\n",
       "      <th>STUDYGRANT</th>\n",
       "      <td>-0.042762</td>\n",
       "      <td>0.026811</td>\n",
       "      <td>-0.078617</td>\n",
       "      <td>0.439433</td>\n",
       "      <td>NaN</td>\n",
       "      <td>0.288005</td>\n",
       "      <td>NaN</td>\n",
       "      <td>0.288005</td>\n",
       "      <td>0.009214</td>\n",
       "      <td>1.000000</td>\n",
       "      <td>NaN</td>\n",
       "    </tr>\n",
       "    <tr>\n",
       "      <th>PLACEMENTGRANT</th>\n",
       "      <td>NaN</td>\n",
       "      <td>NaN</td>\n",
       "      <td>NaN</td>\n",
       "      <td>NaN</td>\n",
       "      <td>NaN</td>\n",
       "      <td>NaN</td>\n",
       "      <td>NaN</td>\n",
       "      <td>NaN</td>\n",
       "      <td>NaN</td>\n",
       "      <td>NaN</td>\n",
       "      <td>NaN</td>\n",
       "    </tr>\n",
       "  </tbody>\n",
       "</table>\n",
       "</div>"
      ],
      "text/plain": [
       "                        AGE  SUBJECTAREA  YEARSPRIOR  LENGTHSTUDYPERIOD  \\\n",
       "AGE                1.000000     0.071639    0.307531          -0.012211   \n",
       "SUBJECTAREA        0.071639     1.000000    0.093631           0.012599   \n",
       "YEARSPRIOR         0.307531     0.093631    1.000000           0.081230   \n",
       "LENGTHSTUDYPERIOD -0.012211     0.012599    0.081230           1.000000   \n",
       "LENGTHPLACEMENT         NaN          NaN         NaN                NaN   \n",
       "ECTSCREDITSSTUDY  -0.070695    -0.006193    0.022395           0.627411   \n",
       "ECTSCREDITSWORK         NaN          NaN         NaN                NaN   \n",
       "TOTALECTSCREDITS  -0.070695    -0.006193    0.022395           0.627411   \n",
       "SEVSUPPLEMENT      0.020623    -0.003957    0.000606           0.005014   \n",
       "STUDYGRANT        -0.042762     0.026811   -0.078617           0.439433   \n",
       "PLACEMENTGRANT          NaN          NaN         NaN                NaN   \n",
       "\n",
       "                   LENGTHPLACEMENT  ECTSCREDITSSTUDY  ECTSCREDITSWORK  \\\n",
       "AGE                            NaN         -0.070695              NaN   \n",
       "SUBJECTAREA                    NaN         -0.006193              NaN   \n",
       "YEARSPRIOR                     NaN          0.022395              NaN   \n",
       "LENGTHSTUDYPERIOD              NaN          0.627411              NaN   \n",
       "LENGTHPLACEMENT                NaN               NaN              NaN   \n",
       "ECTSCREDITSSTUDY               NaN          1.000000              NaN   \n",
       "ECTSCREDITSWORK                NaN               NaN              NaN   \n",
       "TOTALECTSCREDITS               NaN          1.000000              NaN   \n",
       "SEVSUPPLEMENT                  NaN         -0.002885              NaN   \n",
       "STUDYGRANT                     NaN          0.288005              NaN   \n",
       "PLACEMENTGRANT                 NaN               NaN              NaN   \n",
       "\n",
       "                   TOTALECTSCREDITS  SEVSUPPLEMENT  STUDYGRANT  PLACEMENTGRANT  \n",
       "AGE                       -0.070695       0.020623   -0.042762             NaN  \n",
       "SUBJECTAREA               -0.006193      -0.003957    0.026811             NaN  \n",
       "YEARSPRIOR                 0.022395       0.000606   -0.078617             NaN  \n",
       "LENGTHSTUDYPERIOD          0.627411       0.005014    0.439433             NaN  \n",
       "LENGTHPLACEMENT                 NaN            NaN         NaN             NaN  \n",
       "ECTSCREDITSSTUDY           1.000000      -0.002885    0.288005             NaN  \n",
       "ECTSCREDITSWORK                 NaN            NaN         NaN             NaN  \n",
       "TOTALECTSCREDITS           1.000000      -0.002885    0.288005             NaN  \n",
       "SEVSUPPLEMENT             -0.002885       1.000000    0.009214             NaN  \n",
       "STUDYGRANT                 0.288005       0.009214    1.000000             NaN  \n",
       "PLACEMENTGRANT                  NaN            NaN         NaN             NaN  "
      ]
     },
     "execution_count": 21,
     "metadata": {},
     "output_type": "execute_result"
    }
   ],
   "source": [
    "student_without_workplacement.corr()"
   ]
  },
  {
   "cell_type": "code",
   "execution_count": 1,
   "id": "4dab6447",
   "metadata": {},
   "outputs": [],
   "source": [
    "## This is a trial line"
   ]
  },
  {
   "cell_type": "code",
   "execution_count": null,
   "metadata": {},
   "outputs": [],
   "source": []
  }
 ],
 "metadata": {
  "interpreter": {
   "hash": "49826b67674ad7785d0a5100a53901561a584c15deed5ffa43b5fca90a309bde"
  },
  "kernelspec": {
   "display_name": "Python 3.9.5 64-bit ('base': conda)",
   "name": "python3"
  },
  "language_info": {
   "codemirror_mode": {
    "name": "ipython",
    "version": 3
   },
   "file_extension": ".py",
   "mimetype": "text/x-python",
   "name": "python",
   "nbconvert_exporter": "python",
   "pygments_lexer": "ipython3",
   "version": "3.9.5"
  }
 },
 "nbformat": 4,
 "nbformat_minor": 5
}
